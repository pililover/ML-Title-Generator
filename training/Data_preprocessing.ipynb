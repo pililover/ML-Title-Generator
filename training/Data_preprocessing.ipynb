{
  "cells": [
    {
      "cell_type": "markdown",
      "metadata": {
        "id": "op4zLXj_p6xz"
      },
      "source": [
        "# **Thư viện**"
      ]
    },
    {
      "cell_type": "code",
      "execution_count": 1,
      "metadata": {
        "id": "i98lKObpqFNk"
      },
      "outputs": [],
      "source": [
        "import pandas as pd\n",
        "import numpy as np\n",
        "import re"
      ]
    },
    {
      "cell_type": "markdown",
      "metadata": {
        "id": "xm_jjcE3p_lG"
      },
      "source": [
        "## **Drive**"
      ]
    },
    {
      "cell_type": "code",
      "execution_count": 2,
      "metadata": {
        "colab": {
          "base_uri": "https://localhost:8080/"
        },
        "id": "jhIk_7kkp1T3",
        "outputId": "31db8b79-9a9c-4ea7-ebb4-041dab8a5ac2"
      },
      "outputs": [],
      "source": [
        "# from google.colab import drive\n",
        "# drive.mount('/content/drive')"
      ]
    },
    {
      "cell_type": "markdown",
      "metadata": {
        "id": "6JzQz-HQqQuj"
      },
      "source": [
        "# **Đọc bộ dữ liệu**"
      ]
    },
    {
      "cell_type": "code",
      "execution_count": 3,
      "metadata": {
        "colab": {
          "base_uri": "https://localhost:8080/",
          "height": 293
        },
        "id": "Znop4bSRqWCQ",
        "outputId": "3e2d2f91-aee6-4da4-d8aa-f1545f4e24fe"
      },
      "outputs": [
        {
          "data": {
            "text/html": [
              "<div>\n",
              "<style scoped>\n",
              "    .dataframe tbody tr th:only-of-type {\n",
              "        vertical-align: middle;\n",
              "    }\n",
              "\n",
              "    .dataframe tbody tr th {\n",
              "        vertical-align: top;\n",
              "    }\n",
              "\n",
              "    .dataframe thead th {\n",
              "        text-align: right;\n",
              "    }\n",
              "</style>\n",
              "<table border=\"1\" class=\"dataframe\">\n",
              "  <thead>\n",
              "    <tr style=\"text-align: right;\">\n",
              "      <th></th>\n",
              "      <th>URL</th>\n",
              "      <th>Title</th>\n",
              "      <th>Abstract</th>\n",
              "      <th>Content</th>\n",
              "      <th>Category</th>\n",
              "    </tr>\n",
              "  </thead>\n",
              "  <tbody>\n",
              "    <tr>\n",
              "      <th>0</th>\n",
              "      <td>https://thanhnien.vn/tha-tran-dat-50-kg-cung-n...</td>\n",
              "      <td>Thả trăn đất 50 kg cùng nhiều động vật hoang d...</td>\n",
              "      <td>Một con trăn đất nặng khoảng 50 kg cùng nhiều ...</td>\n",
              "      <td>Ngày 13.9, Chi cục Kiểm lâm TP.HCM cho biết vừ...</td>\n",
              "      <td>Thời sự</td>\n",
              "    </tr>\n",
              "    <tr>\n",
              "      <th>1</th>\n",
              "      <td>https://thanhnien.vn/top-10-kem-tri-nam-sau-si...</td>\n",
              "      <td>Top 10 kem trị nám sau sinh hiệu quả, an toàn ...</td>\n",
              "      <td>Vết nám sạm, tàn nhang sau sinh khiến các mẹ b...</td>\n",
              "      <td>Top 1 kem trị nám sau sinh là sản phẩm đến từ ...</td>\n",
              "      <td>Sức khỏe</td>\n",
              "    </tr>\n",
              "    <tr>\n",
              "      <th>2</th>\n",
              "      <td>https://thanhnien.vn/hau-giang-khoi-to-vu-an-n...</td>\n",
              "      <td>Hậu Giang: Khởi tố vụ án nhóm côn đồ dùng dao ...</td>\n",
              "      <td>Công an tỉnh  Hậu Giang  vừa khởi tố vụ án 17 ...</td>\n",
              "      <td>Ngày 14.9, tin từ Phòng CSHS Công an tỉnh Hậu ...</td>\n",
              "      <td>Thời sự</td>\n",
              "    </tr>\n",
              "    <tr>\n",
              "      <th>3</th>\n",
              "      <td>https://thanhnien.vn/grab-viet-nam-danh-8-ti-d...</td>\n",
              "      <td>Grab Việt Nam dành 8 tỉ đồng hỗ trợ người dân ...</td>\n",
              "      <td>Grab Việt Nam hôm nay thông báo sẽ dành tổng n...</td>\n",
              "      <td>Theo đó, Grab sẽ dành 2,5 tỉ đồng đóng góp trự...</td>\n",
              "      <td>Công nghệ</td>\n",
              "    </tr>\n",
              "    <tr>\n",
              "      <th>4</th>\n",
              "      <td>https://thanhnien.vn/nha-thiet-ke-pham-ngoc-an...</td>\n",
              "      <td>Nhà thiết kế Phạm Ngọc Anh: Chọn đúng 'người y...</td>\n",
              "      <td>'Nhu cầu về thời trang đang thay đổi, xu hướng...</td>\n",
              "      <td>Xu hướng tiêu dùng thời trang xanh ngày càng n...</td>\n",
              "      <td>NaN</td>\n",
              "    </tr>\n",
              "  </tbody>\n",
              "</table>\n",
              "</div>"
            ],
            "text/plain": [
              "                                                 URL  \\\n",
              "0  https://thanhnien.vn/tha-tran-dat-50-kg-cung-n...   \n",
              "1  https://thanhnien.vn/top-10-kem-tri-nam-sau-si...   \n",
              "2  https://thanhnien.vn/hau-giang-khoi-to-vu-an-n...   \n",
              "3  https://thanhnien.vn/grab-viet-nam-danh-8-ti-d...   \n",
              "4  https://thanhnien.vn/nha-thiet-ke-pham-ngoc-an...   \n",
              "\n",
              "                                               Title  \\\n",
              "0  Thả trăn đất 50 kg cùng nhiều động vật hoang d...   \n",
              "1  Top 10 kem trị nám sau sinh hiệu quả, an toàn ...   \n",
              "2  Hậu Giang: Khởi tố vụ án nhóm côn đồ dùng dao ...   \n",
              "3  Grab Việt Nam dành 8 tỉ đồng hỗ trợ người dân ...   \n",
              "4  Nhà thiết kế Phạm Ngọc Anh: Chọn đúng 'người y...   \n",
              "\n",
              "                                            Abstract  \\\n",
              "0  Một con trăn đất nặng khoảng 50 kg cùng nhiều ...   \n",
              "1  Vết nám sạm, tàn nhang sau sinh khiến các mẹ b...   \n",
              "2  Công an tỉnh  Hậu Giang  vừa khởi tố vụ án 17 ...   \n",
              "3  Grab Việt Nam hôm nay thông báo sẽ dành tổng n...   \n",
              "4  'Nhu cầu về thời trang đang thay đổi, xu hướng...   \n",
              "\n",
              "                                             Content   Category  \n",
              "0  Ngày 13.9, Chi cục Kiểm lâm TP.HCM cho biết vừ...    Thời sự  \n",
              "1  Top 1 kem trị nám sau sinh là sản phẩm đến từ ...   Sức khỏe  \n",
              "2  Ngày 14.9, tin từ Phòng CSHS Công an tỉnh Hậu ...    Thời sự  \n",
              "3  Theo đó, Grab sẽ dành 2,5 tỉ đồng đóng góp trự...  Công nghệ  \n",
              "4  Xu hướng tiêu dùng thời trang xanh ngày càng n...        NaN  "
            ]
          },
          "execution_count": 3,
          "metadata": {},
          "output_type": "execute_result"
        }
      ],
      "source": [
        "# file_path = '/content/drive/MyDrive/dataraw/data_thanhnien.csv'\n",
        "#file_path = '../data/data_thanhnien.csv'\n",
        "file_path = './data/data_thanhnien.csv'\n",
        "\n",
        "thanhnien_df = pd.read_csv(file_path, encoding='utf-8')\n",
        "thanhnien_df.head()"
      ]
    },
    {
      "cell_type": "code",
      "execution_count": 4,
      "metadata": {
        "colab": {
          "base_uri": "https://localhost:8080/",
          "height": 293
        },
        "id": "Z0iG0dSurNMV",
        "outputId": "d462e03b-2465-41fd-e5e0-a361cf2181a6"
      },
      "outputs": [
        {
          "data": {
            "text/html": [
              "<div>\n",
              "<style scoped>\n",
              "    .dataframe tbody tr th:only-of-type {\n",
              "        vertical-align: middle;\n",
              "    }\n",
              "\n",
              "    .dataframe tbody tr th {\n",
              "        vertical-align: top;\n",
              "    }\n",
              "\n",
              "    .dataframe thead th {\n",
              "        text-align: right;\n",
              "    }\n",
              "</style>\n",
              "<table border=\"1\" class=\"dataframe\">\n",
              "  <thead>\n",
              "    <tr style=\"text-align: right;\">\n",
              "      <th></th>\n",
              "      <th>url</th>\n",
              "      <th>title</th>\n",
              "      <th>abstract</th>\n",
              "      <th>content</th>\n",
              "      <th>category</th>\n",
              "    </tr>\n",
              "  </thead>\n",
              "  <tbody>\n",
              "    <tr>\n",
              "      <th>0</th>\n",
              "      <td>https://tuoitre.vn/lua-chon-cong-nghe-nao-voi-...</td>\n",
              "      <td>Lựa chọn công nghệ nào với dự án nhiệt điện th...</td>\n",
              "      <td>Ban Thường vụ Tỉnh ủy Quảng Trị thống nhất chủ...</td>\n",
              "      <td>Ngày 14-2, Văn phòng Tỉnh ủy Quảng Trị cho hay...</td>\n",
              "      <td>Kinh doanh</td>\n",
              "    </tr>\n",
              "    <tr>\n",
              "      <th>1</th>\n",
              "      <td>https://tuoitre.vn/van-hoi-dac-biet-cua-tp-hcm...</td>\n",
              "      <td>NaN</td>\n",
              "      <td>NaN</td>\n",
              "      <td>Những công trình, dự án giao thông đồ sộ đang ...</td>\n",
              "      <td>NaN</td>\n",
              "    </tr>\n",
              "    <tr>\n",
              "      <th>2</th>\n",
              "      <td>https://tuoitre.vn/chay-trung-tam-tranh-theu-d...</td>\n",
              "      <td>Cháy Trung tâm tranh thêu Đà Lạt XQ Việt Nam</td>\n",
              "      <td>Trung tâm tranh thêu lụa Đà Lạt XQ Việt Nam, m...</td>\n",
              "      <td>Vào lúc 0h15 ngày 14-2, Trung tâm tranh thêu l...</td>\n",
              "      <td>Thời sự</td>\n",
              "    </tr>\n",
              "    <tr>\n",
              "      <th>3</th>\n",
              "      <td>https://tuoitre.vn/tong-thong-phap-chi-ong-zel...</td>\n",
              "      <td>Tổng thống Macron: Chỉ ông Zelensky có thể đại...</td>\n",
              "      <td>Ngày 13-2, Tổng thống Pháp Emmanuel Macron cho...</td>\n",
              "      <td>Ngoài ra, nhà lãnh đạoPhápcảnh báo “một nền hò...</td>\n",
              "      <td>Thế giới</td>\n",
              "    </tr>\n",
              "    <tr>\n",
              "      <th>4</th>\n",
              "      <td>https://tuoitre.vn/tkv-du-kien-hoan-thanh-100-...</td>\n",
              "      <td>TKV dự kiến hoàn thành 100% kế hoạch năm 2025</td>\n",
              "      <td>Tập đoàn Công nghiệp Than - Khoảng sản Việt Na...</td>\n",
              "      <td>Ngay từ những ngày đầu năm, tập đoàn đã chủ độ...</td>\n",
              "      <td>Kinh doanh, Doanh nghiệp</td>\n",
              "    </tr>\n",
              "  </tbody>\n",
              "</table>\n",
              "</div>"
            ],
            "text/plain": [
              "                                                 url  \\\n",
              "0  https://tuoitre.vn/lua-chon-cong-nghe-nao-voi-...   \n",
              "1  https://tuoitre.vn/van-hoi-dac-biet-cua-tp-hcm...   \n",
              "2  https://tuoitre.vn/chay-trung-tam-tranh-theu-d...   \n",
              "3  https://tuoitre.vn/tong-thong-phap-chi-ong-zel...   \n",
              "4  https://tuoitre.vn/tkv-du-kien-hoan-thanh-100-...   \n",
              "\n",
              "                                               title  \\\n",
              "0  Lựa chọn công nghệ nào với dự án nhiệt điện th...   \n",
              "1                                                NaN   \n",
              "2       Cháy Trung tâm tranh thêu Đà Lạt XQ Việt Nam   \n",
              "3  Tổng thống Macron: Chỉ ông Zelensky có thể đại...   \n",
              "4      TKV dự kiến hoàn thành 100% kế hoạch năm 2025   \n",
              "\n",
              "                                            abstract  \\\n",
              "0  Ban Thường vụ Tỉnh ủy Quảng Trị thống nhất chủ...   \n",
              "1                                                NaN   \n",
              "2  Trung tâm tranh thêu lụa Đà Lạt XQ Việt Nam, m...   \n",
              "3  Ngày 13-2, Tổng thống Pháp Emmanuel Macron cho...   \n",
              "4  Tập đoàn Công nghiệp Than - Khoảng sản Việt Na...   \n",
              "\n",
              "                                             content                  category  \n",
              "0  Ngày 14-2, Văn phòng Tỉnh ủy Quảng Trị cho hay...                Kinh doanh  \n",
              "1  Những công trình, dự án giao thông đồ sộ đang ...                       NaN  \n",
              "2  Vào lúc 0h15 ngày 14-2, Trung tâm tranh thêu l...                   Thời sự  \n",
              "3  Ngoài ra, nhà lãnh đạoPhápcảnh báo “một nền hò...                  Thế giới  \n",
              "4  Ngay từ những ngày đầu năm, tập đoàn đã chủ độ...  Kinh doanh, Doanh nghiệp  "
            ]
          },
          "execution_count": 4,
          "metadata": {},
          "output_type": "execute_result"
        }
      ],
      "source": [
        "# file_path = '/content/drive/MyDrive/dataraw/tuoitretotal.csv'\n",
        "#file_path = '../data/tuoitretotal.csv'\n",
        "file_path = './data/tuoitretotal.csv'\n",
        "\n",
        "tuoitre_df = pd.read_csv(file_path, encoding='utf-8')\n",
        "tuoitre_df.head()"
      ]
    },
    {
      "cell_type": "code",
      "execution_count": 5,
      "metadata": {
        "colab": {
          "base_uri": "https://localhost:8080/",
          "height": 293
        },
        "id": "dOO-8bYarPh1",
        "outputId": "a3c66c31-6098-4b62-c330-58c18013ebc9"
      },
      "outputs": [
        {
          "data": {
            "text/html": [
              "<div>\n",
              "<style scoped>\n",
              "    .dataframe tbody tr th:only-of-type {\n",
              "        vertical-align: middle;\n",
              "    }\n",
              "\n",
              "    .dataframe tbody tr th {\n",
              "        vertical-align: top;\n",
              "    }\n",
              "\n",
              "    .dataframe thead th {\n",
              "        text-align: right;\n",
              "    }\n",
              "</style>\n",
              "<table border=\"1\" class=\"dataframe\">\n",
              "  <thead>\n",
              "    <tr style=\"text-align: right;\">\n",
              "      <th></th>\n",
              "      <th>title</th>\n",
              "      <th>abstract</th>\n",
              "      <th>content</th>\n",
              "      <th>url</th>\n",
              "      <th>genre</th>\n",
              "    </tr>\n",
              "  </thead>\n",
              "  <tbody>\n",
              "    <tr>\n",
              "      <th>0</th>\n",
              "      <td>'Cần chuyển từ lương tối thiểu sang lương đủ s...</td>\n",
              "      <td>GS Nguyễn Thiện Nhân cho rằng Việt Nam cần có ...</td>\n",
              "      <td>Chiều 15/2, trong phiên thảo luận của Quốc hội...</td>\n",
              "      <td>https://vnexpress.net/can-chuyen-tu-luong-toi-...</td>\n",
              "      <td>thoi-su_chinh-tri</td>\n",
              "    </tr>\n",
              "    <tr>\n",
              "      <th>1</th>\n",
              "      <td>Chủ tịch nước cày ruộng trong lễ xuống đồng củ...</td>\n",
              "      <td>Hà Nội- Chủ tịch nước Lương Cường thực hiện ng...</td>\n",
              "      <td>Ngày hội sắc xuân trên mọi miền Tổ quốc xuân Ấ...</td>\n",
              "      <td>https://vnexpress.net/chu-tich-nuoc-cay-ruong-...</td>\n",
              "      <td>thoi-su_chinh-tri</td>\n",
              "    </tr>\n",
              "    <tr>\n",
              "      <th>2</th>\n",
              "      <td>Thủ tướng: Chấp nhận trả 'học phí' khi nghiên ...</td>\n",
              "      <td>Thủ tướng Phạm Minh Chính cho rằng cần chấp nh...</td>\n",
              "      <td>Thảo luận tại tổ ở Quốc hội sáng 15/2 về dự th...</td>\n",
              "      <td>https://vnexpress.net/thu-tuong-chap-nhan-tra-...</td>\n",
              "      <td>thoi-su_chinh-tri</td>\n",
              "    </tr>\n",
              "    <tr>\n",
              "      <th>3</th>\n",
              "      <td>'Khoa học mà đấu thầu giá rẻ chỉ đem về công n...</td>\n",
              "      <td>Tổng Bí thư Tô Lâm cho rằng áp dụng đấu thầu t...</td>\n",
              "      <td>Sáng 15/2, phát biểu tại tổ góp ý xây dựng dự ...</td>\n",
              "      <td>https://vnexpress.net/khoa-hoc-ma-dau-thau-gia...</td>\n",
              "      <td>thoi-su_chinh-tri</td>\n",
              "    </tr>\n",
              "    <tr>\n",
              "      <th>4</th>\n",
              "      <td>Chính phủ đề xuất thu hút mọi nguồn lực phát t...</td>\n",
              "      <td>Chính phủ cho rằng cơ sở nghiên cứu công lập p...</td>\n",
              "      <td>Sáng 15/2, Bộ trưởng Thông tin và Truyền thông...</td>\n",
              "      <td>https://vnexpress.net/chinh-phu-de-xuat-thu-hu...</td>\n",
              "      <td>thoi-su_chinh-tri</td>\n",
              "    </tr>\n",
              "  </tbody>\n",
              "</table>\n",
              "</div>"
            ],
            "text/plain": [
              "                                               title  \\\n",
              "0  'Cần chuyển từ lương tối thiểu sang lương đủ s...   \n",
              "1  Chủ tịch nước cày ruộng trong lễ xuống đồng củ...   \n",
              "2  Thủ tướng: Chấp nhận trả 'học phí' khi nghiên ...   \n",
              "3  'Khoa học mà đấu thầu giá rẻ chỉ đem về công n...   \n",
              "4  Chính phủ đề xuất thu hút mọi nguồn lực phát t...   \n",
              "\n",
              "                                            abstract  \\\n",
              "0  GS Nguyễn Thiện Nhân cho rằng Việt Nam cần có ...   \n",
              "1  Hà Nội- Chủ tịch nước Lương Cường thực hiện ng...   \n",
              "2  Thủ tướng Phạm Minh Chính cho rằng cần chấp nh...   \n",
              "3  Tổng Bí thư Tô Lâm cho rằng áp dụng đấu thầu t...   \n",
              "4  Chính phủ cho rằng cơ sở nghiên cứu công lập p...   \n",
              "\n",
              "                                             content  \\\n",
              "0  Chiều 15/2, trong phiên thảo luận của Quốc hội...   \n",
              "1  Ngày hội sắc xuân trên mọi miền Tổ quốc xuân Ấ...   \n",
              "2  Thảo luận tại tổ ở Quốc hội sáng 15/2 về dự th...   \n",
              "3  Sáng 15/2, phát biểu tại tổ góp ý xây dựng dự ...   \n",
              "4  Sáng 15/2, Bộ trưởng Thông tin và Truyền thông...   \n",
              "\n",
              "                                                 url              genre  \n",
              "0  https://vnexpress.net/can-chuyen-tu-luong-toi-...  thoi-su_chinh-tri  \n",
              "1  https://vnexpress.net/chu-tich-nuoc-cay-ruong-...  thoi-su_chinh-tri  \n",
              "2  https://vnexpress.net/thu-tuong-chap-nhan-tra-...  thoi-su_chinh-tri  \n",
              "3  https://vnexpress.net/khoa-hoc-ma-dau-thau-gia...  thoi-su_chinh-tri  \n",
              "4  https://vnexpress.net/chinh-phu-de-xuat-thu-hu...  thoi-su_chinh-tri  "
            ]
          },
          "execution_count": 5,
          "metadata": {},
          "output_type": "execute_result"
        }
      ],
      "source": [
        "# file_path = '/content/drive/MyDrive/dataraw/vnexpress_articles.csv'\n",
        "#file_path = '../data/vnexpress_articles.csv'\n",
        "file_path = './data/vnexpress_articles.csv'\n",
        "\n",
        "vnexpress_df = pd.read_csv(file_path, encoding='utf-8')\n",
        "vnexpress_df.head()"
      ]
    },
    {
      "cell_type": "markdown",
      "metadata": {
        "id": "dpcboOIarTaZ"
      },
      "source": [
        "# **Tổng quan về bộ dữ liệu**\n",
        "\n",
        "## **Số dòng, số cột:**\n"
      ]
    },
    {
      "cell_type": "code",
      "execution_count": 6,
      "metadata": {
        "colab": {
          "base_uri": "https://localhost:8080/"
        },
        "id": "teoHucRvrgUV",
        "outputId": "a14322f5-b993-43ee-ff93-2167f8b34ca4"
      },
      "outputs": [
        {
          "name": "stdout",
          "output_type": "stream",
          "text": [
            "Thanh niên: (1190330, 5)\n",
            "Tuổi trẻ: (653194, 5)\n",
            "VNExpress: (51789, 5)\n"
          ]
        }
      ],
      "source": [
        "print(\"Thanh niên:\", thanhnien_df.shape)\n",
        "print(\"Tuổi trẻ:\", tuoitre_df.shape)\n",
        "print(\"VNExpress:\", vnexpress_df.shape)"
      ]
    },
    {
      "cell_type": "markdown",
      "metadata": {
        "id": "EeaxsL8Qr3bV"
      },
      "source": [
        "# **Dữ liệu thiếu**\n",
        "\n"
      ]
    },
    {
      "cell_type": "code",
      "execution_count": 7,
      "metadata": {
        "colab": {
          "base_uri": "https://localhost:8080/"
        },
        "id": "HAAoDAgWsDm_",
        "outputId": "41c94727-b752-4613-d58a-4b294d946909"
      },
      "outputs": [
        {
          "name": "stdout",
          "output_type": "stream",
          "text": [
            "Dữ liệu thiếu của các dataframe: \n",
            "Thanh niên: URL              0\n",
            "Title         5125\n",
            "Abstract     46309\n",
            "Content     401529\n",
            "Category     50795\n",
            "dtype: int64\n",
            "\n",
            "Tuổi trẻ: url             0\n",
            "title       26980\n",
            "abstract    11952\n",
            "content     19877\n",
            "category    41263\n",
            "dtype: int64\n",
            "\n",
            "VNExpress: title          0\n",
            "abstract       0\n",
            "content     2241\n",
            "url            0\n",
            "genre          0\n",
            "dtype: int64\n",
            "\n"
          ]
        }
      ],
      "source": [
        "print(\"Dữ liệu thiếu của các dataframe: \")\n",
        "print(f\"Thanh niên: {thanhnien_df.isnull().sum()}\\n\")\n",
        "print(f\"Tuổi trẻ: {tuoitre_df.isnull().sum()}\\n\")\n",
        "print(f\"VNExpress: {vnexpress_df.isnull().sum()}\\n\")"
      ]
    },
    {
      "cell_type": "markdown",
      "metadata": {
        "id": "wBRI0-h0s7BM"
      },
      "source": [
        "Để thuận tiện cho việc xử lí, chúng ta sẽ đổi tên lại để đồng nhất cả 3 dataframe."
      ]
    },
    {
      "cell_type": "code",
      "execution_count": 8,
      "metadata": {
        "colab": {
          "base_uri": "https://localhost:8080/",
          "height": 568
        },
        "id": "tLBEAdx1tE8V",
        "outputId": "a4800dc1-3879-4849-a55c-e4d1e9d27e8d"
      },
      "outputs": [
        {
          "data": {
            "text/html": [
              "<div>\n",
              "<style scoped>\n",
              "    .dataframe tbody tr th:only-of-type {\n",
              "        vertical-align: middle;\n",
              "    }\n",
              "\n",
              "    .dataframe tbody tr th {\n",
              "        vertical-align: top;\n",
              "    }\n",
              "\n",
              "    .dataframe thead th {\n",
              "        text-align: right;\n",
              "    }\n",
              "</style>\n",
              "<table border=\"1\" class=\"dataframe\">\n",
              "  <thead>\n",
              "    <tr style=\"text-align: right;\">\n",
              "      <th></th>\n",
              "      <th>URL</th>\n",
              "      <th>Title</th>\n",
              "      <th>Abstract</th>\n",
              "      <th>Content</th>\n",
              "      <th>Category</th>\n",
              "    </tr>\n",
              "  </thead>\n",
              "  <tbody>\n",
              "    <tr>\n",
              "      <th>0</th>\n",
              "      <td>https://tuoitre.vn/lua-chon-cong-nghe-nao-voi-...</td>\n",
              "      <td>Lựa chọn công nghệ nào với dự án nhiệt điện th...</td>\n",
              "      <td>Ban Thường vụ Tỉnh ủy Quảng Trị thống nhất chủ...</td>\n",
              "      <td>Ngày 14-2, Văn phòng Tỉnh ủy Quảng Trị cho hay...</td>\n",
              "      <td>Kinh doanh</td>\n",
              "    </tr>\n",
              "    <tr>\n",
              "      <th>1</th>\n",
              "      <td>https://tuoitre.vn/van-hoi-dac-biet-cua-tp-hcm...</td>\n",
              "      <td>NaN</td>\n",
              "      <td>NaN</td>\n",
              "      <td>Những công trình, dự án giao thông đồ sộ đang ...</td>\n",
              "      <td>NaN</td>\n",
              "    </tr>\n",
              "    <tr>\n",
              "      <th>2</th>\n",
              "      <td>https://tuoitre.vn/chay-trung-tam-tranh-theu-d...</td>\n",
              "      <td>Cháy Trung tâm tranh thêu Đà Lạt XQ Việt Nam</td>\n",
              "      <td>Trung tâm tranh thêu lụa Đà Lạt XQ Việt Nam, m...</td>\n",
              "      <td>Vào lúc 0h15 ngày 14-2, Trung tâm tranh thêu l...</td>\n",
              "      <td>Thời sự</td>\n",
              "    </tr>\n",
              "    <tr>\n",
              "      <th>3</th>\n",
              "      <td>https://tuoitre.vn/tong-thong-phap-chi-ong-zel...</td>\n",
              "      <td>Tổng thống Macron: Chỉ ông Zelensky có thể đại...</td>\n",
              "      <td>Ngày 13-2, Tổng thống Pháp Emmanuel Macron cho...</td>\n",
              "      <td>Ngoài ra, nhà lãnh đạoPhápcảnh báo “một nền hò...</td>\n",
              "      <td>Thế giới</td>\n",
              "    </tr>\n",
              "    <tr>\n",
              "      <th>4</th>\n",
              "      <td>https://tuoitre.vn/tkv-du-kien-hoan-thanh-100-...</td>\n",
              "      <td>TKV dự kiến hoàn thành 100% kế hoạch năm 2025</td>\n",
              "      <td>Tập đoàn Công nghiệp Than - Khoảng sản Việt Na...</td>\n",
              "      <td>Ngay từ những ngày đầu năm, tập đoàn đã chủ độ...</td>\n",
              "      <td>Kinh doanh, Doanh nghiệp</td>\n",
              "    </tr>\n",
              "  </tbody>\n",
              "</table>\n",
              "</div>"
            ],
            "text/plain": [
              "                                                 URL  \\\n",
              "0  https://tuoitre.vn/lua-chon-cong-nghe-nao-voi-...   \n",
              "1  https://tuoitre.vn/van-hoi-dac-biet-cua-tp-hcm...   \n",
              "2  https://tuoitre.vn/chay-trung-tam-tranh-theu-d...   \n",
              "3  https://tuoitre.vn/tong-thong-phap-chi-ong-zel...   \n",
              "4  https://tuoitre.vn/tkv-du-kien-hoan-thanh-100-...   \n",
              "\n",
              "                                               Title  \\\n",
              "0  Lựa chọn công nghệ nào với dự án nhiệt điện th...   \n",
              "1                                                NaN   \n",
              "2       Cháy Trung tâm tranh thêu Đà Lạt XQ Việt Nam   \n",
              "3  Tổng thống Macron: Chỉ ông Zelensky có thể đại...   \n",
              "4      TKV dự kiến hoàn thành 100% kế hoạch năm 2025   \n",
              "\n",
              "                                            Abstract  \\\n",
              "0  Ban Thường vụ Tỉnh ủy Quảng Trị thống nhất chủ...   \n",
              "1                                                NaN   \n",
              "2  Trung tâm tranh thêu lụa Đà Lạt XQ Việt Nam, m...   \n",
              "3  Ngày 13-2, Tổng thống Pháp Emmanuel Macron cho...   \n",
              "4  Tập đoàn Công nghiệp Than - Khoảng sản Việt Na...   \n",
              "\n",
              "                                             Content                  Category  \n",
              "0  Ngày 14-2, Văn phòng Tỉnh ủy Quảng Trị cho hay...                Kinh doanh  \n",
              "1  Những công trình, dự án giao thông đồ sộ đang ...                       NaN  \n",
              "2  Vào lúc 0h15 ngày 14-2, Trung tâm tranh thêu l...                   Thời sự  \n",
              "3  Ngoài ra, nhà lãnh đạoPhápcảnh báo “một nền hò...                  Thế giới  \n",
              "4  Ngay từ những ngày đầu năm, tập đoàn đã chủ độ...  Kinh doanh, Doanh nghiệp  "
            ]
          },
          "metadata": {},
          "output_type": "display_data"
        },
        {
          "data": {
            "text/html": [
              "<div>\n",
              "<style scoped>\n",
              "    .dataframe tbody tr th:only-of-type {\n",
              "        vertical-align: middle;\n",
              "    }\n",
              "\n",
              "    .dataframe tbody tr th {\n",
              "        vertical-align: top;\n",
              "    }\n",
              "\n",
              "    .dataframe thead th {\n",
              "        text-align: right;\n",
              "    }\n",
              "</style>\n",
              "<table border=\"1\" class=\"dataframe\">\n",
              "  <thead>\n",
              "    <tr style=\"text-align: right;\">\n",
              "      <th></th>\n",
              "      <th>Title</th>\n",
              "      <th>Abstract</th>\n",
              "      <th>Content</th>\n",
              "      <th>URL</th>\n",
              "      <th>Category</th>\n",
              "    </tr>\n",
              "  </thead>\n",
              "  <tbody>\n",
              "    <tr>\n",
              "      <th>0</th>\n",
              "      <td>'Cần chuyển từ lương tối thiểu sang lương đủ s...</td>\n",
              "      <td>GS Nguyễn Thiện Nhân cho rằng Việt Nam cần có ...</td>\n",
              "      <td>Chiều 15/2, trong phiên thảo luận của Quốc hội...</td>\n",
              "      <td>https://vnexpress.net/can-chuyen-tu-luong-toi-...</td>\n",
              "      <td>thoi-su_chinh-tri</td>\n",
              "    </tr>\n",
              "    <tr>\n",
              "      <th>1</th>\n",
              "      <td>Chủ tịch nước cày ruộng trong lễ xuống đồng củ...</td>\n",
              "      <td>Hà Nội- Chủ tịch nước Lương Cường thực hiện ng...</td>\n",
              "      <td>Ngày hội sắc xuân trên mọi miền Tổ quốc xuân Ấ...</td>\n",
              "      <td>https://vnexpress.net/chu-tich-nuoc-cay-ruong-...</td>\n",
              "      <td>thoi-su_chinh-tri</td>\n",
              "    </tr>\n",
              "    <tr>\n",
              "      <th>2</th>\n",
              "      <td>Thủ tướng: Chấp nhận trả 'học phí' khi nghiên ...</td>\n",
              "      <td>Thủ tướng Phạm Minh Chính cho rằng cần chấp nh...</td>\n",
              "      <td>Thảo luận tại tổ ở Quốc hội sáng 15/2 về dự th...</td>\n",
              "      <td>https://vnexpress.net/thu-tuong-chap-nhan-tra-...</td>\n",
              "      <td>thoi-su_chinh-tri</td>\n",
              "    </tr>\n",
              "    <tr>\n",
              "      <th>3</th>\n",
              "      <td>'Khoa học mà đấu thầu giá rẻ chỉ đem về công n...</td>\n",
              "      <td>Tổng Bí thư Tô Lâm cho rằng áp dụng đấu thầu t...</td>\n",
              "      <td>Sáng 15/2, phát biểu tại tổ góp ý xây dựng dự ...</td>\n",
              "      <td>https://vnexpress.net/khoa-hoc-ma-dau-thau-gia...</td>\n",
              "      <td>thoi-su_chinh-tri</td>\n",
              "    </tr>\n",
              "    <tr>\n",
              "      <th>4</th>\n",
              "      <td>Chính phủ đề xuất thu hút mọi nguồn lực phát t...</td>\n",
              "      <td>Chính phủ cho rằng cơ sở nghiên cứu công lập p...</td>\n",
              "      <td>Sáng 15/2, Bộ trưởng Thông tin và Truyền thông...</td>\n",
              "      <td>https://vnexpress.net/chinh-phu-de-xuat-thu-hu...</td>\n",
              "      <td>thoi-su_chinh-tri</td>\n",
              "    </tr>\n",
              "  </tbody>\n",
              "</table>\n",
              "</div>"
            ],
            "text/plain": [
              "                                               Title  \\\n",
              "0  'Cần chuyển từ lương tối thiểu sang lương đủ s...   \n",
              "1  Chủ tịch nước cày ruộng trong lễ xuống đồng củ...   \n",
              "2  Thủ tướng: Chấp nhận trả 'học phí' khi nghiên ...   \n",
              "3  'Khoa học mà đấu thầu giá rẻ chỉ đem về công n...   \n",
              "4  Chính phủ đề xuất thu hút mọi nguồn lực phát t...   \n",
              "\n",
              "                                            Abstract  \\\n",
              "0  GS Nguyễn Thiện Nhân cho rằng Việt Nam cần có ...   \n",
              "1  Hà Nội- Chủ tịch nước Lương Cường thực hiện ng...   \n",
              "2  Thủ tướng Phạm Minh Chính cho rằng cần chấp nh...   \n",
              "3  Tổng Bí thư Tô Lâm cho rằng áp dụng đấu thầu t...   \n",
              "4  Chính phủ cho rằng cơ sở nghiên cứu công lập p...   \n",
              "\n",
              "                                             Content  \\\n",
              "0  Chiều 15/2, trong phiên thảo luận của Quốc hội...   \n",
              "1  Ngày hội sắc xuân trên mọi miền Tổ quốc xuân Ấ...   \n",
              "2  Thảo luận tại tổ ở Quốc hội sáng 15/2 về dự th...   \n",
              "3  Sáng 15/2, phát biểu tại tổ góp ý xây dựng dự ...   \n",
              "4  Sáng 15/2, Bộ trưởng Thông tin và Truyền thông...   \n",
              "\n",
              "                                                 URL           Category  \n",
              "0  https://vnexpress.net/can-chuyen-tu-luong-toi-...  thoi-su_chinh-tri  \n",
              "1  https://vnexpress.net/chu-tich-nuoc-cay-ruong-...  thoi-su_chinh-tri  \n",
              "2  https://vnexpress.net/thu-tuong-chap-nhan-tra-...  thoi-su_chinh-tri  \n",
              "3  https://vnexpress.net/khoa-hoc-ma-dau-thau-gia...  thoi-su_chinh-tri  \n",
              "4  https://vnexpress.net/chinh-phu-de-xuat-thu-hu...  thoi-su_chinh-tri  "
            ]
          },
          "execution_count": 8,
          "metadata": {},
          "output_type": "execute_result"
        }
      ],
      "source": [
        "tuoitre_df.rename(columns={'url': 'URL', 'title': 'Title', 'abstract': 'Abstract', 'content': 'Content', 'category': 'Category'}, inplace=True)\n",
        "display(tuoitre_df.head())\n",
        "\n",
        "vnexpress_df.rename(columns={'url': 'URL', 'title': 'Title', 'abstract': 'Abstract', 'content': 'Content', 'genre': 'Category'}, inplace=True)\n",
        "vnexpress_df.head()"
      ]
    },
    {
      "cell_type": "markdown",
      "metadata": {
        "id": "QeclRufCtrJY"
      },
      "source": [
        "Đối với các record thiếu dữ liệu ở trường `Title` và `Content`, chúng ta sẽ bỏ các record này, do không có giá trị sử dụng và để gom gọn dữ liệu để có thể xử lí.\n",
        "\n"
      ]
    },
    {
      "cell_type": "code",
      "execution_count": 9,
      "metadata": {
        "colab": {
          "base_uri": "https://localhost:8080/"
        },
        "id": "jbKs9fr1uZOa",
        "outputId": "3ae7c516-4b10-4fd4-f4b2-42fbc4de59aa"
      },
      "outputs": [
        {
          "name": "stdout",
          "output_type": "stream",
          "text": [
            "Dữ liệu thiếu của các dataframe: \n",
            "Thanh niên: URL             0\n",
            "Title           0\n",
            "Abstract    19886\n",
            "Content         0\n",
            "Category    30461\n",
            "dtype: int64\n",
            "\n",
            "Tuổi trẻ: URL             0\n",
            "Title           0\n",
            "Abstract     1741\n",
            "Content         0\n",
            "Category    31397\n",
            "dtype: int64\n",
            "\n",
            "VNExpress: Title       0\n",
            "Abstract    0\n",
            "Content     0\n",
            "URL         0\n",
            "Category    0\n",
            "dtype: int64\n",
            "\n"
          ]
        }
      ],
      "source": [
        "thanhnien_df.dropna(subset=['Title', 'Content'], inplace=True)\n",
        "tuoitre_df.dropna(subset=['Title', 'Content'], inplace=True)\n",
        "vnexpress_df.dropna(subset=['Title', 'Content'], inplace=True)\n",
        "\n",
        "print(\"Dữ liệu thiếu của các dataframe: \")\n",
        "print(f\"Thanh niên: {thanhnien_df.isnull().sum()}\\n\")\n",
        "print(f\"Tuổi trẻ: {tuoitre_df.isnull().sum()}\\n\")\n",
        "print(f\"VNExpress: {vnexpress_df.isnull().sum()}\\n\")"
      ]
    },
    {
      "cell_type": "markdown",
      "metadata": {
        "id": "c9tRQ043ul3a"
      },
      "source": [
        "Đối với thiếu dữ liệu ở Abstract, không loại trừ trường hợp đó không phải là bài báo hoặc có hể là không lấy được abstract nên chúng ta sẽ xử lí sau. Chúng ta sẽ xử lí ở Category trước.\n",
        "\n",
        "Dễ dàng nhìn thấy ở 3 dataframe, cấu trúc của một giá trị ở trường Category ở hai báo Tuổi Trẻ và Thanh Niên là giống nhau, riêng ở VNExpress là khác. Do vậy, chúng ta sẽ xử lí các giá trị này để đồng bộ với 2 dataframe khác, từ viết thường, gạch ngang giữa mỗi chữ và nối giữa hai thể loại chính phụ bằng gạch nối dưới sang viết hoa chữ đầu, có dấu, như 2 dataframe khác. Ở đây, các mục chính sẽ dựa trên hiển thị của trang VNExpress."
      ]
    },
    {
      "cell_type": "code",
      "execution_count": 10,
      "metadata": {
        "colab": {
          "base_uri": "https://localhost:8080/",
          "height": 554
        },
        "id": "Czw4-39Ru79S",
        "outputId": "ddd85d16-c1ae-477d-e76c-e4e58094d2f5"
      },
      "outputs": [
        {
          "data": {
            "text/plain": [
              "Category\n",
              "Thể thao        11036\n",
              "Giải trí         5027\n",
              "Kinh doanh       4450\n",
              "Giáo dục         4162\n",
              "Thời sự          3427\n",
              "Thế giới         2988\n",
              "Công nghệ        2925\n",
              "Đời sống         2920\n",
              "Bất động sản     2831\n",
              "Khoa học         2807\n",
              "Du lịch          2592\n",
              "Sức khỏe         2055\n",
              "Xe               1187\n",
              "Pháp luật        1141\n",
              "Name: count, dtype: int64"
            ]
          },
          "execution_count": 10,
          "metadata": {},
          "output_type": "execute_result"
        }
      ],
      "source": [
        "def process_category(category):\n",
        "  category = category.split('_')[0]\n",
        "  category = category.replace('-', ' ')\n",
        "\n",
        "  new_cate = {\n",
        "      'the thao' : 'Thể thao',\n",
        "      'giai tri' : 'Giải trí',\n",
        "      'kinh doanh' : 'Kinh doanh',\n",
        "      'giao duc': 'Giáo dục',\n",
        "      'suc khoe': 'Sức khỏe',\n",
        "      'thoi su' : 'Thời sự',\n",
        "      'the gioi': 'Thế giới',\n",
        "      'doi song': 'Đời sống',\n",
        "      'cong nghe': 'Công nghệ',\n",
        "      'bat dong san': 'Bất động sản',\n",
        "      'khoa hoc': 'Khoa học',\n",
        "      'du lich': 'Du lịch',\n",
        "      'oto xe may': 'Xe',\n",
        "      'phap luat': 'Pháp luật'\n",
        "  }\n",
        "\n",
        "  if category in new_cate:\n",
        "    category = new_cate[category]\n",
        "\n",
        "  return category\n",
        "\n",
        "vnexpress_df['Category'] = vnexpress_df['Category'].astype(str).apply(process_category)\n",
        "vnexpress_df['Category'].value_counts()"
      ]
    },
    {
      "cell_type": "markdown",
      "metadata": {
        "id": "A0HpOTZMy304"
      },
      "source": [
        "Các thể loại ở VNExpress đã khá cô đọng. Giờ chúng ta sẽ xem xét các thể loại ở Thanh Niên và Tuổi Trẻ."
      ]
    },
    {
      "cell_type": "code",
      "execution_count": 11,
      "metadata": {
        "colab": {
          "base_uri": "https://localhost:8080/"
        },
        "id": "Ugs2s9HrzqUx",
        "outputId": "ccd1186f-42ae-4578-e34f-1936f2ff7a36"
      },
      "outputs": [
        {
          "name": "stdout",
          "output_type": "stream",
          "text": [
            "Thanh niên: \n",
            " Category\n",
            "Thời sự                 156701\n",
            "Thể thao                 84355\n",
            "Thế giới                 71631\n",
            "Văn hóa                  67494\n",
            "Đời sống                 55998\n",
            "Công nghệ                53029\n",
            "Kinh tế                  52010\n",
            "Sức khỏe                 34058\n",
            "Giáo dục                 31701\n",
            "Giải trí                 31651\n",
            "Video                    29631\n",
            "Giới trẻ                 26670\n",
            "TNO                      21168\n",
            "Xe                       16069\n",
            "Du lịch                   5870\n",
            "Bạn cần biết              5099\n",
            "Tiêu dùng thông minh      4494\n",
            "Chính trị                 3562\n",
            "Bạn đọc                   3044\n",
            "Chào ngày mới             2499\n",
            "Blog phóng viên           1038\n",
            "Podcast                    272\n",
            "Tôi viết                   226\n",
            "Diễn đàn                    43\n",
            "Nhật ký Tết Việt            27\n",
            "Name: count, dtype: int64\n",
            "\n",
            "Tuổi trẻ: \n",
            " Category\n",
            "Thế giới                       68879\n",
            "Thể thao                       57027\n",
            "Thời sự                        50661\n",
            "Thời sự, Xã hội                49575\n",
            "Kinh doanh                     42530\n",
            "                               ...  \n",
            "Xe, Đánh giá xe                    1\n",
            "Video Media                        1\n",
            "Cần biết, Điểm tin cùng bạn        1\n",
            "Photo Media                        1\n",
            "Xe, An toàn giao thông             1\n",
            "Name: count, Length: 171, dtype: int64\n"
          ]
        }
      ],
      "source": [
        "print(\"Thanh niên: \\n\", thanhnien_df['Category'].value_counts())\n",
        "print(\"\\nTuổi trẻ: \\n\", tuoitre_df['Category'].value_counts())"
      ]
    },
    {
      "cell_type": "markdown",
      "metadata": {
        "id": "CL2hSQyPzylK"
      },
      "source": [
        "Dựa vào quy định của báo Thanh Niên và Tuổi trẻ, chúng ta sẽ bỏ các record chứa giá trị có chuỗi con là Video, Podcast hay Media. Vì đây là các mục dành cho video, audio. Đồng thời chúng ta cũng bỏ các record chứa giá trị là Diễn đàn, Bạn đọc. Vì đây là các diễn đàn, Q&A, không cần phải sử dụng."
      ]
    },
    {
      "cell_type": "code",
      "execution_count": 12,
      "metadata": {
        "colab": {
          "base_uri": "https://localhost:8080/"
        },
        "id": "yGtlvSm20jvR",
        "outputId": "121e4043-3b7f-4dda-b200-bc6fbdeff3eb"
      },
      "outputs": [
        {
          "name": "stdout",
          "output_type": "stream",
          "text": [
            "Thanh niên: \n",
            " Category\n",
            "Thời sự                 156701\n",
            "Thể thao                 84355\n",
            "Thế giới                 71631\n",
            "Văn hóa                  67494\n",
            "Đời sống                 55998\n",
            "Công nghệ                53029\n",
            "Kinh tế                  52010\n",
            "Sức khỏe                 34058\n",
            "Giáo dục                 31701\n",
            "Giải trí                 31651\n",
            "Giới trẻ                 26670\n",
            "TNO                      21168\n",
            "Xe                       16069\n",
            "Du lịch                   5870\n",
            "Bạn cần biết              5099\n",
            "Tiêu dùng thông minh      4494\n",
            "Chính trị                 3562\n",
            "Chào ngày mới             2499\n",
            "Blog phóng viên           1038\n",
            "Tôi viết                   226\n",
            "Nhật ký Tết Việt            27\n",
            "Name: count, dtype: int64\n",
            "\n",
            "Tuổi trẻ: \n",
            " Category\n",
            "Thế giới                         68879\n",
            "Thể thao                         57027\n",
            "Thời sự                          50661\n",
            "Thời sự, Xã hội                  49575\n",
            "Kinh doanh                       42530\n",
            "                                 ...  \n",
            "World Cup 2018, Cuộc Thi Viết        1\n",
            "Cần biết, Điểm tin cùng bạn          1\n",
            "Xe, Đánh giá xe                      1\n",
            "Xe, An toàn giao thông               1\n",
            "Văn hóa - Giải trí, Tạp bút          1\n",
            "Name: count, Length: 156, dtype: int64\n"
          ]
        }
      ],
      "source": [
        "patterns = ['Video', 'Podcast', 'Media', 'Diễn đàn', 'Bạn đọc']\n",
        "\n",
        "thanhnien_df = thanhnien_df[~thanhnien_df['Category'].astype(str).str.contains('|'.join(patterns), na=False)]\n",
        "tuoitre_df = tuoitre_df[~tuoitre_df['Category'].astype(str).str.contains('|'.join(patterns), na=False)]\n",
        "\n",
        "print(\"Thanh niên: \\n\", thanhnien_df['Category'].value_counts())\n",
        "print(\"\\nTuổi trẻ: \\n\", tuoitre_df['Category'].value_counts())"
      ]
    },
    {
      "cell_type": "markdown",
      "metadata": {
        "id": "icrkMLQI1IKI"
      },
      "source": [
        "Chúng ta sẽ xử lí các giá trị ở trường `Category` ở báo Tuổi trẻ. Như chúng ta đã thấy, các giá trị này gồm trước dấu phẩy là mục chính, sau dấu phẩy là mục phụ. Nên chúng ta sẽ chỉ lấy trước dấu phẩy đầu tiên."
      ]
    },
    {
      "cell_type": "code",
      "execution_count": 13,
      "metadata": {
        "colab": {
          "base_uri": "https://localhost:8080/",
          "height": 1000
        },
        "id": "C2vRvdWr1y7h",
        "outputId": "67bbb6cf-54f4-44d6-c16a-db4a8384564e"
      },
      "outputs": [],
      "source": [
        "tuoitre_df.loc[:, 'Category'] = tuoitre_df['Category'].str.split(',').str[0]\n",
        "category_counts = tuoitre_df['Category'].value_counts()"
      ]
    },
    {
      "cell_type": "markdown",
      "metadata": {
        "id": "b1Uh3zhF1_Ky"
      },
      "source": [
        "Tiếp theo chúng ta sẽ xem xem nếu merge 3 dataframe này với nhau, thì các giá trị `Category` này có các giá trị chung và riêng ra sao."
      ]
    },
    {
      "cell_type": "code",
      "execution_count": 14,
      "metadata": {
        "id": "rMB8_h1Q2N6r"
      },
      "outputs": [],
      "source": [
        "def compare_categories(df1, df2, df3):\n",
        "    unique_thanhnien = set(thanhnien_df['Category'].unique())\n",
        "    unique_tuoitre = set(tuoitre_df['Category'].unique())\n",
        "    unique_vnexpress = set(vnexpress_df['Category'].unique())\n",
        "\n",
        "    diff_thanhnien = unique_thanhnien.difference(unique_tuoitre.union(unique_vnexpress))\n",
        "    diff_tuoitre = unique_tuoitre.difference(unique_thanhnien.union(unique_vnexpress))\n",
        "    diff_vnexpress = unique_vnexpress.difference(unique_thanhnien.union(unique_tuoitre))\n",
        "\n",
        "    common = unique_thanhnien.intersection(unique_tuoitre).intersection(unique_vnexpress)\n",
        "\n",
        "    return diff_thanhnien, diff_tuoitre, diff_vnexpress, common"
      ]
    },
    {
      "cell_type": "code",
      "execution_count": 15,
      "metadata": {
        "colab": {
          "base_uri": "https://localhost:8080/"
        },
        "id": "rmk1R86jBC53",
        "outputId": "df5f51bd-af4b-4e97-e962-d28c83e03275"
      },
      "outputs": [
        {
          "name": "stdout",
          "output_type": "stream",
          "text": [
            "Các giá trị giống nhau giữa 3 dataframe: \n",
            "{'Giải trí', 'Sức khỏe', 'Giáo dục', 'Thể thao', 'Thế giới', 'Công nghệ', 'Xe', 'Du lịch', 'Thời sự'}\n",
            "Các giá trị chỉ có ở Thanh niên: \n",
            "{'Chào ngày mới', 'Nhật ký Tết Việt', 'Chính trị', 'Bạn cần biết', 'Tiêu dùng thông minh', 'Tôi viết', 'Kinh tế', 'Blog phóng viên', 'Giới trẻ', 'TNO'}\n",
            "Các giá trị chỉ có ở Tuổi trẻ: \n",
            "{'World Cup 2018', 'Văn hóa - Giải trí', 'Vấn đề - Sự kiện', 'Biết để khỏe', 'Cuộc sống muôn màu', 'Đại học', 'Nhịp sống trẻ', 'SEA Games 31', 'Cần biết', 'Tuổi Trẻ cuối tuần', 'Giả - Thật', 'Việc làm', 'MeKong Xanh', 'Bình Dương', 'World Cup 2022', 'Thư giãn', 'Nhà đất'}\n",
            "Các giá trị chỉ có ở VNExpress: \n",
            "{'Bất động sản'}\n"
          ]
        }
      ],
      "source": [
        "diff_thanhnien, diff_tuoitre, diff_vnexpress, common = compare_categories(thanhnien_df, tuoitre_df, vnexpress_df)\n",
        "print(\"Các giá trị giống nhau giữa 3 dataframe: \")\n",
        "print(common)\n",
        "\n",
        "print(\"Các giá trị chỉ có ở Thanh niên: \")\n",
        "print(diff_thanhnien)\n",
        "\n",
        "print(\"Các giá trị chỉ có ở Tuổi trẻ: \")\n",
        "print(diff_tuoitre)\n",
        "\n",
        "print(\"Các giá trị chỉ có ở VNExpress: \")\n",
        "print(diff_vnexpress)"
      ]
    },
    {
      "cell_type": "markdown",
      "metadata": {
        "id": "X1mChe5F4-6E"
      },
      "source": [
        "Ta thấy chúng ta có thể gộp một số giá trị lại với nhau về một thể loại. Các giá trị ở báo Tuổi Trẻ có chứa `SEA Games`, `World Cup` sẽ được chuyển thành `Thể thao`. `Chính trị` (báo Thanh Niên), `Vấn đề - Sự kiện` có thể gộp vào `Thời sự` , `Văn hóa - Giải trí`, `Thử giãn` trở thành `Giải trí`, `Nhà đất` thành `Bất động sản`, `Nhịp sống trẻ` thành `Giới trẻ`(báo Tuổi Trẻ)... Còn lại sẽ chuyển thành giá trị `Thể loại khác`."
      ]
    },
    {
      "cell_type": "code",
      "execution_count": 16,
      "metadata": {
        "id": "F1Y0QtWt5rr1"
      },
      "outputs": [],
      "source": [
        "def group_categories(category):\n",
        "    if any(keyword in category for keyword in ['SEA Games', 'World Cup', 'Bóng đá']):\n",
        "        return 'Thể thao'\n",
        "    elif category == 'Nhịp sống trẻ':\n",
        "        return 'Giới trẻ'\n",
        "    elif category == 'Chính trị' or category == 'Vấn đề - Sự kiện':\n",
        "        return 'Thời sự'\n",
        "    elif any(keyword in category for keyword in ['Văn hóa - Giải trí', 'Thư giãn']):\n",
        "        return 'Giải trí'\n",
        "    elif category == 'Nhà đất':\n",
        "        return 'Bất động sản'\n",
        "    elif any(keyword in category for keyword in ['Việc làm', 'Tiêu dùng thông minh']):\n",
        "        return 'Kinh tế'\n",
        "    elif category == 'Biết để khỏe':\n",
        "        return 'Sức khỏe'\n",
        "    return category\n",
        "\n",
        "thanhnien_df.loc[:, 'Category'] = thanhnien_df['Category'].astype(str)\n",
        "tuoitre_df.loc[:, 'Category'] = tuoitre_df['Category'].astype(str)\n",
        "vnexpress_df.loc[:, 'Category'] = vnexpress_df['Category'].astype(str)\n",
        "\n",
        "# Áp dụng hàm group_categories\n",
        "thanhnien_df.loc[:, 'Category'] = thanhnien_df['Category'].apply(group_categories)\n",
        "tuoitre_df.loc[:, 'Category'] = tuoitre_df['Category'].apply(group_categories)\n",
        "vnexpress_df.loc[:, 'Category'] = vnexpress_df['Category'].apply(group_categories)"
      ]
    },
    {
      "cell_type": "code",
      "execution_count": 17,
      "metadata": {
        "colab": {
          "base_uri": "https://localhost:8080/"
        },
        "id": "W6HfKO617jdB",
        "outputId": "53936424-f26c-4274-c96a-4e63ce4951d7"
      },
      "outputs": [
        {
          "name": "stdout",
          "output_type": "stream",
          "text": [
            "Các giá trị giống nhau giữa 3 dataframe: \n",
            "{'Giải trí', 'Sức khỏe', 'Giáo dục', 'Thể thao', 'Thế giới', 'Công nghệ', 'Xe', 'Du lịch', 'Thời sự'}\n",
            "Các giá trị chỉ có ở Thanh niên: \n",
            "{'Chào ngày mới', 'Nhật ký Tết Việt', 'Bạn cần biết', 'Tôi viết', 'Blog phóng viên', 'TNO'}\n",
            "Các giá trị chỉ có ở Tuổi trẻ: \n",
            "{'Cuộc sống muôn màu', 'Đại học', 'Tuổi Trẻ cuối tuần', 'Giả - Thật', 'MeKong Xanh', 'Bình Dương', 'Cần biết'}\n",
            "Các giá trị chỉ có ở VNExpress: \n",
            "set()\n"
          ]
        }
      ],
      "source": [
        "diff_thanhnien, diff_tuoitre, diff_vnexpress, common = compare_categories(thanhnien_df, tuoitre_df, vnexpress_df)\n",
        "print(\"Các giá trị giống nhau giữa 3 dataframe: \")\n",
        "print(common)\n",
        "\n",
        "print(\"Các giá trị chỉ có ở Thanh niên: \")\n",
        "print(diff_thanhnien)\n",
        "\n",
        "print(\"Các giá trị chỉ có ở Tuổi trẻ: \")\n",
        "print(diff_tuoitre)\n",
        "\n",
        "print(\"Các giá trị chỉ có ở VNExpress: \")\n",
        "print(diff_vnexpress)"
      ]
    },
    {
      "cell_type": "markdown",
      "metadata": {
        "id": "zDFlAFD749G8"
      },
      "source": [
        " Hợp 3 dataframe lại với nhau và chuyển các giá trị của riêng mỗi báo có thành `Thể loại khác`."
      ]
    },
    {
      "cell_type": "code",
      "execution_count": 18,
      "metadata": {
        "colab": {
          "base_uri": "https://localhost:8080/",
          "height": 310
        },
        "id": "axLPqWM02hcv",
        "outputId": "7501103a-abee-4d75-f721-7ec7adb10e65"
      },
      "outputs": [
        {
          "name": "stdout",
          "output_type": "stream",
          "text": [
            "Kích thước:  (1399685, 5)\n"
          ]
        },
        {
          "data": {
            "text/html": [
              "<div>\n",
              "<style scoped>\n",
              "    .dataframe tbody tr th:only-of-type {\n",
              "        vertical-align: middle;\n",
              "    }\n",
              "\n",
              "    .dataframe tbody tr th {\n",
              "        vertical-align: top;\n",
              "    }\n",
              "\n",
              "    .dataframe thead th {\n",
              "        text-align: right;\n",
              "    }\n",
              "</style>\n",
              "<table border=\"1\" class=\"dataframe\">\n",
              "  <thead>\n",
              "    <tr style=\"text-align: right;\">\n",
              "      <th></th>\n",
              "      <th>URL</th>\n",
              "      <th>Title</th>\n",
              "      <th>Abstract</th>\n",
              "      <th>Content</th>\n",
              "      <th>Category</th>\n",
              "    </tr>\n",
              "  </thead>\n",
              "  <tbody>\n",
              "    <tr>\n",
              "      <th>399449</th>\n",
              "      <td>https://thanhnien.vn/gieo-tinh-thuong-bang-loi...</td>\n",
              "      <td>Gieo tình thương bằng lời hát ru</td>\n",
              "      <td>Người xưa có câu “Dạy con từ thuở còn thơ” như...</td>\n",
              "      <td>GS Trần Văn Khê cho rằng trong thai kỳ, nếu bi...</td>\n",
              "      <td>Đời sống</td>\n",
              "    </tr>\n",
              "    <tr>\n",
              "      <th>455289</th>\n",
              "      <td>https://thanhnien.vn/nam-thu-tiep-tuc-gay-sot-...</td>\n",
              "      <td>Nam Thư tiếp tục 'gây sốt' với 'cảnh nóng' táo...</td>\n",
              "      <td>Dù thể hiện rất chân thật trong những phân đoạ...</td>\n",
              "      <td>Nam Thư và bạn diễn chuẩn bị tâm lí kĩ càng tr...</td>\n",
              "      <td>Giải trí</td>\n",
              "    </tr>\n",
              "    <tr>\n",
              "      <th>447575</th>\n",
              "      <td>https://thanhnien.vn/tong-cuc-the-duc-the-thao...</td>\n",
              "      <td>Tổng cục Thể dục thể thao phê bình chuyện chấn...</td>\n",
              "      <td>Cách đây 3 ngày, trên đường chạy 100m ở giải P...</td>\n",
              "      <td>Trả lời câu hỏi của Thanh Niên: “Liệu có phải ...</td>\n",
              "      <td>Thể thao</td>\n",
              "    </tr>\n",
              "    <tr>\n",
              "      <th>563255</th>\n",
              "      <td>https://thanhnien.vn/ha-tinh-phat-hien-con-ho-...</td>\n",
              "      <td>Hà Tĩnh: Phát hiện con hổ nặng 250 kg tại nhà dân</td>\n",
              "      <td>Lực lượng chức năng tỉnh Hà Tĩnh vừa phát hiện...</td>\n",
              "      <td>Ông Đinh Nhật Nghệ ra đầu thú, khai với công a...</td>\n",
              "      <td>Thời sự</td>\n",
              "    </tr>\n",
              "    <tr>\n",
              "      <th>1367022</th>\n",
              "      <td>https://vnexpress.net/dan-nguoi-dep-quoc-te-de...</td>\n",
              "      <td>Dàn người đẹp quốc tế đến TP HCM thi Miss Char...</td>\n",
              "      <td>Hoa hậu Venezuela, Mexico, Malaysia cùng hơn 3...</td>\n",
              "      <td>Người đẹp Fernanda Antelo - đến từ Bolivia - d...</td>\n",
              "      <td>Giải trí</td>\n",
              "    </tr>\n",
              "  </tbody>\n",
              "</table>\n",
              "</div>"
            ],
            "text/plain": [
              "                                                       URL  \\\n",
              "399449   https://thanhnien.vn/gieo-tinh-thuong-bang-loi...   \n",
              "455289   https://thanhnien.vn/nam-thu-tiep-tuc-gay-sot-...   \n",
              "447575   https://thanhnien.vn/tong-cuc-the-duc-the-thao...   \n",
              "563255   https://thanhnien.vn/ha-tinh-phat-hien-con-ho-...   \n",
              "1367022  https://vnexpress.net/dan-nguoi-dep-quoc-te-de...   \n",
              "\n",
              "                                                     Title  \\\n",
              "399449                    Gieo tình thương bằng lời hát ru   \n",
              "455289   Nam Thư tiếp tục 'gây sốt' với 'cảnh nóng' táo...   \n",
              "447575   Tổng cục Thể dục thể thao phê bình chuyện chấn...   \n",
              "563255   Hà Tĩnh: Phát hiện con hổ nặng 250 kg tại nhà dân   \n",
              "1367022  Dàn người đẹp quốc tế đến TP HCM thi Miss Char...   \n",
              "\n",
              "                                                  Abstract  \\\n",
              "399449   Người xưa có câu “Dạy con từ thuở còn thơ” như...   \n",
              "455289   Dù thể hiện rất chân thật trong những phân đoạ...   \n",
              "447575   Cách đây 3 ngày, trên đường chạy 100m ở giải P...   \n",
              "563255   Lực lượng chức năng tỉnh Hà Tĩnh vừa phát hiện...   \n",
              "1367022  Hoa hậu Venezuela, Mexico, Malaysia cùng hơn 3...   \n",
              "\n",
              "                                                   Content  Category  \n",
              "399449   GS Trần Văn Khê cho rằng trong thai kỳ, nếu bi...  Đời sống  \n",
              "455289   Nam Thư và bạn diễn chuẩn bị tâm lí kĩ càng tr...  Giải trí  \n",
              "447575   Trả lời câu hỏi của Thanh Niên: “Liệu có phải ...  Thể thao  \n",
              "563255   Ông Đinh Nhật Nghệ ra đầu thú, khai với công a...   Thời sự  \n",
              "1367022  Người đẹp Fernanda Antelo - đến từ Bolivia - d...  Giải trí  "
            ]
          },
          "execution_count": 18,
          "metadata": {},
          "output_type": "execute_result"
        }
      ],
      "source": [
        "df = pd.concat([thanhnien_df, tuoitre_df, vnexpress_df], ignore_index=True)\n",
        "print(\"Kích thước: \", df.shape)\n",
        "df.sample(5)"
      ]
    },
    {
      "cell_type": "code",
      "execution_count": 19,
      "metadata": {
        "colab": {
          "base_uri": "https://localhost:8080/",
          "height": 711
        },
        "id": "9GfyQCqoBxpz",
        "outputId": "84e6a9da-cb09-4d4b-bef6-c50d4ca11e90"
      },
      "outputs": [
        {
          "data": {
            "text/plain": [
              "Category\n",
              "Thời sự          277619\n",
              "Thể thao         154046\n",
              "Thế giới         145761\n",
              "Văn hóa           97965\n",
              "Sức khỏe          70101\n",
              "Công nghệ         68141\n",
              "Giáo dục          67404\n",
              "Thể loại khác     67160\n",
              "nan               61858\n",
              "Đời sống          58918\n",
              "Kinh tế           56737\n",
              "Kinh doanh        56411\n",
              "Giải trí          55930\n",
              "Giới trẻ          52576\n",
              "Pháp luật         41315\n",
              "Xe                25018\n",
              "Du lịch           20569\n",
              "Khoa học          11209\n",
              "Bất động sản      10947\n",
              "Name: count, dtype: int64"
            ]
          },
          "execution_count": 19,
          "metadata": {},
          "output_type": "execute_result"
        }
      ],
      "source": [
        "def replace_unique_categories(category):\n",
        "    if category in diff_thanhnien or category in diff_tuoitre or category in diff_vnexpress:\n",
        "        return 'Thể loại khác'\n",
        "    return category\n",
        "\n",
        "df['Category'] = df['Category'].apply(replace_unique_categories)\n",
        "df['Category'].value_counts()"
      ]
    },
    {
      "cell_type": "markdown",
      "metadata": {
        "id": "Xj9Zkmp1quVk"
      },
      "source": [
        "Tiếp theo chúng ta sẽ xử lí dữ liệu bị mất ở trường `Abstract` và `Category` bằng cách loại bỏ nó."
      ]
    },
    {
      "cell_type": "code",
      "execution_count": 20,
      "metadata": {},
      "outputs": [],
      "source": [
        "df['Abstract'].isnull().sum()\n",
        "\n",
        "df.dropna(subset=['Abstract'], inplace=True)\n",
        "df.dropna(subset=['Category'], inplace=True)"
      ]
    },
    {
      "cell_type": "code",
      "execution_count": 21,
      "metadata": {
        "id": "XRXUhHk90Qxm"
      },
      "outputs": [],
      "source": [
        "# def get_first_sentence(text):\n",
        "#     if pd.isna(text) or text.strip() == \"\":\n",
        "#         return None\n",
        "#     return text.split('.')[0] + '.'\n",
        "\n",
        "# df.loc[df['Abstract'].isna(), 'Abstract'] = df.loc[df['Abstract'].isna(), 'Content'].apply(get_first_sentence)\n",
        "df.to_csv('./data/preprocessed_datav1.csv', index=False)\n",
        "#df.to_csv('../data/preprocessed_datav1.csv', index=False)"
      ]
    },
    {
      "cell_type": "markdown",
      "metadata": {
        "id": "ufVC1pshsAK5"
      },
      "source": [
        "# **Dữ liệu trùng lặp**"
      ]
    },
    {
      "cell_type": "markdown",
      "metadata": {},
      "source": [
        "Mỗi bài báo sẽ có một `ID` riêng, nên chúng ta sẽ xem xét xem có bài báo nào bị trùng không thông qua `URL` của bài báo. Nếu có, chúng ta sẽ loại bỏ các bài báo trùng lặp."
      ]
    },
    {
      "cell_type": "code",
      "execution_count": 22,
      "metadata": {},
      "outputs": [
        {
          "data": {
            "text/plain": [
              "10820"
            ]
          },
          "execution_count": 22,
          "metadata": {},
          "output_type": "execute_result"
        }
      ],
      "source": [
        "df.duplicated(subset=['URL']).sum()"
      ]
    },
    {
      "cell_type": "markdown",
      "metadata": {
        "id": "IZva4XoT4CAf"
      },
      "source": [
        "Bây giờ chúng ta sẽ kiểm tra số dòng dữ liệu bị trùng dữ kiện `Title` vì có thể các trang báo khác nhau sẽ lấy bài báo cùng một nguồn như nhau."
      ]
    },
    {
      "cell_type": "code",
      "execution_count": 23,
      "metadata": {
        "id": "eWRPezSs382A"
      },
      "outputs": [
        {
          "name": "stdout",
          "output_type": "stream",
          "text": [
            "Số dòng có tiêu đề trùng lặp: 45449\n"
          ]
        }
      ],
      "source": [
        "duplicate_count = df.duplicated(subset=['Title']).sum()\n",
        "print(f\"Số dòng có tiêu đề trùng lặp: {duplicate_count}\")"
      ]
    },
    {
      "cell_type": "markdown",
      "metadata": {
        "id": "TO45h1Ns2QGL"
      },
      "source": [
        "Do là một trang web sinh tiêu đề dựa trên văn bản, sự trùng lặp tiêu đề sẽ khiến mô hình sẽ không đủ độ nhạy khi có nhiều bài bị trùng tiêu đề khiến việc đề xuất tiêu đề thiếu chuẩn xác. Nên tiếp đến chúng ta sẽ xử lí các dòng dữ liệu bị trùng lặp theo `Title`, giữ lại 1 giá trị duy nhất cho từng tiêu đề."
      ]
    },
    {
      "cell_type": "code",
      "execution_count": null,
      "metadata": {
        "id": "H1JbU9lmrQ8N"
      },
      "outputs": [],
      "source": [
        "df.drop_duplicates(subset=['Title'], keep='first', inplace=True)\n",
        "df.to_csv('./data/preprocessed_data.csv', index=False)"
      ]
    },
    {
      "cell_type": "markdown",
      "metadata": {
        "id": "b1mDoM0ErRR9"
      },
      "source": [
        "# **Chuẩn hóa giá trị**"
      ]
    },
    {
      "cell_type": "markdown",
      "metadata": {
        "id": "EmrGBFyBrmyQ"
      },
      "source": [
        "Đầu tiên, chúng ta sẽ xem xét kiểu dữ liệu của các trường của bộ dữ liệu."
      ]
    },
    {
      "cell_type": "code",
      "execution_count": 25,
      "metadata": {
        "id": "b-eWW7yPr4i0"
      },
      "outputs": [
        {
          "name": "stdout",
          "output_type": "stream",
          "text": [
            "URL         object\n",
            "Title       object\n",
            "Abstract    object\n",
            "Content     object\n",
            "Category    object\n",
            "dtype: object\n"
          ]
        }
      ],
      "source": [
        "print(df.dtypes)"
      ]
    },
    {
      "cell_type": "markdown",
      "metadata": {
        "id": "w4nyNRLesBHO"
      },
      "source": [
        "Đối với các trường `Title`, `Abstract`, `Content`, chúng ta sẽ xóa các giá trị đặc biệt như: \\n, \\t, \\r ..."
      ]
    },
    {
      "cell_type": "code",
      "execution_count": 26,
      "metadata": {
        "id": "8dL19CpLsBbk"
      },
      "outputs": [],
      "source": [
        "df['Title'] = df['Title'].str.replace(r'[\\n\\t\\r]', ' ', regex=True)\n",
        "df['Abstract'] = df['Abstract'].str.replace(r'[\\n\\t\\r]', ' ', regex=True)\n",
        "df['Content'] = df['Content'].str.replace(r'[\\n\\t\\r]', ' ', regex=True)"
      ]
    },
    {
      "cell_type": "code",
      "execution_count": 28,
      "metadata": {},
      "outputs": [
        {
          "data": {
            "text/plain": [
              "(1332836, 5)"
            ]
          },
          "execution_count": 28,
          "metadata": {},
          "output_type": "execute_result"
        }
      ],
      "source": [
        "df.shape"
      ]
    },
    {
      "cell_type": "code",
      "execution_count": null,
      "metadata": {},
      "outputs": [],
      "source": [
        "df.to_csv('../data/cleaned_data.csv', index=False)"
      ]
    },
    {
      "cell_type": "markdown",
      "metadata": {},
      "source": [
        "# Dùng Pyvi để Tokenize và loại bỏ dấu câu"
      ]
    },
    {
      "cell_type": "code",
      "execution_count": 30,
      "metadata": {},
      "outputs": [],
      "source": [
        "import string\n",
        "from pyvi import ViTokenizer"
      ]
    },
    {
      "cell_type": "code",
      "execution_count": 31,
      "metadata": {},
      "outputs": [
        {
          "name": "stdout",
          "output_type": "stream",
          "text": [
            "4989976\n"
          ]
        }
      ],
      "source": [
        "arr = df.Content\n",
        "\n",
        "corpus_vie = arr[:2000].str.cat(sep='.')\n",
        "print(len(corpus_vie))"
      ]
    },
    {
      "cell_type": "code",
      "execution_count": 32,
      "metadata": {},
      "outputs": [
        {
          "name": "stdout",
          "output_type": "stream",
          "text": [
            "508\n"
          ]
        }
      ],
      "source": [
        "batch_size = 100\n",
        "pyvi_docs = []\n",
        "prev = 0\n",
        "count = 1\n",
        "for i, letter in enumerate(corpus_vie):\n",
        "    if letter == '.':\n",
        "        count+=1\n",
        "    if count>=batch_size:\n",
        "        doc = ViTokenizer.tokenize(corpus_vie[prev:i])\n",
        "        pyvi_docs.append(doc)\n",
        "        count = 1\n",
        "        prev = i\n",
        "pyvi_docs.append(ViTokenizer.tokenize(corpus_vie[prev:]))\n",
        "print(len(pyvi_docs))"
      ]
    },
    {
      "cell_type": "code",
      "execution_count": 33,
      "metadata": {},
      "outputs": [],
      "source": [
        "punctuations = set(string.punctuation)\n",
        "pyvi_tokens = []\n",
        "for doc in pyvi_docs:\n",
        "    pyvi_tokens+=doc.split()\n",
        "pyvi_punctuations_filtered = [token for token in pyvi_tokens if token not in punctuations]"
      ]
    },
    {
      "cell_type": "markdown",
      "metadata": {},
      "source": [
        "## Loại bỏ dấu câu"
      ]
    },
    {
      "cell_type": "code",
      "execution_count": 34,
      "metadata": {},
      "outputs": [],
      "source": [
        "def get_stopwords_list(stop_file_path):\n",
        "    \"\"\"load stop words \"\"\"\n",
        "    \n",
        "    with open(stop_file_path, 'r', encoding=\"utf-8\") as f:\n",
        "        stopwords = f.readlines()\n",
        "        stop_set = set(m.strip() for m in stopwords)\n",
        "        return list(frozenset(stop_set))"
      ]
    },
    {
      "cell_type": "code",
      "execution_count": 35,
      "metadata": {},
      "outputs": [
        {
          "name": "stdout",
          "output_type": "stream",
          "text": [
            "1942\n"
          ]
        }
      ],
      "source": [
        "stopwords_path = './data/vn_stopwords.txt'\n",
        "stopwords = get_stopwords_list(stopwords_path)\n",
        "\n",
        "print(len(stopwords))"
      ]
    },
    {
      "cell_type": "code",
      "execution_count": 39,
      "metadata": {},
      "outputs": [],
      "source": [
        "tokens_without_stop_and_punct = [w for w in pyvi_punctuations_filtered if w.lower() not in stopwords]"
      ]
    },
    {
      "cell_type": "markdown",
      "metadata": {},
      "source": [
        "## Kiểm tra lại kết quả"
      ]
    },
    {
      "cell_type": "code",
      "execution_count": 38,
      "metadata": {},
      "outputs": [
        {
          "name": "stdout",
          "output_type": "stream",
          "text": [
            "906347 ['ngày', '13.9', 'chi_cục', 'kiểm_lâm', 'tp', '.', 'hcm', 'cho', 'biết', 'vừa', 'phối_hợp', 'khu', 'bảo_tồn', 'thiên_nhiên', 'văn_hóa', 'đồng_nai', 'tỉnh', 'đồng', 'nai', 'thả']\n",
            "864927 ['ngày', '13.9', 'chi_cục', 'kiểm_lâm', 'tp', 'hcm', 'cho', 'biết', 'vừa', 'phối_hợp', 'khu', 'bảo_tồn', 'thiên_nhiên', 'văn_hóa', 'đồng_nai', 'tỉnh', 'đồng', 'nai', 'thả', '10']\n",
            "514079 ['13.9', 'chi_cục', 'kiểm_lâm', 'tp', 'hcm', 'phối_hợp', 'khu', 'bảo_tồn', 'thiên_nhiên', 'văn_hóa', 'đồng_nai', 'tỉnh', 'đồng', 'nai', 'thả', '10', 'loài', '27', 'cá_thể', 'động_vật']\n"
          ]
        }
      ],
      "source": [
        "print(len(pyvi_tokens), pyvi_tokens[:20])\n",
        "print(len(pyvi_punctuations_filtered), pyvi_punctuations_filtered[:20])\n",
        "print(len(tokens_without_stop_and_punct), tokens_without_stop_and_punct[:20])"
      ]
    }
  ],
  "metadata": {
    "colab": {
      "provenance": [],
      "toc_visible": true
    },
    "kernelspec": {
      "display_name": "Python 3",
      "name": "python3"
    },
    "language_info": {
      "codemirror_mode": {
        "name": "ipython",
        "version": 3
      },
      "file_extension": ".py",
      "mimetype": "text/x-python",
      "name": "python",
      "nbconvert_exporter": "python",
      "pygments_lexer": "ipython3",
      "version": "3.11.9"
    }
  },
  "nbformat": 4,
  "nbformat_minor": 0
}
