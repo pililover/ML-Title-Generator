{
  "cells": [
    {
      "cell_type": "markdown",
      "metadata": {
        "id": "op4zLXj_p6xz"
      },
      "source": [
        "# **Thư viện**"
      ]
    },
    {
      "cell_type": "code",
      "execution_count": 1,
      "metadata": {
        "id": "i98lKObpqFNk"
      },
      "outputs": [],
      "source": [
        "import pandas as pd\n",
        "import numpy as np\n",
        "import re\n",
        "\n",
        "import matplotlib.pyplot as plt\n",
        "\n",
        "from sklearn.feature_extraction.text import TfidfVectorizer\n",
        "from sklearn.cluster import MiniBatchKMeans\n",
        "from sklearn.model_selection import train_test_split"
      ]
    },
    {
      "cell_type": "markdown",
      "metadata": {
        "id": "xm_jjcE3p_lG"
      },
      "source": [
        "## **Drive**"
      ]
    },
    {
      "cell_type": "markdown",
      "metadata": {
        "id": "6JzQz-HQqQuj"
      },
      "source": [
        "# **Đọc bộ dữ liệu**"
      ]
    },
    {
      "cell_type": "code",
      "execution_count": null,
      "metadata": {
        "colab": {
          "base_uri": "https://localhost:8080/",
          "height": 206
        },
        "id": "Znop4bSRqWCQ",
        "outputId": "ac1c013d-4cd4-422c-d48f-bd82511c3288"
      },
      "outputs": [
        {
          "data": {
            "application/vnd.google.colaboratory.intrinsic+json": {
              "summary": "{\n  \"name\": \"raw_df\",\n  \"rows\": 66361,\n  \"fields\": [\n    {\n      \"column\": \"content\",\n      \"properties\": {\n        \"dtype\": \"string\",\n        \"num_unique_values\": 66052,\n        \"samples\": [\n          \"\\u1ea2nh minh h\\u1ecda. Ngu\\u1ed3n internet.\\nCh\\u1ed3ng t\\u00f4i l\\u00e0 ng\\u01b0\\u1eddi \\u0111\\u00e0n \\u00f4ng t\\u1ed1t v\\u00e0 c\\u00f3 tr\\u00e1ch nhi\\u1ec7m. H\\u00e0ng th\\u00e1ng anh \\u0111\\u1ec1u \\u0111\\u01b0a ti\\u1ec1n \\u0111\\u1ec3 t\\u00f4i lo c\\u00e1c c\\u00f4ng vi\\u1ec7c gia \\u0111\\u00ecnh, anh ch\\u1ec9 \\u0111\\u1ec3 m\\u1ed9t kho\\u1ea3n ti\\u1ec1n nh\\u1ecf \\u0111\\u1ec3 x\\u0103ng xe \\u0103n s\\u00e1ng. Nh\\u1eefng ng\\u00e0y l\\u1ec5 t\\u1ebft anh \\u0111\\u1ec1u t\\u1eb7ng qu\\u00e0 hoa cho t\\u00f4i \\u0111\\u1ea7y \\u0111\\u1ee7, anh c\\u0169ng r\\u1ea5t c\\u00f3 tr\\u00e1ch nhi\\u1ec7m v\\u1edbi hai b\\u00ean n\\u1ed9i ngo\\u1ea1i v\\u00e0 y\\u00eau con.\\nV\\u1ee3 ch\\u1ed3ng t\\u00f4i tuy \\u00edt chia s\\u1ebb v\\u1edbi nhau nh\\u01b0ng c\\u0169ng kh\\u00f4ng x\\u1ea3y ra nhi\\u1ec1u m\\u00e2u thu\\u1eabn trong gia \\u0111\\u00ecnh. N\\u00f3i th\\u1eadt l\\u00e0 t\\u00f4i kh\\u00f4ng ph\\u1ea3i l\\u00e0 ng\\u01b0\\u1eddi c\\u00f3 nhu c\\u1ea7u cao v\\u1ec1 chuy\\u1ec7n t\\u00ecnh d\\u1ee5c. Th\\u1eadm ch\\u00ed t\\u1eeb sau th\\u1eddi \\u0111i\\u1ec3m sinh con, chuy\\u1ec7n \\u1ea5y h\\u1ea7u nh\\u01b0 t\\u00f4i ch\\u1ec9 \\u0111\\u00e1p \\u1ee9ng cho c\\u00f3 c\\u00f2n kh\\u00f4ng c\\u1ea3m th\\u1ea5y c\\u00f3 kho\\u00e1i c\\u1ea3m t\\u00ecnh d\\u1ee5c. Ch\\u1ed3ng t\\u00f4i ban \\u0111\\u1ea7u anh c\\u0169ng \\u0111\\u00f2i h\\u1ecfi nh\\u01b0ng c\\u00f3 l\\u1ebd th\\u1ea5y t\\u00f4i kh\\u00f4ng nhi\\u1ec7t t\\u00ecnh n\\u00ean d\\u1ea7n d\\u1ea7n c\\u0169ng th\\u01b0a th\\u1edbt v\\u1ec1 t\\u1ea7n su\\u1ea5t ch\\u0103n g\\u1ed1i.\\nAnh l\\u00e0m thi\\u1ebft k\\u1ebf x\\u00e2y d\\u1ef1ng n\\u00ean c\\u00f4ng vi\\u1ec7c c\\u0169ng b\\u1eadn, nhi\\u1ec1u h\\u00f4m c\\u00f2n mang c\\u1ea3 b\\u1ea3n v\\u1ebd v\\u1ec1 nh\\u00e0 \\u0111\\u1ec3 l\\u00e0m th\\u00eam. C\\u00f3 h\\u00f4m t\\u00f4i v\\u00e0 con ng\\u1ee7 ph\\u00f2ng ri\\u00eang c\\u00f2n anh l\\u00e0m vi\\u1ec7c r\\u1ed3i anh ng\\u1ee7 lu\\u00f4n \\u1edf \\u0111\\u00f3.\\nNh\\u01b0ng t\\u00f4i m\\u1edbi ph\\u00e1t hi\\u1ec7n ra s\\u1ef1 th\\u1eadt khi\\u1ebfn t\\u00f4i ch\\u1ebft l\\u1eb7ng. Khi v\\u00f4 t\\u00ecnh m\\u1edf m\\u00e1y t\\u00ednh c\\u1ee7a anh, t\\u00f4i th\\u1ea5y anh th\\u01b0\\u1eddng xuy\\u00ean v\\u00e0o c\\u00e1c trang web \\u0111en, c\\u1ea3 trang web d\\u00e0nh cho ng\\u01b0\\u1eddi \\u0111\\u1ed3ng t\\u00ednh. C\\u00f3 r\\u1ea5t nhi\\u1ec1u \\u0111o\\u1ea1n chat anh tr\\u00f2 chuy\\u1ec7n v\\u1edbi c\\u1ea3 v\\u1edbi \\u0111\\u00e0n \\u00f4ng v\\u00e0 m\\u1ea5y c\\u00f4 g\\u00e1i n\\u00f3i v\\u1ec1 t\\u00ecnh d\\u1ee5c. Th\\u1eadm ch\\u00ed h\\u1ecd \\u0111\\u00e3 h\\u1eb9n nhau ngo\\u00e0i \\u0111\\u1eddi v\\u00e0 \\u0111\\u00e3 c\\u00f3 quan h\\u1ec7 v\\u1edbi nhau.\\nT\\u00f4i v\\u00f4 c\\u00f9ng \\u0111au kh\\u1ed5 khi th\\u1ea5y ch\\u1ed3ng m\\u00ecnh l\\u1ea1i l\\u00e0 ng\\u01b0\\u1eddi nh\\u01b0 v\\u1eady. Anh kh\\u00f4ng nh\\u1eefng ph\\u1ea3n b\\u1ed9i t\\u00f4i m\\u00e0 anh c\\u00f2n l\\u00e0m t\\u00f4i \\u0111au \\u0111\\u1edbn khi t\\u00ecm c\\u1ea3 nh\\u1eefng ng\\u01b0\\u1eddi t\\u00ecnh nam gi\\u1edbi \\u0111\\u1ec3 th\\u1ecfa m\\u00e3n nhu c\\u1ea7u t\\u00ecnh d\\u1ee5c c\\u1ee7a m\\u00ecnh.\\nT\\u1ea1i sao anh \\u1ea5y v\\u1eabn c\\u00f3 quan h\\u1ec7 v\\u1edbi t\\u00f4i m\\u00e0 l\\u1ea1i l\\u00e0 \\u0111\\u1ed3ng t\\u00ednh? T\\u00f4i ch\\u01b0a c\\u00f3 ph\\u1ea3n \\u1ee9ng g\\u00ec nh\\u01b0ng m\\u1ea5y h\\u00f4m nay t\\u00f4i kh\\u00f4ng \\u0103n kh\\u00f4ng ng\\u1ee7 \\u0111\\u01b0\\u1ee3c. B\\u00e2y gi\\u1edd t\\u00f4i ph\\u1ea3i x\\u1eed l\\u00fd chuy\\u1ec7n n\\u00e0y ra sao? (Ho\\u00e0i).\\n\\u1ea2nh minh h\\u1ecda. Ngu\\u1ed3n internet.\\nChia s\\u1ebb v\\u1edbi n\\u1ed7i lo l\\u1eafng c\\u1ee7a \\u0111\\u1ed9c gi\\u1ea3 Ho\\u00e0i, chuy\\u00ean vi\\u00ean t\\u01b0 v\\u1ea5n Nguy\\u1ec5n Minh Anh cho r\\u1eb1n g: L\\u00fac n\\u00e0y c\\u00f3 th\\u1ec3 ch\\u1ecb \\u0111ang b\\u1ecb s\\u1ed1c, ph\\u1ea7n v\\u00ec anh \\u1ea5y truy c\\u1eadp v\\u00e0o nh\\u1eefng trang web kh\\u00f4ng l\\u00e0nh m\\u1ea1nh, ph\\u1ea7n v\\u00ec anh \\u1ea5y l\\u1ea1i chat v\\u00e0 quan h\\u1ec7 v\\u1edbi nh\\u1eefng ng\\u01b0\\u1eddi nam v\\u00e0 n\\u1eef tr\\u00ean m\\u1ea1ng. Nh\\u01b0ng ch\\u1ecb c\\u1ea7n b\\u00ecnh t\\u0129nh xem x\\u00e9t l\\u1ea1i v\\u1ea5n \\u0111\\u1ec1 \\u0111\\u1ec3 c\\u00f3 quy\\u1ebft \\u0111\\u1ecbnh \\u0111\\u00fang.\\nTr\\u01b0\\u1eddng h\\u1ee3p nh\\u01b0 c\\u1ee7a ch\\u1ed3ng ch\\u1ecb ch\\u01b0a n\\u00f3i r\\u1eb1ng anh \\u1ea5y c\\u00f3 ph\\u1ea3i l\\u00e0 ng\\u01b0\\u1eddi \\u0111\\u1ed3ng t\\u00ednh hay kh\\u00f4ng, nh\\u1eefng g\\u00ec anh \\u1ea5y \\u0111ang th\\u1ec3 hi\\u1ec7n ch\\u1ec9 l\\u00e0 quan t\\u00e2m \\u0111\\u1ebfn h\\u00e0nh vi t\\u00ecnh d\\u1ee5c \\u0111\\u1ed3ng gi\\u1edbi v\\u00e0 c\\u1ea3 kh\\u00e1c gi\\u1edbi. H\\u00e0nh vi t\\u00ecnh d\\u1ee5c ho\\u00e0n to\\u00e0n kh\\u00e1c v\\u1edbi b\\u1ea3n d\\u1ea1ng gi\\u1edbi. C\\u00f3 th\\u1ec3 anh \\u1ea5y ch\\u1ec9 mu\\u1ed1n th\\u1ecfa m\\u00e3n s\\u1ef1 t\\u00f2 m\\u00f2 c\\u1ee7a m\\u00ecnh ch\\u1ee9 kh\\u00f4ng h\\u1eb3n v\\u00ec anh \\u1ea5y c\\u00f3 t\\u00ecnh c\\u1ea3m v\\u1edbi ng\\u01b0\\u1eddi \\u0111\\u1ed3ng gi\\u1edbi. Do v\\u1eady, tr\\u01b0\\u1edbc m\\u1eaft ch\\u00fang ta ch\\u01b0a v\\u1ed9i k\\u1ebft lu\\u1eadn v\\u1ec1 v\\u1ea5n \\u0111\\u1ec1 n\\u00e0y \\u0111\\u1ec3 d\\u1eabn \\u0111\\u1ebfn cu\\u1ed9c n\\u00f3i chuy\\u1ec7n gi\\u1eefa c\\u1ea3 hai s\\u1ebd kh\\u00f4ng ch\\u00ednh x\\u00e1c.\\n\\u1ede \\u0111\\u00e2y chuy\\u1ec7n ch\\u0103n g\\u1ed1i gi\\u1eefa hai v\\u1ee3 ch\\u1ed3ng \\u0111ang g\\u1eb7p tr\\u1ee5c tr\\u1eb7c, nh\\u01b0ng ch\\u1ecb l\\u1ea1i xem nh\\u1eb9 v\\u00e0 \\u00edt quan t\\u00e2m \\u0111\\u1ebfn vi\\u1ec7c \\u0111\\u00f3, khi anh \\u1ea5y c\\u00f3 nhu c\\u1ea7u c\\u00f3 th\\u1ec3 vi\\u1ec7c xem phim hay trao \\u0111\\u1ed5i nhau qua chat c\\u0169ng l\\u00e0 c\\u00e1ch m\\u00e0 anh ta cho r\\u1eb1ng n\\u00f3 gi\\u00fap m\\u00ecnh th\\u1ecfa m\\u00e3n chuy\\u1ec7n \\u1ea5y. Nh\\u01b0ng tuy nhi\\u00ean \\u0111\\u00e2y l\\u00e0 c\\u00e1ch th\\u1ecfa m\\u00e3n t\\u00ecnh d\\u1ee5c kh\\u00f4ng an to\\u00e0n c\\u00f3 th\\u1ec3 l\\u00e2y b\\u1ec7nh \\u0111\\u01b0\\u1eddng t\\u00ecnh d\\u1ee5c.\\nL\\u00fac n\\u00e0y ch\\u1ecb c\\u1ea7n t\\u00ecm c\\u00e1ch n\\u00f3i chuy\\u1ec7n \\u0111\\u1ec3 t\\u00ecm hi\\u1ec3u suy ngh\\u0129 c\\u1ee7a anh \\u1ea5y, \\u0111\\u01b0a cho anh \\u1ea5y nh\\u1eefng l\\u1eddi c\\u1ea3nh b\\u00e1o c\\u1ee7a ch\\u1ecb, ngo\\u00e0i ra ch\\u1ecb c\\u0169ng n\\u00ean \\u0111i ki\\u1ec3m tra s\\u1ee9c kh\\u1ecfe \\u0111\\u1ec3 xem n\\u1ed9i ti\\u1ebft t\\u1ed1 c\\u1ee7a m\\u00ecnh c\\u00f3 v\\u1ea5n \\u0111\\u1ec1 g\\u00ec c\\u00f2n kh\\u1eafc ph\\u1ee5c s\\u1edbm. Chuy\\u1ec7n t\\u00ecnh d\\u1ee5c gi\\u1eefa hai v\\u1ee3 ch\\u1ed3ng l\\u00e0 \\u0111i\\u1ec1u v\\u00f4 c\\u00f9ng quan tr\\u1ecdng, n\\u00f3 l\\u00e0 s\\u1ee3i d\\u00e2y g\\u1eafn k\\u1ebft m\\u1ed1i quan h\\u1ec7 v\\u1ee3 ch\\u1ed3ng, do v\\u1eady \\u0111\\u1eebng ch\\u1ee7 quan m\\u00e0 d\\u1eabn t\\u1edbi nh\\u1eefng m\\u00e2u thu\\u1eabn \\u0111\\u00e1ng ti\\u1ebfc, ch\\u1ecb nh\\u00e9!.\\n\",\n          \"H\\u00f4m 3.12, h\\u00e0ng lo\\u1ea1t nh\\u00e2n vi\\u00ean kh\\u00f4ng l\\u01b0u t\\u1ea1i h\\u1ea7u nh\\u01b0 t\\u1ea5t c\\u1ea3 phi tr\\u01b0\\u1eddng trong n\\u01b0\\u1edbc \\u0111\\u1ec1u c\\u00e1o b\\u1ec7nh ho\\u1eb7c \\u0111\\u1ebfn s\\u00e2n bay nh\\u01b0ng kh\\u00f4ng l\\u00e0m vi\\u1ec7c nh\\u1eb1m ph\\u1ea3n \\u0111\\u1ed1i gi\\u1edd gi\\u1ea5c, \\u0111i\\u1ec1u ki\\u1ec7n l\\u00e0m vi\\u1ec7c v\\u00e0 c\\u00e1c bi\\u1ec7n ph\\u00e1p c\\u1eaft gi\\u1ea3m ph\\u00fac l\\u1ee3i c\\u1ee7a ch\\u00ednh ph\\u1ee7. T\\u1eeb t\\u1ed1i 3.12 \\u0111\\u1ebfn s\\u00e1ng qua, ch\\u00ednh ph\\u1ee7 ph\\u1ea3i huy \\u0111\\u1ed9ng qu\\u00e2n \\u0111\\u1ed9i v\\u00e0o thay th\\u1ebf \\u0111i\\u1ec1u khi\\u1ec3n c\\u00e1c chuy\\u1ebfn bay nh\\u01b0ng v\\u1eabn kh\\u00f4ng xu\\u1ec3. Nh\\u00e0 ch\\u1ee9c tr\\u00e1ch \\u01b0\\u1edbc t\\u00ednh cu\\u1ed9c \\u0111\\u00ecnh c\\u00f4ng \\u1ea3nh h\\u01b0\\u1edfng h\\u01a1n 250.000 h\\u00e0nh kh\\u00e1ch. \\u0110\\u1ebfn t\\u1ed1i qua, nhi\\u1ec1u ng\\u01b0\\u1eddi v\\u1eabn c\\u00f2n ph\\u1ea3i v\\u1ea1 v\\u1eadt t\\u1ea1i c\\u00e1c s\\u00e2n bay \\u1edf th\\u1ee7 \\u0111\\u00f4 Madrid, Majorca, Ibiza v\\u00e0 nhi\\u1ec1u n\\u01a1i kh\\u00e1c. Ch\\u1ec9 c\\u00f3 c\\u00e1c phi tr\\u01b0\\u1eddng \\u1edf Barcelona v\\u00e0 v\\u00f9ng Andalucia l\\u00e0 c\\u00f2n ho\\u1ea1t \\u0111\\u1ed9ng c\\u1ea7m ch\\u1eebng. Cu\\u1ed9c \\u0111\\u00ecnh c\\u00f4ng x\\u1ea3y ra ngay l\\u00fac giao th\\u00f4ng cao \\u0111i\\u1ec3m c\\u1ee7a h\\u00e0ng kh\\u00f4ng T\\u00e2y Ban Nha v\\u00ec tu\\u1ea7n sau c\\u00f3 nhi\\u1ec1u ng\\u00e0y ngh\\u1ec9 v\\u00e0 nhi\\u1ec1u ng\\u01b0\\u1eddi \\u0111ang mu\\u1ed1n v\\u1ec1 nh\\u00e0 ho\\u1eb7c \\u0111i ch\\u01a1i. S\\u1ef1 h\\u1ed7n lo\\u1ea1n bu\\u1ed9c ch\\u00ednh quy\\u1ec1n Madrid tuy\\u00ean b\\u1ed1 t\\u00ecnh tr\\u1ea1ng b\\u00e1o \\u0111\\u1ed9ng, l\\u1ea7n \\u0111\\u1ea7u ti\\u00ean k\\u1ec3 t\\u1eeb \\u0111i\\u1ec1u lu\\u1eadt v\\u1ec1 t\\u00ecnh tr\\u1ea1ng n\\u00e0y \\u0111\\u01b0\\u1ee3c th\\u00f4ng qua n\\u0103m 1978. \\u0110\\u1ebfn t\\u1ed1i qua, Reuters d\\u1eabn l\\u1eddi gi\\u1edbi ch\\u1ee9c T\\u00e2y Ban Nha cho hay c\\u00e1c nh\\u00e2n vi\\u00ean kh\\u00f4ng l\\u01b0u b\\u1eaft \\u0111\\u1ea7u \\u0111i l\\u00e0m tr\\u1edf l\\u1ea1i v\\u00e0 kh\\u00f4ng ph\\u1eadn \\u0111\\u00e3 m\\u1edf l\\u1ea1i. Khi \\u0111\\u00f3, B\\u1ed9 tr\\u01b0\\u1edfng Giao th\\u00f4ng Jose Blanco cho r\\u1eb1ng c\\u00e1c ho\\u1ea1t \\u0111\\u1ed9ng h\\u00e0ng kh\\u00f4ng s\\u1ebd tr\\u1edf l\\u1ea1i b\\u00ecnh th\\u01b0\\u1eddng trong v\\u00f2ng 48 gi\\u1edd. L\\u00ea Loan.\\n\",\n          \"Vi\\u1ec7c T\\u1ed5ng th\\u1ed1ng M\\u1ef9 Donald Trum k\\u00fd th\\u00f4ng qua lu\\u1eadt tr\\u1eebng ph\\u1ea1t m\\u1edbi nh\\u1eb1m v\\u00e0o Nga \\u0111\\u00e3 g\\u00e2y ra nhi\\u1ec1u h\\u1eadu qu\\u1ea3: \\u0111\\u1ea7u ti\\u00ean, hy v\\u1ecdng c\\u1ea3i thi\\u1ec7n quan h\\u1ec7 c\\u1ee7a ch\\u00fang t\\u00f4i v\\u1edbi ch\\u00ednh quy\\u1ec1n m\\u1edbi c\\u1ee7a M\\u1ef9 \\u0111\\u00e3 d\\u1eadp t\\u1eaft. Th\\u1ee9 hai, M\\u1ef9 \\u0111\\u00e3 tuy\\u00ean b\\u1ed1 m\\u1ed9t cu\\u1ed9c chi\\u1ebfn tranh th\\u01b0\\u01a1ng m\\u1ea1i to\\u00e0n di\\u1ec7n v\\u1edbi Nga. Th\\u1ee9 ba, ch\\u00ednh quy\\u1ec1n T\\u1ed5ng th\\u1ed1ng Trump \\u0111\\u00e3 ch\\u1ee9ng t\\u1ecf s\\u1ef1 b\\u1ea5t l\\u1ef1c ho\\u00e0n to\\u00e0n khi chuy\\u1ec3n giao quy\\u1ec1n h\\u00e0nh ph\\u00e1p cho Qu\\u1ed1c h\\u1ed9i v\\u1ed1n thay \\u0111\\u1ed5i c\\u00e1n c\\u00e2n quy\\u1ec1n l\\u1ef1c trong gi\\u1edbi ch\\u00ednh tr\\u1ecb c\\u1ee7a M\\u1ef9 theo c\\u00e1ch nh\\u1ee5c nh\\u00e3 nh\\u1ea5t - Th\\u1ee7 t\\u01b0\\u1edbng Medvedev vi\\u1ebft tr\\u00ean Facebook h\\u00f4m 2-8, theo Sputnik.\\nTh\\u1ee7 t\\u01b0\\u1edbng Nga Dmitry Medvedev. \\u1ea2nh: SPUTNIK.\\n\\u00d4ng Medvedev d\\u1ef1 b\\u00e1o r\\u1eb1ng l\\u1ec7nh tr\\u1eebng ph\\u1ea1t n\\u00e0y s\\u1ebd \\u0111\\u01b0\\u1ee3c M\\u1ef9 duy tr\\u00ec trong v\\u00e0i th\\u1eadp ni\\u00ean, v\\u00ec th\\u1ebf c\\u00e0ng khi\\u1ebfn Moscow v\\u00e0 Washington r\\u01a1i v\\u00e0o t\\u00ecnh tr\\u1ea1ng c\\u0103ng th\\u1eb3ng. \\u00d4ng nh\\u1ea5n m\\u1ea1nh r\\u1eb1ng gi\\u1edbi tinh hoa ch\\u00ednh tr\\u1ecb M\\u1ef9 \\u0111\\u00e3 kh\\u00f4ng quan t\\u00e2m t\\u1edbi c\\u00e1ch ti\\u1ebfp c\\u1eadn th\\u1ef1c t\\u1ebf c\\u1ee7a T\\u1ed5ng th\\u1ed1ng Trump hay l\\u1ee3i \\u00edch c\\u1ee7a nh\\u1eefng c\\u00f4ng ty \\u0111a qu\\u1ed1c gia c\\u1ee7a M\\u1ef9 khi h\\u1ecd \\u0111\\u1ec1u l\\u00ean ti\\u1ebfng ph\\u1ea3n \\u0111\\u1ed1i l\\u1ec7nh tr\\u1eebng ph\\u1ea1t.\\nTh\\u1ee7 t\\u01b0\\u1edbng Medvedev kh\\u1eb3ng \\u0111\\u1ecbnh Nga, v\\u1ed1n \\u0111\\u00e3 b\\u1ecb M\\u1ef9 tr\\u1eebng ph\\u1ea1t trong nhi\\u1ec1u th\\u1eadp k\\u1ef7, s\\u1ebd \\u0111\\u01b0\\u01a1ng \\u0111\\u1ea7u v\\u1edbi c\\u00e1c bi\\u1ec7n ph\\u00e1p tr\\u1eebng ph\\u1ea1t m\\u1edbi v\\u00e0 ti\\u1ebfp t\\u1ee5c t\\u1eadp trung ph\\u00e1t tri\\u1ec3n l\\u0129nh v\\u1ef1c kinh t\\u1ebf v\\u00e0 x\\u00e3 h\\u1ed9i, theo RT.\\nS\\u00e1ng 2-8 (gi\\u1edd M\\u1ef9), T\\u1ed5ng th\\u1ed1ng Donald Trump \\u0111\\u00e3 k\\u00fd ban h\\u00e0nh l\\u1ec7nh tr\\u1eebng ph\\u1ea1t m\\u1edbi nh\\u1eb1m v\\u00e0o Nga, Iran v\\u00e0 Tri\\u1ec1u Ti\\u00ean. \\u00d4ng Trump k\\u00fd nh\\u01b0ng kh\\u00f4ng l\\u00e0m l\\u1ec5 k\\u00fd ch\\u00ednh th\\u1ee9c.\\nNG\\u1eccC NH\\u01af.\\n\"\n        ],\n        \"semantic_type\": \"\",\n        \"description\": \"\"\n      }\n    },\n    {\n      \"column\": \"summary\",\n      \"properties\": {\n        \"dtype\": \"string\",\n        \"num_unique_values\": 65243,\n        \"samples\": [\n          \"T\\u1ed5ng th\\u1ed1ng M\\u1ef9 Donald Trump \\u0111\\u00e3 tuy\\u00ean b\\u1ed1 Jerusalem l\\u00e0 th\\u1ee7 \\u0111\\u00f4 c\\u1ee7a Israel v\\u00e0 chuy\\u1ec3n \\u0110\\u1ea1i s\\u1ee9 qu\\u00e1n M\\u1ef9 t\\u1edbi th\\u00e0nh ph\\u1ed1 n\\u00e0y. Quy\\u1ebft \\u0111\\u1ecbnh n\\u00e0y \\u0111\\u00e3 g\\u00e2y ph\\u1ea3n \\u1ee9ng tr\\u00e1i chi\\u1ec1u t\\u1eeb c\\u00e1c n\\u01b0\\u1edbc tr\\u00ean th\\u1ebf gi\\u1edbi, nh\\u1ea5n m\\u1ea1nh s\\u1ef1 thay \\u0111\\u1ed5i ch\\u00ednh s\\u00e1ch \\u0111\\u00e3 t\\u1ed3n t\\u1ea1i h\\u00e0ng th\\u1eadp k\\u1ef7 c\\u1ee7a M\\u1ef9.\",\n          \"Gia \\u0111\\u00ecnh n\\u1ea1n nh\\u00e2n ch\\u1ecb Thi v\\u00e0 anh B\\u00f9i Thanh Th\\u00e1i \\u0111\\u00e3 \\u0111\\u01b0a ra \\u0111\\u01a1n t\\u1ed1 c\\u00e1o v\\u1edbi C\\u00f4ng an x\\u00e3 B\\u00ecnh Trung v\\u1ec1 vi\\u1ec7c Nguy\\u1ec5n V\\u0103n Ph\\u1eadn c\\u00f3 h\\u00e0nh vi d\\u00e2m \\u00f4 v\\u1edbi con g\\u00e1i ch\\u1ecb Thi, ch\\u00e1u Trinh. Sau \\u0111\\u00f3, C\\u00f4ng an huy\\u1ec7n Th\\u0103ng B\\u00ecnh \\u0111\\u00e3 m\\u1eddi ch\\u1ecb Thi, ch\\u00e1u Trinh v\\u00e0 Ph\\u1eadn l\\u00ean C\\u00f4ng an x\\u00e3 B\\u00ecnh Trung l\\u00e0m vi\\u1ec7c v\\u00e0 ghi nh\\u1eadn l\\u1eddi khai. K\\u1ebft qu\\u1ea3 gi\\u00e1m \\u0111\\u1ecbnh c\\u1ee7a Khoa s\\u1ea3n B\\u1ec7nh vi\\u1ec7n \\u0110a khoa Qu\\u1ea3ng Nam cho th\\u1ea5y ch\\u00e1u Trinh b\\u1ecb s\\u01b0ng v\\u00f9ng trong \\u00e2m h\\u1ed9, tr\\u1ea7y x\\u01b0\\u1edbc v\\u00f9ng ngo\\u00e0i \\u00e2m h\\u1ed9, x\\u01b0ng c\\u00e1c b\\u00ean ngo\\u00e0i \\u00e2m h\\u1ed9 v\\u00e0 r\\u00e1ch m\\u00e9p ngo\\u00e0i b\\u00ean ph\\u1ea3i \\u00e2m h\\u1ed9. C\\u00f4ng an huy\\u1ec7n Th\\u0103ng B\\u00ecnh \\u0111\\u00e3 m\\u1eddi Nguy\\u1ec5n V\\u0103n Ph\\u1eadn l\\u00ean C\\u00f4ng an huy\\u1ec7n \\u0111\\u1ec3 ph\\u1ee5c v\\u1ee5 cho c\\u00f4ng t\\u00e1c \\u0111i\\u1ec1u tra v\\u00e0 l\\u1ea5y l\\u1eddi khai. Hi\\u1ec7n nay, Nguy\\u1ec5n V\\u0103n Ph\\u1eadn \\u0111\\u00e3 \\u0111\\u01b0\\u1ee3c cho v\\u1ec1 nh\\u00e0. C\\u00f4ng an huy\\u1ec7n Th\\u0103ng B\\u00ecnh c\\u0169ng \\u0111\\u00e3 g\\u1eedi gi\\u1ea5y m\\u1eddi v\\u1ee3 ch\\u1ed3ng anh B\\u00f9i Thanh Th\\u00e1i  Tr\\u01b0\\u01a1ng Th\\u1ecb Thi l\\u00ean l\\u00e0m vi\\u1ec7c v\\u00e0o l\\u00fac 14h ng\\u00e0y mai.\",\n          \"Th\\u1ee7 t\\u01b0\\u1edbng Israel Benjamin Netanyahu v\\u00e0 \\u0110\\u1ea1i s\\u1ee9 Israel t\\u1ea1i Li\\u00ean h\\u1ee3p qu\\u1ed1c Danny Danon \\u0111\\u00e3 c\\u00e1o bu\\u1ed9c T\\u1ed5ng th\\u1ed1ng Palestine Mahmoud Abbas v\\u1ec1 vi\\u1ec7c t\\u1eeb ch\\u1ed1i \\u0111\\u00e0m ph\\u00e1n h\\u00f2a b\\u00ecnh tr\\u1ef1c ti\\u1ebfp v\\u1edbi Israel v\\u00e0 k\\u00eau g\\u1ecdi t\\u1ed5 ch\\u1ee9c m\\u1ed9t h\\u1ed9i ngh\\u1ecb qu\\u1ed1c t\\u1ebf \\u0111\\u1ec3 kh\\u1edfi \\u0111\\u1ed9ng m\\u1ed9t n\\u1ed7 l\\u1ef1c h\\u00f2a b\\u00ecnh r\\u1ed9ng l\\u1edbn h\\u01a1n. \\u00d4ng Danon n\\u00eau r\\u00f5 r\\u1eb1ng \\u0111\\u00e0m ph\\u00e1n tr\\u1ef1c ti\\u1ebfp gi\\u1eefa Israel v\\u00e0 Palestine l\\u00e0 c\\u00e1ch duy nh\\u1ea5t \\u0111\\u1ec3 \\u0111\\u1ea1t \\u0111\\u01b0\\u1ee3c ti\\u1ebfn tri\\u1ec3n.\"\n        ],\n        \"semantic_type\": \"\",\n        \"description\": \"\"\n      }\n    }\n  ]\n}",
              "type": "dataframe",
              "variable_name": "raw_df"
            },
            "text/html": [
              "\n",
              "  <div id=\"df-757ed266-6e2d-4408-8475-62245aaf0fb3\" class=\"colab-df-container\">\n",
              "    <div>\n",
              "<style scoped>\n",
              "    .dataframe tbody tr th:only-of-type {\n",
              "        vertical-align: middle;\n",
              "    }\n",
              "\n",
              "    .dataframe tbody tr th {\n",
              "        vertical-align: top;\n",
              "    }\n",
              "\n",
              "    .dataframe thead th {\n",
              "        text-align: right;\n",
              "    }\n",
              "</style>\n",
              "<table border=\"1\" class=\"dataframe\">\n",
              "  <thead>\n",
              "    <tr style=\"text-align: right;\">\n",
              "      <th></th>\n",
              "      <th>content</th>\n",
              "      <th>summary</th>\n",
              "    </tr>\n",
              "  </thead>\n",
              "  <tbody>\n",
              "    <tr>\n",
              "      <th>0</th>\n",
              "      <td>Thủ tướng Nguyễn Xuân Phúc và Bộ trưởng Ngoại ...</td>\n",
              "      <td>Thủ tướng Nguyễn Xuân Phúc và Bộ trưởng Ngoại ...</td>\n",
              "    </tr>\n",
              "    <tr>\n",
              "      <th>1</th>\n",
              "      <td>Suốt bao năm, để dòng tranh này không bị rơi v...</td>\n",
              "      <td>Ông Đạt Trần Thành là một trong những nghệ nhâ...</td>\n",
              "    </tr>\n",
              "    <tr>\n",
              "      <th>2</th>\n",
              "      <td>Khách qua phà mê mải ngắm sông như muốn quên đ...</td>\n",
              "      <td>Những người thường ra bờ sông Sài Gòn để hóng ...</td>\n",
              "    </tr>\n",
              "    <tr>\n",
              "      <th>3</th>\n",
              "      <td>Trong thông báo gửi cổ đông ngày 22/4, CTCP Nh...</td>\n",
              "      <td>CTCP Nhiệt điện Phả Lại (PPC) và CTCP Nhiệt đi...</td>\n",
              "    </tr>\n",
              "    <tr>\n",
              "      <th>4</th>\n",
              "      <td>Theo Al Masdar News dẫn nguồn tin sáng 25/8 ch...</td>\n",
              "      <td>Quân đội Syria và Lực lượng Phòng vệ Quốc gia ...</td>\n",
              "    </tr>\n",
              "  </tbody>\n",
              "</table>\n",
              "</div>\n",
              "    <div class=\"colab-df-buttons\">\n",
              "\n",
              "  <div class=\"colab-df-container\">\n",
              "    <button class=\"colab-df-convert\" onclick=\"convertToInteractive('df-757ed266-6e2d-4408-8475-62245aaf0fb3')\"\n",
              "            title=\"Convert this dataframe to an interactive table.\"\n",
              "            style=\"display:none;\">\n",
              "\n",
              "  <svg xmlns=\"http://www.w3.org/2000/svg\" height=\"24px\" viewBox=\"0 -960 960 960\">\n",
              "    <path d=\"M120-120v-720h720v720H120Zm60-500h600v-160H180v160Zm220 220h160v-160H400v160Zm0 220h160v-160H400v160ZM180-400h160v-160H180v160Zm440 0h160v-160H620v160ZM180-180h160v-160H180v160Zm440 0h160v-160H620v160Z\"/>\n",
              "  </svg>\n",
              "    </button>\n",
              "\n",
              "  <style>\n",
              "    .colab-df-container {\n",
              "      display:flex;\n",
              "      gap: 12px;\n",
              "    }\n",
              "\n",
              "    .colab-df-convert {\n",
              "      background-color: #E8F0FE;\n",
              "      border: none;\n",
              "      border-radius: 50%;\n",
              "      cursor: pointer;\n",
              "      display: none;\n",
              "      fill: #1967D2;\n",
              "      height: 32px;\n",
              "      padding: 0 0 0 0;\n",
              "      width: 32px;\n",
              "    }\n",
              "\n",
              "    .colab-df-convert:hover {\n",
              "      background-color: #E2EBFA;\n",
              "      box-shadow: 0px 1px 2px rgba(60, 64, 67, 0.3), 0px 1px 3px 1px rgba(60, 64, 67, 0.15);\n",
              "      fill: #174EA6;\n",
              "    }\n",
              "\n",
              "    .colab-df-buttons div {\n",
              "      margin-bottom: 4px;\n",
              "    }\n",
              "\n",
              "    [theme=dark] .colab-df-convert {\n",
              "      background-color: #3B4455;\n",
              "      fill: #D2E3FC;\n",
              "    }\n",
              "\n",
              "    [theme=dark] .colab-df-convert:hover {\n",
              "      background-color: #434B5C;\n",
              "      box-shadow: 0px 1px 3px 1px rgba(0, 0, 0, 0.15);\n",
              "      filter: drop-shadow(0px 1px 2px rgba(0, 0, 0, 0.3));\n",
              "      fill: #FFFFFF;\n",
              "    }\n",
              "  </style>\n",
              "\n",
              "    <script>\n",
              "      const buttonEl =\n",
              "        document.querySelector('#df-757ed266-6e2d-4408-8475-62245aaf0fb3 button.colab-df-convert');\n",
              "      buttonEl.style.display =\n",
              "        google.colab.kernel.accessAllowed ? 'block' : 'none';\n",
              "\n",
              "      async function convertToInteractive(key) {\n",
              "        const element = document.querySelector('#df-757ed266-6e2d-4408-8475-62245aaf0fb3');\n",
              "        const dataTable =\n",
              "          await google.colab.kernel.invokeFunction('convertToInteractive',\n",
              "                                                    [key], {});\n",
              "        if (!dataTable) return;\n",
              "\n",
              "        const docLinkHtml = 'Like what you see? Visit the ' +\n",
              "          '<a target=\"_blank\" href=https://colab.research.google.com/notebooks/data_table.ipynb>data table notebook</a>'\n",
              "          + ' to learn more about interactive tables.';\n",
              "        element.innerHTML = '';\n",
              "        dataTable['output_type'] = 'display_data';\n",
              "        await google.colab.output.renderOutput(dataTable, element);\n",
              "        const docLink = document.createElement('div');\n",
              "        docLink.innerHTML = docLinkHtml;\n",
              "        element.appendChild(docLink);\n",
              "      }\n",
              "    </script>\n",
              "  </div>\n",
              "\n",
              "\n",
              "    <div id=\"df-542da920-a1ed-4fe4-8ba6-012afcb2ba3e\">\n",
              "      <button class=\"colab-df-quickchart\" onclick=\"quickchart('df-542da920-a1ed-4fe4-8ba6-012afcb2ba3e')\"\n",
              "                title=\"Suggest charts\"\n",
              "                style=\"display:none;\">\n",
              "\n",
              "<svg xmlns=\"http://www.w3.org/2000/svg\" height=\"24px\"viewBox=\"0 0 24 24\"\n",
              "     width=\"24px\">\n",
              "    <g>\n",
              "        <path d=\"M19 3H5c-1.1 0-2 .9-2 2v14c0 1.1.9 2 2 2h14c1.1 0 2-.9 2-2V5c0-1.1-.9-2-2-2zM9 17H7v-7h2v7zm4 0h-2V7h2v10zm4 0h-2v-4h2v4z\"/>\n",
              "    </g>\n",
              "</svg>\n",
              "      </button>\n",
              "\n",
              "<style>\n",
              "  .colab-df-quickchart {\n",
              "      --bg-color: #E8F0FE;\n",
              "      --fill-color: #1967D2;\n",
              "      --hover-bg-color: #E2EBFA;\n",
              "      --hover-fill-color: #174EA6;\n",
              "      --disabled-fill-color: #AAA;\n",
              "      --disabled-bg-color: #DDD;\n",
              "  }\n",
              "\n",
              "  [theme=dark] .colab-df-quickchart {\n",
              "      --bg-color: #3B4455;\n",
              "      --fill-color: #D2E3FC;\n",
              "      --hover-bg-color: #434B5C;\n",
              "      --hover-fill-color: #FFFFFF;\n",
              "      --disabled-bg-color: #3B4455;\n",
              "      --disabled-fill-color: #666;\n",
              "  }\n",
              "\n",
              "  .colab-df-quickchart {\n",
              "    background-color: var(--bg-color);\n",
              "    border: none;\n",
              "    border-radius: 50%;\n",
              "    cursor: pointer;\n",
              "    display: none;\n",
              "    fill: var(--fill-color);\n",
              "    height: 32px;\n",
              "    padding: 0;\n",
              "    width: 32px;\n",
              "  }\n",
              "\n",
              "  .colab-df-quickchart:hover {\n",
              "    background-color: var(--hover-bg-color);\n",
              "    box-shadow: 0 1px 2px rgba(60, 64, 67, 0.3), 0 1px 3px 1px rgba(60, 64, 67, 0.15);\n",
              "    fill: var(--button-hover-fill-color);\n",
              "  }\n",
              "\n",
              "  .colab-df-quickchart-complete:disabled,\n",
              "  .colab-df-quickchart-complete:disabled:hover {\n",
              "    background-color: var(--disabled-bg-color);\n",
              "    fill: var(--disabled-fill-color);\n",
              "    box-shadow: none;\n",
              "  }\n",
              "\n",
              "  .colab-df-spinner {\n",
              "    border: 2px solid var(--fill-color);\n",
              "    border-color: transparent;\n",
              "    border-bottom-color: var(--fill-color);\n",
              "    animation:\n",
              "      spin 1s steps(1) infinite;\n",
              "  }\n",
              "\n",
              "  @keyframes spin {\n",
              "    0% {\n",
              "      border-color: transparent;\n",
              "      border-bottom-color: var(--fill-color);\n",
              "      border-left-color: var(--fill-color);\n",
              "    }\n",
              "    20% {\n",
              "      border-color: transparent;\n",
              "      border-left-color: var(--fill-color);\n",
              "      border-top-color: var(--fill-color);\n",
              "    }\n",
              "    30% {\n",
              "      border-color: transparent;\n",
              "      border-left-color: var(--fill-color);\n",
              "      border-top-color: var(--fill-color);\n",
              "      border-right-color: var(--fill-color);\n",
              "    }\n",
              "    40% {\n",
              "      border-color: transparent;\n",
              "      border-right-color: var(--fill-color);\n",
              "      border-top-color: var(--fill-color);\n",
              "    }\n",
              "    60% {\n",
              "      border-color: transparent;\n",
              "      border-right-color: var(--fill-color);\n",
              "    }\n",
              "    80% {\n",
              "      border-color: transparent;\n",
              "      border-right-color: var(--fill-color);\n",
              "      border-bottom-color: var(--fill-color);\n",
              "    }\n",
              "    90% {\n",
              "      border-color: transparent;\n",
              "      border-bottom-color: var(--fill-color);\n",
              "    }\n",
              "  }\n",
              "</style>\n",
              "\n",
              "      <script>\n",
              "        async function quickchart(key) {\n",
              "          const quickchartButtonEl =\n",
              "            document.querySelector('#' + key + ' button');\n",
              "          quickchartButtonEl.disabled = true;  // To prevent multiple clicks.\n",
              "          quickchartButtonEl.classList.add('colab-df-spinner');\n",
              "          try {\n",
              "            const charts = await google.colab.kernel.invokeFunction(\n",
              "                'suggestCharts', [key], {});\n",
              "          } catch (error) {\n",
              "            console.error('Error during call to suggestCharts:', error);\n",
              "          }\n",
              "          quickchartButtonEl.classList.remove('colab-df-spinner');\n",
              "          quickchartButtonEl.classList.add('colab-df-quickchart-complete');\n",
              "        }\n",
              "        (() => {\n",
              "          let quickchartButtonEl =\n",
              "            document.querySelector('#df-542da920-a1ed-4fe4-8ba6-012afcb2ba3e button');\n",
              "          quickchartButtonEl.style.display =\n",
              "            google.colab.kernel.accessAllowed ? 'block' : 'none';\n",
              "        })();\n",
              "      </script>\n",
              "    </div>\n",
              "\n",
              "    </div>\n",
              "  </div>\n"
            ],
            "text/plain": [
              "                                             content  \\\n",
              "0  Thủ tướng Nguyễn Xuân Phúc và Bộ trưởng Ngoại ...   \n",
              "1  Suốt bao năm, để dòng tranh này không bị rơi v...   \n",
              "2  Khách qua phà mê mải ngắm sông như muốn quên đ...   \n",
              "3  Trong thông báo gửi cổ đông ngày 22/4, CTCP Nh...   \n",
              "4  Theo Al Masdar News dẫn nguồn tin sáng 25/8 ch...   \n",
              "\n",
              "                                             summary  \n",
              "0  Thủ tướng Nguyễn Xuân Phúc và Bộ trưởng Ngoại ...  \n",
              "1  Ông Đạt Trần Thành là một trong những nghệ nhâ...  \n",
              "2  Những người thường ra bờ sông Sài Gòn để hóng ...  \n",
              "3  CTCP Nhiệt điện Phả Lại (PPC) và CTCP Nhiệt đi...  \n",
              "4  Quân đội Syria và Lực lượng Phòng vệ Quốc gia ...  "
            ]
          },
          "execution_count": 3,
          "metadata": {},
          "output_type": "execute_result"
        }
      ],
      "source": [
        "file_path = 'combined.csv'\n",
        "\n",
        "raw_df = pd.read_csv(file_path, encoding='utf-8')\n",
        "raw_df.head()"
      ]
    },
    {
      "cell_type": "markdown",
      "metadata": {
        "id": "dpcboOIarTaZ"
      },
      "source": [
        "# **Tổng quan về bộ dữ liệu**\n",
        "\n",
        "## **Số dòng, số cột:**\n"
      ]
    },
    {
      "cell_type": "code",
      "execution_count": null,
      "metadata": {
        "colab": {
          "base_uri": "https://localhost:8080/"
        },
        "id": "teoHucRvrgUV",
        "outputId": "cd0ece5e-e8ea-4084-f31a-5931b91bbe52"
      },
      "outputs": [
        {
          "data": {
            "text/plain": [
              "(66361, 2)"
            ]
          },
          "execution_count": 4,
          "metadata": {},
          "output_type": "execute_result"
        }
      ],
      "source": [
        "raw_df.shape"
      ]
    },
    {
      "cell_type": "markdown",
      "metadata": {
        "id": "EeaxsL8Qr3bV"
      },
      "source": [
        "# **Dữ liệu thiếu**\n",
        "\n"
      ]
    },
    {
      "cell_type": "code",
      "execution_count": null,
      "metadata": {
        "colab": {
          "base_uri": "https://localhost:8080/",
          "height": 147
        },
        "id": "HAAoDAgWsDm_",
        "outputId": "c37179e4-d1f4-4708-dfa4-6fe4278f47c2"
      },
      "outputs": [
        {
          "data": {
            "text/html": [
              "<div>\n",
              "<style scoped>\n",
              "    .dataframe tbody tr th:only-of-type {\n",
              "        vertical-align: middle;\n",
              "    }\n",
              "\n",
              "    .dataframe tbody tr th {\n",
              "        vertical-align: top;\n",
              "    }\n",
              "\n",
              "    .dataframe thead th {\n",
              "        text-align: right;\n",
              "    }\n",
              "</style>\n",
              "<table border=\"1\" class=\"dataframe\">\n",
              "  <thead>\n",
              "    <tr style=\"text-align: right;\">\n",
              "      <th></th>\n",
              "      <th>0</th>\n",
              "    </tr>\n",
              "  </thead>\n",
              "  <tbody>\n",
              "    <tr>\n",
              "      <th>content</th>\n",
              "      <td>0</td>\n",
              "    </tr>\n",
              "    <tr>\n",
              "      <th>summary</th>\n",
              "      <td>1038</td>\n",
              "    </tr>\n",
              "  </tbody>\n",
              "</table>\n",
              "</div><br><label><b>dtype:</b> int64</label>"
            ],
            "text/plain": [
              "content       0\n",
              "summary    1038\n",
              "dtype: int64"
            ]
          },
          "execution_count": 5,
          "metadata": {},
          "output_type": "execute_result"
        }
      ],
      "source": [
        "raw_df.isna().sum()"
      ]
    },
    {
      "cell_type": "markdown",
      "metadata": {
        "id": "B6jVld6K680z"
      },
      "source": [
        "Bỏ các sample thiếu ở trường `summary`"
      ]
    },
    {
      "cell_type": "code",
      "execution_count": null,
      "metadata": {
        "colab": {
          "base_uri": "https://localhost:8080/",
          "height": 147
        },
        "id": "jbKs9fr1uZOa",
        "outputId": "1abb4917-96f1-408f-a2d9-868b3d5fe1e0"
      },
      "outputs": [
        {
          "data": {
            "text/html": [
              "<div>\n",
              "<style scoped>\n",
              "    .dataframe tbody tr th:only-of-type {\n",
              "        vertical-align: middle;\n",
              "    }\n",
              "\n",
              "    .dataframe tbody tr th {\n",
              "        vertical-align: top;\n",
              "    }\n",
              "\n",
              "    .dataframe thead th {\n",
              "        text-align: right;\n",
              "    }\n",
              "</style>\n",
              "<table border=\"1\" class=\"dataframe\">\n",
              "  <thead>\n",
              "    <tr style=\"text-align: right;\">\n",
              "      <th></th>\n",
              "      <th>0</th>\n",
              "    </tr>\n",
              "  </thead>\n",
              "  <tbody>\n",
              "    <tr>\n",
              "      <th>content</th>\n",
              "      <td>0</td>\n",
              "    </tr>\n",
              "    <tr>\n",
              "      <th>summary</th>\n",
              "      <td>0</td>\n",
              "    </tr>\n",
              "  </tbody>\n",
              "</table>\n",
              "</div><br><label><b>dtype:</b> int64</label>"
            ],
            "text/plain": [
              "content    0\n",
              "summary    0\n",
              "dtype: int64"
            ]
          },
          "execution_count": 6,
          "metadata": {},
          "output_type": "execute_result"
        }
      ],
      "source": [
        "raw_df = raw_df.dropna(subset=['summary'])\n",
        "raw_df.isna().sum()"
      ]
    },
    {
      "cell_type": "markdown",
      "metadata": {
        "id": "IfnD9ZL98MQK"
      },
      "source": [
        "# **Trùng lặp**"
      ]
    },
    {
      "cell_type": "code",
      "execution_count": null,
      "metadata": {
        "colab": {
          "base_uri": "https://localhost:8080/"
        },
        "id": "Qy9admT_8OP2",
        "outputId": "8c9215a7-3b88-4f1c-a72b-7000eceef122"
      },
      "outputs": [
        {
          "data": {
            "text/plain": [
              "np.int64(80)"
            ]
          },
          "execution_count": 10,
          "metadata": {},
          "output_type": "execute_result"
        }
      ],
      "source": [
        "raw_df.duplicated().sum()"
      ]
    },
    {
      "cell_type": "code",
      "execution_count": null,
      "metadata": {
        "colab": {
          "base_uri": "https://localhost:8080/"
        },
        "id": "yCCALT7T8JbV",
        "outputId": "e61cd383-7d45-4925-b3c0-c9a2923a31d8"
      },
      "outputs": [
        {
          "data": {
            "text/plain": [
              "(65243, 2)"
            ]
          },
          "execution_count": 11,
          "metadata": {},
          "output_type": "execute_result"
        }
      ],
      "source": [
        "raw_df.drop_duplicates(inplace=True)\n",
        "raw_df.shape"
      ]
    },
    {
      "cell_type": "markdown",
      "metadata": {
        "id": "soPW7aTx7w91"
      },
      "source": [
        "# **Segmentation**"
      ]
    },
    {
      "cell_type": "code",
      "execution_count": null,
      "metadata": {
        "colab": {
          "base_uri": "https://localhost:8080/"
        },
        "id": "zVQBWdWSogwU",
        "outputId": "3b928dda-8c3f-4c3d-af7d-99011456c6d0"
      },
      "outputs": [
        {
          "name": "stdout",
          "output_type": "stream",
          "text": [
            "Collecting underthesea\n",
            "  Downloading underthesea-6.8.4-py3-none-any.whl.metadata (15 kB)\n",
            "Requirement already satisfied: Click>=6.0 in /usr/local/lib/python3.11/dist-packages (from underthesea) (8.1.8)\n",
            "Collecting python-crfsuite>=0.9.6 (from underthesea)\n",
            "  Downloading python_crfsuite-0.9.11-cp311-cp311-manylinux_2_17_x86_64.manylinux2014_x86_64.whl.metadata (4.3 kB)\n",
            "Requirement already satisfied: nltk in /usr/local/lib/python3.11/dist-packages (from underthesea) (3.9.1)\n",
            "Requirement already satisfied: tqdm in /usr/local/lib/python3.11/dist-packages (from underthesea) (4.67.1)\n",
            "Requirement already satisfied: requests in /usr/local/lib/python3.11/dist-packages (from underthesea) (2.32.3)\n",
            "Requirement already satisfied: joblib in /usr/local/lib/python3.11/dist-packages (from underthesea) (1.4.2)\n",
            "Requirement already satisfied: scikit-learn in /usr/local/lib/python3.11/dist-packages (from underthesea) (1.6.1)\n",
            "Requirement already satisfied: PyYAML in /usr/local/lib/python3.11/dist-packages (from underthesea) (6.0.2)\n",
            "Collecting underthesea-core==1.0.4 (from underthesea)\n",
            "  Downloading underthesea_core-1.0.4-cp311-cp311-manylinux2010_x86_64.whl.metadata (1.7 kB)\n",
            "Requirement already satisfied: regex>=2021.8.3 in /usr/local/lib/python3.11/dist-packages (from nltk->underthesea) (2024.11.6)\n",
            "Requirement already satisfied: charset-normalizer<4,>=2 in /usr/local/lib/python3.11/dist-packages (from requests->underthesea) (3.4.1)\n",
            "Requirement already satisfied: idna<4,>=2.5 in /usr/local/lib/python3.11/dist-packages (from requests->underthesea) (3.10)\n",
            "Requirement already satisfied: urllib3<3,>=1.21.1 in /usr/local/lib/python3.11/dist-packages (from requests->underthesea) (2.3.0)\n",
            "Requirement already satisfied: certifi>=2017.4.17 in /usr/local/lib/python3.11/dist-packages (from requests->underthesea) (2025.1.31)\n",
            "Requirement already satisfied: numpy>=1.19.5 in /usr/local/lib/python3.11/dist-packages (from scikit-learn->underthesea) (2.0.2)\n",
            "Requirement already satisfied: scipy>=1.6.0 in /usr/local/lib/python3.11/dist-packages (from scikit-learn->underthesea) (1.14.1)\n",
            "Requirement already satisfied: threadpoolctl>=3.1.0 in /usr/local/lib/python3.11/dist-packages (from scikit-learn->underthesea) (3.6.0)\n",
            "Downloading underthesea-6.8.4-py3-none-any.whl (20.9 MB)\n",
            "\u001b[2K   \u001b[90m━━━━━━━━━━━━━━━━━━━━━━━━━━━━━━━━━━━━━━━━\u001b[0m \u001b[32m20.9/20.9 MB\u001b[0m \u001b[31m65.0 MB/s\u001b[0m eta \u001b[36m0:00:00\u001b[0m\n",
            "\u001b[?25hDownloading underthesea_core-1.0.4-cp311-cp311-manylinux2010_x86_64.whl (657 kB)\n",
            "\u001b[2K   \u001b[90m━━━━━━━━━━━━━━━━━━━━━━━━━━━━━━━━━━━━━━━━\u001b[0m \u001b[32m657.8/657.8 kB\u001b[0m \u001b[31m36.6 MB/s\u001b[0m eta \u001b[36m0:00:00\u001b[0m\n",
            "\u001b[?25hDownloading python_crfsuite-0.9.11-cp311-cp311-manylinux_2_17_x86_64.manylinux2014_x86_64.whl (1.3 MB)\n",
            "\u001b[2K   \u001b[90m━━━━━━━━━━━━━━━━━━━━━━━━━━━━━━━━━━━━━━━━\u001b[0m \u001b[32m1.3/1.3 MB\u001b[0m \u001b[31m49.9 MB/s\u001b[0m eta \u001b[36m0:00:00\u001b[0m\n",
            "\u001b[?25hInstalling collected packages: underthesea-core, python-crfsuite, underthesea\n",
            "Successfully installed python-crfsuite-0.9.11 underthesea-6.8.4 underthesea-core-1.0.4\n"
          ]
        }
      ],
      "source": [
        "!pip install underthesea"
      ]
    },
    {
      "cell_type": "code",
      "execution_count": null,
      "metadata": {
        "id": "VlG9U11cogwU"
      },
      "outputs": [],
      "source": [
        "from underthesea import word_tokenize\n",
        "\n",
        "def segment_text(text):\n",
        "  return word_tokenize(text, format=\"text\")"
      ]
    },
    {
      "cell_type": "code",
      "execution_count": null,
      "metadata": {
        "id": "-I4QoRyD82zr"
      },
      "outputs": [],
      "source": [
        "raw_df['content'] = raw_df['content'].apply(segment_text)"
      ]
    },
    {
      "cell_type": "code",
      "execution_count": null,
      "metadata": {
        "id": "S-nBhcTfAaRg"
      },
      "outputs": [],
      "source": [
        "raw_df['summary'] = raw_df['summary'].apply(segment_text)"
      ]
    },
    {
      "cell_type": "markdown",
      "metadata": {
        "id": "opBbCbPbogwW"
      },
      "source": [
        "# **Chuẩn hóa giá trị**"
      ]
    },
    {
      "cell_type": "markdown",
      "metadata": {
        "id": "vXWKLQT7ogwW"
      },
      "source": [
        "Chúng ta sẽ xóa các giá trị đặc biệt như: \\n, \\t, \\r ..."
      ]
    },
    {
      "cell_type": "code",
      "execution_count": null,
      "metadata": {
        "id": "2f6-qJqYogwW"
      },
      "outputs": [],
      "source": [
        "raw_df['content'] = raw_df['content'].str.replace(r'[\\n\\t\\r]', ' ', regex=True)\n",
        "raw_df['summary'] = raw_df['summary'].str.replace(r'[\\n\\t\\r]', ' ', regex=True)"
      ]
    },
    {
      "cell_type": "markdown",
      "metadata": {
        "id": "fxzcdNIMVh96"
      },
      "source": [
        "Bỏ một số từ không cần thiết.\n",
        "Ví dụ: ghi chú ảnh ..."
      ]
    },
    {
      "cell_type": "code",
      "execution_count": null,
      "metadata": {
        "id": "qwO-1l5oWNEJ"
      },
      "outputs": [],
      "source": [
        "raw_df['content'] = raw_df['content'].str.replace(r\"\\( Ảnh:.*?\\)\", \"\", regex=True).str.strip()\n",
        "raw_df['summary'] = raw_df['summary'].str.replace(r\"\\( Ảnh:.*?\\)\", \"\", regex=True).str.strip()"
      ]
    },
    {
      "cell_type": "markdown",
      "metadata": {
        "id": "G2IWV-rIWp0u"
      },
      "source": [
        "Phân bố số từ"
      ]
    },
    {
      "cell_type": "code",
      "execution_count": null,
      "metadata": {
        "colab": {
          "base_uri": "https://localhost:8080/",
          "height": 300
        },
        "id": "fxXGWrUMXE6X",
        "outputId": "cd38c5c8-2bc6-4c3f-e65d-b41705077924"
      },
      "outputs": [
        {
          "data": {
            "application/vnd.google.colaboratory.intrinsic+json": {
              "summary": "{\n  \"name\": \"raw_df\",\n  \"rows\": 8,\n  \"fields\": [\n    {\n      \"column\": \"content_num_words\",\n      \"properties\": {\n        \"dtype\": \"number\",\n        \"std\": 22929.49200083831,\n        \"min\": 7.0,\n        \"max\": 65243.0,\n        \"num_unique_values\": 8,\n        \"samples\": [\n          363.10601903652497,\n          323.0,\n          65243.0\n        ],\n        \"semantic_type\": \"\",\n        \"description\": \"\"\n      }\n    },\n    {\n      \"column\": \"summary_num_words\",\n      \"properties\": {\n        \"dtype\": \"number\",\n        \"std\": 23024.298010163806,\n        \"min\": 2.0,\n        \"max\": 65243.0,\n        \"num_unique_values\": 8,\n        \"samples\": [\n          95.01505142314117,\n          89.0,\n          65243.0\n        ],\n        \"semantic_type\": \"\",\n        \"description\": \"\"\n      }\n    }\n  ]\n}",
              "type": "dataframe"
            },
            "text/html": [
              "\n",
              "  <div id=\"df-509127ad-f2b7-4815-a9f4-444c894af7bd\" class=\"colab-df-container\">\n",
              "    <div>\n",
              "<style scoped>\n",
              "    .dataframe tbody tr th:only-of-type {\n",
              "        vertical-align: middle;\n",
              "    }\n",
              "\n",
              "    .dataframe tbody tr th {\n",
              "        vertical-align: top;\n",
              "    }\n",
              "\n",
              "    .dataframe thead th {\n",
              "        text-align: right;\n",
              "    }\n",
              "</style>\n",
              "<table border=\"1\" class=\"dataframe\">\n",
              "  <thead>\n",
              "    <tr style=\"text-align: right;\">\n",
              "      <th></th>\n",
              "      <th>content_num_words</th>\n",
              "      <th>summary_num_words</th>\n",
              "    </tr>\n",
              "  </thead>\n",
              "  <tbody>\n",
              "    <tr>\n",
              "      <th>count</th>\n",
              "      <td>65243.000000</td>\n",
              "      <td>65243.000000</td>\n",
              "    </tr>\n",
              "    <tr>\n",
              "      <th>mean</th>\n",
              "      <td>363.106019</td>\n",
              "      <td>95.015051</td>\n",
              "    </tr>\n",
              "    <tr>\n",
              "      <th>std</th>\n",
              "      <td>197.899105</td>\n",
              "      <td>39.060541</td>\n",
              "    </tr>\n",
              "    <tr>\n",
              "      <th>min</th>\n",
              "      <td>7.000000</td>\n",
              "      <td>2.000000</td>\n",
              "    </tr>\n",
              "    <tr>\n",
              "      <th>25%</th>\n",
              "      <td>207.000000</td>\n",
              "      <td>70.000000</td>\n",
              "    </tr>\n",
              "    <tr>\n",
              "      <th>50%</th>\n",
              "      <td>323.000000</td>\n",
              "      <td>89.000000</td>\n",
              "    </tr>\n",
              "    <tr>\n",
              "      <th>75%</th>\n",
              "      <td>496.000000</td>\n",
              "      <td>113.000000</td>\n",
              "    </tr>\n",
              "    <tr>\n",
              "      <th>max</th>\n",
              "      <td>1179.000000</td>\n",
              "      <td>443.000000</td>\n",
              "    </tr>\n",
              "  </tbody>\n",
              "</table>\n",
              "</div>\n",
              "    <div class=\"colab-df-buttons\">\n",
              "\n",
              "  <div class=\"colab-df-container\">\n",
              "    <button class=\"colab-df-convert\" onclick=\"convertToInteractive('df-509127ad-f2b7-4815-a9f4-444c894af7bd')\"\n",
              "            title=\"Convert this dataframe to an interactive table.\"\n",
              "            style=\"display:none;\">\n",
              "\n",
              "  <svg xmlns=\"http://www.w3.org/2000/svg\" height=\"24px\" viewBox=\"0 -960 960 960\">\n",
              "    <path d=\"M120-120v-720h720v720H120Zm60-500h600v-160H180v160Zm220 220h160v-160H400v160Zm0 220h160v-160H400v160ZM180-400h160v-160H180v160Zm440 0h160v-160H620v160ZM180-180h160v-160H180v160Zm440 0h160v-160H620v160Z\"/>\n",
              "  </svg>\n",
              "    </button>\n",
              "\n",
              "  <style>\n",
              "    .colab-df-container {\n",
              "      display:flex;\n",
              "      gap: 12px;\n",
              "    }\n",
              "\n",
              "    .colab-df-convert {\n",
              "      background-color: #E8F0FE;\n",
              "      border: none;\n",
              "      border-radius: 50%;\n",
              "      cursor: pointer;\n",
              "      display: none;\n",
              "      fill: #1967D2;\n",
              "      height: 32px;\n",
              "      padding: 0 0 0 0;\n",
              "      width: 32px;\n",
              "    }\n",
              "\n",
              "    .colab-df-convert:hover {\n",
              "      background-color: #E2EBFA;\n",
              "      box-shadow: 0px 1px 2px rgba(60, 64, 67, 0.3), 0px 1px 3px 1px rgba(60, 64, 67, 0.15);\n",
              "      fill: #174EA6;\n",
              "    }\n",
              "\n",
              "    .colab-df-buttons div {\n",
              "      margin-bottom: 4px;\n",
              "    }\n",
              "\n",
              "    [theme=dark] .colab-df-convert {\n",
              "      background-color: #3B4455;\n",
              "      fill: #D2E3FC;\n",
              "    }\n",
              "\n",
              "    [theme=dark] .colab-df-convert:hover {\n",
              "      background-color: #434B5C;\n",
              "      box-shadow: 0px 1px 3px 1px rgba(0, 0, 0, 0.15);\n",
              "      filter: drop-shadow(0px 1px 2px rgba(0, 0, 0, 0.3));\n",
              "      fill: #FFFFFF;\n",
              "    }\n",
              "  </style>\n",
              "\n",
              "    <script>\n",
              "      const buttonEl =\n",
              "        document.querySelector('#df-509127ad-f2b7-4815-a9f4-444c894af7bd button.colab-df-convert');\n",
              "      buttonEl.style.display =\n",
              "        google.colab.kernel.accessAllowed ? 'block' : 'none';\n",
              "\n",
              "      async function convertToInteractive(key) {\n",
              "        const element = document.querySelector('#df-509127ad-f2b7-4815-a9f4-444c894af7bd');\n",
              "        const dataTable =\n",
              "          await google.colab.kernel.invokeFunction('convertToInteractive',\n",
              "                                                    [key], {});\n",
              "        if (!dataTable) return;\n",
              "\n",
              "        const docLinkHtml = 'Like what you see? Visit the ' +\n",
              "          '<a target=\"_blank\" href=https://colab.research.google.com/notebooks/data_table.ipynb>data table notebook</a>'\n",
              "          + ' to learn more about interactive tables.';\n",
              "        element.innerHTML = '';\n",
              "        dataTable['output_type'] = 'display_data';\n",
              "        await google.colab.output.renderOutput(dataTable, element);\n",
              "        const docLink = document.createElement('div');\n",
              "        docLink.innerHTML = docLinkHtml;\n",
              "        element.appendChild(docLink);\n",
              "      }\n",
              "    </script>\n",
              "  </div>\n",
              "\n",
              "\n",
              "    <div id=\"df-9b395028-2a0b-4169-8e98-8c3440e32a68\">\n",
              "      <button class=\"colab-df-quickchart\" onclick=\"quickchart('df-9b395028-2a0b-4169-8e98-8c3440e32a68')\"\n",
              "                title=\"Suggest charts\"\n",
              "                style=\"display:none;\">\n",
              "\n",
              "<svg xmlns=\"http://www.w3.org/2000/svg\" height=\"24px\"viewBox=\"0 0 24 24\"\n",
              "     width=\"24px\">\n",
              "    <g>\n",
              "        <path d=\"M19 3H5c-1.1 0-2 .9-2 2v14c0 1.1.9 2 2 2h14c1.1 0 2-.9 2-2V5c0-1.1-.9-2-2-2zM9 17H7v-7h2v7zm4 0h-2V7h2v10zm4 0h-2v-4h2v4z\"/>\n",
              "    </g>\n",
              "</svg>\n",
              "      </button>\n",
              "\n",
              "<style>\n",
              "  .colab-df-quickchart {\n",
              "      --bg-color: #E8F0FE;\n",
              "      --fill-color: #1967D2;\n",
              "      --hover-bg-color: #E2EBFA;\n",
              "      --hover-fill-color: #174EA6;\n",
              "      --disabled-fill-color: #AAA;\n",
              "      --disabled-bg-color: #DDD;\n",
              "  }\n",
              "\n",
              "  [theme=dark] .colab-df-quickchart {\n",
              "      --bg-color: #3B4455;\n",
              "      --fill-color: #D2E3FC;\n",
              "      --hover-bg-color: #434B5C;\n",
              "      --hover-fill-color: #FFFFFF;\n",
              "      --disabled-bg-color: #3B4455;\n",
              "      --disabled-fill-color: #666;\n",
              "  }\n",
              "\n",
              "  .colab-df-quickchart {\n",
              "    background-color: var(--bg-color);\n",
              "    border: none;\n",
              "    border-radius: 50%;\n",
              "    cursor: pointer;\n",
              "    display: none;\n",
              "    fill: var(--fill-color);\n",
              "    height: 32px;\n",
              "    padding: 0;\n",
              "    width: 32px;\n",
              "  }\n",
              "\n",
              "  .colab-df-quickchart:hover {\n",
              "    background-color: var(--hover-bg-color);\n",
              "    box-shadow: 0 1px 2px rgba(60, 64, 67, 0.3), 0 1px 3px 1px rgba(60, 64, 67, 0.15);\n",
              "    fill: var(--button-hover-fill-color);\n",
              "  }\n",
              "\n",
              "  .colab-df-quickchart-complete:disabled,\n",
              "  .colab-df-quickchart-complete:disabled:hover {\n",
              "    background-color: var(--disabled-bg-color);\n",
              "    fill: var(--disabled-fill-color);\n",
              "    box-shadow: none;\n",
              "  }\n",
              "\n",
              "  .colab-df-spinner {\n",
              "    border: 2px solid var(--fill-color);\n",
              "    border-color: transparent;\n",
              "    border-bottom-color: var(--fill-color);\n",
              "    animation:\n",
              "      spin 1s steps(1) infinite;\n",
              "  }\n",
              "\n",
              "  @keyframes spin {\n",
              "    0% {\n",
              "      border-color: transparent;\n",
              "      border-bottom-color: var(--fill-color);\n",
              "      border-left-color: var(--fill-color);\n",
              "    }\n",
              "    20% {\n",
              "      border-color: transparent;\n",
              "      border-left-color: var(--fill-color);\n",
              "      border-top-color: var(--fill-color);\n",
              "    }\n",
              "    30% {\n",
              "      border-color: transparent;\n",
              "      border-left-color: var(--fill-color);\n",
              "      border-top-color: var(--fill-color);\n",
              "      border-right-color: var(--fill-color);\n",
              "    }\n",
              "    40% {\n",
              "      border-color: transparent;\n",
              "      border-right-color: var(--fill-color);\n",
              "      border-top-color: var(--fill-color);\n",
              "    }\n",
              "    60% {\n",
              "      border-color: transparent;\n",
              "      border-right-color: var(--fill-color);\n",
              "    }\n",
              "    80% {\n",
              "      border-color: transparent;\n",
              "      border-right-color: var(--fill-color);\n",
              "      border-bottom-color: var(--fill-color);\n",
              "    }\n",
              "    90% {\n",
              "      border-color: transparent;\n",
              "      border-bottom-color: var(--fill-color);\n",
              "    }\n",
              "  }\n",
              "</style>\n",
              "\n",
              "      <script>\n",
              "        async function quickchart(key) {\n",
              "          const quickchartButtonEl =\n",
              "            document.querySelector('#' + key + ' button');\n",
              "          quickchartButtonEl.disabled = true;  // To prevent multiple clicks.\n",
              "          quickchartButtonEl.classList.add('colab-df-spinner');\n",
              "          try {\n",
              "            const charts = await google.colab.kernel.invokeFunction(\n",
              "                'suggestCharts', [key], {});\n",
              "          } catch (error) {\n",
              "            console.error('Error during call to suggestCharts:', error);\n",
              "          }\n",
              "          quickchartButtonEl.classList.remove('colab-df-spinner');\n",
              "          quickchartButtonEl.classList.add('colab-df-quickchart-complete');\n",
              "        }\n",
              "        (() => {\n",
              "          let quickchartButtonEl =\n",
              "            document.querySelector('#df-9b395028-2a0b-4169-8e98-8c3440e32a68 button');\n",
              "          quickchartButtonEl.style.display =\n",
              "            google.colab.kernel.accessAllowed ? 'block' : 'none';\n",
              "        })();\n",
              "      </script>\n",
              "    </div>\n",
              "\n",
              "    </div>\n",
              "  </div>\n"
            ],
            "text/plain": [
              "       content_num_words  summary_num_words\n",
              "count       65243.000000       65243.000000\n",
              "mean          363.106019          95.015051\n",
              "std           197.899105          39.060541\n",
              "min             7.000000           2.000000\n",
              "25%           207.000000          70.000000\n",
              "50%           323.000000          89.000000\n",
              "75%           496.000000         113.000000\n",
              "max          1179.000000         443.000000"
            ]
          },
          "execution_count": 15,
          "metadata": {},
          "output_type": "execute_result"
        }
      ],
      "source": [
        "raw_df['content_num_words'] = raw_df['content'].apply(lambda text: len(text.split()))\n",
        "raw_df['summary_num_words'] = raw_df['summary'].apply(lambda text: len(text.split()))\n",
        "raw_df.describe()"
      ]
    },
    {
      "cell_type": "code",
      "execution_count": null,
      "metadata": {},
      "outputs": [],
      "source": [
        "raw_df = raw_df[raw_df['content'].apply(lambda x: len(x.split())) <= 1000]\n",
        "raw_df.describe()"
      ]
    },
    {
      "cell_type": "code",
      "execution_count": null,
      "metadata": {
        "colab": {
          "base_uri": "https://localhost:8080/",
          "height": 473
        },
        "id": "lSQv10NIWpFZ",
        "outputId": "b47ad975-5154-438c-d79c-80cb8398ba2b"
      },
      "outputs": [
        {
          "data": {
            "image/png": "[encoded data removed]",
            "text/plain": [
              "<Figure size 640x480 with 1 Axes>"
            ]
          },
          "metadata": {},
          "output_type": "display_data"
        }
      ],
      "source": [
        "plt.hist(raw_df['content_num_words'], bins=50, alpha=0.5, label='content')\n",
        "plt.hist(raw_df['summary_num_words'], bins=50, alpha=0.5, label='summary')\n",
        "plt.legend(loc='upper right')\n",
        "plt.title('Phân bố số từ trong content và summary')\n",
        "plt.xlabel('Số từ')\n",
        "plt.ylabel('Tần suất')\n",
        "plt.show()"
      ]
    },
    {
      "cell_type": "code",
      "execution_count": null,
      "metadata": {
        "colab": {
          "base_uri": "https://localhost:8080/",
          "height": 206
        },
        "id": "hk39bQUmogwW",
        "outputId": "bf25f193-673d-4bc0-8de1-871dd47a4bb0"
      },
      "outputs": [
        {
          "data": {
            "application/vnd.google.colaboratory.intrinsic+json": {
              "summary": "{\n  \"name\": \"raw_df\",\n  \"rows\": 5,\n  \"fields\": [\n    {\n      \"column\": \"content\",\n      \"properties\": {\n        \"dtype\": \"string\",\n        \"num_unique_values\": 5,\n        \"samples\": [\n          \"- Sau khi \\u0111\\u1ecdc c\\u00e1c b\\u00e0i : \\u0110\\u00e1y n\\u00e0o cho B\\u0110S ? , \\u0110\\u00e1y B\\u0110S s\\u1eafp b\\u1ecb ph\\u00e1 ? , nhi\\u1ec1u b\\u1ea1n \\u0111\\u00e3 g\\u1eedi email ph\\u1ea3n_h\\u1ed3i v\\u1ec1 B\\u00e1o_VietNamNet . \\u0110\\u00e3 \\u0111\\u1ebfn \\u0111\\u00e1y hay ch\\u01b0a ? Theo email vovansu@hn.vnn.vn th\\u00ec : Khi \\u1edf gi\\u00e1_m\\u00e0 ng\\u01b0\\u1eddi_ta c\\u00f3_th\\u1ec3 mua \\u0111\\u01b0\\u1ee3c - t\\u1ee9c ph\\u1ee5_thu\\u1ed9c v\\u00e0o ng\\u01b0\\u1eddi mua . L\\u00fac \\u0111\\u00f3 l\\u00e0 \\u0111\\u00e1y !_B\\u1ea1n Minh_Thanh ( email thang.tnt@gmail.com ) cho r\\u1eb1ng : B\\u0110S ch\\u01b0a v\\u1ee1 bong_b\\u00f3ng th\\u00ec ch\\u01b0a_th\\u1ec3 ch\\u1ea1m \\u0111\\u00e1y , m\\u00e0 c\\u0169ng ch\\u01b0a th\\u1ea5y doanh_nghi\\u1ec7p B\\u0110S l\\u1edbn n\\u00e0o b\\u1ecb ph\\u00e1_s\\u1ea3n c\\u1ea3 . \\u00dd_ki\\u1ebfn c\\u1ee7a email khachvanglai@yahoo.com : Bao_gi\\u1edd ng\\u01b0\\u1eddi_d\\u00e2n c\\u00f3 ti\\u1ec1n mua nh\\u00e0 \\u0111\\u1ec3 \\u1edf th\\u00ec khi \\u0111\\u00f3 l\\u00e0 gi\\u00e1 \\u0111\\u00e1y . N\\u00f3i TPHCM_ch\\u1ea1m \\u0111\\u00e1y th\\u00ec c\\u00f3_th\\u1ec3 , c\\u00f2n \\u1edf H\\u00e0_N\\u1ed9i th\\u00ec ch\\u01b0a . Gi\\u00e1 B\\u0110S \\u1edf H\\u00e0_N\\u1ed9i ph\\u1ea3i gi\\u1ea3m ti\\u1ebfp 50 % n\\u1eefa m\\u1edbi v\\u1ec1 gi\\u00e1_tr\\u1ecb th\\u1ef1c . N\\u1ebfu c\\u00f3_th\\u1ec3 coi l\\u00e0 \\u0111\\u00e1y th\\u00ec \\u0111\\u00f3 m\\u1edbi l\\u00e0 \\u0111\\u00e1y , \\u0111\\u00f3 l\\u00e0 \\u00fd_ki\\u1ebfn c\\u1ee7a b\\u1ea1n Vi\\u1ec7t ( email viet_thanh1968@yahoo.com ) . B\\u1ea1n L\\u00ea_Lan ( email lelan13510@yahoo.com ) ti\\u1ebfp_c\\u1eadn t\\u1eeb g\\u00f3c_\\u0111\\u1ed9 kh\\u00e1c : B\\u1ea5t_\\u0111\\u1ed9ng_s\\u1ea3n l\\u00e0m_g\\u00ec c\\u00f3 \\u0111\\u00e1y khi nh\\u00e0_n\\u01b0\\u1edbc kh\\u00f4ng th\\u1eaft ch\\u1eb7t c\\u00e1i l\\u00f2ng tham_kh\\u00f4ng \\u0111\\u00e1y c\\u1ee7a gi\\u1edbi kinh_doanh B\\u0110S. Email_tuanbg_ceo@yahoo.com n\\u00eau c\\u00e2u h\\u1ecfi : \\u0110\\u00e1y \\u0111\\u1ec3 l\\u00e0m c\\u00e1i g\\u00ec ?_Ng\\u01b0\\u1eddi mua hay ng\\u01b0\\u1eddi b\\u00e1n \\u0111\\u00e2y ?_H\\u00e3y n\\u00f3i r\\u1eb1ng bao_gi\\u1edd B\\u0110S m\\u1edbi \\u0111\\u01b0\\u1ee3c minh_b\\u1ea1ch ? Ch\\u1ee9 c\\u00f2n \\u0111\\u00e1y hay kh\\u00f4ng \\u0111\\u00e1y c\\u0169ng l\\u00e0 chuy\\u1ec7n b\\u00ecnh_th\\u01b0\\u1eddng c\\u1ee7a kinh_doanh m\\u00e0 th\\u00f4i . Quan_h\\u1ec7 B\\u0110S ng\\u00e2n_h\\u00e0ng qua email_tamtons@gmail.com : C\\u00e2u_h\\u1ecfi \\u0110\\u00e1y n\\u00e0o cho B\\u0110S ? l\\u00e0m c\\u00e1c ch\\u1ee7 NH lo ngay_ng\\u00e1y ! T\\u00f4i ch\\u1eafc_ch\\u1eafn r\\u1eb1ng kho\\u1ea3ng 10 tr / m2 nh\\u00e0 chung_c\\u01b0 \\u1edf n\\u1ed9i_th\\u00e0nh HN m\\u1edbi g\\u1ecdi_l\\u00e0 \\u0111\\u00e1y v\\u00ec t\\u1eeb gi\\u00e1_th\\u00e0nh x\\u00e2y_d\\u1ef1ng b\\u00e2y_gi\\u1edd m\\u00e0 suy ra th\\u00f4i !_\\u0110\\u1ea5t VD3 , VD4 r\\u1ebb kho\\u1ea3ng 2 , 3 l\\u1ea7n n\\u1eefa th\\u00ec h\\u00e3y mua nh\\u00e0 !_T\\u1ea7m 12-15 tr / m2 !_C\\u00e1c b\\u00e1c ch\\u1ee7 B\\u0110S b\\u00e2y_gi\\u1edd n\\u00ean chuy\\u1ec3n nhanh t\\u00e0i_s\\u1ea3n cho NH m\\u00e0 r\\u1ea3nh n\\u1ee3 !_Nh\\u00e9 !_Email antin@yahoo.com l\\u1ea1i chi\\u00eam_nghi\\u1ec7m : H\\u00e3y nh\\u00ecn th\\u1ecb_tr\\u01b0\\u1eddng B\\u0110S Nh\\u1eadt_B\\u1ea3n sau khi v\\u1ee1 b\\u00f3ng nh\\u1eefng n\\u0103m cu\\u1ed1i th\\u1eadp_ni\\u00ean 80 th\\u1ebf_k\\u1ef7 20 , Thailan , Korea cu\\u1ed1i th\\u1eadp_ni\\u00ean 90 th\\u1ebf_k\\u1ef7 20 , M\\u1ef9 n\\u0103m 2008 , th\\u00ec s\\u1ebd th\\u1ea5y hi\\u1ec7n_nay th\\u1ecb_tr\\u01b0\\u1eddng B\\u0110S_Vi\\u1ec7t ch\\u1ec9 m\\u1edbi \\u0111\\u1eb7t \\u0111\\u1ec9nh v\\u00e0 xu\\u1ed1ng ch\\u00fat_\\u00edt . N\\u1ec1n kinh_t\\u1ebf Nh\\u1eadt_B\\u1ea3n v\\u1eabn kh\\u00f3 sau h\\u01a1n 20 n\\u0103m v\\u1ee1 b\\u00f3ng_B\\u0110S , Th\\u00e1i 15 n\\u0103m , kinh_t\\u1ebf M\\u1ef9 ch\\u01b0a bi\\u1ebft_ch\\u1eebng n\\u00e0o h\\u1ed3i_ph\\u1ee5c sau 05 n\\u0103m \\u0111i\\u00eau_\\u0111\\u1ee9ng v\\u00ec B\\u0110S. N\\u1ebfu l\\u1ea5y TTCK \\u0111\\u1ec3 minh_h\\u1ecda th\\u00ec s\\u1ebd th\\u1ea5y ngay , hi\\u1ec7n_gi\\u1edd B\\u0110S \\u0111ang kho\\u1ea3ng 900 \\u0111i\\u1ec3m tr\\u00ean s\\u00e0n Hastc sau khi \\u0111\\u00e3 \\u0111\\u1ea1t 1150 \\u0111i\\u1ec3m . N\\u00ean th\\u1ecb_tr\\u01b0\\u1eddng B\\u0110S c\\u00f2n l\\u00e2u m\\u1edbi \\u0111\\u1ebfn \\u0111\\u00e1y nh\\u01b0 TTCK nay 320 \\u0111i\\u1ec3m . Gi\\u1edd mu\\u1ed1n tho\\u00e1t v\\u1ed1n kh\\u1ecfi B\\u0110S c\\u0169ng kh\\u00f4ng d\\u1ec5 ? Theo email hgftrybhevrbt@kflflflflflf.com th\\u00ec : Ai_m\\u01a1 B\\u0110S xu\\u1ed1ng gi\\u00e1 m\\u1ea1nh l\\u00e0 m\\u01a1 m\\u1ed9ng h\\u00e3o huy\\u1ec1n ! C\\u00f3 bao_nhi\\u00eau ti\\u1ec1n vay \\u0111\\u01b0\\u1ee3c \\u0111\\u1ed5 v\\u00e0o B\\u0110S ? Ng\\u01b0\\u1eddi_d\\u00e2n VN kh\\u00f4ng c\\u00f3 th\\u00f3i_quen vay ti\\u1ec1n mua nh\\u00e0_\\u0111\\u1ea5t . R\\u1ea5t \\u00edt ng\\u01b0\\u1eddi l\\u00e0m_vi\\u1ec7c \\u0111\\u00f3 . To\\u00e0n l\\u00e0 ti\\u1ec1n ti\\u1ebft_ki\\u1ec7m c\\u1ee7a ch\\u00ednh m\\u00ecnh kh\\u00f4ng th\\u00f4i . B\\u1ea1n Minh_T\\u1ebf ( email tapdoandautu@gmail.com ) suy_ng\\u1eabm : Ch\\u1eb3ng th\\u1ea5y c\\u00f3 cu\\u1ed9c kh\\u1ee7ng_ho\\u1ea3ng n\\u00e0o \\u0111\\u01a1n_gi\\u1ea3n ch\\u1ec9 m\\u1ed9t \\u0111\\u00e1y r\\u1ed3i l\\u00ean \\u0111\\u01b0\\u1ee3c ngay . V\\u00ec_v\\u1eady ch\\u1ec9 c\\u00f3 c\\u00e1ch tr\\u01b0\\u1eddng_k\\u1ef3 v\\u00e0 thu_h\\u1ed3i v\\u1ed1n d\\u1ea7n l\\u00e0 h\\u1ee3p_l\\u00fd nh\\u1ea5t . Ph\\u00e2n_t\\u00edch c\\u1ee7a email_antin@yahoo.com : \\u0110\\u00e1y B\\u0110S s\\u1ebd \\u0111\\u01b0\\u1ee3c ph\\u00e1 nhanh ( ch\\u1ee7_\\u0111\\u1ed9ng ph\\u00e1 ) h\\u00f2ng \\u0111\\u1ed5 b\\u00ea_t\\u00f4ng cho c\\u1ee5c n\\u1ee3 x\\u1ea5u \\u0111\\u01b0\\u01a1c_n\\u00e9n l\\u1ea1i v\\u00e0 tri\\u1ec7t_ti\\u00eau ( b\\u00e1n nh\\u00e0 t\\u1ed3n_kho c\\u00f3 ti\\u1ec1n tr\\u1ea3 n\\u1ee3 ng\\u00e2n_h\\u00e0ng , \\u00edt thi\\u1ec7t_h\\u1ea1i ) , th\\u1eddi_\\u0111i\\u1ec3m \\u0111\\u00f3 \\u0111\\u00e3 \\u0111i v\\u1ec1 n\\u01a1i xa 2009 , 2010 . C\\u00f2n b\\u00e2y_gi\\u1edd c\\u00f3 mu\\u1ed1n ph\\u00e1 nh\\u01b0ng thi\\u1ebfu ti\\u1ec1n v\\u1eadt_li\\u1ec7u , nh\\u00e2n_c\\u00f4ng n\\u00ean ch\\u1ecdc \\u0111\\u00e2u n\\u1ee3 x\\u1ea5u ngoi l\\u00ean \\u0111\\u1ebfn \\u0111\\u00f3 ( Th\\u1ed1ng_\\u0111\\u1ed1c B\\u00ecnh \\u0111\\u00e3 c\\u00f4ng_b\\u1ed1 n\\u1ee3 x\\u1ea5u to\\u00e0n h\\u1ec7_th\\u1ed1ng ng\\u00e2n_h\\u00e0ng x\\u1ea5p_x\\u1ec9 10 % !_\\u0110\\u1ea7u n\\u0103m v\\u1eabn c\\u00f4ng_b\\u1ed1 3 % ! ) . n\\u00ean t\\u1edbi \\u0111\\u00e2y s\\u1ebd r\\u1ea5t kh\\u00f3 n\\u1ebfu kh\\u00f4ng c\\u00f3 t\\u00e1c_\\u0111\\u1ed9ng t\\u1eeb b\\u00ean ngo\\u00e0i ( ng\\u00e2n_h\\u00e0ng nh\\u00e0_n\\u01b0\\u1edbc ! ) . Nh\\u01b0ng n\\u00f3i_g\\u00ec th\\u00ec n\\u00f3i , gi\\u1edd_\\u0111\\u00e2y , th\\u1eddi_\\u0111i\\u1ec3m n\\u00e0y kh\\u00f4ng ph\\u1ea3i c\\u1ee9 mu\\u1ed1n l\\u00e0 \\u0111\\u01b0\\u1ee3c . L\\u1ef1c_b\\u1ea5t_t\\u00f2ng_t\\u00e2m r\\u1ed3i . Email_thanhoang68@vnn.vn nh\\u00ecn_nh\\u1eadn : Gi\\u00e1 B\\u0110S hi\\u1ec7n t\\u1ea1m \\u0111\\u00f3ng_b\\u0103ng v\\u00ec ng\\u01b0\\u1eddi ta \\u0111ang c\\u1ed1 gi\\u1eef n\\u00f3 kh\\u1ecfi t\\u1ee5t xu\\u1ed1ng th\\u00eam m\\u1eb7c_d\\u00f9 gi\\u00e1 hi\\u1ec7n_t\\u1ea1i v\\u1eabn c\\u00f2n xa m\\u1edbi xu\\u1ed1ng \\u0111\\u1ebfn gi\\u00e1_tr\\u1ecb th\\u1ef1c ( v\\u00ec ham h\\u1ed1 ki\\u1ebfm si\\u00eau_l\\u1ee3i_nhu\\u1eadn b\\u1eb1ng vi\\u1ec7c l\\u1ee3i_d\\u1ee5ng nhu_c\\u1ea7u m\\u1eb7t_b\\u1eb1ng s\\u1ed1ng v\\u00e0 l\\u00e0m_vi\\u1ec7c n\\u00ean gi\\u00e1 B\\u0110S t\\u1ea1i VN \\u0111\\u00e3 b\\u1ecb \\u0111\\u1ea9y l\\u00ean cao r\\u1ea5t nhi\\u1ec1u l\\u1ea7n trong m\\u1ed9t th\\u1eddi_gian d\\u00e0i ) . Mu\\u1ed1n bi\\u1ebft gi\\u00e1_tr\\u1ecb th\\u1ef1c c\\u1ee7a m\\u1ed9t s\\u1ea3n_ph\\u1ea9m B\\u0110S b\\u1ea5t_k\\u1ef3 t\\u1ea1i m\\u1ed9t th\\u1eddi_\\u0111i\\u1ec3m ch\\u1ec9 c\\u1ea7n c\\u0103n_c\\u1ee9 v\\u00e0o gi\\u00e1 cho thu\\u00ea c\\u1ee7a s\\u1ea3n_ph\\u1ea9m \\u1ea5y c\\u00f3_th\\u1ec3 ho\\u00e0n v\\u1ed1n trong bao n\\u0103m l\\u00e0 bi\\u1ebft . \\u0110\\u00e1y B\\u0110S hi\\u1ec7n_t\\u1ea1i s\\u1ebd b\\u1ecb b\\u1ee5c v\\u00e0 r\\u01a1i xu\\u1ed1ng \\u0111\\u00e1y kh\\u00e1c th\\u1ea5p h\\u01a1n ch\\u1ee9 kh\\u00f4ng c\\u00f3 g\\u00ec tr\\u1ed3i l\\u00ean kh\\u1ecfi \\u0111\\u00e1y b\\u00e2y_gi\\u1edd . Ng\\u01b0\\u1eddi_d\\u00e2n c\\u0169ng t\\u1ec9nh_t\\u00e1o h\\u01a1n r\\u1ed3i n\\u00ean m\\u1ea5y \\u0111\\u00f2n t\\u00e2m_l\\u00fd ch\\u1eb3ng \\u0111em l\\u1ea1i t\\u00e1c_d\\u1ee5ng g\\u00ec . Gi\\u00e1 B\\u0110S c\\u00f2n ph\\u1ea3i xu\\u1ed1ng n\\u1eefa . Ng\\u01b0\\u1eddi_d\\u00e2n \\u0111\\u00e2u c\\u00f3_th\\u1ec3 c\\u1ee9 d\\u1ea1i m\\u00e3i th\\u00ec kh\\u00f4ng_nh\\u1eefng thi\\u1ec7t_th\\u00e2n m\\u00e0 \\u0111\\u1ea5t_n\\u01b0\\u1edbc bao_gi\\u1edd m\\u1edbi ph\\u00e1t_tri\\u1ec3n \\u0111\\u01b0\\u1ee3c . D\\u00e2n_tr\\u00ed c\\u0169ng ph\\u1ea3i kh\\u00e1c x\\u01b0a , nh\\u1ea5t_l\\u00e0 th\\u1eddi_\\u0111\\u1ea1i internet , \\u0111\\u00e2u t\\u00f9_m\\u00f9 m\\u00e3i \\u0111\\u1ec3 cho s\\u1ed1_\\u00edt h\\u01b0\\u1edfng l\\u1ee3i m\\u1ed9t_c\\u00e1ch d\\u1ec5_d\\u00e0ng ?_Gi\\u1edd kh\\u00f3_kh\\u0103n mu\\u1ed1n tho\\u00e1t v\\u1ed1n kh\\u1ecfi B\\u0110S c\\u0169ng kh\\u00f4ng d\\u1ec5 . N\\u00f3i_chung b\\u1eaft_\\u0111\\u1ea7u th\\u00ec c\\u00e1c \\u0111\\u1ea1i_gia c\\u0169ng l\\u00e0 tay_kh\\u00f4ng b\\u1eaft gi\\u1eb7c m\\u00e0 l\\u00ean , ch\\u1ee9 nh\\u00ecn l\\u1ea1i c\\u00e1ch \\u0111\\u00e2y v\\u00e0i ch\\u1ee5c n\\u0103m c\\u1ea3 XH m\\u1ea5y_ai c\\u00f3 n\\u1ed5i v\\u00e0i ch\\u1ee5c ng\\u00e0n USD. C\\u1ee9 l\\u00e0 c\\u1ee7a thi\\u00ean th\\u00ec ph\\u1ea3i tr\\u1ea3 \\u0111\\u1ecba . \\u0110\\u1ed3ng_ti\\u1ec1n lao_\\u0111\\u1ed9ng \\u0111\\u1ed5 m\\u1ed3_h\\u00f4i , n\\u01b0\\u1edbc_m\\u1eaft m\\u1edbi l\\u00e0 \\u0111\\u1ed3ng_ti\\u1ec1n mang gi\\u00e1_tr\\u1ecb th\\u1ef1c . Ban B\\u1ea1n_\\u0111\\u1ecdc .\",\n          \"GPBank s\\u1eafp ng\\u00e3 gi\\u00e1_th\\u00e0nh_c\\u00f4ng . Trong Ch\\u01b0\\u01a1ng_tr\\u00ecnh D\\u00e2n_h\\u1ecfi , B\\u1ed9_tr\\u01b0\\u1edfng tr\\u1ea3_l\\u1eddi tr\\u00ean VTV 1 cu\\u1ed1i tu\\u1ea7n qua , Th\\u1ed1ng_\\u0111\\u1ed1c Ng\\u00e2n_h\\u00e0ng Nh\\u00e0_n\\u01b0\\u1edbc ( NHNN ) Nguy\\u1ec5n_V\\u0103n_B\\u00ecnh kh\\u1eb3ng_\\u0111\\u1ecbnh , t\\u00ednh \\u0111\\u1ebfn th\\u1eddi_\\u0111i\\u1ec3m n\\u00e0y , 9 ng\\u00e2n_h\\u00e0ng TMCP y\\u1ebfu_k\\u00e9m \\u0111\\u00e3 \\u0111\\u01b0\\u1ee3c x\\u1eed_l\\u00fd . Trong khi \\u0111\\u00f3 , t\\u1ea1i b\\u00e1o_c\\u00e1o g\\u1eedi Qu\\u1ed1c_h\\u1ed9i c\\u00e1ch \\u0111\\u00e2y 1 th\\u00e1ng , ng\\u01b0\\u1eddi \\u0111\\u1ee9ng \\u0111\\u1ea7u NHNN cho bi\\u1ebft , m\\u1edbi x\\u1eed_l\\u00fd \\u0111\\u01b0\\u1ee3c 8/9 ng\\u00e2n_h\\u00e0ng y\\u1ebfu_k\\u00e9m . Nh\\u01b0_v\\u1eady , ph\\u1ea3i_ch\\u0103ng th\\u01b0\\u01a1ng_v\\u1ee5 GPBank b\\u00e1n cho \\u0111\\u1ed1i_t\\u00e1c ngo\\u1ea1i v\\u1eeba \\u0111\\u01b0\\u1ee3c ng\\u00e3_ng\\u0169 ? X\\u00e1c_su\\u1ea5t th\\u00e0nh_c\\u00f4ng c\\u1ee7a th\\u01b0\\u01a1ng_v\\u1ee5 UOB mua l\\u1ea1i Ng\\u00e2n_h\\u00e0ng GPBank \\u0111\\u01b0\\u1ee3c \\u0111\\u00e1nh_gi\\u00e1 l\\u00e0 r\\u1ea5t cao . \\u1ea2nh : L\\u00ea_To\\u00e0n . Theo m\\u1ed9t ngu\\u1ed3n tin c\\u1ee7a ph\\u00f3ng_vi\\u00ean B\\u00e1o \\u0110\\u1ea7u_t\\u01b0 \\u0111i\\u1ec7n_t\\u1eed - Baodautu . vn , su\\u1ed1t m\\u1ea5y th\\u00e1ng nay , T\\u1eadp_\\u0111o\\u00e0n UOB ( Singapore ) \\u0111\\u00e3 \\u0111\\u01b0\\u1ee3c NHNN cho_ph\\u00e9p ti\\u1ebfp_c\\u1eadn \\u0111\\u1ec3 n\\u1eafm_b\\u1eaft t\\u00ecnh_h\\u00ecnh s\\u1ee9c_kh\\u1ecfe c\\u1ee7a GPBank tr\\u01b0\\u1edbc khi th\\u1ea3o_lu\\u1eadn v\\u1ec1 gi\\u00e1_c\\u1ea3 . \\u0110\\u1ebfn th\\u1eddi_\\u0111i\\u1ec3m n\\u00e0y , kh\\u00e2u \\u0111\\u00e0m_ph\\u00e1n \\u0111\\u00e3 c\\u01a1_b\\u1ea3n ho\\u00e0n_t\\u1ea5t . T\\u1eeb th\\u00f4ng_tin m\\u00e0 t\\u00f4i c\\u00f3 \\u0111\\u01b0\\u1ee3c , th\\u00ec UOB v\\u00e0 GPBank \\u0111\\u00e3 c\\u01a1_b\\u1ea3n th\\u1ed1ng_nh\\u1ea5t xong v\\u1ec1 gi\\u00e1_c\\u1ea3 . Hi\\u1ec7n ph\\u00eda GPBank v\\u1eabn \\u0111ang mu\\u1ed1n \\u0111\\u00e0m_ph\\u00e1n t\\u0103ng th\\u00eam gi\\u00e1 c\\u1ee7a m\\u1ed9t_s\\u1ed1 t\\u00e0i_s\\u1ea3n . Kh\\u1ea3_n\\u0103ng , th\\u01b0\\u01a1ng_v\\u1ee5 n\\u00e0y s\\u1ebd di\\u1ec5n ra v\\u00e0o \\u0111\\u1ea7u n\\u0103m 2014 , m\\u1edf_m\\u00e0n cho l\\u00e0n_s\\u00f3ng M&A ; trong l\\u0129nh_v\\u1ef1c ng\\u00e2n_h\\u00e0ng , ngu\\u1ed3n tin cho_hay . TS. L\\u00ea_Xu\\u00e2n_Ngh\\u0129a , th\\u00e0nh_vi\\u00ean H\\u1ed9i_\\u0111\\u1ed3ng T\\u01b0_v\\u1ea5n ch\\u00ednh_s\\u00e1ch t\\u00e0i_ch\\u00ednh , ti\\u1ec1n_t\\u1ec7 qu\\u1ed1c_gia \\u0111\\u00e1nh_gi\\u00e1 , x\\u00e1c_su\\u1ea5t th\\u00e0nh_c\\u00f4ng c\\u1ee7a th\\u01b0\\u01a1ng_v\\u1ee5 UOB mua l\\u1ea1i GPBank r\\u1ea5t cao . N\\u1ebfu UOB mua l\\u1ea1i to\\u00e0n_b\\u1ed9 c\\u1ed5_ph\\u1ea7n c\\u1ee7a GPBank , th\\u00ec GPBank s\\u1ebd tr\\u1edf_th\\u00e0nh ng\\u00e2n_h\\u00e0ng 100 % v\\u1ed1n n\\u01b0\\u1edbc_ngo\\u00e0i . \\u0110\\u00e2y l\\u00e0 l\\u1ee3i_th\\u1ebf l\\u1edbn nh\\u1ea5t c\\u1ee7a c\\u00e1c ng\\u00e2n_h\\u00e0ng ngo\\u1ea1i khi ho\\u1ea1t_\\u0111\\u1ed9ng t\\u1ea1i Vi\\u1ec7t_Nam . Ch\\u01b0a k\\u1ec3 , n\\u1ebfu mua l\\u1ea1i GPBank , UOB s\\u1ebd t\\u1eadn_d\\u1ee5ng \\u0111\\u01b0\\u1ee3c m\\u1ea1ng_l\\u01b0\\u1edbi chi_nh\\u00e1nh , kh\\u00e1 nhi\\u1ec1u t\\u00e0i_s\\u1ea3n v\\u00e0 nh\\u00e2n_l\\u1ef1c s\\u1eb5n c\\u00f3 . C\\u00e2u_h\\u1ecfi \\u0111\\u1eb7t ra l\\u00e0 , cho_d\\u00f9 th\\u01b0\\u01a1ng_v\\u1ee5 \\u0111\\u00e3 \\u0111\\u01b0\\u1ee3c chu\\u1ea9n_b\\u1ecb t\\u1eeb l\\u00e2u , kh\\u00e2u \\u0111\\u00e0m_ph\\u00e1n c\\u0169ng g\\u1ea7n nh\\u01b0 ng\\u00e3_ng\\u0169 , nh\\u01b0ng t\\u1ea1i_sao GPBank v\\u1eabn ch\\u01b0a ho\\u00e0n_t\\u1ea5t th\\u01b0\\u01a1ng_v\\u1ee5 n\\u00e0y ? M\\u1ed9t_s\\u1ed1 chuy\\u00ean_gia cho r\\u1eb1ng , m\\u1ed9t trong nh\\u1eefng nguy\\u00ean_nh\\u00e2n khi\\u1ebfn th\\u01b0\\u01a1ng_v\\u1ee5 ch\\u01b0a xong l\\u00e0 do t\\u1ef7_l\\u1ec7 s\\u1edf_h\\u1eefu c\\u1ed5_ph\\u1ea7n c\\u1ee7a nh\\u00e0_\\u0111\\u1ea7u_t\\u01b0 n\\u01b0\\u1edbc_ngo\\u00e0i hi\\u1ec7n v\\u1eabn \\u0111ang b\\u1ecb kh\\u1ed1ng_ch\\u1ebf \\u1edf m\\u1ee9c 20 % . Hi\\u1ec7n_NHNN \\u0111ang tr\\u00ecnh Ch\\u00ednh_ph\\u1ee7 D\\u1ef1_th\\u1ea3o Ngh\\u1ecb_\\u0111\\u1ecbnh thay_th\\u1ebf Ngh\\u1ecb_\\u0111\\u1ecbnh 69/2007 / N\\u0110-CP v\\u1ec1 vi\\u1ec7c nh\\u00e0_\\u0111\\u1ea7u_t\\u01b0 n\\u01b0\\u1edbc_ngo\\u00e0i mua c\\u1ed5_ph\\u1ea7n c\\u1ee7a ng\\u00e2n_h\\u00e0ng th\\u01b0\\u01a1ng_m\\u1ea1i Vi\\u1ec7t_Nam . Theo \\u0111\\u00f3 , \\u0111\\u1ed1i_v\\u1edbi ng\\u00e2n_h\\u00e0ng y\\u1ebfu_k\\u00e9m , t\\u1ef7_l\\u1ec7 n\\u00e0y s\\u1ebd \\u0111\\u01b0\\u1ee3c n\\u1edbi r\\u1ed9ng m\\u1ed9t_c\\u00e1ch linh_ho\\u1ea1t , kh\\u00f4ng lo\\u1ea1i_tr\\u1eeb tr\\u01b0\\u1eddng_h\\u1ee3p n\\u1edbi l\\u00ean 100 % . Ngay khi Ngh\\u1ecb_\\u0111\\u1ecbnh m\\u1edbi ban_h\\u00e0nh , GPBank s\\u1ebd c\\u00f3 \\u0111\\u1ea7y_\\u0111\\u1ee7 c\\u01a1_s\\u1edf ph\\u00e1p_l\\u00fd \\u0111\\u1ec3 b\\u00e1n l\\u1ea1i 100 % v\\u1ed1n cho \\u0111\\u1ed1i_t\\u00e1c n\\u01b0\\u1edbc_ngo\\u00e0i . S\\u1ebd xu\\u1ea5t_hi\\u1ec7n nhi\\u1ec1u \\u00f4ng ch\\u1ee7 m\\u1edbi . Kh\\u00f4ng_ch\\u1ec9 GPBank , trong n\\u0103m 2014 , d\\u1ef1_b\\u00e1o , s\\u1ebd c\\u00f3 nhi\\u1ec1u th\\u01b0\\u01a1ng_v\\u1ee5 M&A ; ng\\u00e2n_h\\u00e0ng di\\u1ec5n ra . Th\\u1ed1ng_\\u0111\\u1ed1c NHNN Nguy\\u1ec5n_V\\u0103n_B\\u00ecnh c\\u0169ng kh\\u1eb3ng_\\u0111\\u1ecbnh , NHNN \\u0111\\u00e3 ph\\u00e1t_hi\\u1ec7n th\\u00eam 8 t\\u1ed5_ch\\u1ee9c t\\u00edn_d\\u1ee5ng y\\u1ebfu_k\\u00e9m , trong \\u0111\\u00f3 c\\u00f3 2 ng\\u00e2n_h\\u00e0ng TMCP. Ch\\u1eafc_ch\\u1eafn , c\\u00e1c t\\u1ed5_ch\\u1ee9c t\\u00edn_d\\u1ee5ng y\\u1ebfu_k\\u00e9m n\\u00e0y s\\u1ebd b\\u1ecb NHNN d\\u1ecdn_d\\u1eb9p trong n\\u0103m 2014 . Theo d\\u1ef1_b\\u00e1o c\\u1ee7a C\\u00f4ng_ty Stox_Plus , ho\\u1ea1t_\\u0111\\u1ed9ng M&A ; n\\u0103m 2014 ng\\u00e2n_h\\u00e0ng s\\u1ebd ti\\u1ebfp_t\\u1ee5c s\\u00f4i_\\u0111\\u1ed9ng do s\\u1ed1_l\\u01b0\\u1ee3ng ng\\u00e2n_h\\u00e0ng th\\u01b0\\u01a1ng_m\\u1ea1i s\\u1ebd \\u0111\\u01b0\\u1ee3c gi\\u1ea3m c\\u00f2n 13 - 15 v\\u00e0o n\\u0103m 2017 . B\\u00ean_c\\u1ea1nh \\u0111\\u00f3 , vi\\u1ec7c Ch\\u00ednh_ph\\u1ee7 xem_x\\u00e9t n\\u1edbi room c\\u1ed5_ph\\u1ea7n s\\u1edf_h\\u1eefu c\\u1ee7a \\u0111\\u1ed1i_t\\u00e1c ngo\\u1ea1i v\\u1edbi c\\u00e1c ng\\u00e2n_h\\u00e0ng y\\u1ebfu_k\\u00e9m s\\u1ebd thu_h\\u00fat \\u0111\\u01b0\\u1ee3c c\\u00e1c nh\\u00e0_\\u0111\\u1ea7u_t\\u01b0 n\\u01b0\\u1edbc_ngo\\u00e0i trong th\\u1ecb_tr\\u01b0\\u1eddng M&A ; Vi\\u1ec7t_Nam . Ngo\\u00e0i_ra , theo c\\u00e1c chuy\\u00ean_gia kinh_t\\u1ebf , \\u00e1p_l\\u1ef1c tho\\u00e1i v\\u1ed1n kh\\u1ecfi l\\u0129nh_v\\u1ef1c ng\\u00e2n_h\\u00e0ng c\\u1ee7a c\\u00e1c t\\u1eadp_\\u0111o\\u00e0n , doanh_nghi\\u1ec7p nh\\u00e0_n\\u01b0\\u1edbc trong 2 n\\u0103m 2014 2015 s\\u1ebd khi\\u1ebfn ho\\u1ea1t_\\u0111\\u1ed9ng M&A ; trong l\\u0129nh_v\\u1ef1c n\\u00e0y t\\u1ea5p_n\\u1eadp h\\u01a1n . N\\u0103m 2013 , Vietnam_Airlines v\\u00e0 EVN \\u0111\\u00e3 th\\u00e0nh_c\\u00f4ng trong vi\\u1ec7c tho\\u00e1i m\\u1ed9t ph\\u1ea7n ho\\u1eb7c to\\u00e0n_b\\u1ed9 v\\u1ed1n kh\\u1ecfi Techcombank v\\u00e0 ABBank . Tuy_v\\u1eady , c\\u00f2n nhi\\u1ec1u tr\\u01b0\\u1eddng_h\\u1ee3p kh\\u00e1c ph\\u1ea3i tho\\u00e1i v\\u1ed1n kh\\u1ecfi l\\u0129nh_v\\u1ef1c ng\\u00e2n_h\\u00e0ng , ch\\u1eb3ng_h\\u1ea1n EVN v\\u1eabn n\\u1eafm 16,02 % v\\u1ed1n t\\u1ea1i ABBank , T\\u1eadp_\\u0111o\\u00e0n D\\u1ea7u_kh\\u00ed Vi\\u1ec7t_Nam ( PVN ) c\\u00f2n s\\u1edf_h\\u1eefu 20 % v\\u1ed1n t\\u1ea1i OceanBank . M\\u1ed9t lo\\u1ea1t doanh_nghi\\u1ec7p nh\\u00e0_n\\u01b0\\u1edbc kh\\u00e1c , nh\\u01b0 Vinatex , B\\u1ea3o_Vi\\u1ec7t , VNPT c\\u0169ng \\u0111ang n\\u1eafm c\\u1ed5_ph\\u1ea7n t\\u1ea1i Navibank , B\\u1ea3o_Vi\\u1ec7t , Maritime_Bank ... \\u0110\\u00e2y l\\u00e0 nh\\u1eefng mi\\u1ebfng b\\u00e1nh v\\u00f4_c\\u00f9ng h\\u1ea5p_d\\u1eabn trong m\\u1eaft nh\\u00e0_\\u0111\\u1ea7u_t\\u01b0 . N\\u1ebfu_nh\\u01b0 th\\u1ecb_tr\\u01b0\\u1eddng n\\u0103m 2014 thu\\u1eadn_l\\u1ee3i cho tho\\u00e1i v\\u1ed1n , c\\u01a1_h\\u1ed9i l\\u00e0m_ch\\u1ee7 ng\\u00e2n_h\\u00e0ng s\\u1ebd \\u0111\\u01b0\\u1ee3c m\\u1edf ra cho nhi\\u1ec1u nh\\u00e0_\\u0111\\u1ea7u_t\\u01b0 m\\u1edbi . Th\\u00f9y_Li\\u00ean .\",\n          \"Theo b\\u00e1o_c\\u00e1o c\\u1ee7a B\\u1ed9_tr\\u01b0\\u1edfng B\\u1ed9 C\\u00f4ng_an Tr\\u1ea7n_\\u0110\\u1ea1i_Quang , n\\u0103m 2015 c\\u00f3 2 Th\\u1ee7_tr\\u01b0\\u1edfng CQ\\u0110T b\\u1ecb k\\u1ef7_lu\\u1eadt v\\u00ec \\u0111\\u1ec3 x\\u1ea3y ra b\\u1ee9c cung , nh\\u1ee5c_h\\u00ecnh . B\\u00e1o_c\\u00e1o v\\u1ec1 c\\u00f4ng_t\\u00e1c ph\\u00f2ng_ch\\u1ed1ng t\\u1ed9i_ph\\u1ea1m 2015 tr\\u01b0\\u1edbc Qu\\u1ed1c_h\\u1ed9i s\\u00e1ng 28/10 , \\u0110\\u1ea1i_t\\u01b0\\u1edbng Tr\\u1ea7n_\\u0110\\u1ea1i_Quang - B\\u1ed9_tr\\u01b0\\u1edfng B\\u1ed9 C\\u00f4ng_an cho bi\\u1ebft , trong n\\u0103m nay , c\\u00e1c v\\u1ee5 \\u00e1n \\u0111\\u1eb7c_bi\\u1ec7t nghi\\u00eam_tr\\u1ecdng \\u0111\\u00e3 \\u0111\\u01b0\\u1ee3c l\\u00e3nh_\\u0111\\u1ea1o B\\u1ed9 C\\u00f4ng_an tr\\u1ef1c_ti\\u1ebfp ch\\u1ec9_\\u0111\\u1ea1o \\u0111i\\u1ec1u_tra , t\\u1ea1o ni\\u1ec1m tin trong nh\\u00e2n_d\\u00e2n nh\\u01b0 c\\u00e1c v\\u1ee5 th\\u1ea3m_\\u00e1n x\\u1ea3y ra t\\u1ea1i B\\u00ecnh_Ph\\u01b0\\u1edbc , Ngh\\u1ec7_An , Y\\u00ean_B\\u00e1i . Theo \\u0110\\u1ea1i_t\\u01b0\\u1edbng Tr\\u1ea7n_\\u0110\\u1ea1i_Quang , n\\u0103m 2015 , c\\u01a1_quan \\u0111i\\u1ec1u_tra c\\u00e1c c\\u1ea5p \\u0111\\u00e3 \\u0111i\\u1ec1u_tra \\u0111\\u00e3 th\\u1ee5_l\\u00fd h\\u01a1n 98.857_ngh\\u00ecn v\\u1ee5 \\u00e1n , v\\u1edbi 157.885_ngh\\u00ecn b\\u1ecb_can , gi\\u1ea3m c\\u1ea3 v\\u1ec1 s\\u1ed1 v\\u1ee5 v\\u00e0 s\\u1ed1 b\\u1ecb_can ; C\\u01a1_quan C\\u00f4ng_an \\u0111\\u00e3 k\\u1ebft_lu\\u1eadn \\u0111i\\u1ec1u_tra chuy\\u1ec3n Vi\\u1ec7n_ki\\u1ec3m_s\\u00e1t truy_t\\u1ed1 67.791_v\\u1ee5 118.693 b\\u1ecb_can , gi\\u1ea3m c\\u1ea3 v\\u1ec1 s\\u1ed1 v\\u1ee5 v\\u00e0 s\\u1ed1 b\\u1ecb_can . C\\u0169ng trong n\\u0103m 2015 , s\\u1ed1 v\\u1ee5 \\u00e1n kh\\u1edfi_t\\u1ed1 m\\u1edbi l\\u00e0 h\\u01a1n 72.450_v\\u1ee5 , v\\u1edbi h\\u01a1n 109.096 b\\u1ecb_can , gi\\u1ea3m c\\u1ea3 v\\u1ec1 s\\u1ed1 v\\u1ee5 v\\u00e0 s\\u1ed1 b\\u1ecb_can so v\\u1edbi n\\u0103m 2015 . Tuy_nhi\\u00ean t\\u00ecnh_h\\u00ecnh t\\u1ed9i_ph\\u1ea1m v\\u1eabn di\\u1ec5n_bi\\u1ebfn ph\\u1ee9c_t\\u1ea1p , n\\u1ed5i l\\u00ean l\\u00e0 c\\u00e1c th\\u1ebf_l\\u1ef1c th\\u00f9_\\u0111\\u1ecbch ph\\u1ea3n_\\u0111\\u1ed9ng gi\\u00e1o_ri\\u1ebft th\\u1ef1c_hi\\u1ec7n chi\\u1ebfn_l\\u01b0\\u1ee3c di\\u1ec5n_bi\\u1ebfn h\\u00f2a_b\\u00ecnh , th\\u00e2m_nh\\u1eadp t\\u00e1c_\\u0111\\u1ed9ng chuy\\u1ec3n h\\u00f3a n\\u1ed9i_b\\u1ed9 s\\u1ed1 \\u0111\\u1ed1i_t\\u01b0\\u1ee3ng . Theo b\\u00e1o_c\\u00e1o c\\u1ee7a B\\u1ed9_tr\\u01b0\\u1edfng B\\u1ed9 C\\u00f4ng_an , h\\u1ea7u_h\\u1ebft c\\u00e1c v\\u1ee5_\\u00e1n kinh_t\\u1ebf , tham_nh\\u0169ng , nh\\u1ea5t_l\\u00e0 c\\u00e1c v\\u1ee5_\\u00e1n thu\\u1ed9c di\\u1ec7n Ban_Ch\\u1ec9_\\u0111\\u1ea1o Trung_\\u01b0\\u01a1ng v\\u1ec1 ph\\u00f2ng_ch\\u1ed1ng tham_nh\\u0169ng theo_d\\u00f5i , ch\\u1ec9_\\u0111\\u1ea1o \\u0111\\u00e3 \\u0111\\u01b0\\u1ee3c c\\u00e1c c\\u01a1_quan \\u0111i\\u1ec1u_tra c\\u00e1c c\\u1ea5p kh\\u1ea9n_tr\\u01b0\\u01a1ng \\u0111i\\u1ec1u_tra , k\\u1ebft_lu\\u1eadn , chuy\\u1ec3n h\\u1ed3_s\\u01a1 sang Vi\\u1ec7n_Ki\\u1ec3m_s\\u00e1t truy_t\\u1ed1 . \\u0110\\u1ed3ng_th\\u1eddi l\\u1ef1c_l\\u01b0\\u1ee3ng c\\u00f4ng_an ti\\u1ebfp_t\\u1ee5c \\u0111i\\u1ec1u_tra l\\u00e0m r\\u00f5 c\\u00e1c v\\u1ee5_\\u00e1n kinh_t\\u1ebf , tham_nh\\u0169ng m\\u1edbi \\u0111\\u01b0\\u1ee3c d\\u01b0_lu\\u1eadn quan_t\\u00e2m nh\\u01b0 v\\u1ee5 \\u00e1n x\\u1ea3y ra t\\u1ea1i Ng\\u00e2n_h\\u00e0ng Th\\u01b0\\u01a1ng_m\\u1ea1i c\\u1ed5_ph\\u1ea7n \\u0110\\u1ea1i_D\\u01b0\\u01a1ng , Ng\\u00e2n_h\\u00e0ng Th\\u01b0\\u01a1ng_m\\u1ea1i c\\u1ed5_ph\\u1ea7n D\\u1ea7u_Kh\\u00ed to\\u00e0n_c\\u1ea7u T\\u1eeb \\u0111\\u00f3 , t\\u1ef7_l\\u1ec7 thu_h\\u1ed3i t\\u00e0i_s\\u1ea3n trong c\\u00e1c v\\u1ee5 vi_ph\\u1ea1m v\\u1ec1 kinh_t\\u1ebf , tham_nh\\u0169ng \\u0111\\u01b0\\u1ee3c n\\u00e2ng l\\u00ean , t\\u1eeb h\\u01a1n 22 % n\\u0103m 2014 l\\u00ean h\\u01a1n 55 % n\\u0103m 2015 , \\u0111\\u1ea1t m\\u1ee5c_ti\\u00eau ngh\\u1ecb_quy\\u1ebft Qu\\u1ed1c_h\\u1ed9i \\u0111\\u1ec1 ra . B\\u1ed9_tr\\u01b0\\u1edfng B\\u1ed9 C\\u00f4ng_an c\\u0169ng nh\\u1ea5n_m\\u1ea1nh , ng\\u00e0nh C\\u00f4ng_an c\\u0169ng \\u0111\\u00e3 ch\\u00fa_tr\\u1ecdng n\\u00e2ng cao ch\\u1ea5t_l\\u01b0\\u1ee3ng \\u0111i\\u1ec1u_tra , x\\u1eed_l\\u00fd t\\u1ed9i_ph\\u1ea1m , \\u0111\\u1ea9y nhanh ti\\u1ebfn_\\u0111\\u1ed9 \\u0111i\\u1ec1u_tra c\\u00e1c v\\u1ee5 \\u00e1n tr\\u1ecdng_\\u0111i\\u1ec3m , t\\u0103ng_c\\u01b0\\u1eddng ki\\u1ec3m_tra , h\\u01b0\\u1edbng_d\\u1eabn , ch\\u1ea5n_ch\\u1ec9nh kh\\u1eafc_ph\\u1ee5c nh\\u1eefng h\\u1ea1n_ch\\u1ebf , thi\\u1ebfu_s\\u00f3t trong c\\u00f4ng_t\\u00e1c \\u0111i\\u1ec1u_tra . X\\u1eed_l\\u00fd nghi\\u00eam nh\\u1eefng tr\\u01b0\\u1eddng_h\\u1ee3p vi_ph\\u1ea1m v\\u00e0 tr\\u00e1ch_nhi\\u1ec7m c\\u1ee7a th\\u1ee7_tr\\u01b0\\u1edfng c\\u01a1_quan \\u0111i\\u1ec1u_tra \\u0111\\u1ec3 x\\u1ea3y ra oan sai ho\\u1eb7c b\\u1ee9c cung nh\\u1ee5c_h\\u00ecnh . N\\u0103m 2015 , l\\u1ef1c_l\\u01b0\\u1ee3ng c\\u00f4ng_an \\u0111\\u00e3 x\\u1eed_l\\u00fd 26 \\u0111i\\u1ec1u_tra_vi\\u00ean vi_ph\\u1ea1m ph\\u00e1p_lu\\u1eadt trong ho\\u1ea1t_\\u0111\\u1ed9ng \\u0111i\\u1ec1u_tra , trong \\u0111\\u00f3 c\\u00f3 2 \\u0111i\\u1ec1u_tra_vi\\u00ean b\\u1ecb truy_t\\u1ed1 , x\\u1eed_l\\u00fd k\\u1ef7_lu\\u1eadt 2 th\\u1ee7_tr\\u01b0\\u1edfng c\\u01a1_quan \\u0111i\\u1ec1u_tra \\u0111\\u1ec3 x\\u1ea3y ra b\\u1ee9c cung nh\\u1ee5c_h\\u00ecnh , B\\u1ed9_tr\\u01b0\\u1edfng B\\u1ed9 C\\u00f4ng_an n\\u00f3i . B\\u1ed9_tr\\u01b0\\u1edfng B\\u1ed9 C\\u00f4ng_an cho bi\\u1ebft th\\u00eam , qua 115 ngh\\u00ecn \\u0111\\u01a1n tin b\\u00e1o , t\\u1ed1_gi\\u00e1c v\\u1ec1 t\\u1ed9i_ph\\u1ea1m , \\u0111\\u00e3 x\\u1eed_l\\u00fd h\\u01a1n 91,62 % , tri\\u1ec7t_ph\\u00e1 h\\u01a1n 4.452 b\\u0103ng_nh\\u00f3m t\\u1ed9i_ph\\u1ea1m . T\\u1ef7_l\\u1ec7 \\u0111i\\u1ec1u_tra kh\\u00e1m_ph\\u00e1 v\\u1ec1 t\\u1ed9i_ph\\u1ea1m tr\\u1eadt_t\\u1ef1 x\\u00e3_h\\u1ed9i \\u0111\\u1ea1t h\\u01a1n 78,25 % , t\\u0103ng 0,95 % ; \\u00e1n r\\u1ea5t nghi\\u00eam_tr\\u1ecdng v\\u00e0 \\u0111\\u1eb7c_bi\\u1ec7t nghi\\u00eam_tr\\u1ecdng \\u0111\\u1ea1t 91,08 % ; \\u0111\\u00e3 b\\u1eaft v\\u00e0 v\\u1eadn_\\u0111\\u1ed9ng \\u0111\\u01b0\\u1ee3c 9.101 \\u0111\\u1ed1i_t\\u01b0\\u1ee3ng b\\u1ecb truy_n\\u00e3 ra \\u0111\\u1ea7u_th\\u00fa trong \\u0111\\u00f3 c\\u00f3 2.063 \\u0111\\u1ed1i_t\\u01b0\\u1ee3ng nguy_hi\\u1ec3m , \\u0111\\u1eb7c_bi\\u1ec7t nguy_hi\\u1ec3m . Ri\\u00eang l\\u0129nh_v\\u1ef1c \\u0111\\u1ea3m_b\\u1ea3o an_to\\u00e0n giao_th\\u00f4ng \\u0111\\u00e3 x\\u1eed_ph\\u1ea1t g\\u1ea7n 4,8 tri\\u1ec7u l\\u01b0\\u1ee3t , x\\u1eed_ph\\u1ea1t g\\u1ea7n 3.000 t\\u1ef7 \\u0111\\u1ed3ng , g\\u00f3p_ph\\u1ea7n gi\\u1ea3m_thi\\u1ec3u tai_n\\u1ea1n giao_th\\u00f4ng tr\\u00ean c\\u1ea3 3 ti\\u00eau_ch\\u00ed . Theo B\\u1ed9_tr\\u01b0\\u1edfng Quang nh\\u00ecn l\\u1ea1i c\\u00e1c k\\u1ebft_qu\\u1ea3 c\\u00f4ng_t\\u00e1c t\\u1eeb \\u0111\\u1ea7u nhi\\u1ec7m_k\\u1ef3 Qu\\u1ed1c_h\\u1ed9i \\u0111\\u1ebfn nay cho th\\u1ea5y , m\\u1eb7c_d\\u00f9 b\\u1ed1i_c\\u1ea3nh th\\u1ebf_gi\\u1edbi , khu_v\\u1ef1c c\\u00f3 nhi\\u1ec1u ph\\u1ee9c_t\\u1ea1p , t\\u00e1c_\\u0111\\u1ed9ng tr\\u1ef1c_ti\\u1ebfp \\u0111\\u1ebfn c\\u00f4ng_t\\u00e1c ph\\u00f2ng_ng\\u1eeba ch\\u1ed1ng vi_ph\\u1ea1m ph\\u00e1p_lu\\u1eadt , t\\u1ed9i_ph\\u1ea1m nh\\u01b0ng c\\u00f4ng_t\\u00e1c ph\\u00f2ng_ng\\u1eeba , ch\\u1ed1ng vi_ph\\u1ea1m , t\\u1ed9i_ph\\u1ea1m \\u0111\\u00e3 c\\u00f3 nh\\u1eefng chuy\\u1ec3n_bi\\u1ebfn t\\u00edch_c\\u1ef1c . Ho\\u00e0i_Thu .\"\n        ],\n        \"semantic_type\": \"\",\n        \"description\": \"\"\n      }\n    },\n    {\n      \"column\": \"summary\",\n      \"properties\": {\n        \"dtype\": \"string\",\n        \"num_unique_values\": 5,\n        \"samples\": [\n          \"Sau khi \\u0111\\u1ecdc c\\u00e1c b\\u00e0i b\\u00e1o v\\u1ec1 \\u0111\\u00e1y B\\u0110S , nhi\\u1ec1u b\\u1ea1n \\u0111\\u00e3 g\\u1eedi email ph\\u1ea3n_h\\u1ed3i v\\u1ec1 B\\u00e1o_VietNamNet . Theo c\\u00e1c \\u00fd_ki\\u1ebfn c\\u1ee7a h\\u1ecd , \\u0111\\u00e1y B\\u0110S s\\u1ebd ph\\u1ee5_thu\\u1ed9c v\\u00e0o ng\\u01b0\\u1eddi mua v\\u00e0 ph\\u1ee5_thu\\u1ed9c v\\u00e0o t\\u00ecnh_h\\u00ecnh kinh_t\\u1ebf c\\u1ee7a n\\u01b0\\u1edbc .\",\n          \"GPBank c\\u00f3 x\\u00e1c_su\\u1ea5t th\\u00e0nh_c\\u00f4ng cao trong vi\\u1ec7c b\\u00e1n l\\u1ea1i cho \\u0111\\u1ed1i_t\\u00e1c ngo\\u1ea1i . T\\u1eadp_\\u0111o\\u00e0n UOB ( Singapore ) \\u0111\\u00e3 \\u0111\\u01b0\\u1ee3c NHNN cho_ph\\u00e9p ti\\u1ebfp_c\\u1eadn \\u0111\\u1ec3 n\\u1eafm_b\\u1eaft t\\u00ecnh_h\\u00ecnh s\\u1ee9c_kh\\u1ecfe c\\u1ee7a GPBank tr\\u01b0\\u1edbc khi th\\u1ea3o_lu\\u1eadn v\\u1ec1 gi\\u00e1_c\\u1ea3 . Kh\\u1ea3_n\\u0103ng , th\\u01b0\\u01a1ng_v\\u1ee5 n\\u00e0y s\\u1ebd di\\u1ec5n ra v\\u00e0o \\u0111\\u1ea7u n\\u0103m 2014 . Tuy_nhi\\u00ean , vi\\u1ec7c ho\\u00e0n_t\\u1ea5t th\\u01b0\\u01a1ng_v\\u1ee5 b\\u1ecb ch\\u1eadm l\\u1ea1i do t\\u1ef7_l\\u1ec7 s\\u1edf_h\\u1eefu c\\u1ed5_ph\\u1ea7n c\\u1ee7a nh\\u00e0_\\u0111\\u1ea7u_t\\u01b0 n\\u01b0\\u1edbc_ngo\\u00e0i hi\\u1ec7n v\\u1eabn \\u0111ang b\\u1ecb kh\\u1ed1ng_ch\\u1ebf \\u1edf m\\u1ee9c 20 % . N\\u0103m 2014 , d\\u1ef1_b\\u00e1o s\\u1ebd c\\u00f3 nhi\\u1ec1u th\\u01b0\\u01a1ng_v\\u1ee5 M&A ; ng\\u00e2n_h\\u00e0ng di\\u1ec5n ra , c\\u00f3 nhi\\u1ec1u \\u00f4ng ch\\u1ee7 m\\u1edbi xu\\u1ea5t_hi\\u1ec7n .\",\n          \"N\\u0103m 2015 , B\\u1ed9_tr\\u01b0\\u1edfng B\\u1ed9 C\\u00f4ng_an Tr\\u1ea7n_\\u0110\\u1ea1i_Quang \\u0111\\u00e3 b\\u00e1o_c\\u00e1o v\\u1ec1 c\\u00f4ng_t\\u00e1c ph\\u00f2ng_ch\\u1ed1ng t\\u1ed9i_ph\\u1ea1m tr\\u01b0\\u1edbc Qu\\u1ed1c_h\\u1ed9i . Theo b\\u00e1o_c\\u00e1o , c\\u01a1_quan \\u0111i\\u1ec1u_tra c\\u00e1c c\\u1ea5p \\u0111\\u00e3 \\u0111i\\u1ec1u_tra , th\\u1ee5_l\\u00fd h\\u01a1n 98.857_ngh\\u00ecn v\\u1ee5 \\u00e1n , v\\u1edbi 157.885_ngh\\u00ecn b\\u1ecb_can , gi\\u1ea3m c\\u1ea3 v\\u1ec1 s\\u1ed1 v\\u1ee5 v\\u00e0 s\\u1ed1 b\\u1ecb_can . C\\u00e1c c\\u01a1_quan c\\u00f4ng_an c\\u0169ng \\u0111\\u00e3 k\\u1ebft_lu\\u1eadn \\u0111i\\u1ec1u_tra chuy\\u1ec3n Vi\\u1ec7n_ki\\u1ec3m_s\\u00e1t truy_t\\u1ed1 67.791_v\\u1ee5 118.693 b\\u1ecb_can . L\\u1ef1c_l\\u01b0\\u1ee3ng c\\u00f4ng_an c\\u0169ng \\u0111\\u00e3 x\\u1eed_l\\u00fd 26 \\u0111i\\u1ec1u_tra_vi\\u00ean vi_ph\\u1ea1m ph\\u00e1p_lu\\u1eadt trong ho\\u1ea1t_\\u0111\\u1ed9ng \\u0111i\\u1ec1u_tra , trong \\u0111\\u00f3 c\\u00f3 2 \\u0111i\\u1ec1u_tra_vi\\u00ean b\\u1ecb truy_t\\u1ed1 , x\\u1eed_l\\u00fd k\\u1ef7_lu\\u1eadt 2 th\\u1ee7_tr\\u01b0\\u1edfng c\\u01a1_quan \\u0111i\\u1ec1u_tra \\u0111\\u1ec3 x\\u1ea3y ra b\\u1ee9c cung nh\\u1ee5c_h\\u00ecnh . C\\u00e1c c\\u01a1_quan c\\u00f4ng_an c\\u0169ng \\u0111\\u00e3 tri\\u1ec7t_ph\\u00e1 h\\u01a1n 4.452 b\\u0103ng_nh\\u00f3m t\\u1ed9i_ph\\u1ea1m , b\\u1eaft v\\u00e0 v\\u1eadn_\\u0111\\u1ed9ng \\u0111\\u01b0\\u1ee3c 9.101 \\u0111\\u1ed1i_t\\u01b0\\u1ee3ng b\\u1ecb truy_n\\u00e3 ra \\u0111\\u1ea7u_th\\u00fa .\"\n        ],\n        \"semantic_type\": \"\",\n        \"description\": \"\"\n      }\n    },\n    {\n      \"column\": \"content_num_words\",\n      \"properties\": {\n        \"dtype\": \"number\",\n        \"std\": 152,\n        \"min\": 493,\n        \"max\": 889,\n        \"num_unique_values\": 5,\n        \"samples\": [\n          889,\n          686,\n          571\n        ],\n        \"semantic_type\": \"\",\n        \"description\": \"\"\n      }\n    },\n    {\n      \"column\": \"summary_num_words\",\n      \"properties\": {\n        \"dtype\": \"number\",\n        \"std\": 40,\n        \"min\": 40,\n        \"max\": 150,\n        \"num_unique_values\": 5,\n        \"samples\": [\n          40,\n          93,\n          115\n        ],\n        \"semantic_type\": \"\",\n        \"description\": \"\"\n      }\n    }\n  ]\n}",
              "type": "dataframe"
            },
            "text/html": [
              "\n",
              "  <div id=\"df-0f24d826-23d8-4313-ad92-3fb0747be461\" class=\"colab-df-container\">\n",
              "    <div>\n",
              "<style scoped>\n",
              "    .dataframe tbody tr th:only-of-type {\n",
              "        vertical-align: middle;\n",
              "    }\n",
              "\n",
              "    .dataframe tbody tr th {\n",
              "        vertical-align: top;\n",
              "    }\n",
              "\n",
              "    .dataframe thead th {\n",
              "        text-align: right;\n",
              "    }\n",
              "</style>\n",
              "<table border=\"1\" class=\"dataframe\">\n",
              "  <thead>\n",
              "    <tr style=\"text-align: right;\">\n",
              "      <th></th>\n",
              "      <th>content</th>\n",
              "      <th>summary</th>\n",
              "      <th>content_num_words</th>\n",
              "      <th>summary_num_words</th>\n",
              "    </tr>\n",
              "  </thead>\n",
              "  <tbody>\n",
              "    <tr>\n",
              "      <th>39783</th>\n",
              "      <td>Mới_đây , tại Triển_lãm mô_tô xe_máy Việt_Nam ...</td>\n",
              "      <td>Triển_lãm mô_tô xe_máy Việt_Nam 2017 là sự hội...</td>\n",
              "      <td>591</td>\n",
              "      <td>83</td>\n",
              "    </tr>\n",
              "    <tr>\n",
              "      <th>54866</th>\n",
              "      <td>- Sau khi đọc các bài : Đáy nào cho BĐS ? , Đá...</td>\n",
              "      <td>Sau khi đọc các bài báo về đáy BĐS , nhiều bạn...</td>\n",
              "      <td>889</td>\n",
              "      <td>40</td>\n",
              "    </tr>\n",
              "    <tr>\n",
              "      <th>3515</th>\n",
              "      <td>Theo báo_cáo của Bộ_trưởng Bộ Công_an Trần_Đại...</td>\n",
              "      <td>Năm 2015 , Bộ_trưởng Bộ Công_an Trần_Đại_Quang...</td>\n",
              "      <td>571</td>\n",
              "      <td>115</td>\n",
              "    </tr>\n",
              "    <tr>\n",
              "      <th>10837</th>\n",
              "      <td>Thái_Bình Ruộng lúa ở Phillippines_năng_suất t...</td>\n",
              "      <td>Philippines thường_xuyên phải nhập_khẩu lương_...</td>\n",
              "      <td>493</td>\n",
              "      <td>150</td>\n",
              "    </tr>\n",
              "    <tr>\n",
              "      <th>58519</th>\n",
              "      <td>GPBank sắp ngã giá_thành_công . Trong Chương_t...</td>\n",
              "      <td>GPBank có xác_suất thành_công cao trong việc b...</td>\n",
              "      <td>686</td>\n",
              "      <td>93</td>\n",
              "    </tr>\n",
              "  </tbody>\n",
              "</table>\n",
              "</div>\n",
              "    <div class=\"colab-df-buttons\">\n",
              "\n",
              "  <div class=\"colab-df-container\">\n",
              "    <button class=\"colab-df-convert\" onclick=\"convertToInteractive('df-0f24d826-23d8-4313-ad92-3fb0747be461')\"\n",
              "            title=\"Convert this dataframe to an interactive table.\"\n",
              "            style=\"display:none;\">\n",
              "\n",
              "  <svg xmlns=\"http://www.w3.org/2000/svg\" height=\"24px\" viewBox=\"0 -960 960 960\">\n",
              "    <path d=\"M120-120v-720h720v720H120Zm60-500h600v-160H180v160Zm220 220h160v-160H400v160Zm0 220h160v-160H400v160ZM180-400h160v-160H180v160Zm440 0h160v-160H620v160ZM180-180h160v-160H180v160Zm440 0h160v-160H620v160Z\"/>\n",
              "  </svg>\n",
              "    </button>\n",
              "\n",
              "  <style>\n",
              "    .colab-df-container {\n",
              "      display:flex;\n",
              "      gap: 12px;\n",
              "    }\n",
              "\n",
              "    .colab-df-convert {\n",
              "      background-color: #E8F0FE;\n",
              "      border: none;\n",
              "      border-radius: 50%;\n",
              "      cursor: pointer;\n",
              "      display: none;\n",
              "      fill: #1967D2;\n",
              "      height: 32px;\n",
              "      padding: 0 0 0 0;\n",
              "      width: 32px;\n",
              "    }\n",
              "\n",
              "    .colab-df-convert:hover {\n",
              "      background-color: #E2EBFA;\n",
              "      box-shadow: 0px 1px 2px rgba(60, 64, 67, 0.3), 0px 1px 3px 1px rgba(60, 64, 67, 0.15);\n",
              "      fill: #174EA6;\n",
              "    }\n",
              "\n",
              "    .colab-df-buttons div {\n",
              "      margin-bottom: 4px;\n",
              "    }\n",
              "\n",
              "    [theme=dark] .colab-df-convert {\n",
              "      background-color: #3B4455;\n",
              "      fill: #D2E3FC;\n",
              "    }\n",
              "\n",
              "    [theme=dark] .colab-df-convert:hover {\n",
              "      background-color: #434B5C;\n",
              "      box-shadow: 0px 1px 3px 1px rgba(0, 0, 0, 0.15);\n",
              "      filter: drop-shadow(0px 1px 2px rgba(0, 0, 0, 0.3));\n",
              "      fill: #FFFFFF;\n",
              "    }\n",
              "  </style>\n",
              "\n",
              "    <script>\n",
              "      const buttonEl =\n",
              "        document.querySelector('#df-0f24d826-23d8-4313-ad92-3fb0747be461 button.colab-df-convert');\n",
              "      buttonEl.style.display =\n",
              "        google.colab.kernel.accessAllowed ? 'block' : 'none';\n",
              "\n",
              "      async function convertToInteractive(key) {\n",
              "        const element = document.querySelector('#df-0f24d826-23d8-4313-ad92-3fb0747be461');\n",
              "        const dataTable =\n",
              "          await google.colab.kernel.invokeFunction('convertToInteractive',\n",
              "                                                    [key], {});\n",
              "        if (!dataTable) return;\n",
              "\n",
              "        const docLinkHtml = 'Like what you see? Visit the ' +\n",
              "          '<a target=\"_blank\" href=https://colab.research.google.com/notebooks/data_table.ipynb>data table notebook</a>'\n",
              "          + ' to learn more about interactive tables.';\n",
              "        element.innerHTML = '';\n",
              "        dataTable['output_type'] = 'display_data';\n",
              "        await google.colab.output.renderOutput(dataTable, element);\n",
              "        const docLink = document.createElement('div');\n",
              "        docLink.innerHTML = docLinkHtml;\n",
              "        element.appendChild(docLink);\n",
              "      }\n",
              "    </script>\n",
              "  </div>\n",
              "\n",
              "\n",
              "    <div id=\"df-5f0cbfcc-42a9-4f3c-9731-6335ab7bcad0\">\n",
              "      <button class=\"colab-df-quickchart\" onclick=\"quickchart('df-5f0cbfcc-42a9-4f3c-9731-6335ab7bcad0')\"\n",
              "                title=\"Suggest charts\"\n",
              "                style=\"display:none;\">\n",
              "\n",
              "<svg xmlns=\"http://www.w3.org/2000/svg\" height=\"24px\"viewBox=\"0 0 24 24\"\n",
              "     width=\"24px\">\n",
              "    <g>\n",
              "        <path d=\"M19 3H5c-1.1 0-2 .9-2 2v14c0 1.1.9 2 2 2h14c1.1 0 2-.9 2-2V5c0-1.1-.9-2-2-2zM9 17H7v-7h2v7zm4 0h-2V7h2v10zm4 0h-2v-4h2v4z\"/>\n",
              "    </g>\n",
              "</svg>\n",
              "      </button>\n",
              "\n",
              "<style>\n",
              "  .colab-df-quickchart {\n",
              "      --bg-color: #E8F0FE;\n",
              "      --fill-color: #1967D2;\n",
              "      --hover-bg-color: #E2EBFA;\n",
              "      --hover-fill-color: #174EA6;\n",
              "      --disabled-fill-color: #AAA;\n",
              "      --disabled-bg-color: #DDD;\n",
              "  }\n",
              "\n",
              "  [theme=dark] .colab-df-quickchart {\n",
              "      --bg-color: #3B4455;\n",
              "      --fill-color: #D2E3FC;\n",
              "      --hover-bg-color: #434B5C;\n",
              "      --hover-fill-color: #FFFFFF;\n",
              "      --disabled-bg-color: #3B4455;\n",
              "      --disabled-fill-color: #666;\n",
              "  }\n",
              "\n",
              "  .colab-df-quickchart {\n",
              "    background-color: var(--bg-color);\n",
              "    border: none;\n",
              "    border-radius: 50%;\n",
              "    cursor: pointer;\n",
              "    display: none;\n",
              "    fill: var(--fill-color);\n",
              "    height: 32px;\n",
              "    padding: 0;\n",
              "    width: 32px;\n",
              "  }\n",
              "\n",
              "  .colab-df-quickchart:hover {\n",
              "    background-color: var(--hover-bg-color);\n",
              "    box-shadow: 0 1px 2px rgba(60, 64, 67, 0.3), 0 1px 3px 1px rgba(60, 64, 67, 0.15);\n",
              "    fill: var(--button-hover-fill-color);\n",
              "  }\n",
              "\n",
              "  .colab-df-quickchart-complete:disabled,\n",
              "  .colab-df-quickchart-complete:disabled:hover {\n",
              "    background-color: var(--disabled-bg-color);\n",
              "    fill: var(--disabled-fill-color);\n",
              "    box-shadow: none;\n",
              "  }\n",
              "\n",
              "  .colab-df-spinner {\n",
              "    border: 2px solid var(--fill-color);\n",
              "    border-color: transparent;\n",
              "    border-bottom-color: var(--fill-color);\n",
              "    animation:\n",
              "      spin 1s steps(1) infinite;\n",
              "  }\n",
              "\n",
              "  @keyframes spin {\n",
              "    0% {\n",
              "      border-color: transparent;\n",
              "      border-bottom-color: var(--fill-color);\n",
              "      border-left-color: var(--fill-color);\n",
              "    }\n",
              "    20% {\n",
              "      border-color: transparent;\n",
              "      border-left-color: var(--fill-color);\n",
              "      border-top-color: var(--fill-color);\n",
              "    }\n",
              "    30% {\n",
              "      border-color: transparent;\n",
              "      border-left-color: var(--fill-color);\n",
              "      border-top-color: var(--fill-color);\n",
              "      border-right-color: var(--fill-color);\n",
              "    }\n",
              "    40% {\n",
              "      border-color: transparent;\n",
              "      border-right-color: var(--fill-color);\n",
              "      border-top-color: var(--fill-color);\n",
              "    }\n",
              "    60% {\n",
              "      border-color: transparent;\n",
              "      border-right-color: var(--fill-color);\n",
              "    }\n",
              "    80% {\n",
              "      border-color: transparent;\n",
              "      border-right-color: var(--fill-color);\n",
              "      border-bottom-color: var(--fill-color);\n",
              "    }\n",
              "    90% {\n",
              "      border-color: transparent;\n",
              "      border-bottom-color: var(--fill-color);\n",
              "    }\n",
              "  }\n",
              "</style>\n",
              "\n",
              "      <script>\n",
              "        async function quickchart(key) {\n",
              "          const quickchartButtonEl =\n",
              "            document.querySelector('#' + key + ' button');\n",
              "          quickchartButtonEl.disabled = true;  // To prevent multiple clicks.\n",
              "          quickchartButtonEl.classList.add('colab-df-spinner');\n",
              "          try {\n",
              "            const charts = await google.colab.kernel.invokeFunction(\n",
              "                'suggestCharts', [key], {});\n",
              "          } catch (error) {\n",
              "            console.error('Error during call to suggestCharts:', error);\n",
              "          }\n",
              "          quickchartButtonEl.classList.remove('colab-df-spinner');\n",
              "          quickchartButtonEl.classList.add('colab-df-quickchart-complete');\n",
              "        }\n",
              "        (() => {\n",
              "          let quickchartButtonEl =\n",
              "            document.querySelector('#df-5f0cbfcc-42a9-4f3c-9731-6335ab7bcad0 button');\n",
              "          quickchartButtonEl.style.display =\n",
              "            google.colab.kernel.accessAllowed ? 'block' : 'none';\n",
              "        })();\n",
              "      </script>\n",
              "    </div>\n",
              "\n",
              "    </div>\n",
              "  </div>\n"
            ],
            "text/plain": [
              "                                                 content  \\\n",
              "39783  Mới_đây , tại Triển_lãm mô_tô xe_máy Việt_Nam ...   \n",
              "54866  - Sau khi đọc các bài : Đáy nào cho BĐS ? , Đá...   \n",
              "3515   Theo báo_cáo của Bộ_trưởng Bộ Công_an Trần_Đại...   \n",
              "10837  Thái_Bình Ruộng lúa ở Phillippines_năng_suất t...   \n",
              "58519  GPBank sắp ngã giá_thành_công . Trong Chương_t...   \n",
              "\n",
              "                                                 summary  content_num_words  \\\n",
              "39783  Triển_lãm mô_tô xe_máy Việt_Nam 2017 là sự hội...                591   \n",
              "54866  Sau khi đọc các bài báo về đáy BĐS , nhiều bạn...                889   \n",
              "3515   Năm 2015 , Bộ_trưởng Bộ Công_an Trần_Đại_Quang...                571   \n",
              "10837  Philippines thường_xuyên phải nhập_khẩu lương_...                493   \n",
              "58519  GPBank có xác_suất thành_công cao trong việc b...                686   \n",
              "\n",
              "       summary_num_words  \n",
              "39783                 83  \n",
              "54866                 40  \n",
              "3515                 115  \n",
              "10837                150  \n",
              "58519                 93  "
            ]
          },
          "execution_count": 16,
          "metadata": {},
          "output_type": "execute_result"
        }
      ],
      "source": [
        "raw_df.to_csv('/content/drive/MyDrive/data/cleaned_data.csv', index=False, encoding='utf-8')\n",
        "\n",
        "raw_df.sample(5)"
      ]
    },
    {
      "cell_type": "markdown",
      "metadata": {
        "id": "jJGXViLrB_jn"
      },
      "source": [
        "# **Phân cụm nội dung**"
      ]
    },
    {
      "cell_type": "code",
      "execution_count": 2,
      "metadata": {
        "colab": {
          "base_uri": "https://localhost:8080/",
          "height": 206
        },
        "id": "Sj0NPWX1VDo-",
        "outputId": "e46e99b4-704e-4938-89c2-433eae4245ce"
      },
      "outputs": [
        {
          "data": {
            "application/vnd.microsoft.datawrangler.viewer.v0+json": {
              "columns": [
                {
                  "name": "index",
                  "rawType": "int64",
                  "type": "integer"
                },
                {
                  "name": "content",
                  "rawType": "object",
                  "type": "string"
                },
                {
                  "name": "summary",
                  "rawType": "object",
                  "type": "string"
                },
                {
                  "name": "content_num_words",
                  "rawType": "int64",
                  "type": "integer"
                },
                {
                  "name": "summary_num_words",
                  "rawType": "int64",
                  "type": "integer"
                }
              ],
              "conversionMethod": "pd.DataFrame",
              "ref": "0a46a550-eabd-437d-964f-1d57f43d5aaa",
              "rows": [
                [
                  "0",
                  "Thủ_tướng Nguyễn_Xuân_Phúc và Bộ_trưởng Ngoại_giao Nhật_Bản Taro_Kono - Ảnh : VGP / Quang_Hiếu . Tại buổi tiếp , Thủ_tướng Nguyễn_Xuân_Phúc bày_tỏ vui_mừng trước sự phát_triển nhanh_chóng , thực_chất và toàn_diện của quan_hệ Đối_tác chiến_lược sâu_rộng Việt_Nam - Nhật_Bản ; cho rằng việc hai nước đẩy_mạnh trao_đổi và tiếp_xúc đoàn cấp cao thời_gian qua đã giúp tăng_cường sự tin_cậy - điều_kiện quan_trọng để thúc_đẩy quan_hệ Việt_Nam - Nhật_Bản phát_triển hơn_nữa trên mọi lĩnh_vực ; mong_muốn tăng_cường hợp_tác ASEAN - Nhật_Bản và Mekong - Nhật_Bản , nhất_là khi Việt_Nam đảm_nhiệm vai_trò Điều_phối_viên quan_hệ ASEAN - Nhật_Bản giai_đoạn 2018 - 2021 ; đánh_giá cao Nhật_Bản đã cung_cấp vốn hỗ_trợ phát_triển chính_thức ODA cho Việt_Nam thời_gian qua , khẳng_định Chính_phủ Việt_Nam coi_trọng và nỗ_lực thực_hiện hiệu_quả các dự_án vốn vay ODA giữa hai nước . Ảnh : VGP / Quang_Hiếu . Thủ_tướng Nguyễn_Xuân_Phúc đề_nghị Bộ_trưởng Ngoại_giao Nhật_Bản quan_tâm thúc_đẩy liên_kết kinh_tế giữa 2 nước , đặc_biệt là những lĩnh_vực có nhiều tiềm_năng như hợp_tác thương_mại , đầu_tư , đào_tạo nguồn nhân_lực ; tiếp_tục cung_cấp vốn vay ODA cho Việt_Nam trong các lĩnh_vực xây_dựng cơ_sở_hạ_tầng , đào_tạo nguồn nhân_lực , ứng_phó với biến_đổi khí_hậu ; thúc_đẩy hợp_tác trong lĩnh_vực cải_cách hành_chính , hỗ_trợ Việt_Nam xây_dựng chính_phủ_điện_tử ; phối_hợp thực_hiện Hiệp_định Đối_tác Toàn_diện và Tiến_bộ xuyên Thái_Bình_Dương ( CPTPP ) và trong đàm_phán Hiệp_định Đối_tác kinh_tế khu_vực ( RCEP ) ; tăng_cường tiếp_nhận lao_động Việt_Nam , thúc_đẩy giao_lưu nhân_dân và cùng phối_hợp chặt_chẽ trong các vấn_đề quốc_tế và khu_vực thời_gian tới . Thủ_tướng Nguyễn_Xuân_Phúc cũng đánh_giá cao các hoạt_động kỷ_niệm có ý_nghĩa đang diễn ra tại hai nước nhân_dịp kỷ_niệm 45 năm thiết_lập quan_hệ ngoại_giao Việt_Nam - Nhật_Bản , góp_phần quan_trọng vào tăng_cường hiểu_biết , thúc_đẩy giao_lưu nhân_dân giữa hai nước . Ảnh : VGP / Quang_Hiếu . Bộ_trưởng Taro_Kono bày_tỏ vui_mừng được quay lại Hà_Nội sau 27 năm , đúng vào dịp kỷ_niệm 45 năm thiết_lập quan_hệ ngoại_giao và tham_dự các hoạt_động của Hội_nghị WEF_ASEAN tại Việt_Nam ; bày_tỏ mong_muốn đóng_góp vào thành_công của Hội_nghị và thúc_đẩy hơn_nữa quan_hệ hợp_tác Việt_Nam - Nhật_Bản . Bộ_trưởng khẳng_định Nhật_Bản đánh_giá cao vai_trò ngày_càng chủ_động và đóng_góp tích_cực của Việt_Nam trong các vấn_đề quốc_tế và khu_vực ; cảm_ơn việc Thủ_tướng sẽ dự Hội_nghị Cấp cao Mekong - Nhật_Bản thời_gian tới theo lời mời của Chính_phủ Nhật_Bản , đề_nghị hai bên phối_hợp chặt_chẽ vì thành_công của Hội_nghị . Bộ_trưởng Taro_Kono khẳng_định Nhật_Bản sẽ hỗ_trợ Việt_Nam nâng cao năng_suất lao_động , chia_sẻ kinh_nghiệm trong xây_dựng Chính_phủ_điện_tử ; ủng_hộ quan_điểm của Việt_Nam và các nước ASEAN trong vấn_đề Biển_Đông khi Việt_Nam đảm_nhiệm vai_trò Điều_phối_viên Quan_hệ ASEAN - Nhật_Bản từ năm 2018 . Đức_Tuân .",
                  "Thủ_tướng Nguyễn_Xuân_Phúc và Bộ_trưởng Ngoại_giao Nhật_Bản Taro_Kono đã có buổi tiếp để thảo_luận về việc phát_triển quan_hệ Đối_tác chiến_lược sâu_rộng giữa Việt_Nam và Nhật_Bản . Thủ_tướng Nguyễn_Xuân_Phúc đề_nghị Bộ_trưởng Ngoại_giao Nhật_Bản quan_tâm thúc_đẩy liên_kết kinh_tế giữa 2 nước , cung_cấp vốn vay ODA cho Việt_Nam , tăng_cường tiếp_nhận lao_động Việt_Nam và cùng phối_hợp chặt_chẽ trong các vấn_đề quốc_tế và khu_vực . Bộ_trưởng Taro_Kono bày_tỏ mong_muốn đóng_góp vào thành_công của Hội_nghị WEF_ASEAN tại Việt_Nam , hỗ_trợ Việt_Nam nâng cao năng_suất lao_động , chia_sẻ kinh_nghiệm trong xây_dựng Chính_phủ_điện_tử và ủng_hộ quan_điểm của Việt_Nam và các nước ASEAN trong vấn_đề Biển_Đông .",
                  "433",
                  "99"
                ],
                [
                  "1",
                  "Suốt bao năm , để dòng tranh này không bị rơi vào quên_lãng , mỗi ngày người ta đều thấy ông Đạt cặm_cụi làm_nên những bức tranh từ mũi dao , cán đục . Ông bảo , tranh sơn_khắc ở nước ta ra_đời sớm nhất và còn đẹp hơn cả tranh sơn_khắc của Nhật . Quý_giá như_vậy nên ông chẳng_thể để nghề mai_một trong sự chông_chênh của thời_cuộc . Một trong những sản_phẩm sơn_khắc của ông Đạt được trả 25 triệu . Theo ông Đạt , thời_điểm năm 1945 đến 1995 là lúc tranh sơn_khắc ở nước ta phát_triển mạnh nhất . Thời_điểm đó , các sản_phẩm của Hạ_Thái chiếm tới 70 % hàng xuất_khẩu , giải_quyết được công_ăn_việc_làm cho người_dân trong làng và cả các địa_phương khác , đem lại cuộc_sống khấm_khá cho nhiều hộ gia_đình . Say_mê hội họa từ nhỏ , nên chuyện ông Đạt đến với tranh sơn_khắc như một mối duyên tiền_định . Khi mới tiếp_xúc với những bức tranh này , ông Đạt như bị lôi_cuốn chẳng_thể_nào dứt ra được . Học hết cấp 3 , tôi thi vào Đại_học sư_phạm nhưng sức khỏe không đảm_bảo nên xin vào làm thợ vẽ trong xưởng của hợp_tác_xã . Năm 1979 , tôi được hợp_tác_xã cử đi học thêm ở trường Mỹ_Nghệ . Khi về lại xưởng , nhờ_năng khiếu_hội họa nên tôi được chuyển sang khâu đoạn khảm trai rồi sang tranh_khắc . Tôi làm tranh_khắc từ đó đến giờ ông Đạt chia_sẻ . Theo lời ông Đạt , học sơn_khắc khó bởi cách vẽ của dòng tranh này khác hẳn với sơn_mài . Nếu_như sơn_mài người ta có_thể vẽ bằng chổi hay bút_lông , cũng có_khi là chất_liệu mềm rồi mới quét sơn lên_vóc thì sơn_khắc khâu đoạn lại làm khác hẳn . Sơn_khắc là nghệ_thuật của đồ_họa , sự hoàn_thiện của bức tranh phụ_thuộc vào những nét chạm_khắc và những mảng hình tinh_tế , giàu cảm_xúc . Cuối_cùng mới là việc tô màu nhằm tạo sự khắc_họa mạnh . Như một lẽ xoay_vần tự_nhiên , sự phát_triển của làng_nghề Hạ_Thái dần chùng xuống . Làng_nghề bước vào thời_kỳ suy_thoái , đặc_biệt là trong giai_đoạn khủng_hoảng_kinh_tế Đông_Âu từ 1984 đến 1990 đã làm hợp_tác_xã tan_rã . Ông Đạt khi đó cũng như bao người thợ khác đều phải quay về làm_ruộng . Ông Đạt giải_thích , tranh sơn_khắc xuất_phát từ gốc tranh sơn_mài . Nếu_như ở tranh sơn_mài thông_thường , để có một tấm_vóc vẽ người ta phủ sơn ta , vải lên tấm gỗ và mài phẳng thì tranh sơn_khắc độc_đáo ở chỗ , phải sử_dụng kỹ_thuật thủ_công để khắc lên tấm vóc sơn_mài . Tranh sơn_khắc từ phôi_thai , phác_thảo đến lúc hoàn_thành có_khi kéo_dài cả năm trời . Chẳng_hạn , riêng công_khắc ở bức tranh_khổ nhỏ thường tôi làm cả ngày lẫn đêm thì mất 2 ngày , phối màu mất 3 ngày . Để người trẻ học được nghề cũng sẽ mất khoảng 6 tháng đến 1 năm - ông Trần_Thành_Đạt chia_sẻ . Tranh_sơn_khắc đòi_hỏi rất kỹ về phác_thảo , bố_cục , cũng như mảng màu sáng tối mà màu đen của vóc là chủ_đạo . Dù trên diện_tích bức tranh_khổ lớn bao_nhiêu nó vẫn rất cần kỹ_càng và chính_xác đến từng xen-ti-met . Nếu sai , bức tranh sẽ gần như bị hỏng , các đường_nét phải khắc_họa lại từ đầu . Kỳ_công là vậy nên giá_thành mỗi sản_phẩm sơn_khắc thường khá cao , trung_bình từ 4 đến 25 triệu đồng / bức tranh . Giá thành cao lại yêu_cầu khắt_khe về mặt kỹ_thuật , mỹ_thuật nên theo Nghệ_nhân Trần_Thành_Đạt , nhiều người trong làng đã từ_bỏ , không làm dòng tranh này nữa . Tranh sơn_khắc làm mất nhiều thời_gian và công_sức nhưng khó bán . Họ đều tập_trung làm tranh sơn_mài , với chất_liệu ngoại_nhập cho rẻ và ít tốn công_sức . Hầu_như cả làng đã quay lưng , bỏ_rơi dòng tranh sơn_khắc vào lãng_quên ông Đạt buồn_bã kể . Được biết , hiện_xưởng sản_xuất tranh của ông Đạt chủ_yếu là các thành_viên trong gia_đình . Ông khoe , hai con trai và con gái đều tốt_nghiệp Trường Đại_học Mĩ_thuật , con rể và các con dâu cũng là họa_sĩ của trường . Tất_cả các thành_viên trong gia_đình ông đều chung_niềm say_mê với sơn_khắc . Đinh_Luyện .",
                  "Ông Đạt Trần_Thành là một trong những nghệ_nhân sơn_khắc của làng_nghề Hạ_Thái , Hà_Nội . Từ năm 1945 đến 1995 , ông Đạt đã nỗ_lực bảo_vệ dòng tranh sơn_khắc của nước ta không bị rơi vào quên_lãng . Ông Đạt cũng là người đã giới_thiệu tranh sơn_khắc của nước ta đến với nhiều quốc_gia khác . Tuy_nhiên , trong giai_đoạn khủng_hoảng_kinh_tế Đông_Âu từ 1984 đến 1990 , làng_nghề Hạ_Thái đã bước vào thời_kỳ suy_thoái . Ông Đạt và nhiều người thợ khác đã phải quay về làm_ruộng . Tuy_nhiên , ông Đạt vẫn nỗ_lực bảo_vệ dòng tranh sơn_khắc của nước ta . Hiện_nay , ông Đạt đã truyền cảm_hứng và kỹ_năng sơn_khắc cho các thành_viên trong gia_đình .",
                  "720",
                  "118"
                ],
                [
                  "2",
                  "Khách qua phà mê_mải ngắm sông như muốn quên đi nỗi âu_lo trong cuộc_sống . Tôi vốn mạng_thổ không quen sông_nước nhưng vẫn để lòng mình trải với mặt_nước đang nhuộm vàng ráng chiều huyền_ảo . Thú_thật nếu mai này vắng bóng những chuyến phà qua_lại hai bờ sông Sài_Gòn , ắt hẳn những người hay hoài_niệm như tôi cảm_thấy trống_trải lắm . Hầm đường_bộ tiện_lợi nằm dưới đáy sông làm_sao mang lại cảm_giác bồng_bềnh của con phà lướt sóng . Làm_sao còn cảm_giác nao_lòng khi xuống bờ bên quận 2 để về với rừng dừa_nước xanh_rì lao_xao trước gió . Và còn đâu xóm nhỏ bờ Tây_uôm oam ếch_nhái lúc chiều_tà . Vẫn biết thành_phố cần mở_rộng và phát_triển theo quy_luật nhưng chẳng ai cấm người hoài_cổ đứng bên bờ này mà nhớ bên bờ kia . Chẳng ai bắt khách qua đò không được nhớ cô lái_đò đã bỏ bến theo chồng . Để có một ngày , tôi đứng bên bờ sông Sài_Gòn cất_tiếng gọi : Phà ơi ! Những du_khách và người_dân TPHCM thường ra bờ sông hóng_mát và ngắm những chuyến phà qua_lại . Hai cha_con say_sưa ngắm sóng nước . Quận 1 hào_nhoáng nhìn từ một chuyến phà . Nếu mai này vắng đi những chuyến phà xuôi_ngược , dòng sông Sài_Gòn có còn thơ_mộng . Những người làm_việc ở bến phà Thủ_Thiêm chắc_hẳn sẽ không khỏi rưng_rưng khi phải rời bến cũ . Những rừng dừa_nước vên sông rồi cũng sẽ thu_hẹp dần để nhường chỗ cho những đô_thị hiện_đại . Phà ơi ! Những công_nhân trở về vui cùng sông_nước sau một ngày dài mệt_nhọc . Bến_phà Thủ_Thiêm đã hoàn_thành vai_trò đưa đò của nó sau 100 năm hoạt_động . Sóng_lòng . Lê_Anh_Tuấn .",
                  "Những người thường ra bờ sông Sài_Gòn để hóng mát và ngắm những chuyến phà qua_lại . Tuy_nhiên , nếu mai này không còn chuyến phà nữa , những người hoài_niệm sẽ cảm_thấy trống_trải . Bến_phà Thủ_Thiêm đã hoàn_thành vai_trò đưa đò của nó sau 100 năm hoạt_động . Những công_nhân trở về vui cùng sông_nước sau một ngày dài mệt_nhọc . Tuy_nhiên , rừng dừa_nước vên sông sẽ thu_hẹp dần để nhường chỗ cho những đô_thị hiện_đại .",
                  "292",
                  "79"
                ],
                [
                  "3",
                  "Trong thông_báo gửi cổ_đông ngày 22/4 , CTCP Nhiệt_điện Phả_Lại ( PPC ) đưa lý_do của việc tạm_hoãn tổ_chức họp ĐHCĐ là do các yếu_tố khách_quan và tình_hình thiếu điện của quốc_gia , gây ảnh_hưởng đến kế_hoạch sản_xuất - kinh_doanh năm 2010 của Công_ty . Chính vì_vậy , PPC dự_kiến thời_gian tổ_chức đại_hội trước ngày 1/7/2010 . Trước đó , PPC đưa ra kế_hoạch kinh_doanh năm 2010 dự_kiến trình ĐHCĐ thông_qua với doanh_thu 3.650 tỷ đồng , lợi_nhuận trước thuế 159,384 tỷ đồng . Đây là con_số quá bất_ngờ với các NĐT , do năm 2009 , PPC đạt lợi_nhuận trước thuế 886,47 tỷ đồng . Lý_giải theo kế_hoạch sơ_bộ của lãnh_đạo Công_ty là , năm 2009 , do tình_hình thiếu điện quốc_gia nên PPC phải ngừng kế_hoạch sửa_chữa lớn khối 2 và khối 5 . Năm 2010 , Công_ty phải sửa_chữa , điều này sẽ ảnh_hưởng đến tình_hình kinh_doanh . Như_vậy , liệu việc thiếu điện quốc_gia năm nay có tiếp_tục ảnh_hưởng đến kế_hoạch đại_tu , sửa_chữa_lớn của PPC ? Trường_hợp khác là CTCP Nhiệt_điện Bà_Rịa ( BTP ) cũng xin hoãn thời_gian tổ_chức ĐHCĐ thường_niên năm 2010 , với lý_do : BTP vẫn đang trong thời_gian chờ xin ý_kiến của Bộ Tài_chính hướng xử_lý về vấn_đề chênh_lệch tỷ_giá , nên Công_ty chưa lập xong báo_cáo tài_chính sau kiểm_toán năm 2009 . ( Cuối tuần qua , BTP có thông_báo về kế_hoạch tổ_chức ĐHCĐ vào ngày 25/5 ) . Đây là 2 trường_hợp điển_hình của DN ngành điện_hoãn thời_gian tổ_chức họp ĐHCĐ có lý_do giải_thích chi_tiết . Một_số trường_hợp còn lại , như CTCP Thủy_điện Thác_Bà ( TBC ) , CTCP Thủy_điện Vĩnh_Sơn - Sông_Hinh ( VSH ) , ban lãnh_đạo công_ty chỉ đưa ra nguyên_nhân chung_chung kiểu \" lý_do khách_quan \" . Trên thực_tế , với những DN không tổ_chức ĐHCĐ ở những thành_phố lớn thì việc NĐT nhỏ đi tham_dự trực_tiếp là không nhiều ( do đa_phần NĐT tập_trung ở các thành_phố lớn ) . Nhưng các DN , thay_vì đưa ra lời giải_thích chung_chung về việc tạm_hoãn tổ_chức ĐHCĐ và không cập_nhật kế_hoạch kinh_doanh dự_kiến , những yếu_tố tác_động , mà đưa ra thông_tin chi_tiết , thì có_lẽ , những NĐT nhỏ_lẻ như chúng_tôi sẽ cảm_thấy mình đỡ phải đầu_tư mò hơn . Đến thời_điểm này , dư_âm của kết_quả kinh_doanh năm 2009 gần như đã trôi qua , yếu_tố khiến NĐT quan_tâm là kế_hoạch kinh_doanh năm 2010 . Vậy_mà .",
                  "CTCP Nhiệt_điện Phả_Lại ( PPC ) và CTCP Nhiệt_điện Bà_Rịa ( BTP ) đã xin hoãn thời_gian tổ_chức ĐHCĐ thường_niên năm 2010 với lý_do là tình_hình thiếu điện quốc_gia ảnh_hưởng đến kế_hoạch sản_xuất - kinh_doanh của PPC và vấn_đề chênh_lệch tỷ_giá của BTP._Các DN khác như CTCP Thủy_điện Thác_Bà ( TBC ) và CTCP Thủy_điện Vĩnh_Sơn - Sông_Hinh ( VSH ) cũng xin hoãn thời_gian tổ_chức ĐHCĐ nhưng chỉ đưa ra lý_do chung_chung . Những DN này nên cung_cấp thêm thông_tin chi_tiết về việc tạm_hoãn tổ_chức ĐHCĐ và kế_hoạch kinh_doanh dự_kiến để giúp NĐT nhỏ đi tham_dự trực_tiếp .",
                  "405",
                  "99"
                ],
                [
                  "4",
                  "Theo Al Masdar_News dẫn nguồn tin sáng 25/8 cho biết , phiến quân_IS đã bất_ngờ tấn_công căn_cứ của Quân_đội Syria tại trục phía tây_nam vùng núi Al-Safa , tỉnh Sweida đêm 24/8 , và chiếm lại quyền kiểm_soát một_số cứ_điểm từ tay lực_lượng chính_phủ Damascus . Các tay súng khủng_bố IS cũng sát_hại và làm bị_thương hơn 40 binh_sĩ Quân_đội Syria và Lực_lượng Phòng_vệ Quốc_gia ( NDF ) , nguồn tin nói thêm . Hàng chục binh_sĩ Syria_thương_vong trong đợt phản_công dữ_dội của phiến quân_IS tại Sweida . Ảnh : AMN._Trong khi đó , hơn 30 chiến_binh IS bỏ_mạng sau cuộc giao_tranh ác_liệt với lực_lượng chính_phủ Damascus . Hiện_tại , giao_tranh vẫn tiếp_diễn giữa các tay súng khủng_bố và binh_sĩ Syria tại trục phía tây_nam và đông bắc núi al-Safa . Được biết , vụ đột_kích của IS diễn ra trong bối_cảnh Quân_đội Syria đang chuẩn_bị mở cuộc tấn_công quy_mô lớn nhằm vào những căn_cứ cuối_cùng của nhóm khủng_bố này tại vùng núi al-Safa . Mời độc_giả xem thêm video : Bên trong thành_phố Quneitra mới giải_phóng ( Nguồn : AMN ) . Trước đó cùng ngày , lực_lượng chính_phủ Syria đã tấn_công các căn_cứ của nhóm khủng_bố IS trong khu_vực này và giải_phóng thêm nhiều cứ_điểm quan_trọng . Quân_đội Syria và lực_lượng NDF đã có_thể tiến sâu thêm ít_nhất 2 km vào tuyến phòng_thủ của phiến quân_IS tại vùng núi al-Safa , AMN đưa tin . Thiên_An .",
                  "Quân_đội Syria và Lực_lượng Phòng_vệ Quốc_gia ( NDF ) đã bị phiến quân_IS tấn_công vào đêm 24/8 tại trục phía tây_nam vùng núi Al-Safa , tỉnh Sweida . Hơn 40 binh_sĩ Syria và NDF bị_thương_vong , trong khi hơn 30 chiến_binh IS bị tiêu_diệt . Cuộc giao_tranh vẫn tiếp_diễn giữa các tay súng khủng_bố và binh_sĩ Syria tại trục phía tây_nam và đông bắc núi al-Safa . Quân_đội Syria và lực_lượng NDF đã có_thể tiến sâu thêm ít_nhất 2 km vào tuyến phòng_thủ của phiến quân_IS tại vùng núi al-Safa .",
                  "239",
                  "91"
                ]
              ],
              "shape": {
                "columns": 4,
                "rows": 5
              }
            },
            "text/html": [
              "<div>\n",
              "<style scoped>\n",
              "    .dataframe tbody tr th:only-of-type {\n",
              "        vertical-align: middle;\n",
              "    }\n",
              "\n",
              "    .dataframe tbody tr th {\n",
              "        vertical-align: top;\n",
              "    }\n",
              "\n",
              "    .dataframe thead th {\n",
              "        text-align: right;\n",
              "    }\n",
              "</style>\n",
              "<table border=\"1\" class=\"dataframe\">\n",
              "  <thead>\n",
              "    <tr style=\"text-align: right;\">\n",
              "      <th></th>\n",
              "      <th>content</th>\n",
              "      <th>summary</th>\n",
              "      <th>content_num_words</th>\n",
              "      <th>summary_num_words</th>\n",
              "    </tr>\n",
              "  </thead>\n",
              "  <tbody>\n",
              "    <tr>\n",
              "      <th>0</th>\n",
              "      <td>Thủ_tướng Nguyễn_Xuân_Phúc và Bộ_trưởng Ngoại_...</td>\n",
              "      <td>Thủ_tướng Nguyễn_Xuân_Phúc và Bộ_trưởng Ngoại_...</td>\n",
              "      <td>433</td>\n",
              "      <td>99</td>\n",
              "    </tr>\n",
              "    <tr>\n",
              "      <th>1</th>\n",
              "      <td>Suốt bao năm , để dòng tranh này không bị rơi ...</td>\n",
              "      <td>Ông Đạt Trần_Thành là một trong những nghệ_nhâ...</td>\n",
              "      <td>720</td>\n",
              "      <td>118</td>\n",
              "    </tr>\n",
              "    <tr>\n",
              "      <th>2</th>\n",
              "      <td>Khách qua phà mê_mải ngắm sông như muốn quên đ...</td>\n",
              "      <td>Những người thường ra bờ sông Sài_Gòn để hóng ...</td>\n",
              "      <td>292</td>\n",
              "      <td>79</td>\n",
              "    </tr>\n",
              "    <tr>\n",
              "      <th>3</th>\n",
              "      <td>Trong thông_báo gửi cổ_đông ngày 22/4 , CTCP N...</td>\n",
              "      <td>CTCP Nhiệt_điện Phả_Lại ( PPC ) và CTCP Nhiệt_...</td>\n",
              "      <td>405</td>\n",
              "      <td>99</td>\n",
              "    </tr>\n",
              "    <tr>\n",
              "      <th>4</th>\n",
              "      <td>Theo Al Masdar_News dẫn nguồn tin sáng 25/8 ch...</td>\n",
              "      <td>Quân_đội Syria và Lực_lượng Phòng_vệ Quốc_gia ...</td>\n",
              "      <td>239</td>\n",
              "      <td>91</td>\n",
              "    </tr>\n",
              "  </tbody>\n",
              "</table>\n",
              "</div>"
            ],
            "text/plain": [
              "                                             content  \\\n",
              "0  Thủ_tướng Nguyễn_Xuân_Phúc và Bộ_trưởng Ngoại_...   \n",
              "1  Suốt bao năm , để dòng tranh này không bị rơi ...   \n",
              "2  Khách qua phà mê_mải ngắm sông như muốn quên đ...   \n",
              "3  Trong thông_báo gửi cổ_đông ngày 22/4 , CTCP N...   \n",
              "4  Theo Al Masdar_News dẫn nguồn tin sáng 25/8 ch...   \n",
              "\n",
              "                                             summary  content_num_words  \\\n",
              "0  Thủ_tướng Nguyễn_Xuân_Phúc và Bộ_trưởng Ngoại_...                433   \n",
              "1  Ông Đạt Trần_Thành là một trong những nghệ_nhâ...                720   \n",
              "2  Những người thường ra bờ sông Sài_Gòn để hóng ...                292   \n",
              "3  CTCP Nhiệt_điện Phả_Lại ( PPC ) và CTCP Nhiệt_...                405   \n",
              "4  Quân_đội Syria và Lực_lượng Phòng_vệ Quốc_gia ...                239   \n",
              "\n",
              "   summary_num_words  \n",
              "0                 99  \n",
              "1                118  \n",
              "2                 79  \n",
              "3                 99  \n",
              "4                 91  "
            ]
          },
          "execution_count": 2,
          "metadata": {},
          "output_type": "execute_result"
        }
      ],
      "source": [
        "df = pd.read_csv('cleaned_data.csv', encoding='utf-8')\n",
        "df.head()"
      ]
    },
    {
      "cell_type": "code",
      "execution_count": 3,
      "metadata": {},
      "outputs": [
        {
          "name": "stdout",
          "output_type": "stream",
          "text": [
            "count    65228.000000\n",
            "mean         0.696474\n",
            "std          0.127788\n",
            "min          0.002584\n",
            "25%          0.627657\n",
            "50%          0.713786\n",
            "75%          0.785562\n",
            "max          0.997888\n",
            "Name: cosine_similarity, dtype: float64\n"
          ]
        },
        {
          "data": {
            "image/png": "[encoded data removed]",
            "text/plain": [
              "<Figure size 1000x500 with 1 Axes>"
            ]
          },
          "metadata": {},
          "output_type": "display_data"
        }
      ],
      "source": [
        "from sklearn.feature_extraction.text import TfidfVectorizer\n",
        "import numpy as np\n",
        "\n",
        "vectorizer = TfidfVectorizer(\n",
        "    tokenizer=lambda text: text.split(),\n",
        "    lowercase=False,\n",
        "    token_pattern=None\n",
        ")\n",
        "tfidf_content = vectorizer.fit_transform(df['content'])\n",
        "tfidf_summary = vectorizer.transform(df['summary'])\n",
        "\n",
        "dot_products = tfidf_content.multiply(tfidf_summary).sum(axis=1).A1\n",
        "content_norm = np.sqrt(tfidf_content.multiply(tfidf_content).sum(axis=1).A1)\n",
        "summary_norm = np.sqrt(tfidf_summary.multiply(tfidf_summary).sum(axis=1).A1)\n",
        "\n",
        "df['cosine_similarity'] = dot_products / (content_norm * summary_norm + 1e-10)\n",
        "\n",
        "print(df['cosine_similarity'].describe())\n",
        "df['cosine_similarity'].hist(bins=50, figsize=(10,5))\n",
        "plt.title('Distribution of Cosine Similarity')\n",
        "plt.xlabel('Cosine Similarity')\n",
        "plt.show()"
      ]
    },
    {
      "cell_type": "code",
      "execution_count": 12,
      "metadata": {},
      "outputs": [
        {
          "name": "stdout",
          "output_type": "stream",
          "text": [
            "Số mẫu còn lại sau khi lọc: 45494\n",
            "count    45494.000000\n",
            "mean         0.762256\n",
            "std          0.068514\n",
            "min          0.650006\n",
            "25%          0.706929\n",
            "50%          0.756331\n",
            "75%          0.809939\n",
            "max          0.997819\n",
            "Name: cosine_similarity, dtype: float64\n"
          ]
        },
        {
          "data": {
            "image/png": "[encoded data removed]",
            "text/plain": [
              "<Figure size 1000x500 with 1 Axes>"
            ]
          },
          "metadata": {},
          "output_type": "display_data"
        }
      ],
      "source": [
        "from sklearn.feature_extraction.text import TfidfVectorizer\n",
        "import numpy as np\n",
        "\n",
        "vectorizer = TfidfVectorizer(\n",
        "    tokenizer=lambda text: text.split(),\n",
        "    lowercase=False,\n",
        "    token_pattern=None\n",
        ")\n",
        "tfidf_content = vectorizer.fit_transform(df['content'])\n",
        "tfidf_summary = vectorizer.transform(df['summary'])\n",
        "\n",
        "dot_products = tfidf_content.multiply(tfidf_summary).sum(axis=1).A1\n",
        "content_norm = np.sqrt(tfidf_content.multiply(tfidf_content).sum(axis=1).A1)\n",
        "summary_norm = np.sqrt(tfidf_summary.multiply(tfidf_summary).sum(axis=1).A1)\n",
        "\n",
        "df['cosine_similarity'] = dot_products / (content_norm * summary_norm + 1e-10)\n",
        "df = df[df['cosine_similarity'] >= 0.65]\n",
        "print(f\"Số mẫu còn lại sau khi lọc: {df.shape[0]}\")\n",
        "\n",
        "print(df['cosine_similarity'].describe())\n",
        "df['cosine_similarity'].hist(bins=50, figsize=(10,5))\n",
        "plt.title('Distribution of Cosine Similarity (>= 0.6)')\n",
        "plt.xlabel('Cosine Similarity')\n",
        "plt.show()"
      ]
    },
    {
      "cell_type": "code",
      "execution_count": 13,
      "metadata": {
        "id": "J9VpYV1SVQAm"
      },
      "outputs": [],
      "source": [
        "vectorizer = TfidfVectorizer(max_features=5000, ngram_range=(1, 2))\n",
        "X = vectorizer.fit_transform(df['content'])"
      ]
    },
    {
      "cell_type": "code",
      "execution_count": 14,
      "metadata": {
        "colab": {
          "base_uri": "https://localhost:8080/",
          "height": 488
        },
        "id": "RaD4qQKBZfmF",
        "outputId": "c83b95f9-e9cd-44b8-f2a7-5b9c15c4fcb9"
      },
      "outputs": [
        {
          "data": {
            "image/png": "[encoded data removed]",
            "text/plain": [
              "<Figure size 800x500 with 1 Axes>"
            ]
          },
          "metadata": {},
          "output_type": "display_data"
        }
      ],
      "source": [
        "from sklearn.cluster import KMeans\n",
        "\n",
        "# Tính WCSS\n",
        "wcss = []\n",
        "for n_clusters in range(1, 11):\n",
        "    kmeans = KMeans(n_clusters=n_clusters, random_state=42)\n",
        "    kmeans.fit(X)\n",
        "    wcss.append(kmeans.inertia_)\n",
        "\n",
        "# Elbow method\n",
        "plt.figure(figsize=(8, 5))\n",
        "plt.plot(range(1, 11), wcss, marker='o', linestyle='--')\n",
        "plt.xlabel('Số cụm')\n",
        "plt.ylabel('WCSS')\n",
        "plt.title('Elbow Method (KMeans)')\n",
        "plt.show()"
      ]
    },
    {
      "cell_type": "code",
      "execution_count": 15,
      "metadata": {
        "colab": {
          "base_uri": "https://localhost:8080/",
          "height": 209
        },
        "id": "T--QQkKeZ7sH",
        "outputId": "a782ce85-fbfb-443e-bed4-27ac6b9de673"
      },
      "outputs": [
        {
          "data": {
            "text/plain": [
              "cluster\n",
              "2    21804\n",
              "1    17093\n",
              "0     6597\n",
              "Name: count, dtype: int64"
            ]
          },
          "execution_count": 15,
          "metadata": {},
          "output_type": "execute_result"
        }
      ],
      "source": [
        "# Phân cụm\n",
        "n_clusters = 3\n",
        "kmeans = MiniBatchKMeans(n_clusters=n_clusters, random_state=42, batch_size=1000)\n",
        "df['cluster'] = kmeans.fit_predict(X)\n",
        "\n",
        "df['cluster'].value_counts()"
      ]
    },
    {
      "cell_type": "code",
      "execution_count": 17,
      "metadata": {
        "colab": {
          "base_uri": "https://localhost:8080/",
          "height": 206
        },
        "id": "V_RyDsIOVSHO",
        "outputId": "9a1d15bd-f233-44d7-ab70-4c0329f52db9"
      },
      "outputs": [
        {
          "data": {
            "application/vnd.microsoft.datawrangler.viewer.v0+json": {
              "columns": [
                {
                  "name": "index",
                  "rawType": "int64",
                  "type": "integer"
                },
                {
                  "name": "content",
                  "rawType": "object",
                  "type": "string"
                },
                {
                  "name": "summary",
                  "rawType": "object",
                  "type": "string"
                },
                {
                  "name": "cosine_similarity",
                  "rawType": "float64",
                  "type": "float"
                },
                {
                  "name": "cluster",
                  "rawType": "int32",
                  "type": "integer"
                }
              ],
              "conversionMethod": "pd.DataFrame",
              "ref": "df7ce217-7244-4769-a4d7-53a0c9ae62ea",
              "rows": [
                [
                  "9652",
                  "Cô Antonia_Montenegro trong thời_gian nằm viện trước khi sinh . ( Nguồn : ABC_Paraguay . Ngày 6/12 , Theo bác sỹ Marilda_Torraca , trưởng kíp đỡ_đẻ đặc_biệt gồm 14 chuyên_gia y_tế , cô Antonia_Montenegro đã sinh 3 bé gái và 2 bé trai , nặng trung_bình từ 1,2 đến 1,4 kg . Bà mẹ và tất_cả các bé đều khỏe mạnh và đang được chăm_sóc đặc_biệt . Cô Montenegro đã sinh các em bé ở tháng thứ 7 . Trước đó , bà mẹ này đã sinh một bé gái . Theo các bác_sỹ , lần mang thai này hoàn_toàn tự_nhiên . Sinh 5 tự_nhiên là chuyện cực_hiếm , với xác_suất phần triệu . / .",
                  "Cô Antonia_Montenegro đã sinh 5 bé gái và bé trai , nặng trung_bình từ 1,2 đến 1,4 kg , trong thời_gian nằm viện trước khi sinh . Đây là một trường_hợp hiếm_hoi , với xác_suất phần triệu , và tất_cả các bé đều khỏe mạnh và đang được chăm_sóc đặc_biệt .",
                  "0.706718908313718",
                  "2"
                ],
                [
                  "2598",
                  "Giá vàng thế_giới trên sàn New_York đêm qua tăng rất mạnh lên mức cao nhất trong hai tháng qua do đồng USD bất_ngờ giảm gần 1 % so với sáu đồng_tiền chủ_chốt khác . Giá vàng giao tháng 2 đêm qua trên sàn COMEX tăng 22,1 USD ( + 2,02 % ) so với giá đóng_cửa phiên liền trước lên 1.118,3 USD / ounce - mức tăng theo ngày mạnh nhất kể từ 3/11 . Giá vàng giao ngay cũng tăng rất mạnh với 24,5 USD lên 1.120,9 USD / ounce . Vào đầu giờ sáng nay , giá vàng giao ngay trên thị_trường châu_Á vẫn đang tiếp_tục xu_hướng tăng và tới 6 h10 ( giờ Việt_Nam ) đứng ở mức 1.121,2 USD / ounce . Vàng tăng_giá mạnh là do mặt_hàng này vẫn nằm trong xu_hướng đi ngược chiều với biến_động của đồng USD trong nhiều tháng qua . Đêm qua đồng USD bất_ngờ giảm 0,8 % so với các đồng_tiền khác cho_dù đã giảm 4,2 % trong năm 2009 . Vàng được coi như một kênh đầu_tư chống lại lạm_phát và sự suy_yếu của đồng USD , do_vậy nhu_cầu mua vàng đã suy_giảm khi đồng_tiền của Mỹ mạnh lên . Trong năm 2009 , giá vàng giao sau tăng 24 % , lên mức cao kỷ_lục mọi thời_đại là 1.227,5 USD / ounce vào ngày 3/12 . Trong tháng 12 , vàng giảm 7,3 % do đồng USD khi đó tăng 4 % . Vàng đã tăng rất mạnh do đồng USD bị bán ra trong ngày giao_dịch đầu_tiên của năm 2010 . Những người đứng ngoài cuộc trong đợt điều_chỉnh tháng trước đang quay trở_lại mua vàng . Hiện_tượng tranh mua là tín_hiệu cho thấy vàng đang bước vào một đợt tăng mới , Matt_Zeman - một chuyên_gia đầu_tư của Công_ty LaSalle_Futures Group_Inc . tại Chicago nói . Đồng USD bất_ngờ rớt_giá mạnh trong phiên giao_dịch đêm qua là do báo_cáo cho thấy tốc_độ sản_xuất trong tháng 12 tại Mỹ tăng ở mức mạnh nhất kể từ năm 2006 cho tới nay , trong bối_cảnh kinh_tế toàn_cầu đang phục_hồi . Các số_liệu về đơn đặt_hàng tại các nhà_máy tại Mỹ tăng và thấp_nghiệp giảm cũng khiến đồng USD suy_yếu . Với các tín_hiệu kinh_tế phục_hồi , chứng_khoán Mỹ đêm qua tiếp_tục tăng rất mạnh . Chỉ_số Công_nghiệp Dow_Jones tăng 155,91_điểm ( + 1,5 % ) lên 10.583,96_điểm . Cũng giống như vàng , giá dầu đêm qua tăng gần 3 % lên gần 81,51 USD / thùng . Giá các loại kim_loại khác cũng tăng đột_biến . Bạc tăng gần 4 % sau khi tăng tới 49 % trong năm 2009 - mức cao nhất trong vòng 30 năm qua .",
                  "Giá vàng trên sàn New_York đã tăng mạnh lên mức cao nhất trong hai tháng qua do đồng USD bất_ngờ giảm gần 1 % . Đồng USD suy_yếu khiến nhu_cầu mua vàng tăng lên , giá vàng trong năm 2009 tăng 24 % , lên mức cao kỷ_lục mọi thời_đại là 1.227,5 USD / ounce . Trong tháng 12 , vàng giảm 7,3 % do đồng USD tăng 4 % . Đêm qua , đồng USD bị bán ra mạnh , khiến vàng tăng_giá mạnh . Các số_liệu về đơn đặt_hàng tại các nhà_máy tại Mỹ tăng và thấp_nghiệp giảm cũng khiến đồng USD suy_yếu . Chứng_khoán Mỹ đêm qua cũng tăng rất mạnh , giá dầu tăng gần 3 % , các loại kim_loại khác cũng tăng đột_biến .",
                  "0.7891329587961378",
                  "0"
                ],
                [
                  "63579",
                  "Binh_sỹ chính_phủ Syria chiến_đấu tại tỉnh Latakia . ( Ảnh : AP ) . Chiến_dịch được tiến_hành tại khu_vực núi al-Nuba , một vị_trí quan_trọng chiến_lược tại tỉnh Latakia . Các binh_sỹ Quân_đội chính_phủ Syria đã tiêu_diệt hàng chục_chiến_binh Mặt_trận al-Nusra trong chiến_dịch quân_sự này . Với sự trợ_giúp của không_quân Nga , quân_đội Syria đã đẩy các phiến_quân al-Nusra khỏi khu_vực này và giải_phóng nhiều địa_điểm chiến_lược ở tỉnh Latakia . Từ ngày 30/9 , theo đề_nghị của Tổng_thống Syria Bashar_al-Assad , Lực_lượng Không_quân Vũ_trụ Nga cũng tiến_hành nhiều cuộc không_kích vào các mục_tiêu của bọn khủng_bố ở 8 tỉnh của Syria . Quốc_gia Trung_Đông này đã ở trong tình_trạng nội_chiến kể từ năm 2011 khi quân_đội chính_phủ giao_tranh với lực_lượng đối_lập và các nhóm phiến_quân Hồi_giáo cực_đoan , bao_gồm Mặt_trận al-Nusra và tổ_chức Nhà_nước Hồi_giáo ( IS ) tự_xưng . / .",
                  "Quân_đội Syria với sự trợ_giúp của không_quân Nga đã tiến_hành chiến_dịch quân_sự tại khu_vực núi al-Nuba , tỉnh Latakia , đẩy_lùi các phiến quân_al-Nusra và giải_phóng nhiều địa_điểm chiến_lược . Từ ngày 30/9 , không_quân Vũ_trụ Nga cũng tiến_hành nhiều cuộc không_kích vào các mục_tiêu của bọn khủng_bố ở 8 tỉnh của Syria . Syria đang trong tình_trạng nội_chiến kể từ năm 2011 khi quân_đội chính_phủ giao_tranh với lực_lượng đối_lập và các nhóm phiến_quân Hồi_giáo cực_đoan .",
                  "0.7115123569690123",
                  "2"
                ],
                [
                  "51454",
                  "Gần 100 vụ vi_phạm của Uber và Grab . Ảnh : CEP. Ngày 29/6 , thông_tin với báo_chí , đại_diện Thanh_tra Sở Giao_thông Vận_tải Tp. Hồ_Chí_Minh cho biết , trong 6 tháng đầu năm 2017 , Thanh_tra Sở đã phát_hiện và lập biên_bản 97 vụ vi_phạm trong hoạt_động kinh_doanh vận_tải hành_khách có sử_dụng phần_mềm Grab , Uber với số tiền xử_phạt gần 350 triệu đồng . Các hành_vi vi_phạm chủ_yếu như không có đăng_ký kinh_doanh vận_tải bằng ô_tô , dừng đỗ không đúng quy_định , không có danh_sách , hợp_đồng vận_chuyển , không có phù_hiệu ; không niêm_yết tên , số điện_thoại đơn_vị ; không niêm_yết khẩu_hiệu Tính_mạng con_người là trên_hết ... Liên_quan đến vấn_đề thanh_tra , xử_lý hoạt_động vận_tải , trong 6 tháng đầu năm 2017 , Thanh_tra Sở Giao_thông Vận_tải Tp. Hồ_Chí_Minh đã phát_hiện , xử_lý 1.771_vụ vi_phạm về quá_tải , xử_phạt 17,7 tỷ đồng ; phát_hiện và xử_lý 2.015_vụ vi_phạm về việc dừng đỗ đón trả khách không đúng quy_định ( xe dù bến cóc ) với số tiền phạt 2,7 tỷ đồng ; lập biên_bản 311 vụ ta xxi vi_phạm không có phù_hiệu , dừng đỗ không đúng quy_định . Tại khu_vực cảng biển , Thanh_tra Sở giao_thông Vận_tải đã phối_hợp với lực_lượng chuyên_ngành kiểm_tra , lập 1.837 biên_bản nhắc_nhở , yêu_cầu chủ_cảng , bến thực_hiện việc kiểm_soát tải_trọng phương_tiện . Trong 6 tháng cuối năm 2017 , Thanh_tra Sở Giao_thông Vận_tải sẽ tiếp_tục phối_hợp với Cảng_vụ Hàng_hải thành_phố để hoàn_tất việc kiểm_soát tải_trọng tại 9 cảng , bến trên địa_bàn quận 2 , quận 7 , quận 9 ; đồng_thời phối_hợp với Công_an thành_phố xử_lý các vi_phạm về đảm_bảo an_toàn vệ_sinh môi_trường trong hoạt_động vận_chuyển , đổ xả_thải , bùn không đảm_bảo an_toàn giao_thông tại địa_bàn 2 quận này . / .",
                  "Gần 100 vụ vi_phạm liên_quan đến hoạt_động kinh_doanh vận_tải hành_khách có sử_dụng phần_mềm Grab và Uber đã được phát_hiện và lập biên_bản bởi Thanh_tra Sở Giao_thông Vận_tải Tp. Hồ_Chí_Minh trong 6 tháng đầu năm 2017 , với số tiền xử_phạt gần 350 triệu đồng . Thanh_tra Sở còn phối_hợp với Cảng_vụ Hàng_hải thành_phố để kiểm_soát tải_trọng tại 9 cảng , bến trên địa_bàn quận 2 , quận 7 , quận 9 ; và phối_hợp với Công_an thành_phố xử_lý các vi_phạm về đảm_bảo an_toàn vệ_sinh môi_trường trong hoạt_động vận_chuyển .",
                  "0.7392421211162756",
                  "1"
                ],
                [
                  "5089",
                  "Tuy_nhiên , theo tác_giả , chí_ít là từ nay đến hết tháng 11 tới , cuộc_chiến ấy không_thể xảy ra vì 6 lý_do sau : Lý_do thứ nhất , bây_giờ đang là tháng 9 , tháng của các lễ_hội ( ở Israel ) , vì_thế không một nhà_chính_trị , quân_sự nào ở đây dám liều_lĩnh khai_hỏa một cuộc_chiến . Cuộc_chiến này chẳng_những không được lòng dân mà_còn không dễ huy_động được các lực_lượng tham_chiến , cho_dù đó là các quân_nhân chuyên_nghiệp . Lý_do thứ hai , đến cuối tháng 9 , tại New_York ( Mỹ ) sẽ diễn ra cuộc gặp rất quan_trọng giữa Tổng_thống Mỹ Barack_Obama với Thủ_tướng Israel Benjamin_Netanyahu khi ông Netanyahu tới tham_dự khóa họp mới của Đại_hội_đồng Liên_hợp_quốc . Tác_giả Menman cho rằng ông Netanyahu sẽ không ra_lệnh cho không_quân ném bom các mục_tiêu ở Iran trước , trong và ngay sau một cuộc gặp quan_trọng như_thế . Lý_do thứ ba , Mỹ và Israel đã lên kế_hoạch tổ_chức một cuộc tập_trận có quy_mô lớn chưa từng có vào giữa tháng 10/2012 ở Israel , với mục_tiêu giả_định là đối_mặt với cuộc_chiến chống Iran . Vì_thế , không có lý_do gì để Israel lại làm một việc \" gì đó \" ( như phát_động chiến_tranh với Iran ) vào thời_điểm đó để phá hỏng cuộc tập_trận được dự_trù rất tốn_kém này . Lý_do thứ tư , ngày 6/11 tới đây , tại Mỹ sẽ diễn ra cuộc bầu_cử tổng_thống . Vì_thế , theo Menman , một chính_khách lọc lõi như Benjamin_Netanyahu sẽ không bao_giờ ra_lệnh không kích_Iran vào thời_điểm nhạy_cảm không_chỉ với Mỹ mà dường_như với cả thế_giới . Nếu làm như_vậy , ông Netanyahu sẽ bị thiên_hạ chê_cười , thậm_chí cho là \" non_tay . \" . Lý_do thứ năm , được coi là rất quan_trọng , đó là Thủ_tướng Benjamin_Netanyahu cho đến lúc này vẫn không có được đa_số ủng_hộ trong chính_phủ an_ninh hay còn gọi làchính_phủ hẹp ở Israel . Theo quy_định của pháp_luật Israel , để quyết_định một việc gì đó quan_trọng liên_quan đến an_ninh quốc_gia , chẳng_hạn như tấn_công Iran , người đứng đầu \" chính_phủ hẹp \" phải có được ít_nhất 8 trong tổng_số 14 thành_viên của chính_phủ này ủng_hộ . Song hiện_tại , Netanyahu đang chật_vật tìm_kiếm con_số đó chẳng khác_gì \" tìm kim dưới đáy biển . \" . Lý_do thứ_sáu và cũng là lý_do cuối_cùng được Menman đưa ra là bản_thân một hành_động quân_sự chống Iran đã và đang bị phần_lớn các tướng_lĩnh trong quân_đội cũng như Tổng_cục Tình_báo Israel phản_đối . Thậm_chí , có những ý_kiến trong Bộ Quốc_phòng coi đây là \" cuộc tự_sát giữa ban_ngày . \" . Nếu ông Netanyahu bất_chấp quan_điểm này , cứ phát_động cuộc_chiến ( chống Iran ) , thì ông ta sẽ \" mất cánh_tay_phải \" là quân_đội và hơn_nữa sẽ làm tan_vỡ sức_mạnh của bộ đôi quyền_lực Netanyahu-Barak ( Ehud_Barak , đương_kim Bộ_trưởng Quốc_phòng ) trên chính_trường Israel hiện_nay . Vậy , liệu Israel có tấn_công Iran sau cuộc bầu_cử Tổng_thống Mỹ hay không ? Nhà phân_tích Menman cho rằng , \" bất_chấp kết_quả cuộc bầu_cử tổng_thống Mỹ sắp tới như_thế_nào , cách tiếp_cận của Mỹ và Israel vấn_đề hạt_nhân của Iran sẽ ' rất thống_nhất . ' . Đó là Iran không được phép có vũ_khí hạt_nhân vì bất_cứ lí_do gì , trong bất_cứ trường_hợp nào . Làm_sao để Mỹ và Israel_đạt được mục_tiêu này , thời_gian và thực_tế sẽ trả_lời . / . ( TTXVN ) .",
                  "Tác_giả Menman cho rằng , cuộc_chiến giữa Israel và Iran không_thể xảy ra từ nay đến hết tháng 11 tới vì 6 lý_do : tháng 9 là tháng của các lễ_hội , cuộc gặp quan_trọng giữa Tổng_thống Mỹ và Thủ_tướng Israel , cuộc tập_trận có quy_mô lớn tại Israel , cuộc bầu_cử tổng_thống Mỹ , ít ủng_hộ trong chính_phủ an_ninh và phản_đối của các tướng_lĩnh trong quân_đội . Menman cho rằng , bất_chấp kết_quả cuộc bầu_cử tổng_thống Mỹ , cách tiếp_cận của Mỹ và Israel về vấn_đề hạt_nhân của Iran sẽ \" rất thống_nhất \" .",
                  "0.6855012317027438",
                  "2"
                ]
              ],
              "shape": {
                "columns": 4,
                "rows": 5
              }
            },
            "text/html": [
              "<div>\n",
              "<style scoped>\n",
              "    .dataframe tbody tr th:only-of-type {\n",
              "        vertical-align: middle;\n",
              "    }\n",
              "\n",
              "    .dataframe tbody tr th {\n",
              "        vertical-align: top;\n",
              "    }\n",
              "\n",
              "    .dataframe thead th {\n",
              "        text-align: right;\n",
              "    }\n",
              "</style>\n",
              "<table border=\"1\" class=\"dataframe\">\n",
              "  <thead>\n",
              "    <tr style=\"text-align: right;\">\n",
              "      <th></th>\n",
              "      <th>content</th>\n",
              "      <th>summary</th>\n",
              "      <th>cosine_similarity</th>\n",
              "      <th>cluster</th>\n",
              "    </tr>\n",
              "  </thead>\n",
              "  <tbody>\n",
              "    <tr>\n",
              "      <th>9652</th>\n",
              "      <td>Cô Antonia_Montenegro trong thời_gian nằm viện...</td>\n",
              "      <td>Cô Antonia_Montenegro đã sinh 5 bé gái và bé t...</td>\n",
              "      <td>0.706719</td>\n",
              "      <td>2</td>\n",
              "    </tr>\n",
              "    <tr>\n",
              "      <th>2598</th>\n",
              "      <td>Giá vàng thế_giới trên sàn New_York đêm qua tă...</td>\n",
              "      <td>Giá vàng trên sàn New_York đã tăng mạnh lên mứ...</td>\n",
              "      <td>0.789133</td>\n",
              "      <td>0</td>\n",
              "    </tr>\n",
              "    <tr>\n",
              "      <th>63579</th>\n",
              "      <td>Binh_sỹ chính_phủ Syria chiến_đấu tại tỉnh Lat...</td>\n",
              "      <td>Quân_đội Syria với sự trợ_giúp của không_quân ...</td>\n",
              "      <td>0.711512</td>\n",
              "      <td>2</td>\n",
              "    </tr>\n",
              "    <tr>\n",
              "      <th>51454</th>\n",
              "      <td>Gần 100 vụ vi_phạm của Uber và Grab . Ảnh : CE...</td>\n",
              "      <td>Gần 100 vụ vi_phạm liên_quan đến hoạt_động kin...</td>\n",
              "      <td>0.739242</td>\n",
              "      <td>1</td>\n",
              "    </tr>\n",
              "    <tr>\n",
              "      <th>5089</th>\n",
              "      <td>Tuy_nhiên , theo tác_giả , chí_ít là từ nay đế...</td>\n",
              "      <td>Tác_giả Menman cho rằng , cuộc_chiến giữa Isra...</td>\n",
              "      <td>0.685501</td>\n",
              "      <td>2</td>\n",
              "    </tr>\n",
              "  </tbody>\n",
              "</table>\n",
              "</div>"
            ],
            "text/plain": [
              "                                                 content  \\\n",
              "9652   Cô Antonia_Montenegro trong thời_gian nằm viện...   \n",
              "2598   Giá vàng thế_giới trên sàn New_York đêm qua tă...   \n",
              "63579  Binh_sỹ chính_phủ Syria chiến_đấu tại tỉnh Lat...   \n",
              "51454  Gần 100 vụ vi_phạm của Uber và Grab . Ảnh : CE...   \n",
              "5089   Tuy_nhiên , theo tác_giả , chí_ít là từ nay đế...   \n",
              "\n",
              "                                                 summary  cosine_similarity  \\\n",
              "9652   Cô Antonia_Montenegro đã sinh 5 bé gái và bé t...           0.706719   \n",
              "2598   Giá vàng trên sàn New_York đã tăng mạnh lên mứ...           0.789133   \n",
              "63579  Quân_đội Syria với sự trợ_giúp của không_quân ...           0.711512   \n",
              "51454  Gần 100 vụ vi_phạm liên_quan đến hoạt_động kin...           0.739242   \n",
              "5089   Tác_giả Menman cho rằng , cuộc_chiến giữa Isra...           0.685501   \n",
              "\n",
              "       cluster  \n",
              "9652         2  \n",
              "2598         0  \n",
              "63579        2  \n",
              "51454        1  \n",
              "5089         2  "
            ]
          },
          "execution_count": 17,
          "metadata": {},
          "output_type": "execute_result"
        }
      ],
      "source": [
        "#df = df.drop(columns=['content_num_words', 'summary_num_words'])\n",
        "df.sample(5)"
      ]
    },
    {
      "cell_type": "code",
      "execution_count": 18,
      "metadata": {
        "id": "F_FWbrnedR76"
      },
      "outputs": [],
      "source": [
        "df.to_csv('clustered_data.csv', index=False, encoding='utf-8')"
      ]
    },
    {
      "cell_type": "code",
      "execution_count": 19,
      "metadata": {
        "colab": {
          "base_uri": "https://localhost:8080/"
        },
        "id": "V09M-gqXUY9_",
        "outputId": "aac87a70-3f40-4815-a496-bdf79eecd3d8"
      },
      "outputs": [
        {
          "name": "stdout",
          "output_type": "stream",
          "text": [
            "Train size: 36395\n",
            "Validation size: 4549\n",
            "Test size: 4550\n"
          ]
        }
      ],
      "source": [
        "train_df, temp_df = train_test_split(\n",
        "    df, test_size=0.2, random_state=42, stratify=df['cluster']\n",
        ")\n",
        "valid_df, test_df = train_test_split(\n",
        "    temp_df, test_size=0.5, random_state=42, stratify=temp_df['cluster']\n",
        ")\n",
        "\n",
        "print(\"Train size:\", len(train_df))\n",
        "print(\"Validation size:\", len(valid_df))\n",
        "print(\"Test size:\", len(test_df))"
      ]
    },
    {
      "cell_type": "code",
      "execution_count": 20,
      "metadata": {
        "id": "7mmFKiygC_1O"
      },
      "outputs": [],
      "source": [
        "train_df.to_csv('train1.csv', index=False, encoding='utf-8')\n",
        "valid_df.to_csv('valid1.csv', index=False, encoding='utf-8')\n",
        "test_df.to_csv('test1.csv', index=False, encoding='utf-8')"
      ]
    }
  ],
  "metadata": {
    "colab": {
      "provenance": []
    },
    "kernelspec": {
      "display_name": "Python 3",
      "name": "python3"
    },
    "language_info": {
      "codemirror_mode": {
        "name": "ipython",
        "version": 3
      },
      "file_extension": ".py",
      "mimetype": "text/x-python",
      "name": "python",
      "nbconvert_exporter": "python",
      "pygments_lexer": "ipython3",
      "version": "3.12.4"
    }
  },
  "nbformat": 4,
  "nbformat_minor": 0
}
