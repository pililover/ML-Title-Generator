{
  "cells": [
    {
      "cell_type": "code",
      "execution_count": 1,
      "metadata": {
        "colab": {
          "base_uri": "https://localhost:8080/"
        },
        "id": "gyRpmenEoCjZ",
        "outputId": "e2da2ee1-28a0-4d94-cae9-89a18a5eb8ea"
      },
      "outputs": [
        {
          "output_type": "stream",
          "name": "stdout",
          "text": [
            "Mounted at /content/drive\n"
          ]
        }
      ],
      "source": [
        "from google.colab import drive\n",
        "drive.mount('/content/drive')"
      ]
    },
    {
      "cell_type": "code",
      "execution_count": null,
      "metadata": {
        "id": "tXE9O1mmn-ud"
      },
      "outputs": [],
      "source": [
        "# Linux\n",
        "# !pip install underthesea --python=python3.11\n",
        "!pip install underthesea\n",
        "!pip install transformers"
      ]
    },
    {
      "cell_type": "code",
      "execution_count": 2,
      "metadata": {
        "id": "L6MaxfqRn-ud"
      },
      "outputs": [],
      "source": [
        "from underthesea import word_tokenize\n",
        "\n",
        "import numpy as np\n",
        "import pandas as pd\n",
        "from sklearn.model_selection import train_test_split\n",
        "\n",
        "from transformers import AutoModel, AutoTokenizer\n",
        "\n",
        "import matplotlib.pyplot as plt\n",
        "import re"
      ]
    },
    {
      "cell_type": "markdown",
      "metadata": {
        "id": "OCxOC0qDCzDB"
      },
      "source": [
        "# **Gộp thể loại**"
      ]
    },
    {
      "cell_type": "code",
      "execution_count": 4,
      "metadata": {
        "colab": {
          "base_uri": "https://localhost:8080/",
          "height": 293
        },
        "id": "-x2HhAbkn-ue",
        "outputId": "7f7941e5-adf0-4517-df52-a1dd63b56030"
      },
      "outputs": [
        {
          "output_type": "execute_result",
          "data": {
            "text/plain": [
              "                                                 URL  \\\n",
              "0  https://vnexpress.net/biet-thu-lien-ke-duoi-5-...   \n",
              "1  https://tuoitre.vn/nha-dau-tu-hai-long-khi-tai...   \n",
              "2  https://tuoitre.vn/tinh-nghe-an-noi-gi-ve-du-a...   \n",
              "3  https://tuoitre.vn/hang-xom-chung-cu-lexington...   \n",
              "4  https://tuoitre.vn/uc-doi-mat-cuoc-khung-hoang...   \n",
              "\n",
              "                                               Title  \\\n",
              "0  biệt thự liền kề dưới 5 tỷ sẽ dần khan hiếm  b...   \n",
              "1  nhà đầu tư hài lòng khi tài sản cho thuê được ...   \n",
              "2  tỉnh nghệ an nói gì về dự án công viên nghĩa t...   \n",
              "3  hàng xóm chung cư lexington cũng chưa có sổ vì...   \n",
              "4  úc đối mặt cuộc khủng hoảng nhà cho thuê tồi t...   \n",
              "\n",
              "                                            Abstract  \\\n",
              "0  tp hcm hai năm tới thành phố có thể không còn ...   \n",
              "1  trở về từ chuyến khảo sát phú quốc chị thu tra...   \n",
              "2  tto  đây là công viên nghĩa trang sinh thái vĩ...   \n",
              "3  cư dân ở chung cư petrovietnam landmark tp thủ...   \n",
              "4  giá cho thuê nhà tăng mạnh đã và đang ảnh hưởn...   \n",
              "\n",
              "                                             Content      Category  num_words  \n",
              "0  trong báo cáo thị trường mới đây hãng tư vấn d...  bất động sản        600  \n",
              "1  nắm bắt cơ hội đầu tư hơn 2 năm nay tôi đầu tư...  bất động sản        755  \n",
              "2  ngày 3112 ubnd tỉnh nghệ an có thông tin tới c...  bất động sản        507  \n",
              "3  theo tìm hiểu củatuổi trẻ online dự án đường l...  bất động sản        673  \n",
              "4  theo phóng viên ttxvn tại sydney báo cáo về kh...  bất động sản        559  "
            ],
            "text/html": [
              "\n",
              "  <div id=\"df-9a0c4f13-6573-4fd7-b527-a0e95a46179d\" class=\"colab-df-container\">\n",
              "    <div>\n",
              "<style scoped>\n",
              "    .dataframe tbody tr th:only-of-type {\n",
              "        vertical-align: middle;\n",
              "    }\n",
              "\n",
              "    .dataframe tbody tr th {\n",
              "        vertical-align: top;\n",
              "    }\n",
              "\n",
              "    .dataframe thead th {\n",
              "        text-align: right;\n",
              "    }\n",
              "</style>\n",
              "<table border=\"1\" class=\"dataframe\">\n",
              "  <thead>\n",
              "    <tr style=\"text-align: right;\">\n",
              "      <th></th>\n",
              "      <th>URL</th>\n",
              "      <th>Title</th>\n",
              "      <th>Abstract</th>\n",
              "      <th>Content</th>\n",
              "      <th>Category</th>\n",
              "      <th>num_words</th>\n",
              "    </tr>\n",
              "  </thead>\n",
              "  <tbody>\n",
              "    <tr>\n",
              "      <th>0</th>\n",
              "      <td>https://vnexpress.net/biet-thu-lien-ke-duoi-5-...</td>\n",
              "      <td>biệt thự liền kề dưới 5 tỷ sẽ dần khan hiếm  b...</td>\n",
              "      <td>tp hcm hai năm tới thành phố có thể không còn ...</td>\n",
              "      <td>trong báo cáo thị trường mới đây hãng tư vấn d...</td>\n",
              "      <td>bất động sản</td>\n",
              "      <td>600</td>\n",
              "    </tr>\n",
              "    <tr>\n",
              "      <th>1</th>\n",
              "      <td>https://tuoitre.vn/nha-dau-tu-hai-long-khi-tai...</td>\n",
              "      <td>nhà đầu tư hài lòng khi tài sản cho thuê được ...</td>\n",
              "      <td>trở về từ chuyến khảo sát phú quốc chị thu tra...</td>\n",
              "      <td>nắm bắt cơ hội đầu tư hơn 2 năm nay tôi đầu tư...</td>\n",
              "      <td>bất động sản</td>\n",
              "      <td>755</td>\n",
              "    </tr>\n",
              "    <tr>\n",
              "      <th>2</th>\n",
              "      <td>https://tuoitre.vn/tinh-nghe-an-noi-gi-ve-du-a...</td>\n",
              "      <td>tỉnh nghệ an nói gì về dự án công viên nghĩa t...</td>\n",
              "      <td>tto  đây là công viên nghĩa trang sinh thái vĩ...</td>\n",
              "      <td>ngày 3112 ubnd tỉnh nghệ an có thông tin tới c...</td>\n",
              "      <td>bất động sản</td>\n",
              "      <td>507</td>\n",
              "    </tr>\n",
              "    <tr>\n",
              "      <th>3</th>\n",
              "      <td>https://tuoitre.vn/hang-xom-chung-cu-lexington...</td>\n",
              "      <td>hàng xóm chung cư lexington cũng chưa có sổ vì...</td>\n",
              "      <td>cư dân ở chung cư petrovietnam landmark tp thủ...</td>\n",
              "      <td>theo tìm hiểu củatuổi trẻ online dự án đường l...</td>\n",
              "      <td>bất động sản</td>\n",
              "      <td>673</td>\n",
              "    </tr>\n",
              "    <tr>\n",
              "      <th>4</th>\n",
              "      <td>https://tuoitre.vn/uc-doi-mat-cuoc-khung-hoang...</td>\n",
              "      <td>úc đối mặt cuộc khủng hoảng nhà cho thuê tồi t...</td>\n",
              "      <td>giá cho thuê nhà tăng mạnh đã và đang ảnh hưởn...</td>\n",
              "      <td>theo phóng viên ttxvn tại sydney báo cáo về kh...</td>\n",
              "      <td>bất động sản</td>\n",
              "      <td>559</td>\n",
              "    </tr>\n",
              "  </tbody>\n",
              "</table>\n",
              "</div>\n",
              "    <div class=\"colab-df-buttons\">\n",
              "\n",
              "  <div class=\"colab-df-container\">\n",
              "    <button class=\"colab-df-convert\" onclick=\"convertToInteractive('df-9a0c4f13-6573-4fd7-b527-a0e95a46179d')\"\n",
              "            title=\"Convert this dataframe to an interactive table.\"\n",
              "            style=\"display:none;\">\n",
              "\n",
              "  <svg xmlns=\"http://www.w3.org/2000/svg\" height=\"24px\" viewBox=\"0 -960 960 960\">\n",
              "    <path d=\"M120-120v-720h720v720H120Zm60-500h600v-160H180v160Zm220 220h160v-160H400v160Zm0 220h160v-160H400v160ZM180-400h160v-160H180v160Zm440 0h160v-160H620v160ZM180-180h160v-160H180v160Zm440 0h160v-160H620v160Z\"/>\n",
              "  </svg>\n",
              "    </button>\n",
              "\n",
              "  <style>\n",
              "    .colab-df-container {\n",
              "      display:flex;\n",
              "      gap: 12px;\n",
              "    }\n",
              "\n",
              "    .colab-df-convert {\n",
              "      background-color: #E8F0FE;\n",
              "      border: none;\n",
              "      border-radius: 50%;\n",
              "      cursor: pointer;\n",
              "      display: none;\n",
              "      fill: #1967D2;\n",
              "      height: 32px;\n",
              "      padding: 0 0 0 0;\n",
              "      width: 32px;\n",
              "    }\n",
              "\n",
              "    .colab-df-convert:hover {\n",
              "      background-color: #E2EBFA;\n",
              "      box-shadow: 0px 1px 2px rgba(60, 64, 67, 0.3), 0px 1px 3px 1px rgba(60, 64, 67, 0.15);\n",
              "      fill: #174EA6;\n",
              "    }\n",
              "\n",
              "    .colab-df-buttons div {\n",
              "      margin-bottom: 4px;\n",
              "    }\n",
              "\n",
              "    [theme=dark] .colab-df-convert {\n",
              "      background-color: #3B4455;\n",
              "      fill: #D2E3FC;\n",
              "    }\n",
              "\n",
              "    [theme=dark] .colab-df-convert:hover {\n",
              "      background-color: #434B5C;\n",
              "      box-shadow: 0px 1px 3px 1px rgba(0, 0, 0, 0.15);\n",
              "      filter: drop-shadow(0px 1px 2px rgba(0, 0, 0, 0.3));\n",
              "      fill: #FFFFFF;\n",
              "    }\n",
              "  </style>\n",
              "\n",
              "    <script>\n",
              "      const buttonEl =\n",
              "        document.querySelector('#df-9a0c4f13-6573-4fd7-b527-a0e95a46179d button.colab-df-convert');\n",
              "      buttonEl.style.display =\n",
              "        google.colab.kernel.accessAllowed ? 'block' : 'none';\n",
              "\n",
              "      async function convertToInteractive(key) {\n",
              "        const element = document.querySelector('#df-9a0c4f13-6573-4fd7-b527-a0e95a46179d');\n",
              "        const dataTable =\n",
              "          await google.colab.kernel.invokeFunction('convertToInteractive',\n",
              "                                                    [key], {});\n",
              "        if (!dataTable) return;\n",
              "\n",
              "        const docLinkHtml = 'Like what you see? Visit the ' +\n",
              "          '<a target=\"_blank\" href=https://colab.research.google.com/notebooks/data_table.ipynb>data table notebook</a>'\n",
              "          + ' to learn more about interactive tables.';\n",
              "        element.innerHTML = '';\n",
              "        dataTable['output_type'] = 'display_data';\n",
              "        await google.colab.output.renderOutput(dataTable, element);\n",
              "        const docLink = document.createElement('div');\n",
              "        docLink.innerHTML = docLinkHtml;\n",
              "        element.appendChild(docLink);\n",
              "      }\n",
              "    </script>\n",
              "  </div>\n",
              "\n",
              "\n",
              "<div id=\"df-617ed76b-2ce8-4af6-a29f-f18629df2a7b\">\n",
              "  <button class=\"colab-df-quickchart\" onclick=\"quickchart('df-617ed76b-2ce8-4af6-a29f-f18629df2a7b')\"\n",
              "            title=\"Suggest charts\"\n",
              "            style=\"display:none;\">\n",
              "\n",
              "<svg xmlns=\"http://www.w3.org/2000/svg\" height=\"24px\"viewBox=\"0 0 24 24\"\n",
              "     width=\"24px\">\n",
              "    <g>\n",
              "        <path d=\"M19 3H5c-1.1 0-2 .9-2 2v14c0 1.1.9 2 2 2h14c1.1 0 2-.9 2-2V5c0-1.1-.9-2-2-2zM9 17H7v-7h2v7zm4 0h-2V7h2v10zm4 0h-2v-4h2v4z\"/>\n",
              "    </g>\n",
              "</svg>\n",
              "  </button>\n",
              "\n",
              "<style>\n",
              "  .colab-df-quickchart {\n",
              "      --bg-color: #E8F0FE;\n",
              "      --fill-color: #1967D2;\n",
              "      --hover-bg-color: #E2EBFA;\n",
              "      --hover-fill-color: #174EA6;\n",
              "      --disabled-fill-color: #AAA;\n",
              "      --disabled-bg-color: #DDD;\n",
              "  }\n",
              "\n",
              "  [theme=dark] .colab-df-quickchart {\n",
              "      --bg-color: #3B4455;\n",
              "      --fill-color: #D2E3FC;\n",
              "      --hover-bg-color: #434B5C;\n",
              "      --hover-fill-color: #FFFFFF;\n",
              "      --disabled-bg-color: #3B4455;\n",
              "      --disabled-fill-color: #666;\n",
              "  }\n",
              "\n",
              "  .colab-df-quickchart {\n",
              "    background-color: var(--bg-color);\n",
              "    border: none;\n",
              "    border-radius: 50%;\n",
              "    cursor: pointer;\n",
              "    display: none;\n",
              "    fill: var(--fill-color);\n",
              "    height: 32px;\n",
              "    padding: 0;\n",
              "    width: 32px;\n",
              "  }\n",
              "\n",
              "  .colab-df-quickchart:hover {\n",
              "    background-color: var(--hover-bg-color);\n",
              "    box-shadow: 0 1px 2px rgba(60, 64, 67, 0.3), 0 1px 3px 1px rgba(60, 64, 67, 0.15);\n",
              "    fill: var(--button-hover-fill-color);\n",
              "  }\n",
              "\n",
              "  .colab-df-quickchart-complete:disabled,\n",
              "  .colab-df-quickchart-complete:disabled:hover {\n",
              "    background-color: var(--disabled-bg-color);\n",
              "    fill: var(--disabled-fill-color);\n",
              "    box-shadow: none;\n",
              "  }\n",
              "\n",
              "  .colab-df-spinner {\n",
              "    border: 2px solid var(--fill-color);\n",
              "    border-color: transparent;\n",
              "    border-bottom-color: var(--fill-color);\n",
              "    animation:\n",
              "      spin 1s steps(1) infinite;\n",
              "  }\n",
              "\n",
              "  @keyframes spin {\n",
              "    0% {\n",
              "      border-color: transparent;\n",
              "      border-bottom-color: var(--fill-color);\n",
              "      border-left-color: var(--fill-color);\n",
              "    }\n",
              "    20% {\n",
              "      border-color: transparent;\n",
              "      border-left-color: var(--fill-color);\n",
              "      border-top-color: var(--fill-color);\n",
              "    }\n",
              "    30% {\n",
              "      border-color: transparent;\n",
              "      border-left-color: var(--fill-color);\n",
              "      border-top-color: var(--fill-color);\n",
              "      border-right-color: var(--fill-color);\n",
              "    }\n",
              "    40% {\n",
              "      border-color: transparent;\n",
              "      border-right-color: var(--fill-color);\n",
              "      border-top-color: var(--fill-color);\n",
              "    }\n",
              "    60% {\n",
              "      border-color: transparent;\n",
              "      border-right-color: var(--fill-color);\n",
              "    }\n",
              "    80% {\n",
              "      border-color: transparent;\n",
              "      border-right-color: var(--fill-color);\n",
              "      border-bottom-color: var(--fill-color);\n",
              "    }\n",
              "    90% {\n",
              "      border-color: transparent;\n",
              "      border-bottom-color: var(--fill-color);\n",
              "    }\n",
              "  }\n",
              "</style>\n",
              "\n",
              "  <script>\n",
              "    async function quickchart(key) {\n",
              "      const quickchartButtonEl =\n",
              "        document.querySelector('#' + key + ' button');\n",
              "      quickchartButtonEl.disabled = true;  // To prevent multiple clicks.\n",
              "      quickchartButtonEl.classList.add('colab-df-spinner');\n",
              "      try {\n",
              "        const charts = await google.colab.kernel.invokeFunction(\n",
              "            'suggestCharts', [key], {});\n",
              "      } catch (error) {\n",
              "        console.error('Error during call to suggestCharts:', error);\n",
              "      }\n",
              "      quickchartButtonEl.classList.remove('colab-df-spinner');\n",
              "      quickchartButtonEl.classList.add('colab-df-quickchart-complete');\n",
              "    }\n",
              "    (() => {\n",
              "      let quickchartButtonEl =\n",
              "        document.querySelector('#df-617ed76b-2ce8-4af6-a29f-f18629df2a7b button');\n",
              "      quickchartButtonEl.style.display =\n",
              "        google.colab.kernel.accessAllowed ? 'block' : 'none';\n",
              "    })();\n",
              "  </script>\n",
              "</div>\n",
              "\n",
              "    </div>\n",
              "  </div>\n"
            ],
            "application/vnd.google.colaboratory.intrinsic+json": {
              "type": "dataframe",
              "variable_name": "df"
            }
          },
          "metadata": {},
          "execution_count": 4
        }
      ],
      "source": [
        "# df = pd.read_csv('../data/cleaned_data.csv')\n",
        "df = pd.read_csv('/content/drive/MyDrive/data/cleaned_data.csv')\n",
        "df.head()"
      ]
    },
    {
      "cell_type": "markdown",
      "metadata": {
        "id": "gHlmGaoVduaJ"
      },
      "source": [
        "# **Phân đoạn văn bản**"
      ]
    },
    {
      "cell_type": "code",
      "source": [
        "def segmented_text(text):\n",
        "    return word_tokenize(text, format=\"text\")"
      ],
      "metadata": {
        "id": "VpGu2PbLLjSA"
      },
      "execution_count": 6,
      "outputs": []
    },
    {
      "cell_type": "code",
      "execution_count": null,
      "metadata": {
        "id": "er9dApvnn-ue",
        "colab": {
          "base_uri": "https://localhost:8080/",
          "height": 293
        },
        "outputId": "530d9c93-322d-4cad-cb2c-f60b238ce879"
      },
      "outputs": [
        {
          "output_type": "execute_result",
          "data": {
            "text/plain": [
              "                                                     URL  \\\n",
              "98781  https://thanhnien.vn/ket-qua-xo-so-kqxs-truc-t...   \n",
              "44252  https://thanhnien.vn/bien-doi-khi-hau-co-the-g...   \n",
              "21000  https://thanhnien.vn/kim-tuyen-doan-minh-tai-l...   \n",
              "97510  https://dulich.tuoitre.vn/80-khach-du-lich-bay...   \n",
              "12587  https://vnexpress.net/de-xuat-khong-cong-bo-di...   \n",
              "\n",
              "                                                   Title  \\\n",
              "98781  kết_quả xổ_số kqxs trực_tiếp nhanh hôm_nay thứ...   \n",
              "44252  biến_đổi khí_hậu có_thể gây thiệt_hại 12 sản_l...   \n",
              "21000  kim tuyến đoàn minh_tài làm giám_khảo cuộc thi...   \n",
              "97510   80 khách du_lịch bay thẳng từ ấn_độ đến phú_quốc   \n",
              "12587  đề_xuất không công_bố điểm chuẩn xét_tuyển sớm...   \n",
              "\n",
              "                                                Abstract  \\\n",
              "98781  xem kết_quả xổ_số kqxs miền bắc xsmb kết_quả x...   \n",
              "44252  tno ngân_hàng thế_giới wb tại việt_nam hôm_nay...   \n",
              "21000  kim tuyến và đoàn minh_tài cảm_thấy cuộc thi l...   \n",
              "97510  tto sáng 99 ông bùi_quốc_thái giám_đốc sở du_l...   \n",
              "12587  để học_sinh không lơ_là học_tập trường đại_học...   \n",
              "\n",
              "                                                 Content  Category  num_words  \n",
              "98781  giải bảy giải sáu giải năm giải tư_giải ba giả...  đời sống         42  \n",
              "44252  báo_cáo phân_tích những rủi_ro thời_tiết nguy_...   kinh tế        368  \n",
              "21000  media24h là cuộc thi thử_thách các nhà làm trẻ...  giải trí        278  \n",
              "97510  theo ông thái kể từ dịch_bệnh covid19 đây là đ...  đời sống        200  \n",
              "12587  ông huỳnh_văn_chương cục trưởng quản_lý chất_l...  giáo dục        507  "
            ],
            "text/html": [
              "\n",
              "  <div id=\"df-bed2d3f9-5da3-4a15-b7c7-da686f661ef5\" class=\"colab-df-container\">\n",
              "    <div>\n",
              "<style scoped>\n",
              "    .dataframe tbody tr th:only-of-type {\n",
              "        vertical-align: middle;\n",
              "    }\n",
              "\n",
              "    .dataframe tbody tr th {\n",
              "        vertical-align: top;\n",
              "    }\n",
              "\n",
              "    .dataframe thead th {\n",
              "        text-align: right;\n",
              "    }\n",
              "</style>\n",
              "<table border=\"1\" class=\"dataframe\">\n",
              "  <thead>\n",
              "    <tr style=\"text-align: right;\">\n",
              "      <th></th>\n",
              "      <th>URL</th>\n",
              "      <th>Title</th>\n",
              "      <th>Abstract</th>\n",
              "      <th>Content</th>\n",
              "      <th>Category</th>\n",
              "      <th>num_words</th>\n",
              "    </tr>\n",
              "  </thead>\n",
              "  <tbody>\n",
              "    <tr>\n",
              "      <th>98781</th>\n",
              "      <td>https://thanhnien.vn/ket-qua-xo-so-kqxs-truc-t...</td>\n",
              "      <td>kết_quả xổ_số kqxs trực_tiếp nhanh hôm_nay thứ...</td>\n",
              "      <td>xem kết_quả xổ_số kqxs miền bắc xsmb kết_quả x...</td>\n",
              "      <td>giải bảy giải sáu giải năm giải tư_giải ba giả...</td>\n",
              "      <td>đời sống</td>\n",
              "      <td>42</td>\n",
              "    </tr>\n",
              "    <tr>\n",
              "      <th>44252</th>\n",
              "      <td>https://thanhnien.vn/bien-doi-khi-hau-co-the-g...</td>\n",
              "      <td>biến_đổi khí_hậu có_thể gây thiệt_hại 12 sản_l...</td>\n",
              "      <td>tno ngân_hàng thế_giới wb tại việt_nam hôm_nay...</td>\n",
              "      <td>báo_cáo phân_tích những rủi_ro thời_tiết nguy_...</td>\n",
              "      <td>kinh tế</td>\n",
              "      <td>368</td>\n",
              "    </tr>\n",
              "    <tr>\n",
              "      <th>21000</th>\n",
              "      <td>https://thanhnien.vn/kim-tuyen-doan-minh-tai-l...</td>\n",
              "      <td>kim tuyến đoàn minh_tài làm giám_khảo cuộc thi...</td>\n",
              "      <td>kim tuyến và đoàn minh_tài cảm_thấy cuộc thi l...</td>\n",
              "      <td>media24h là cuộc thi thử_thách các nhà làm trẻ...</td>\n",
              "      <td>giải trí</td>\n",
              "      <td>278</td>\n",
              "    </tr>\n",
              "    <tr>\n",
              "      <th>97510</th>\n",
              "      <td>https://dulich.tuoitre.vn/80-khach-du-lich-bay...</td>\n",
              "      <td>80 khách du_lịch bay thẳng từ ấn_độ đến phú_quốc</td>\n",
              "      <td>tto sáng 99 ông bùi_quốc_thái giám_đốc sở du_l...</td>\n",
              "      <td>theo ông thái kể từ dịch_bệnh covid19 đây là đ...</td>\n",
              "      <td>đời sống</td>\n",
              "      <td>200</td>\n",
              "    </tr>\n",
              "    <tr>\n",
              "      <th>12587</th>\n",
              "      <td>https://vnexpress.net/de-xuat-khong-cong-bo-di...</td>\n",
              "      <td>đề_xuất không công_bố điểm chuẩn xét_tuyển sớm...</td>\n",
              "      <td>để học_sinh không lơ_là học_tập trường đại_học...</td>\n",
              "      <td>ông huỳnh_văn_chương cục trưởng quản_lý chất_l...</td>\n",
              "      <td>giáo dục</td>\n",
              "      <td>507</td>\n",
              "    </tr>\n",
              "  </tbody>\n",
              "</table>\n",
              "</div>\n",
              "    <div class=\"colab-df-buttons\">\n",
              "\n",
              "  <div class=\"colab-df-container\">\n",
              "    <button class=\"colab-df-convert\" onclick=\"convertToInteractive('df-bed2d3f9-5da3-4a15-b7c7-da686f661ef5')\"\n",
              "            title=\"Convert this dataframe to an interactive table.\"\n",
              "            style=\"display:none;\">\n",
              "\n",
              "  <svg xmlns=\"http://www.w3.org/2000/svg\" height=\"24px\" viewBox=\"0 -960 960 960\">\n",
              "    <path d=\"M120-120v-720h720v720H120Zm60-500h600v-160H180v160Zm220 220h160v-160H400v160Zm0 220h160v-160H400v160ZM180-400h160v-160H180v160Zm440 0h160v-160H620v160ZM180-180h160v-160H180v160Zm440 0h160v-160H620v160Z\"/>\n",
              "  </svg>\n",
              "    </button>\n",
              "\n",
              "  <style>\n",
              "    .colab-df-container {\n",
              "      display:flex;\n",
              "      gap: 12px;\n",
              "    }\n",
              "\n",
              "    .colab-df-convert {\n",
              "      background-color: #E8F0FE;\n",
              "      border: none;\n",
              "      border-radius: 50%;\n",
              "      cursor: pointer;\n",
              "      display: none;\n",
              "      fill: #1967D2;\n",
              "      height: 32px;\n",
              "      padding: 0 0 0 0;\n",
              "      width: 32px;\n",
              "    }\n",
              "\n",
              "    .colab-df-convert:hover {\n",
              "      background-color: #E2EBFA;\n",
              "      box-shadow: 0px 1px 2px rgba(60, 64, 67, 0.3), 0px 1px 3px 1px rgba(60, 64, 67, 0.15);\n",
              "      fill: #174EA6;\n",
              "    }\n",
              "\n",
              "    .colab-df-buttons div {\n",
              "      margin-bottom: 4px;\n",
              "    }\n",
              "\n",
              "    [theme=dark] .colab-df-convert {\n",
              "      background-color: #3B4455;\n",
              "      fill: #D2E3FC;\n",
              "    }\n",
              "\n",
              "    [theme=dark] .colab-df-convert:hover {\n",
              "      background-color: #434B5C;\n",
              "      box-shadow: 0px 1px 3px 1px rgba(0, 0, 0, 0.15);\n",
              "      filter: drop-shadow(0px 1px 2px rgba(0, 0, 0, 0.3));\n",
              "      fill: #FFFFFF;\n",
              "    }\n",
              "  </style>\n",
              "\n",
              "    <script>\n",
              "      const buttonEl =\n",
              "        document.querySelector('#df-bed2d3f9-5da3-4a15-b7c7-da686f661ef5 button.colab-df-convert');\n",
              "      buttonEl.style.display =\n",
              "        google.colab.kernel.accessAllowed ? 'block' : 'none';\n",
              "\n",
              "      async function convertToInteractive(key) {\n",
              "        const element = document.querySelector('#df-bed2d3f9-5da3-4a15-b7c7-da686f661ef5');\n",
              "        const dataTable =\n",
              "          await google.colab.kernel.invokeFunction('convertToInteractive',\n",
              "                                                    [key], {});\n",
              "        if (!dataTable) return;\n",
              "\n",
              "        const docLinkHtml = 'Like what you see? Visit the ' +\n",
              "          '<a target=\"_blank\" href=https://colab.research.google.com/notebooks/data_table.ipynb>data table notebook</a>'\n",
              "          + ' to learn more about interactive tables.';\n",
              "        element.innerHTML = '';\n",
              "        dataTable['output_type'] = 'display_data';\n",
              "        await google.colab.output.renderOutput(dataTable, element);\n",
              "        const docLink = document.createElement('div');\n",
              "        docLink.innerHTML = docLinkHtml;\n",
              "        element.appendChild(docLink);\n",
              "      }\n",
              "    </script>\n",
              "  </div>\n",
              "\n",
              "\n",
              "<div id=\"df-b87b5122-0bf1-4e3b-9628-3bc9ad19c8d8\">\n",
              "  <button class=\"colab-df-quickchart\" onclick=\"quickchart('df-b87b5122-0bf1-4e3b-9628-3bc9ad19c8d8')\"\n",
              "            title=\"Suggest charts\"\n",
              "            style=\"display:none;\">\n",
              "\n",
              "<svg xmlns=\"http://www.w3.org/2000/svg\" height=\"24px\"viewBox=\"0 0 24 24\"\n",
              "     width=\"24px\">\n",
              "    <g>\n",
              "        <path d=\"M19 3H5c-1.1 0-2 .9-2 2v14c0 1.1.9 2 2 2h14c1.1 0 2-.9 2-2V5c0-1.1-.9-2-2-2zM9 17H7v-7h2v7zm4 0h-2V7h2v10zm4 0h-2v-4h2v4z\"/>\n",
              "    </g>\n",
              "</svg>\n",
              "  </button>\n",
              "\n",
              "<style>\n",
              "  .colab-df-quickchart {\n",
              "      --bg-color: #E8F0FE;\n",
              "      --fill-color: #1967D2;\n",
              "      --hover-bg-color: #E2EBFA;\n",
              "      --hover-fill-color: #174EA6;\n",
              "      --disabled-fill-color: #AAA;\n",
              "      --disabled-bg-color: #DDD;\n",
              "  }\n",
              "\n",
              "  [theme=dark] .colab-df-quickchart {\n",
              "      --bg-color: #3B4455;\n",
              "      --fill-color: #D2E3FC;\n",
              "      --hover-bg-color: #434B5C;\n",
              "      --hover-fill-color: #FFFFFF;\n",
              "      --disabled-bg-color: #3B4455;\n",
              "      --disabled-fill-color: #666;\n",
              "  }\n",
              "\n",
              "  .colab-df-quickchart {\n",
              "    background-color: var(--bg-color);\n",
              "    border: none;\n",
              "    border-radius: 50%;\n",
              "    cursor: pointer;\n",
              "    display: none;\n",
              "    fill: var(--fill-color);\n",
              "    height: 32px;\n",
              "    padding: 0;\n",
              "    width: 32px;\n",
              "  }\n",
              "\n",
              "  .colab-df-quickchart:hover {\n",
              "    background-color: var(--hover-bg-color);\n",
              "    box-shadow: 0 1px 2px rgba(60, 64, 67, 0.3), 0 1px 3px 1px rgba(60, 64, 67, 0.15);\n",
              "    fill: var(--button-hover-fill-color);\n",
              "  }\n",
              "\n",
              "  .colab-df-quickchart-complete:disabled,\n",
              "  .colab-df-quickchart-complete:disabled:hover {\n",
              "    background-color: var(--disabled-bg-color);\n",
              "    fill: var(--disabled-fill-color);\n",
              "    box-shadow: none;\n",
              "  }\n",
              "\n",
              "  .colab-df-spinner {\n",
              "    border: 2px solid var(--fill-color);\n",
              "    border-color: transparent;\n",
              "    border-bottom-color: var(--fill-color);\n",
              "    animation:\n",
              "      spin 1s steps(1) infinite;\n",
              "  }\n",
              "\n",
              "  @keyframes spin {\n",
              "    0% {\n",
              "      border-color: transparent;\n",
              "      border-bottom-color: var(--fill-color);\n",
              "      border-left-color: var(--fill-color);\n",
              "    }\n",
              "    20% {\n",
              "      border-color: transparent;\n",
              "      border-left-color: var(--fill-color);\n",
              "      border-top-color: var(--fill-color);\n",
              "    }\n",
              "    30% {\n",
              "      border-color: transparent;\n",
              "      border-left-color: var(--fill-color);\n",
              "      border-top-color: var(--fill-color);\n",
              "      border-right-color: var(--fill-color);\n",
              "    }\n",
              "    40% {\n",
              "      border-color: transparent;\n",
              "      border-right-color: var(--fill-color);\n",
              "      border-top-color: var(--fill-color);\n",
              "    }\n",
              "    60% {\n",
              "      border-color: transparent;\n",
              "      border-right-color: var(--fill-color);\n",
              "    }\n",
              "    80% {\n",
              "      border-color: transparent;\n",
              "      border-right-color: var(--fill-color);\n",
              "      border-bottom-color: var(--fill-color);\n",
              "    }\n",
              "    90% {\n",
              "      border-color: transparent;\n",
              "      border-bottom-color: var(--fill-color);\n",
              "    }\n",
              "  }\n",
              "</style>\n",
              "\n",
              "  <script>\n",
              "    async function quickchart(key) {\n",
              "      const quickchartButtonEl =\n",
              "        document.querySelector('#' + key + ' button');\n",
              "      quickchartButtonEl.disabled = true;  // To prevent multiple clicks.\n",
              "      quickchartButtonEl.classList.add('colab-df-spinner');\n",
              "      try {\n",
              "        const charts = await google.colab.kernel.invokeFunction(\n",
              "            'suggestCharts', [key], {});\n",
              "      } catch (error) {\n",
              "        console.error('Error during call to suggestCharts:', error);\n",
              "      }\n",
              "      quickchartButtonEl.classList.remove('colab-df-spinner');\n",
              "      quickchartButtonEl.classList.add('colab-df-quickchart-complete');\n",
              "    }\n",
              "    (() => {\n",
              "      let quickchartButtonEl =\n",
              "        document.querySelector('#df-b87b5122-0bf1-4e3b-9628-3bc9ad19c8d8 button');\n",
              "      quickchartButtonEl.style.display =\n",
              "        google.colab.kernel.accessAllowed ? 'block' : 'none';\n",
              "    })();\n",
              "  </script>\n",
              "</div>\n",
              "\n",
              "    </div>\n",
              "  </div>\n"
            ],
            "application/vnd.google.colaboratory.intrinsic+json": {
              "type": "dataframe",
              "summary": "{\n  \"name\": \"df\",\n  \"rows\": 5,\n  \"fields\": [\n    {\n      \"column\": \"URL\",\n      \"properties\": {\n        \"dtype\": \"string\",\n        \"num_unique_values\": 5,\n        \"samples\": [\n          \"https://thanhnien.vn/bien-doi-khi-hau-co-the-gay-thiet-hai-12-san-luong-gao-ca-nuoc-18524533.htm\",\n          \"https://vnexpress.net/de-xuat-khong-cong-bo-diem-chuan-xet-tuyen-som-truoc-31-5-4810612.html\",\n          \"https://thanhnien.vn/kim-tuyen-doan-minh-tai-lam-giam-khao-cuoc-thi-tim-kiem-nha-lam-phim-tre-185240719095621008.htm\"\n        ],\n        \"semantic_type\": \"\",\n        \"description\": \"\"\n      }\n    },\n    {\n      \"column\": \"Title\",\n      \"properties\": {\n        \"dtype\": \"string\",\n        \"num_unique_values\": 5,\n        \"samples\": [\n          \"bi\\u1ebfn_\\u0111\\u1ed5i kh\\u00ed_h\\u1eadu c\\u00f3_th\\u1ec3 g\\u00e2y thi\\u1ec7t_h\\u1ea1i 12 s\\u1ea3n_l\\u01b0\\u1ee3ng g\\u1ea1o c\\u1ea3 n\\u01b0\\u1edbc\",\n          \"\\u0111\\u1ec1_xu\\u1ea5t kh\\u00f4ng c\\u00f4ng_b\\u1ed1 \\u0111i\\u1ec3m chu\\u1ea9n x\\u00e9t_tuy\\u1ec3n s\\u1edbm tr\\u01b0\\u1edbc 315 b\\u00e1o vnexpress\",\n          \"kim tuy\\u1ebfn \\u0111o\\u00e0n minh_t\\u00e0i l\\u00e0m gi\\u00e1m_kh\\u1ea3o cu\\u1ed9c thi t\\u00ecm_ki\\u1ebfm nh\\u00e0 l\\u00e0m phim tr\\u1ebb\"\n        ],\n        \"semantic_type\": \"\",\n        \"description\": \"\"\n      }\n    },\n    {\n      \"column\": \"Abstract\",\n      \"properties\": {\n        \"dtype\": \"string\",\n        \"num_unique_values\": 5,\n        \"samples\": [\n          \"tno ng\\u00e2n_h\\u00e0ng th\\u1ebf_gi\\u1edbi wb t\\u1ea1i vi\\u1ec7t_nam h\\u00f4m_nay 206 c\\u00f4ng_b\\u1ed1 v\\u1ec1 hi\\u1ec7n_t\\u01b0\\u1ee3ng \\u1ea5m d\\u1ea7n l\\u00ean c\\u1ee7a tr\\u00e1i_\\u0111\\u1ea5t s\\u1ebd \\u1ea3nh_h\\u01b0\\u1edfng \\u0111\\u1ebfn nhi\\u1ec1u ti\\u1ec3u_v\\u00f9ng tr\\u00ean th\\u1ebf_gi\\u1edbi trong \\u0111\\u00f3 c\\u00f3 khu_v\\u1ef1c \\u0111\\u00f4ng nam \\u00e1\",\n          \"\\u0111\\u1ec3 h\\u1ecdc_sinh kh\\u00f4ng l\\u01a1_l\\u00e0 h\\u1ecdc_t\\u1eadp tr\\u01b0\\u1eddng \\u0111\\u1ea1i_h\\u1ecdc s\\u1ebd kh\\u00f4ng \\u0111\\u01b0\\u1ee3c c\\u00f4ng_b\\u1ed1 \\u0111i\\u1ec3m chu\\u1ea9n x\\u00e9t_tuy\\u1ec3n s\\u1edbm tr\\u01b0\\u1edbc 315 theo \\u0111\\u1ec1_xu\\u1ea5t c\\u1ee7a l\\u00e3nh_\\u0111\\u1ea1o b\\u1ed9 gi\\u00e1o_d\\u1ee5c vnexpress\",\n          \"kim tuy\\u1ebfn v\\u00e0 \\u0111o\\u00e0n minh_t\\u00e0i c\\u1ea3m_th\\u1ea5y cu\\u1ed9c thi l\\u00e0 c\\u01a1_h\\u1ed9i \\u0111\\u1ec3 th\\u00fac_\\u0111\\u1ea9y s\\u1ef1 s\\u00e1ng_t\\u1ea1o c\\u1ee7a nh\\u1eefng nh\\u00e0 l\\u00e0m phim tr\\u1ebb \\u0111\\u1ed3ng_th\\u1eddi c\\u0169ng gi\\u00fap hai ngh\\u1ec7_s\\u0129 hi\\u1ec3u th\\u00eam t\\u01b0_duy l\\u00e0m phim c\\u1ee7a th\\u1ebf_h\\u1ec7 k\\u1ebf_th\\u1eeba\"\n        ],\n        \"semantic_type\": \"\",\n        \"description\": \"\"\n      }\n    },\n    {\n      \"column\": \"Content\",\n      \"properties\": {\n        \"dtype\": \"string\",\n        \"num_unique_values\": 5,\n        \"samples\": [\n          \"b\\u00e1o_c\\u00e1o ph\\u00e2n_t\\u00edch nh\\u1eefng r\\u1ee7i_ro th\\u1eddi_ti\\u1ebft nguy_h\\u1ea1i nh\\u1ea5t t\\u1ea1i khu_v\\u1ef1c \\u0111\\u00f4ng nam_\\u00e1 khi tr\\u00e1i_\\u0111\\u1ea5t \\u1ea5m l\\u00ean th\\u00eam 2 \\u00bac tr\\u01b0\\u1edbc_h\\u1ebft n\\u01b0\\u1edbc_bi\\u1ec3n \\u0111ang d\\u00e2ng l\\u00ean nhanh h\\u01a1n d\\u1ef1_b\\u00e1o tr\\u01b0\\u1edbc_\\u0111\\u00e2y v\\u00e0 b\\u00e3o s\\u1ebd c\\u00e0ng m\\u00e3nh_li\\u1ec7t c\\u00e1c th\\u00e0nh_ph\\u1ed1 v\\u00f9ng duy\\u00ean_h\\u1ea3i v\\u1edbi s\\u1ef1 t\\u1eadp_trung d\\u00e0y_\\u0111\\u1eb7c v\\u1ec1 m\\u1eadt_\\u0111\\u1ed9 d\\u00e2n_s\\u1ed1 v\\u00e0 t\\u00e0i_s\\u1ea3n v\\u1eadt_ch\\u1ea5t c\\u0169ng \\u0111ang b\\u1ecb \\u0111\\u1eb7t tr\\u01b0\\u1edbc nguy_c\\u01a1 \\u0111\\u1ed1i_di\\u1ec7n nh\\u1eefng c\\u01a1n b\\u00e3o c\\u01b0\\u1eddng_\\u0111\\u1ed9 m\\u1ea1nh n\\u01b0\\u1edbc_bi\\u1ec3n d\\u00e2ng trong th\\u1eddi_gian d\\u00e0i v\\u00e0 nh\\u1eefng tr\\u1eadn b\\u00e3o ven bi\\u1ec3n b\\u1ea5t_ng\\u1edd bangkok tphcm jakarta manila v\\u00e0 yangon l\\u00e0 nh\\u1eefng th\\u00e0nh_ph\\u1ed1 \\u0111\\u01b0\\u1ee3c d\\u1ef1_\\u0111o\\u00e1n s\\u1ebd b\\u1ecb \\u1ea3nh_h\\u01b0\\u1edfng nhi\\u1ec1u nh\\u1ea5t b\\u00ean c\\u1ea1nh \\u0111\\u00f3 c\\u00e1c r\\u1eb7ng san_h\\u00f4 s\\u1ebd b\\u1ecb t\\u1ed5n_h\\u1ea1i n\\u1eb7ng_n\\u1ec1 vi\\u1ec7c_l\\u00e0m khu_v\\u1ef1c n\\u00f4ng_th\\u00f4n v\\u00e0 duy\\u00ean_h\\u1ea3i b\\u1ecb \\u0111e d\\u1ecda v\\u00f9ng \\u0111\\u1ed3ng_b\\u1eb1ng s\\u00f4ng m\\u00ea_k\\u00f4ng s\\u1ea3n_xu\\u1ea5t kho\\u1ea3ng 50 t\\u1ed5ng_s\\u1ea3n_l\\u01b0\\u1ee3ng n\\u00f4ng_nghi\\u1ec7p c\\u1ee7a vi\\u1ec7t_nam v\\u00e0 \\u0111\\u00f3ng_g\\u00f3p ch\\u1ee7_y\\u1ebfu v\\u00e0o xu\\u1ea5t_kh\\u1ea9u g\\u1ea1o c\\u1ee7a c\\u1ea3 n\\u01b0\\u1edbc n\\u01b0\\u1edbc_bi\\u1ec3n d\\u00e2ng 30 cm c\\u00f3_th\\u1ec3 x\\u1ea3y ra s\\u1edbm v\\u00e0o n\\u0103m 2040 v\\u00e0 kh\\u1ea3_n\\u0103ng g\\u00e2y thi\\u1ec7t_h\\u1ea1i kho\\u1ea3ng 12 s\\u1ea3n_l\\u01b0\\u1ee3ng g\\u1ea1o wb \\u0111ang h\\u1ed7_tr\\u1ee3 c\\u00e1c ho\\u1ea1t_\\u0111\\u1ed9ng c\\u1ee5_th\\u1ec3 t\\u00e0i_tr\\u1ee3 c\\u00e1c d\\u1ef1_\\u00e1n tr\\u1ee3_gi\\u00fap ng\\u01b0\\u1eddi ngh\\u00e8o tho\\u00e1t ngh\\u00e8o t\\u0103ng t\\u00ednh b\\u1ec1n_v\\u1eefng v\\u00e0 gi\\u1ea3m c\\u00e1c lo\\u1ea1i r\\u00e1c_th\\u1ea3i cho nhi\\u1ec1u qu\\u1ed1c_gia \\u1edf vi\\u1ec7t_nam \\u1ea3nh_h\\u01b0\\u1edfng l\\u1edbn nh\\u1ea5t s\\u1ebd l\\u00e0 l\\u0169_l\\u1ee5t \\u1edf khu_v\\u1ef1c \\u0111\\u00f4_th\\u1ecb do t\\u00e1c_\\u0111\\u1ed9ng c\\u1ee7a n\\u01b0\\u1edbc_bi\\u1ec3n x\\u00e2m_nh\\u1eadp m\\u1eb7n \\u1edf khu_v\\u1ef1c \\u0111\\u1ed3ng_b\\u1eb1ng s\\u00f4ng m\\u00ea k\\u00f4ng wb cho bi\\u1ebft \\u0111ang l\\u00e0m_vi\\u1ec7c v\\u1edbi ch\\u00ednh_ph\\u1ee7 vi\\u1ec7t_nam trong h\\u00e0ng_lo\\u1ea1t c\\u00e1c ho\\u1ea1t_\\u0111\\u1ed9ng ch\\u00ednh_s\\u00e1ch nh\\u1eb1m gi\\u1ea3m_thi\\u1ec3u t\\u00e1c_\\u0111\\u1ed9ng c\\u1ee7a bi\\u1ebfn_\\u0111\\u1ed5i kh\\u00ed_h\\u1eadu v\\u00e0 \\u0111ang th\\u1ea3o_lu\\u1eadn c\\u00e1c ch\\u01b0\\u01a1ng_tr\\u00ecnh t\\u1ea1i tphcm v\\u00e0 \\u0111\\u1ed3ng_b\\u1eb1ng s\\u00f4ng m\\u00ea_k\\u00f4ng \\u0111\\u1ec3 gi\\u1ea3i_quy\\u1ebft c\\u00e1c m\\u1ed1i \\u0111e d\\u1ecda n\\u00e0y ntr\\u1ea7n_t\\u00e2m >> ng\\u00e2n_h\\u00e0ng th\\u1ebf_gi\\u1edbi t\\u00e0i_tr\\u1ee3 150 tri\\u1ec7u usd ph\\u00e1t_tri\\u1ec3n gi\\u00e1o_d\\u1ee5c >> ng\\u00e2n_h\\u00e0ng th\\u1ebf_gi\\u1edbi s\\u1ebd h\\u1ed7_tr\\u1ee3 hy_l\\u1ea1p >> ng\\u00e2n_h\\u00e0ng th\\u1ebf_gi\\u1edbi c\\u00f3 t\\u00e2n ch\\u1ee7_t\\u1ecbch >> c\\u1ea3nh_b\\u00e1o t\\u1eeb ng\\u00e2n_h\\u00e0ng th\\u1ebf_gi\\u1edbi >> vay ng\\u00e2n_h\\u00e0ng th\\u1ebf_gi\\u1edbi \\u0111\\u1ec3 d\\u1eddi tr\\u01b0\\u1eddng ra ngo\\u1ea1i_th\\u00e0nh\",\n          \"\\u00f4ng hu\\u1ef3nh_v\\u0103n_ch\\u01b0\\u01a1ng c\\u1ee5c tr\\u01b0\\u1edfng qu\\u1ea3n_l\\u00fd ch\\u1ea5t_l\\u01b0\\u1ee3ng b\\u1ed9 gi\\u00e1o_d\\u1ee5c v\\u00e0 \\u0111\\u00e0o_t\\u1ea1o n\\u00eau \\u0111\\u1ec1_xu\\u1ea5t n\\u00e0y t\\u1ea1i h\\u1ed9i_ngh\\u1ecb t\\u1ed5ng_k\\u1ebft k\\u1ef3 thi t\\u1ed1t_nghi\\u1ec7p thpt giai_\\u0111o\\u1ea1n 20202024 ng\\u00e0y 3110 theo \\u00f4ng ch\\u01b0\\u01a1ng 315 l\\u00e0 th\\u1eddi_\\u0111i\\u1ec3m k\\u1ebft_th\\u00fac n\\u0103m_h\\u1ecdc \\u0111i\\u1ec3m chu\\u1ea9n c\\u00e1c ph\\u01b0\\u01a1ng_th\\u1ee9c x\\u00e9t_tuy\\u1ec3n s\\u1edbm c\\u1ea7n \\u0111\\u01b0\\u1ee3c c\\u00f4ng_b\\u1ed1 sau th\\u1eddi_gian n\\u00e0y tr\\u00e1nh \\u1ea3nh_h\\u01b0\\u1edfng \\u0111\\u1ebfn k\\u1ef3 thi t\\u1ed1t_nghi\\u1ec7p thpt v\\u00e0 vi\\u1ec7c h\\u1ecdc_t\\u1eadp c\\u1ee7a h\\u1ecdc_sinh lu\\u1eadt_gi\\u00e1o_d\\u1ee5c \\u0111\\u1ea1i_h\\u1ecdc cho_ph\\u00e9p \\u0111\\u1ea1i_h\\u1ecdc t\\u1ef1_ch\\u1ee7 tuy\\u1ec3n_sinh theo th\\u1ed1ng_k\\u00ea c\\u1ee7a b\\u1ed9 gi\\u00e1o_d\\u1ee5c v\\u00e0 \\u0111\\u00e0o_t\\u1ea1o c\\u00e1c tr\\u01b0\\u1eddng s\\u1eed_d\\u1ee5ng t\\u1ed5ng_c\\u1ed9ng h\\u01a1n 20 c\\u00e1ch x\\u00e9t_tuy\\u1ec3n ch\\u1ee7_y\\u1ebfu l\\u00e0 x\\u00e9t_tuy\\u1ec3n s\\u1edbm b\\u1eb1ng \\u0111i\\u1ec3m h\\u1ecdc_b\\u1ea1 ch\\u1ee9ng_ch\\u1ec9 qu\\u1ed1c_t\\u1ebf \\u0111\\u00e1nh_gi\\u00e1 n\\u0103ng_l\\u1ef1c t\\u01b0_duy k\\u1ebft_h\\u1ee3p n\\u0103m_ngo\\u00e1i 214 trong 322 tr\\u01b0\\u1eddng x\\u00e9t_tuy\\u1ec3n s\\u1edbm s\\u1ed1 sinh_vi\\u00ean tr\\u00fang_tuy\\u1ec3n theo di\\u1ec7n n\\u00e0y l\\u00e0 h\\u01a1n 375500 em g\\u1ea7n 50 t\\u1ed5ng_s\\u1ed1 \\u0111\\u0103ng_k\\u00fd x\\u00e9t tuy\\u1ec3n \\u0111\\u1ea1i_h\\u1ecdc trong \\u0111\\u00f3 nhi\\u1ec1u tr\\u01b0\\u1eddng x\\u00e9t h\\u1ecdc_b\\u1ea1 t\\u1eeb th\\u00e1ng 1 v\\u1edbi \\u0111i\\u1ec3m c\\u1ee7a 3 ho\\u1eb7c 5 h\\u1ecdc_k\\u1ef3 kh\\u00f4ng bao_g\\u1ed3m k\\u1ef3 ii l\\u1edbp 12 m\\u1ed9t_s\\u1ed1 tr\\u01b0\\u1eddng c\\u00f4ng_b\\u1ed1 \\u0111i\\u1ec3m chu\\u1ea9n h\\u1ecdc_b\\u1ea1 ngay trong th\\u00e1ng 3 b\\u1ed9_tr\\u01b0\\u1edfng nguy\\u1ec5n_kim_s\\u01a1n v\\u00e0 nhi\\u1ec1u chuy\\u00ean_gia cho r\\u1eb1ng vi\\u1ec7c n\\u00e0y g\\u00e2y \\u1ea3nh_h\\u01b0\\u1edfng ti\\u00eau_c\\u1ef1c \\u0111\\u1ebfn gi\\u00e1o_d\\u1ee5c_ph\\u1ed5_th\\u00f4ng giai_\\u0111o\\u1ea1n cu\\u1ed1i ngu\\u1ed3n d\\u1eef_li\\u1ec7u d\\u00f9ng x\\u00e9t tuy\\u1ec3n c\\u0169ng kh\\u00f4ng \\u0111\\u1ea7y_\\u0111\\u1ee7 do h\\u1ecdc_sinh ch\\u01b0a h\\u1ecdc h\\u1ebft l\\u1edbp 12 c\\u00e1c tr\\u01b0\\u1eddng d\\u00f9ng nhi\\u1ec1u ph\\u01b0\\u01a1ng_th\\u1ee9c tuy\\u1ec3n_sinh s\\u1edbm khi\\u1ebfn ch\\u1ec9_ti\\u00eau x\\u00e9t tuy\\u1ec3n \\u0111\\u1ea7u_v\\u00e0o b\\u1eb1ng \\u0111i\\u1ec3m thi t\\u1ed1t_nghi\\u1ec7p b\\u1ecb thu_h\\u1eb9p nhi\\u1ec1u em \\u0111i\\u1ec3m cao nh\\u01b0ng kh\\u00f4ng \\u0111\\u1ed7 nguy\\u1ec7n_v\\u1ecdng m\\u00ecnh y\\u00eau_th\\u00edch ngo\\u00e0i_ra c\\u1ee5c qu\\u1ea3n_l\\u00fd ch\\u1ea5t_l\\u01b0\\u1ee3ng \\u0111\\u1ec1_xu\\u1ea5t_b\\u1ed9 gi\\u00e1o_d\\u1ee5c v\\u00e0 \\u0111\\u00e0o_t\\u1ea1o ban_h\\u00e0nh quy_\\u0111\\u1ecbnh \\u0111\\u1ec3 ki\\u1ec3m_tra gi\\u00e1m_s\\u00e1t ch\\u1ea5t_l\\u01b0\\u1ee3ng c\\u00e1c k\\u1ef3 thi \\u0111\\u00e1nh_gi\\u00e1 n\\u0103ng_l\\u1ef1c \\u0111\\u00e1nh_gi\\u00e1 t\\u01b0_duy do c\\u00e1c tr\\u01b0\\u1eddng \\u0111\\u1ea1i_h\\u1ecdc t\\u1ef1 t\\u1ed5_ch\\u1ee9c trong \\u0111\\u00f3 c\\u00e1c k\\u1ef3 thi ri\\u00eang n\\u00e0y ph\\u1ea3i x\\u00e2y_d\\u1ef1ng ng\\u00e2n_h\\u00e0ng c\\u00e2u h\\u1ecfi v\\u00e0 \\u0111\\u1ec1_thi theo ch\\u01b0\\u01a1ng_tr\\u00ecnh gi\\u00e1o_d\\u1ee5c_ph\\u1ed5_th\\u00f4ng 2018 \\u00f4ng ch\\u01b0\\u01a1ng l\\u01b0u_\\u00fd \\u0111i\\u1ec3m n\\u00e0y r\\u1ea5t quan_tr\\u1ecdng nh\\u1eb1m tr\\u00e1nh vi\\u1ec7c h\\u1ecdc_sinh ph\\u1ea3i \\u00f4n_thi ri\\u00eang d\\u1eabn \\u0111\\u1ebfn ph\\u00e1 v\\u1ee1 vi\\u1ec7c d\\u1ea1y v\\u00e0 h\\u1ecdc \\u1edf c\\u00e1c tr\\u01b0\\u1eddng ph\\u1ed5_th\\u00f4ng quy_tr\\u00ecnh t\\u1ed5_ch\\u1ee9c thi c\\u0169ng ph\\u1ea3i th\\u1ed1ng_nh\\u1ea5t tr\\u00e1nh g\\u00e2y kh\\u00f3_kh\\u0103n cho h\\u1ecdc_sinh c\\u1ea3 n\\u01b0\\u1edbc hi\\u1ec7n c\\u00f3 kho\\u1ea3ng 10 k\\u1ef3 thi \\u0111\\u00e1nh_gi\\u00e1 n\\u0103ng_l\\u1ef1c t\\u01b0_duy do c\\u00e1c tr\\u01b0\\u1eddng \\u0111\\u1ea1i_h\\u1ecdc t\\u1ed5_ch\\u1ee9c trong \\u0111\\u00f3 k\\u1ef3_thi c\\u1ee7a hai \\u0111\\u1ea1i_h\\u1ecdc qu\\u1ed1c_gia v\\u00e0 b\\u00e1ch_khoa h\\u00e0_n\\u1ed9i \\u0111\\u00f4ng th\\u00ed_sinh v\\u00e0 \\u0111\\u01b0\\u1ee3c nhi\\u1ec1u tr\\u01b0\\u1eddng d\\u00f9ng \\u0111\\u1ec3 x\\u00e9t_tuy\\u1ec3n nh\\u1ea5t n\\u0103m 2023 trong h\\u01a1n n\\u1eeda tri\\u1ec7u th\\u00ed_sinh \\u0111\\u1ed7 \\u0111\\u1ea1i_h\\u1ecdc kho\\u1ea3ng 257 nh\\u1eadp_h\\u1ecdc b\\u1eb1ng c\\u00e1ch x\\u00e9t_\\u0111i\\u1ec3m c\\u00e1c k\\u1ef3 thi ri\\u00eang d\\u1ef1_th\\u1ea3o quy_ch\\u1ebf tuy\\u1ec3n_sinh \\u0111\\u1ea1i_h\\u1ecdc 2025 \\u0111ang \\u0111\\u01b0\\u1ee3c b\\u1ed9 gi\\u00e1o_d\\u1ee5c v\\u00e0 \\u0111\\u00e0o_t\\u1ea1o x\\u00e2y_d\\u1ef1ng do v\\u1ee5 gi\\u00e1o_d\\u1ee5c \\u0111\\u1ea1i_h\\u1ecdc ch\\u1ee7_tr\\u00ec d\\u1ef1_ki\\u1ebfn c\\u00f4ng_b\\u1ed1 v\\u00e0o th\\u00e1ng 11 l\\u1ec7 nguy\\u1ec5n\",\n          \"media24h l\\u00e0 cu\\u1ed9c thi th\\u1eed_th\\u00e1ch c\\u00e1c nh\\u00e0 l\\u00e0m tr\\u1ebb s\\u1ea3n_xu\\u1ea5t n\\u1ed9i_dung trong v\\u00f2ng 24 gi\\u1edd \\u0111\\u1ed3ng_th\\u1eddi th\\u1ef1c_hi\\u1ec7n c\\u00e1c ho\\u1ea1t_\\u0111\\u1ed9ng truy\\u1ec1n_th\\u00f4ng qu\\u1ea3ng_b\\u00e1 cho t\\u00e1c_ph\\u1ea9m c\\u1ee7a m\\u00ecnh \\u1edf cu\\u1ed9c thi l\\u1ea7n n\\u00e0y ns\\u01b0t kim_tuy\\u1ebfn v\\u00e0 di\\u1ec5n_vi\\u00ean \\u0111o\\u00e0n minh_t\\u00e0i \\u0111\\u1ea3m_nh\\u1eadn v\\u1ecb_tr\\u00ed gi\\u00e1m_kh\\u1ea3o ngay khi nh\\u1eadn \\u0111\\u01b0\\u1ee3c l\\u1eddi m\\u1eddi t\\u1eeb ban t\\u1ed5_ch\\u1ee9c kim_tuy\\u1ebfn b\\u00e0y_t\\u1ecf s\\u1ef1 h\\u00e0o_h\\u1ee9ng v\\u00ec \\u0111\\u01b0\\u1ee3c th\\u01b0\\u1edfng_th\\u1ee9c nh\\u1eefng t\\u00e1c_ph\\u1ea9m c\\u1ee7a c\\u00e1c b\\u1ea1n sinh_vi\\u00ean ns\\u01b0t kim_tuy\\u1ebfn chia_s\\u1ebb t\\u00f4i vui khi \\u0111\\u01b0\\u1ee3c l\\u00e0m vai_tr\\u00f2 gi\\u00e1m_kh\\u1ea3o v\\u00ec t\\u00f4i s\\u1ebd \\u0111\\u01b0\\u1ee3c h\\u1ecdc_h\\u1ecfi nhi\\u1ec1u t\\u1eeb nh\\u1eefng b\\u1ea1n tr\\u1ebb c\\u00e1ch l\\u00e0m phim c\\u00e1ch di\\u1ec5n_xu\\u1ea5t v\\u00e0 c\\u00e1ch th\\u1ec3_hi\\u1ec7n g\\u00f3c nh\\u00ecn c\\u1ee7a ng\\u01b0\\u1eddi tr\\u1ebb phim b\\u00e2y_gi\\u1edd ph\\u1ee5c_v\\u1ee5 gi\\u1edbi tr\\u1ebb n\\u1ebfu t\\u00f4i c\\u00f3 l\\u00e0m phim th\\u00ec c\\u0169ng s\\u1ebd h\\u01b0\\u1edbng \\u0111\\u1ebfn gi\\u1edbi tr\\u1ebb_gi\\u1edbi tr\\u1ebb l\\u00e0 l\\u1ef1c_l\\u01b0\\u1ee3ng lao_\\u0111\\u1ed9ng ch\\u00ednh c\\u1ee7a x\\u00e3_h\\u1ed9i n\\u00ean g\\u00f3c nh\\u00ecn c\\u1ee7a h\\u1ecd c\\u0169ng r\\u1ea5t kh\\u00e1c trong khi \\u0111\\u00f3 gi\\u00e1m_kh\\u1ea3o \\u0111o\\u00e0n minh_t\\u00e0i c\\u0169ng cho r\\u1eb1ng \\u0111\\u00e2y l\\u00e0 c\\u01a1_h\\u1ed9i \\u0111\\u1ec3 anh ti\\u1ebfp_c\\u1eadn v\\u1edbi t\\u01b0_duy l\\u00e0m phim c\\u1ee7a c\\u00e1c b\\u1ea1n tr\\u1ebb t\\u1eeb \\u0111\\u00f3 h\\u1ecdc_h\\u1ecfi th\\u00eam \\u0111\\u01b0\\u1ee3c nh\\u1eefng ki\\u1ebfn_th\\u1ee9c m\\u1edbi v\\u00e0 c\\u00f3 g\\u00f3c nh\\u00ecn \\u0111a_chi\\u1ec1u khi nh\\u1eadn vai_tr\\u00f2 gi\\u00e1m_kh\\u1ea3o t\\u00f4i c\\u1ea3m_th\\u1ea5y vinh_d\\u1ef1 v\\u00ec \\u0111\\u01b0\\u1ee3c g\\u00f3p_ph\\u1ea7n khuy\\u1ebfn_kh\\u00edch nh\\u1eefng t\\u00e0i_n\\u0103ng tr\\u1ebb l\\u00e0m phim qua \\u0111\\u00f3 t\\u00f4i c\\u0169ng l\\u1eafng_nghe t\\u00e2m_t\\u01b0 ho\\u00e0i_b\\u00e3o c\\u1ee7a c\\u00e1c b\\u1ea1n tr\\u1ebb \\u0111ang y\\u00eau_th\\u00edch phim_\\u1ea3nh hi\\u1ec7n_nay ra sao t\\u1eeb \\u0111\\u00f3 n\\u1ebfu c\\u00f3 c\\u01a1_h\\u1ed9i ph\\u00e1t_huy vai_tr\\u00f2 nh\\u00e0_s\\u1ea3n_xu\\u1ea5t t\\u00f4i c\\u0169ng s\\u1ebd c\\u00f3 h\\u01b0\\u1edbng \\u0111i ti\\u1ec7m_c\\u1eadn v\\u1edbi gi\\u1edbi tr\\u1ebb nh\\u1ea5t anh n\\u00f3i\"\n        ],\n        \"semantic_type\": \"\",\n        \"description\": \"\"\n      }\n    },\n    {\n      \"column\": \"Category\",\n      \"properties\": {\n        \"dtype\": \"string\",\n        \"num_unique_values\": 4,\n        \"samples\": [\n          \"kinh t\\u1ebf\",\n          \"gi\\u00e1o d\\u1ee5c\",\n          \"\\u0111\\u1eddi s\\u1ed1ng\"\n        ],\n        \"semantic_type\": \"\",\n        \"description\": \"\"\n      }\n    },\n    {\n      \"column\": \"num_words\",\n      \"properties\": {\n        \"dtype\": \"number\",\n        \"std\": 174,\n        \"min\": 42,\n        \"max\": 507,\n        \"num_unique_values\": 5,\n        \"samples\": [\n          368,\n          507,\n          278\n        ],\n        \"semantic_type\": \"\",\n        \"description\": \"\"\n      }\n    }\n  ]\n}"
            }
          },
          "metadata": {},
          "execution_count": 9
        }
      ],
      "source": [
        "cols = ['Title', 'Abstract', 'Content']\n",
        "df[cols] = df[cols].astype(str)\n",
        "df[cols] = df[cols].apply(lambda col: col.apply(segmented_text))\n",
        "df.sample(5)"
      ]
    },
    {
      "cell_type": "code",
      "execution_count": null,
      "metadata": {
        "id": "HplbU6F0pKYX"
      },
      "outputs": [],
      "source": [
        "df = df.drop('num_words', axis=1)\n",
        "df.to_csv('/content/drive/MyDrive/data/segmented_data.csv', index=False, encoding='utf-8')\n",
        "# df.to_csv('../data/segmented_data.csv', index=False, encoding='utf-8')"
      ]
    },
    {
      "cell_type": "markdown",
      "source": [
        "# **Train/validation/test**"
      ],
      "metadata": {
        "id": "kYoipUQXL4Iq"
      }
    },
    {
      "cell_type": "code",
      "source": [
        "df = pd.read_csv('/content/drive/MyDrive/data/segmented_data.csv')\n",
        "df.sample(5)"
      ],
      "metadata": {
        "colab": {
          "base_uri": "https://localhost:8080/",
          "height": 293
        },
        "id": "ITOM9X1144cO",
        "outputId": "fd78843d-943a-4cfe-ee7c-f022ff6b8319"
      },
      "execution_count": 3,
      "outputs": [
        {
          "output_type": "execute_result",
          "data": {
            "text/plain": [
              "                                                      URL  \\\n",
              "56751   https://tuoitre.vn/giet-nguoi-vi-bi-noi-lai-xe...   \n",
              "100359  https://thanhnien.vn/cac-be-gai-trong-ca-sinh-...   \n",
              "39939   https://thanhnien.vn/fifa-online-3-ra-mat-ung-...   \n",
              "6828    https://tuoitre.vn/masterise-homes-khai-truong...   \n",
              "90900   https://thanhnien.vn/hyundai-custin-giam-gia-7...   \n",
              "\n",
              "                                                    Title  \\\n",
              "56751                    ​ giết người vì bị nói lái_xe ẩu   \n",
              "100359  các bé gái trong ca sinh 4 được chăm_sóc như_t...   \n",
              "39939   fifa online 3 ra_mắt ứng_dụng thiết_kế ảnh hài...   \n",
              "6828    masterise homes khai_trương khu căn_hộ hàng hi...   \n",
              "90900   hyundai custin giảm_giá 75 triệu tăng lực cạnh...   \n",
              "\n",
              "                                                 Abstract  \\\n",
              "56751   tto mâu_thuẫn khi chạy xe và bị chê lái_xe ẩu ...   \n",
              "100359  mỗi em bé ra_đời để được nuôi_dưỡng chăm_sóc c...   \n",
              "39939   bạn nghĩ sao nếu được sở_hữu một công_cụ chế_t...   \n",
              "6828    tòa lake tòa tháp đầu_tiên của grand marina sa...   \n",
              "90900   hyundai custin đang được nhiều đại_lý giảm_giá...   \n",
              "\n",
              "                                                  Content      Category  \n",
              "56751   sáng 119 tand tỉnh đồng_tháp đã mở phiên tòa x...     pháp luật  \n",
              "100359  vậy trong hoàn_cảnh nghèo_khó và con lớn vẫn c...      đời sống  \n",
              "39939   chỉ với một_số thao_tác đơn_giản không mất đến...      khoa học  \n",
              "6828    sự_kiện khai_trương này có sự tham_gia của lãn...  bất động sản  \n",
              "90900   theo đó các mẫu xe hyundai custin được giảm_gi...            xe  "
            ],
            "text/html": [
              "\n",
              "  <div id=\"df-db6298d1-e923-434c-a648-48ee20f20fdc\" class=\"colab-df-container\">\n",
              "    <div>\n",
              "<style scoped>\n",
              "    .dataframe tbody tr th:only-of-type {\n",
              "        vertical-align: middle;\n",
              "    }\n",
              "\n",
              "    .dataframe tbody tr th {\n",
              "        vertical-align: top;\n",
              "    }\n",
              "\n",
              "    .dataframe thead th {\n",
              "        text-align: right;\n",
              "    }\n",
              "</style>\n",
              "<table border=\"1\" class=\"dataframe\">\n",
              "  <thead>\n",
              "    <tr style=\"text-align: right;\">\n",
              "      <th></th>\n",
              "      <th>URL</th>\n",
              "      <th>Title</th>\n",
              "      <th>Abstract</th>\n",
              "      <th>Content</th>\n",
              "      <th>Category</th>\n",
              "    </tr>\n",
              "  </thead>\n",
              "  <tbody>\n",
              "    <tr>\n",
              "      <th>56751</th>\n",
              "      <td>https://tuoitre.vn/giet-nguoi-vi-bi-noi-lai-xe...</td>\n",
              "      <td>​ giết người vì bị nói lái_xe ẩu</td>\n",
              "      <td>tto mâu_thuẫn khi chạy xe và bị chê lái_xe ẩu ...</td>\n",
              "      <td>sáng 119 tand tỉnh đồng_tháp đã mở phiên tòa x...</td>\n",
              "      <td>pháp luật</td>\n",
              "    </tr>\n",
              "    <tr>\n",
              "      <th>100359</th>\n",
              "      <td>https://thanhnien.vn/cac-be-gai-trong-ca-sinh-...</td>\n",
              "      <td>các bé gái trong ca sinh 4 được chăm_sóc như_t...</td>\n",
              "      <td>mỗi em bé ra_đời để được nuôi_dưỡng chăm_sóc c...</td>\n",
              "      <td>vậy trong hoàn_cảnh nghèo_khó và con lớn vẫn c...</td>\n",
              "      <td>đời sống</td>\n",
              "    </tr>\n",
              "    <tr>\n",
              "      <th>39939</th>\n",
              "      <td>https://thanhnien.vn/fifa-online-3-ra-mat-ung-...</td>\n",
              "      <td>fifa online 3 ra_mắt ứng_dụng thiết_kế ảnh hài...</td>\n",
              "      <td>bạn nghĩ sao nếu được sở_hữu một công_cụ chế_t...</td>\n",
              "      <td>chỉ với một_số thao_tác đơn_giản không mất đến...</td>\n",
              "      <td>khoa học</td>\n",
              "    </tr>\n",
              "    <tr>\n",
              "      <th>6828</th>\n",
              "      <td>https://tuoitre.vn/masterise-homes-khai-truong...</td>\n",
              "      <td>masterise homes khai_trương khu căn_hộ hàng hi...</td>\n",
              "      <td>tòa lake tòa tháp đầu_tiên của grand marina sa...</td>\n",
              "      <td>sự_kiện khai_trương này có sự tham_gia của lãn...</td>\n",
              "      <td>bất động sản</td>\n",
              "    </tr>\n",
              "    <tr>\n",
              "      <th>90900</th>\n",
              "      <td>https://thanhnien.vn/hyundai-custin-giam-gia-7...</td>\n",
              "      <td>hyundai custin giảm_giá 75 triệu tăng lực cạnh...</td>\n",
              "      <td>hyundai custin đang được nhiều đại_lý giảm_giá...</td>\n",
              "      <td>theo đó các mẫu xe hyundai custin được giảm_gi...</td>\n",
              "      <td>xe</td>\n",
              "    </tr>\n",
              "  </tbody>\n",
              "</table>\n",
              "</div>\n",
              "    <div class=\"colab-df-buttons\">\n",
              "\n",
              "  <div class=\"colab-df-container\">\n",
              "    <button class=\"colab-df-convert\" onclick=\"convertToInteractive('df-db6298d1-e923-434c-a648-48ee20f20fdc')\"\n",
              "            title=\"Convert this dataframe to an interactive table.\"\n",
              "            style=\"display:none;\">\n",
              "\n",
              "  <svg xmlns=\"http://www.w3.org/2000/svg\" height=\"24px\" viewBox=\"0 -960 960 960\">\n",
              "    <path d=\"M120-120v-720h720v720H120Zm60-500h600v-160H180v160Zm220 220h160v-160H400v160Zm0 220h160v-160H400v160ZM180-400h160v-160H180v160Zm440 0h160v-160H620v160ZM180-180h160v-160H180v160Zm440 0h160v-160H620v160Z\"/>\n",
              "  </svg>\n",
              "    </button>\n",
              "\n",
              "  <style>\n",
              "    .colab-df-container {\n",
              "      display:flex;\n",
              "      gap: 12px;\n",
              "    }\n",
              "\n",
              "    .colab-df-convert {\n",
              "      background-color: #E8F0FE;\n",
              "      border: none;\n",
              "      border-radius: 50%;\n",
              "      cursor: pointer;\n",
              "      display: none;\n",
              "      fill: #1967D2;\n",
              "      height: 32px;\n",
              "      padding: 0 0 0 0;\n",
              "      width: 32px;\n",
              "    }\n",
              "\n",
              "    .colab-df-convert:hover {\n",
              "      background-color: #E2EBFA;\n",
              "      box-shadow: 0px 1px 2px rgba(60, 64, 67, 0.3), 0px 1px 3px 1px rgba(60, 64, 67, 0.15);\n",
              "      fill: #174EA6;\n",
              "    }\n",
              "\n",
              "    .colab-df-buttons div {\n",
              "      margin-bottom: 4px;\n",
              "    }\n",
              "\n",
              "    [theme=dark] .colab-df-convert {\n",
              "      background-color: #3B4455;\n",
              "      fill: #D2E3FC;\n",
              "    }\n",
              "\n",
              "    [theme=dark] .colab-df-convert:hover {\n",
              "      background-color: #434B5C;\n",
              "      box-shadow: 0px 1px 3px 1px rgba(0, 0, 0, 0.15);\n",
              "      filter: drop-shadow(0px 1px 2px rgba(0, 0, 0, 0.3));\n",
              "      fill: #FFFFFF;\n",
              "    }\n",
              "  </style>\n",
              "\n",
              "    <script>\n",
              "      const buttonEl =\n",
              "        document.querySelector('#df-db6298d1-e923-434c-a648-48ee20f20fdc button.colab-df-convert');\n",
              "      buttonEl.style.display =\n",
              "        google.colab.kernel.accessAllowed ? 'block' : 'none';\n",
              "\n",
              "      async function convertToInteractive(key) {\n",
              "        const element = document.querySelector('#df-db6298d1-e923-434c-a648-48ee20f20fdc');\n",
              "        const dataTable =\n",
              "          await google.colab.kernel.invokeFunction('convertToInteractive',\n",
              "                                                    [key], {});\n",
              "        if (!dataTable) return;\n",
              "\n",
              "        const docLinkHtml = 'Like what you see? Visit the ' +\n",
              "          '<a target=\"_blank\" href=https://colab.research.google.com/notebooks/data_table.ipynb>data table notebook</a>'\n",
              "          + ' to learn more about interactive tables.';\n",
              "        element.innerHTML = '';\n",
              "        dataTable['output_type'] = 'display_data';\n",
              "        await google.colab.output.renderOutput(dataTable, element);\n",
              "        const docLink = document.createElement('div');\n",
              "        docLink.innerHTML = docLinkHtml;\n",
              "        element.appendChild(docLink);\n",
              "      }\n",
              "    </script>\n",
              "  </div>\n",
              "\n",
              "\n",
              "<div id=\"df-f91bb679-28cc-4ff0-ba30-05793a25f4fe\">\n",
              "  <button class=\"colab-df-quickchart\" onclick=\"quickchart('df-f91bb679-28cc-4ff0-ba30-05793a25f4fe')\"\n",
              "            title=\"Suggest charts\"\n",
              "            style=\"display:none;\">\n",
              "\n",
              "<svg xmlns=\"http://www.w3.org/2000/svg\" height=\"24px\"viewBox=\"0 0 24 24\"\n",
              "     width=\"24px\">\n",
              "    <g>\n",
              "        <path d=\"M19 3H5c-1.1 0-2 .9-2 2v14c0 1.1.9 2 2 2h14c1.1 0 2-.9 2-2V5c0-1.1-.9-2-2-2zM9 17H7v-7h2v7zm4 0h-2V7h2v10zm4 0h-2v-4h2v4z\"/>\n",
              "    </g>\n",
              "</svg>\n",
              "  </button>\n",
              "\n",
              "<style>\n",
              "  .colab-df-quickchart {\n",
              "      --bg-color: #E8F0FE;\n",
              "      --fill-color: #1967D2;\n",
              "      --hover-bg-color: #E2EBFA;\n",
              "      --hover-fill-color: #174EA6;\n",
              "      --disabled-fill-color: #AAA;\n",
              "      --disabled-bg-color: #DDD;\n",
              "  }\n",
              "\n",
              "  [theme=dark] .colab-df-quickchart {\n",
              "      --bg-color: #3B4455;\n",
              "      --fill-color: #D2E3FC;\n",
              "      --hover-bg-color: #434B5C;\n",
              "      --hover-fill-color: #FFFFFF;\n",
              "      --disabled-bg-color: #3B4455;\n",
              "      --disabled-fill-color: #666;\n",
              "  }\n",
              "\n",
              "  .colab-df-quickchart {\n",
              "    background-color: var(--bg-color);\n",
              "    border: none;\n",
              "    border-radius: 50%;\n",
              "    cursor: pointer;\n",
              "    display: none;\n",
              "    fill: var(--fill-color);\n",
              "    height: 32px;\n",
              "    padding: 0;\n",
              "    width: 32px;\n",
              "  }\n",
              "\n",
              "  .colab-df-quickchart:hover {\n",
              "    background-color: var(--hover-bg-color);\n",
              "    box-shadow: 0 1px 2px rgba(60, 64, 67, 0.3), 0 1px 3px 1px rgba(60, 64, 67, 0.15);\n",
              "    fill: var(--button-hover-fill-color);\n",
              "  }\n",
              "\n",
              "  .colab-df-quickchart-complete:disabled,\n",
              "  .colab-df-quickchart-complete:disabled:hover {\n",
              "    background-color: var(--disabled-bg-color);\n",
              "    fill: var(--disabled-fill-color);\n",
              "    box-shadow: none;\n",
              "  }\n",
              "\n",
              "  .colab-df-spinner {\n",
              "    border: 2px solid var(--fill-color);\n",
              "    border-color: transparent;\n",
              "    border-bottom-color: var(--fill-color);\n",
              "    animation:\n",
              "      spin 1s steps(1) infinite;\n",
              "  }\n",
              "\n",
              "  @keyframes spin {\n",
              "    0% {\n",
              "      border-color: transparent;\n",
              "      border-bottom-color: var(--fill-color);\n",
              "      border-left-color: var(--fill-color);\n",
              "    }\n",
              "    20% {\n",
              "      border-color: transparent;\n",
              "      border-left-color: var(--fill-color);\n",
              "      border-top-color: var(--fill-color);\n",
              "    }\n",
              "    30% {\n",
              "      border-color: transparent;\n",
              "      border-left-color: var(--fill-color);\n",
              "      border-top-color: var(--fill-color);\n",
              "      border-right-color: var(--fill-color);\n",
              "    }\n",
              "    40% {\n",
              "      border-color: transparent;\n",
              "      border-right-color: var(--fill-color);\n",
              "      border-top-color: var(--fill-color);\n",
              "    }\n",
              "    60% {\n",
              "      border-color: transparent;\n",
              "      border-right-color: var(--fill-color);\n",
              "    }\n",
              "    80% {\n",
              "      border-color: transparent;\n",
              "      border-right-color: var(--fill-color);\n",
              "      border-bottom-color: var(--fill-color);\n",
              "    }\n",
              "    90% {\n",
              "      border-color: transparent;\n",
              "      border-bottom-color: var(--fill-color);\n",
              "    }\n",
              "  }\n",
              "</style>\n",
              "\n",
              "  <script>\n",
              "    async function quickchart(key) {\n",
              "      const quickchartButtonEl =\n",
              "        document.querySelector('#' + key + ' button');\n",
              "      quickchartButtonEl.disabled = true;  // To prevent multiple clicks.\n",
              "      quickchartButtonEl.classList.add('colab-df-spinner');\n",
              "      try {\n",
              "        const charts = await google.colab.kernel.invokeFunction(\n",
              "            'suggestCharts', [key], {});\n",
              "      } catch (error) {\n",
              "        console.error('Error during call to suggestCharts:', error);\n",
              "      }\n",
              "      quickchartButtonEl.classList.remove('colab-df-spinner');\n",
              "      quickchartButtonEl.classList.add('colab-df-quickchart-complete');\n",
              "    }\n",
              "    (() => {\n",
              "      let quickchartButtonEl =\n",
              "        document.querySelector('#df-f91bb679-28cc-4ff0-ba30-05793a25f4fe button');\n",
              "      quickchartButtonEl.style.display =\n",
              "        google.colab.kernel.accessAllowed ? 'block' : 'none';\n",
              "    })();\n",
              "  </script>\n",
              "</div>\n",
              "\n",
              "    </div>\n",
              "  </div>\n"
            ],
            "application/vnd.google.colaboratory.intrinsic+json": {
              "type": "dataframe",
              "summary": "{\n  \"name\": \"df\",\n  \"rows\": 5,\n  \"fields\": [\n    {\n      \"column\": \"URL\",\n      \"properties\": {\n        \"dtype\": \"string\",\n        \"num_unique_values\": 5,\n        \"samples\": [\n          \"https://thanhnien.vn/cac-be-gai-trong-ca-sinh-4-duoc-cham-soc-nhu-the-nao-18558794.htm\",\n          \"https://thanhnien.vn/hyundai-custin-giam-gia-75-trieu-tang-luc-canh-tranh-toyota-innova-185240709091612296.htm\",\n          \"https://thanhnien.vn/fifa-online-3-ra-mat-ung-dung-thiet-ke-anh-hai-huoc-1851122396.htm\"\n        ],\n        \"semantic_type\": \"\",\n        \"description\": \"\"\n      }\n    },\n    {\n      \"column\": \"Title\",\n      \"properties\": {\n        \"dtype\": \"string\",\n        \"num_unique_values\": 5,\n        \"samples\": [\n          \"c\\u00e1c b\\u00e9 g\\u00e1i trong ca sinh 4 \\u0111\\u01b0\\u1ee3c ch\\u0103m_s\\u00f3c nh\\u01b0_th\\u1ebf_n\\u00e0o\",\n          \"hyundai custin gi\\u1ea3m_gi\\u00e1 75 tri\\u1ec7u t\\u0103ng l\\u1ef1c c\\u1ea1nh_tranh toyota innova\",\n          \"fifa online 3 ra_m\\u1eaft \\u1ee9ng_d\\u1ee5ng thi\\u1ebft_k\\u1ebf \\u1ea3nh h\\u00e0i_h\\u01b0\\u1edbc\"\n        ],\n        \"semantic_type\": \"\",\n        \"description\": \"\"\n      }\n    },\n    {\n      \"column\": \"Abstract\",\n      \"properties\": {\n        \"dtype\": \"string\",\n        \"num_unique_values\": 5,\n        \"samples\": [\n          \"m\\u1ed7i em b\\u00e9 ra_\\u0111\\u1eddi \\u0111\\u1ec3 \\u0111\\u01b0\\u1ee3c nu\\u00f4i_d\\u01b0\\u1ee1ng ch\\u0103m_s\\u00f3c chu_\\u0111\\u00e1o v\\u1edbi ng\\u01b0\\u1eddi m\\u1eb9 \\u0111\\u00e3 l\\u00e0 v\\u1ea5t_v\\u1ea3 ch\\u1eadt_v\\u1eadt nh\\u01b0ng c\\u00f9ng l\\u00fac 4 em b\\u00e9 ra_\\u0111\\u1eddi nh\\u01b0 tr\\u01b0\\u1eddng_h\\u1ee3p sinh 4 v\\u1eeba_r\\u1ed3i c\\u1ee7a ch\\u1ecb tr\\u1ea7n_th\\u1ecb_t\\u00ecnh \\u1edf \\u0111\\u1ed3ng_th\\u00e1p th\\u00ec s\\u1ef1 v\\u1ea5t_v\\u1ea3 \\u0111\\u00f3 kh\\u00f4ng ph\\u1ea3i g\\u1ea5p l\\u00ean 4 l\\u1ea7n m\\u00e0 h\\u01a1n th\\u1ebf r\\u1ea5t nhi\\u1ec1u\",\n          \"hyundai custin \\u0111ang \\u0111\\u01b0\\u1ee3c nhi\\u1ec1u \\u0111\\u1ea1i_l\\u00fd gi\\u1ea3m_gi\\u00e1 \\u0111\\u1ec3 t\\u0103ng s\\u1ee9c c\\u1ea1nh_tranh v\\u1edbi toyota innova \\u0111ang c\\u00f3 \\u0111\\u00e0 h\\u1ed3i_ph\\u1ee5c doanh_s\\u1ed1\",\n          \"b\\u1ea1n ngh\\u0129 sao n\\u1ebfu \\u0111\\u01b0\\u1ee3c s\\u1edf_h\\u1eefu m\\u1ed9t c\\u00f4ng_c\\u1ee5 ch\\u1ebf_t\\u1ea1o th\\u1ebb c\\u1ea7u_th\\u1ee7 c\\u1ee7a ri\\u00eang m\\u00ecnh b\\u1ea1n s\\u1ebd c\\u00f3_th\\u1ec3 thi\\u1ebft_k\\u1ebf ra nh\\u1eefng avatar th\\u1ebb c\\u1ea7u_th\\u1ee7 c\\u1ef1c_ch\\u1ea5t c\\u0169ng nh\\u01b0 th\\u1ec3_hi\\u1ec7n \\u0111\\u1ed9 troll c\\u1ee7a m\\u00ecnh khi ch\\u1ebf_\\u1ea3nh vui_nh\\u1ed9n c\\u00f9ng b\\u1ea1n_b\\u00e8\"\n        ],\n        \"semantic_type\": \"\",\n        \"description\": \"\"\n      }\n    },\n    {\n      \"column\": \"Content\",\n      \"properties\": {\n        \"dtype\": \"string\",\n        \"num_unique_values\": 5,\n        \"samples\": [\n          \"v\\u1eady trong ho\\u00e0n_c\\u1ea3nh ngh\\u00e8o_kh\\u00f3 v\\u00e0 con l\\u1edbn v\\u1eabn c\\u00f2n nheo_nh\\u00f3c ch\\u1ecb t\\u00ecnh \\u0111\\u00e3 xoay_s\\u1edf nh\\u01b0_th\\u1ebf_n\\u00e0o v\\u1edbi c\\u00e1c b\\u00e9 sinh 4 cu\\u1ed9c v\\u01b0\\u1ee3t_c\\u1ea1n hi\\u1ebfm g\\u1eb7p ng\\u00e0y 206 t\\u1ea1i b\\u1ec7nh_vi\\u1ec7n t\\u1eeb d\\u0169 tphcm v\\u1ee3_ch\\u1ed3ng ch\\u1ecb tr\\u1ea7n th\\u1ecb_t\\u00ecnh 31 tu\\u1ed5i ng\\u1ee5 lai_vung t\\u1ec9nh \\u0111\\u1ed3ng_th\\u00e1p \\u0111\\u00e3 \\u0111\\u00f3n_nh\\u1eadn ti\\u1ebfng kh\\u00f3c ch\\u00e0o_\\u0111\\u1eddi kh\\u00f4ng_ch\\u1ec9 c\\u1ee7a 1 b\\u00e9 g\\u00e1i m\\u00e0 \\u0111\\u1ebfn 4 b\\u00e9 g\\u00e1i c\\u00f9ng m\\u1ed9t l\\u00fac sinh_t\\u01b0 l\\u00e0 m\\u1ed9t tr\\u01b0\\u1eddng_h\\u1ee3p hi\\u1ebfm g\\u1eb7p theo ghi_nh\\u1eadn c\\u1ee7a y_v\\u0103n th\\u1ebf_gi\\u1edbi th\\u00ec x\\u00e1c xu\\u1ea5t b\\u00e0 m\\u1eb9 mang thai 4 em b\\u00e9 m\\u1ed9t l\\u1ea7n ch\\u1ec9 l\\u00e0 1700000 tr\\u01b0\\u1eddng_h\\u1ee3p th\\u1ee5_thai t\\u1ef1_nhi\\u00ean tr\\u01b0\\u1eddng_h\\u1ee3p \\u0111\\u1eb7c_bi\\u1ec7t n\\u00e0y \\u0111\\u00e3 r\\u01a1i v\\u00e0o l\\u1ea7n mang thai th\\u1ee9 ba c\\u1ee7a ch\\u1ecb t\\u00ecnh hai l\\u1ea7n tr\\u01b0\\u1edbc ch\\u1ecb \\u0111\\u1ec1u sinh_th\\u01b0\\u1eddng 1 trai 1 g\\u00e1i c\\u00e1c b\\u00e9 g\\u00e1i trong ca_sinh t\\u01b0_hi\\u1ebfm g\\u1eb7p ch\\u00e0o_\\u0111\\u1eddi an_to\\u00e0n kh\\u1ecfe m\\u1ea1nh b\\u1ed1n b\\u00e9 g\\u00e1i \\u0111\\u1ed3ng_lo\\u1ea1t \\u0111\\u00f2i ra_\\u0111\\u1eddi khi \\u0111\\u01b0\\u1ee3c 32 tu\\u1ea7n tu\\u1ed5i thai_cu\\u1ed9c v\\u01b0\\u1ee3t_c\\u1ea1n nhi\\u1ec1u nguy_hi\\u1ec3m \\u0111\\u00e3 v\\u1ec1 \\u0111\\u00edch_an_to\\u00e0n m\\u1eb9_tr\\u00f2n_con_vu\\u00f4ng trong ni\\u1ec1m vui c\\u1ee7a gia_\\u0111\\u00ecnh v\\u00e0 s\\u1ef1 th\\u1edf_ph\\u00e0o nh\\u1eb9_nh\\u00f5m c\\u1ee7a c\\u00e1c b\\u00e1c_s\\u0129 khi \\u0111\\u00f3 c\\u00e1c em b\\u00e9 l\\u1ea7n_l\\u01b0\\u1ee3t ch\\u1ec9 n\\u1eb7ng 15 kg 12 kg 16 kg 17 kg v\\u00ec c\\u00e1c b\\u00e9 c\\u00f2n non th\\u00e1ng n\\u00ean \\u0111\\u00e3 \\u0111\\u01b0\\u1ee3c b\\u00e1c_s\\u0129 h\\u1ed3i_s\\u1ee9c ngay sau khi ch\\u00e0o_\\u0111\\u1eddi v\\u00e0 theo_d\\u00f5i s\\u00e1t_sao t\\u1ea1i khoa s\\u01a1_sinh ri\\u00eang em b\\u00e9_nh\\u1ecf nh\\u1ea5t n\\u1eb7ng 12 kg \\u0111\\u01b0\\u1ee3c theo_d\\u00f5i t\\u1ea1i khoa h\\u1ed3i_s\\u1ee9c t\\u00edch_c\\u1ef1c s\\u01a1_sinh b\\u00e1c_s\\u0129 tr\\u1ea7n_ng\\u1ecdc h\\u1ea3i_tr\\u01b0\\u1edfng ph\\u00f2ng k\\u1ebf_ho\\u1ea1ch t\\u1ed5ng_h\\u1ee3p b\\u1ec7nh_vi\\u1ec7n ph\\u1ee5_s\\u1ea3n t\\u1eeb d\\u0169 cho bi\\u1ebft b\\u00fa kh\\u1ecfe_ch\\u00f3ng l\\u1edbn c\\u1ea3 4 em b\\u00e9 \\u0111\\u01b0\\u1ee3c sinh ra \\u0111\\u1ec1u nh\\u1eb9 c\\u00e2n theo c\\u00e1c b\\u00e1c_s\\u0129 v\\u1edbi nh\\u1eefng tr\\u01b0\\u1eddng_h\\u1ee3p nh\\u1eb9_c\\u00e2n th\\u00ec dinh_d\\u01b0\\u1ee1ng cho b\\u00e9 \\u0111\\u1eb7c_bi\\u1ec7t quan_tr\\u1ecdng trong \\u0111\\u00f3 quan_tr\\u1ecdng nh\\u1ea5t l\\u00e0 theo_d\\u00f5i ch\\u1ee9c_n\\u0103ng ti\\u00eau_h\\u00f3a h\\u1ea5p_th\\u1ee5 dinh_d\\u01b0\\u1ee1ng c\\u1ee7a em b\\u00e9 nh\\u1eefng ng\\u00e0y \\u0111\\u1ea7u c\\u00e1c b\\u00e9 \\u0111\\u01b0\\u1ee3c th\\u1edf oxy th\\u00f4ng_m\\u0169i v\\u00e0 truy\\u1ec1n dinh_d\\u01b0\\u1ee1ng v\\u00e0o t\\u0129nh_m\\u1ea1ch \\u0111\\u1ebfn kho\\u1ea3ng 1 tu\\u1ea7n tu\\u1ed5i th\\u00ec c\\u00e1c b\\u00e9 b\\u1eaft_\\u0111\\u1ea7u c\\u00f3_th\\u1ec3 cho b\\u00fa \\u0111\\u01b0\\u1ee3c s\\u1eefa ti\\u00eau_h\\u00f3a b\\u00ecnh_th\\u01b0\\u1eddng m\\u1ed7i l\\u1ea7n b\\u00fa kho\\u1ea3ng 2 4 ml s\\u1eefal\\u1ea7n t\\u00f9y b\\u00e9 \\u0111\\u1ebfn nay trong ng\\u00e0y \\u0111\\u1ea7y th\\u00e1ng anh \\u0111\\u1ed3ng ba c\\u1ee7a b\\u1ed1n em b\\u00e9 cho bi\\u1ebft b\\u00e9_nh\\u1ecf nh\\u1ea5t \\u0111\\u00e3 l\\u00ean \\u0111\\u01b0\\u1ee3c 400 g v\\u00e0 gi\\u1edd n\\u1eb7ng 16 kg b\\u00e9 l\\u1edbn nh\\u1ea5t n\\u1eb7ng h\\u01a1n 2 kg t\\u1ee9c c\\u0169ng t\\u0103ng l\\u00ean h\\u01a1n 300 g c\\u00e1c b\\u00e9 b\\u00fa t\\u1ed1t l\\u1eafm l\\u00fac \\u0111\\u1ea7u c\\u1ea3 4 \\u0111\\u1ee9a \\u0111\\u1ec1u \\u0111\\u01b0\\u1ee3c cho b\\u00fa s\\u1eefa m\\u1eb9 nh\\u01b0ng sau \\u0111\\u00f3 th\\u00ec s\\u1eefa m\\u1eb9 kh\\u00f4ng \\u0111\\u1ee7 cho c\\u1ea3 4 em b\\u00e9 c\\u00f9ng m\\u1ed9t l\\u00fac v\\u00ec_th\\u1ebf hi\\u1ec7n_gi\\u1edd ch\\u1ec9 c\\u00f3 b\\u00e9_nh\\u1ecf nh\\u1ea5t l\\u00e0 \\u0111\\u01b0\\u1ee3c b\\u00fa s\\u1eefa m\\u1eb9 ba b\\u00e9 c\\u00f2n l\\u1ea1i \\u0111\\u00e0nh ph\\u1ea3i u\\u1ed1ng s\\u1eefa b\\u1ed9t anh \\u0111\\u1ed3ng n\\u00f3i anh \\u0111\\u1ed3ng \\u0111\\u1ebfn r\\u01a1m_r\\u1edbm n\\u01b0\\u1edbc_m\\u1eaft k\\u1ec3 v\\u1ec1 gia_c\\u1ea3nh c\\u1ee7a m\\u00ecnh v\\u1edbi ho\\u00e0n_c\\u1ea3nh ngh\\u00e8o_kh\\u00f3 c\\u00f9ng l\\u00fac ph\\u1ea3i nu\\u00f4i_n\\u1ea5ng ch\\u0103m_s\\u00f3c 4 b\\u00e9 gia_\\u0111\\u00ecnh anh lo l\\u1eafm anh \\u0111\\u1ed3ng k\\u1ec3 khi c\\u00e1c b\\u00e9 \\u0111\\u01b0\\u1ee3c xu\\u1ea5t_vi\\u1ec7n v\\u1ec1 nh\\u00e0 b\\u00e1c_s\\u0129 d\\u1eb7n cho u\\u1ed1ng 7 ml s\\u1eefab\\u00e9\\u0111\\u00eam nh\\u01b0ng b\\u00e9 kh\\u00f4ng \\u0111\\u1ee7 no v\\u00e0 kh\\u00f4ng ch\\u1ecbu ng\\u1ee7 gia_\\u0111\\u00ecnh g\\u1ecdi \\u0111i\\u1ec7n_tho\\u1ea1i l\\u00ean h\\u1ecfi \\u00fd_ki\\u1ebfn c\\u1ee7a b\\u00e1c_s\\u0129 v\\u00e0 \\u0111\\u01b0\\u1ee3c \\u0111\\u1ed3ng_\\u00fd cho b\\u00e9 b\\u00fa 30 ml s\\u1eefab\\u00e9\\u0111\\u00eam b\\u00e2y_gi\\u1edd s\\u1ee9c_b\\u00fa c\\u1ee7a c\\u00e1c b\\u00e9 \\u0111\\u00e3 kh\\u1ecfe th\\u00eam m\\u1ed9t_ch\\u00fat v\\u1edbi 40 ml s\\u1eefal\\u1ea7n l\\u00fac tr\\u01b0\\u1edbc c\\u1ea3 hai v\\u1ee3_ch\\u1ed3ng \\u0111\\u1ec1u \\u0111i l\\u00e0m_thu\\u00ea ki\\u1ebfm ti\\u1ec1n t\\u1eeb khi sinh c\\u1ea3 b\\u1ed1n b\\u00e9 m\\u1ed9t l\\u00fac v\\u1ee3_ch\\u1ed3ng ph\\u1ea3i t\\u1ea1m ng\\u01b0ng lao_\\u0111\\u1ed9ng \\u0111\\u1ec3 lo cho em b\\u00e9 m\\u1ed9t ng\\u01b0\\u1eddi kh\\u00f4ng_th\\u1ec3_n\\u00e0o ch\\u0103m_xu\\u1ec3 v\\u1ee3_ch\\u1ed3ng to\\u00e0n ph\\u1ea3i thay nhau th\\u1ee9c s\\u00e1ng \\u0111\\u00eam anh \\u0111\\u1ed3ng n\\u00f3i kinh_t\\u1ebf gia_\\u0111\\u00ecnh v\\u1ed1n kh\\u00f3_kh\\u0103n th\\u1ebf n\\u00ean gi\\u1edd ph\\u1ea3i ngh\\u1ec9 l\\u00e0m lo ch\\u0103m_con c\\u00e0ng khi\\u1ebfn gia_\\u0111\\u00ecnh ph\\u1ea3i g\\u1ed3ng_g\\u00e1nh v\\u1ea5t_v\\u1ea3 h\\u01a1n ng\\u00e0y 187 v\\u1ee3_ch\\u1ed3ng ch\\u1ecb t\\u00ecnh \\u0111\\u00e3 \\u0111\\u01b0a 4 b\\u00e9 l\\u00ean kh\\u00e1m theo_d\\u00f5i theo \\u0111\\u1ecbnh_k\\u1ef3 t\\u1ea1i b\\u1ec7nh_vi\\u1ec7n t\\u1eeb d\\u0169 v\\u00e0 th\\u1eadt h\\u1ea1nh_ph\\u00fac khi c\\u1ea3 4 \\u0111\\u1ec1u kh\\u1ecfe dinh_d\\u01b0\\u1ee1ng t\\u1ed1t t\\u0103ng c\\u00e2n \\u1ed5n_\\u0111\\u1ecbnh b\\u00e1c_s\\u0129 n\\u00f3i sau l\\u1ea7n kh\\u00e1m n\\u00e0y ch\\u1ec9 c\\u1ea7n kh\\u00e1m theo_d\\u00f5i th\\u00eam 1 l\\u1ea7n n\\u1eefa l\\u00e0 c\\u00f3_th\\u1ec3 kh\\u00f4ng ph\\u1ea3i l\\u00ean b\\u1ec7nh_vi\\u1ec7n kh\\u00e1m \\u0111\\u1ecbnh_k\\u1ef3 n\\u1eefa anh \\u0111\\u1ed3ng vui_v\\u1ebb n\\u00f3i ph\\u1ea3i c\\u1ed1_g\\u00e1nh th\\u00f4i tuy m\\u1ec7t nh\\u01b0ng th\\u1ea5y con l\\u1edbn l\\u00ean kh\\u1ecfe m\\u1ea1nh l\\u00e0 h\\u1ea1nh_ph\\u00fac r\\u1ed3i ng\\u01b0\\u1eddi cha c\\u1ee7a 6 \\u0111\\u1ee9a con trong \\u0111\\u00f3 c\\u00f3 4 b\\u00e9 trong ca sinh 4 h\\u1ea1nh_ph\\u00fac c\\u00f4ng_ty c\\u1ed5_ph\\u1ea7n d\\u01b0\\u1ee3c_ph\\u1ea9m vi\\u1ec7t_nam trao_t\\u1eb7ng s\\u1eefa physiolac cho gia_\\u0111\\u00ecnh c\\u00e1c b\\u00e9 g\\u00e1i trong ca sinh 4 c\\u00e1c b\\u00e9 g\\u00e1i trong ca sinh 4 v\\u1ec1 nh\\u00e0 trong ni\\u1ec1m vui c\\u1ee7a m\\u1ecdi ng\\u01b0\\u1eddi v\\u1eeba_qua ngay ng\\u00e0y c\\u00e1c b\\u00e9 xu\\u1ea5t_vi\\u1ec7n \\u0111\\u1ea1i_di\\u1ec7n nh\\u00e3n h\\u00e0ng physiolac c\\u1ee7a c\\u00f4ng_ty c\\u1ed5_ph\\u1ea7n d\\u01b0\\u1ee3c_ph\\u1ea9m vi\\u1ec7t_nam \\u0111\\u00e3 \\u0111\\u01b0a xe \\u0111\\u1ebfn \\u0111\\u00f3n c\\u00e1c b\\u00e9 v\\u1ec1 \\u0111\\u1ed3ng_th\\u1eddi c\\u00f4ng_ty t\\u00e0i_tr\\u1ee3 1 n\\u0103m u\\u1ed1ng s\\u1eefa mi\\u1ec5n_ph\\u00ed cho 4 b\\u00e9 v\\u1edbi ho\\u00e0n_c\\u1ea3nh gia_\\u0111\\u00ecnh kh\\u00f3_kh\\u0103n nh\\u01b0_v\\u1eady th\\u00ec kho\\u1ea3ng s\\u1eefa t\\u00e0i_tr\\u1ee3 1 n\\u0103m \\u0111\\u00e3 ph\\u1ea7n_n\\u00e0o gi\\u00fap v\\u1ee3_ch\\u1ed3ng ch\\u1ecb t\\u00ecnh v\\u00e0 c\\u00e1c b\\u00e9 r\\u1ea5t nhi\\u1ec1u theo c\\u00e1c chuy\\u00ean_gia dinh_d\\u01b0\\u1ee1ng \\u01b0u_\\u0111i\\u1ec3m n\\u1ed5i_b\\u1eadt c\\u1ee7a s\\u1eefa physiolac l\\u00e0 c\\u1ea3i_thi\\u1ec7n ch\\u1ee9c_n\\u0103ng ti\\u00eau_h\\u00f3a h\\u1ed7_tr\\u1ee3 h\\u1ea5p_thu dinh_d\\u01b0\\u1ee1ng qua vi\\u1ec7c b\\u1ed5_sung 2 ch\\u1ea5t x\\u01a1_th\\u1ef1c_v\\u1eadt gos v\\u00e0 fos c\\u00f2n g\\u1ecdi_l\\u00e0 prebiotic v\\u00e0o trong th\\u00e0nh_ph\\u1ea7n s\\u1eefa nh\\u1eb1m gi\\u00fap tr\\u1ebb ti\\u00eau_h\\u00f3a t\\u1ed1t h\\u01a1n trong khoa_h\\u1ecdc prebiotic \\u0111\\u01b0\\u1ee3c bi\\u1ebft \\u0111\\u1ebfn l\\u00e0 th\\u00e0nh_ph\\u1ea7n th\\u1ef1c_ph\\u1ea9m kh\\u00f4ng b\\u1ecb ti\\u00eau_h\\u00f3a c\\u00f3 t\\u00e1c_\\u0111\\u1ed9ng t\\u00edch_c\\u1ef1c \\u0111\\u1ebfn c\\u01a1_th\\u1ec3 th\\u00f4ng_qua s\\u1ef1 k\\u00edch_th\\u00edch c\\u00f3 ch\\u1ecdn_l\\u1ecdc m\\u1ed9t_s\\u1ed1 lo\\u1ea1i vi_khu\\u1ea9n s\\u1ed1ng trong ru\\u1ed9t_k\\u1ebft ru\\u1ed9t_gi\\u00e0 v\\u00e0 qua \\u0111\\u00f3 gia_t\\u0103ng s\\u1ee9c_kh\\u1ecfe cho c\\u01a1_th\\u1ec3 thanh_minh\",\n          \"theo \\u0111\\u00f3 c\\u00e1c m\\u1eabu xe hyundai custin \\u0111\\u01b0\\u1ee3c gi\\u1ea3m_gi\\u00e1 ch\\u1ee7_y\\u1ebfu l\\u00e0 b\\u1ea3n \\u0111\\u1eb7c_bi\\u1ec7t v\\u00e0 n\\u1eb1m trong l\\u00f4 xe \\u0111\\u01b0\\u1ee3c s\\u1ea3n_xu\\u1ea5t trong n\\u0103m 2023 c\\u00f2n t\\u1ed3n \\u0111\\u1ebfn nay \\u0111\\u00e1ng ch\\u00fa_\\u00fd sau khi gi\\u1ea3m 75 tri\\u1ec7u \\u0111\\u1ed3ng m\\u1eabu xe mpv n\\u00e0y c\\u00f3 m\\u1ee9c gi\\u00e1 n\\u1eb1m gi\\u1eefa kia carens premium v\\u00e0 signature 2 b\\u1ea3n cao nh\\u1ea5t v\\u00e0 ch\\u1ec9 nh\\u1ec9nh h\\u01a1n m\\u1ed9t_ch\\u00fat so v\\u1edbi toyota innova cross b\\u1ea3n ti\\u00eau_chu\\u1ea9n c\\u1ee5_th\\u1ec3 m\\u1ed9t \\u0111\\u1ea1i_l\\u00fd cho bi\\u1ebft h\\u1ecd \\u0111ang b\\u00e1n chi\\u1ebfc hyundai custin 2023 b\\u1ea3n \\u0111\\u1eb7c_bi\\u1ec7t v\\u1edbi gi\\u00e1 840 tri\\u1ec7u \\u0111\\u1ed3ng m\\u1ee9c gi\\u00e1 n\\u00e0y ch\\u1ec9 cao h\\u01a1n m\\u1ed9t_ch\\u00fat so v\\u1edbi toyota innova cross b\\u1ea3n ti\\u00eau_chu\\u1ea9n 810 tri\\u1ec7u \\u0111\\u1ed3ng tr\\u01b0\\u1edbc \\u0111\\u00f3 hyundai custin b\\u1ea3n \\u0111\\u1eb7c_bi\\u1ec7t c\\u00f3 gi\\u00e1 915 tri\\u1ec7u \\u0111\\u1ed3ng v\\u1edbi m\\u1ee9c gi\\u00e1 \\u0111\\u00e3 gi\\u1ea3m hyundai custin b\\u1ea3n \\u0111\\u1eb7c_bi\\u1ec7t l\\u00e0 m\\u1ed9t l\\u1ef1a_ch\\u1ecdn \\u0111\\u00e1ng c\\u00e2n_nh\\u1eafc trong ph\\u00e2n_kh\\u00fac mpv 7 ch\\u1ed7 ng\\u1ed3i v\\u00ec s\\u1edf_h\\u1eefu nhi\\u1ec1u trang_b\\u1ecb ti\\u1ec7n_nghi h\\u01a1n h\\u1eb3n so v\\u1edbi toyota innova cross b\\u1ea3n ti\\u00eau_chu\\u1ea9n ngo\\u00e0i_ra kh\\u00f4ng_gian trong xe c\\u00f2n r\\u1ed9ng_r\\u00e3i h\\u01a1n nh\\u1edd k\\u00edch_th\\u01b0\\u1edbc nh\\u1ec9nh h\\u01a1n so v\\u1edbi m\\u1eabu mpv nh\\u1eadt_b\\u1ea3n c\\u1ee5_th\\u1ec3 xe d\\u00e0i 4950 mm r\\u1ed9ng 1850 mm v\\u00e0 cao 1725 mm chi\\u1ec1u d\\u00e0i c\\u01a1_s\\u1edf c\\u0169ng 3055 mm_k\\u00edch_th\\u01b0\\u1edbc n\\u00e0y to h\\u01a1n \\u0111\\u00e1ng_k\\u1ec3 so v\\u1edbi toyota innova_cross nh\\u01b0ng nh\\u1edd \\u0111\\u1eb7c_th\\u00f9 thi\\u1ebft_k\\u1ebf chi\\u1ebfc hyundai custin v\\u1eabn kh\\u00e1 linh_ho\\u1ea1t khi s\\u1eed_d\\u1ee5ng trong \\u0111\\u00f4_th\\u1ecb m\\u1ed9t_s\\u1ed1 ti\\u1ec7n_nghi_\\u0111\\u00e1ng ch\\u00fa_\\u00fd c\\u00f3 m\\u00e0n_h\\u00ecnh d\\u1ecdc 104 inch h\\u1ed7_tr\\u1ee3 apple carplayandroid auto v\\u00f4l\\u0103ng_t\\u00edch h\\u1ee3p_l\\u1eaby s\\u1ed1 ph\\u00eda sau l\\u00e0 m\\u00e0n_h\\u00ecnh lcd hi\\u1ec3n_th\\u1ecb th\\u00f4ng_tin phanh \\u0111\\u1ed7 \\u0111i\\u1ec7n_t\\u1eed \\u0111i\\u1ec1u_h\\u00f2a t\\u1ef1_\\u0111\\u1ed9ng \\u0111\\u1ec1_n\\u1ed5 t\\u1eeb xa \\u0111\\u00e8n_vi\\u1ec1n n\\u1ed9i_th\\u1ea5t v\\u00e0 2 c\\u1eeda_s\\u1ed5 tr\\u1eddi h\\u00e0ng gh\\u1ebf th\\u1ee9 hai thi\\u1ebft_k\\u1ebf 2 gh\\u1ebf \\u0111\\u1ed9c_l\\u1eadp ki\\u1ec3u h\\u1ea1ng th\\u01b0\\u01a1ng_gia h\\u1ed7_tr\\u1ee3 s\\u1ea1c kh\\u00f4ng d\\u00e2y b\\u00e0n l\\u00e0m_vi\\u1ec7c \\u0111\\u1ec3 \\u0111\\u1ed3 hyundai custin c\\u00f3 2 lo\\u1ea1i t\\u00f9y ch\\u1ecdn \\u0111\\u1ed9ng_c\\u01a1 g\\u1ed3m m\\u00e1y x\\u0103ng 15 l\\u00edt v\\u00e0 20 l\\u00edt lo\\u1ea1i ti\\u00eau_chu\\u1ea9n c\\u00f3 c\\u00f4ng_su\\u1ea5t 170 m\\u00e3_l\\u1ef1c m\\u00f4men xo\\u1eafn 253 nm k\\u1ebft_h\\u1ee3p s\\u1ed1 8 c\\u1ea5p lo\\u1ea1i cao_c\\u1ea5p c\\u00f3 c\\u00f4ng_su\\u1ea5t 236 m\\u00e3_l\\u1ef1c m\\u00f4men xo\\u1eafn 353 nm k\\u1ebft_h\\u1ee3p s\\u1ed1 8 c\\u1ea5p c\\u00f3 4 ch\\u1ebf_\\u0111\\u1ed9 l\\u00e1i g\\u1ed3m eco comfort sport v\\u00e0 smart_\\u0111i\\u1ec3m kh\\u00e1c_bi\\u1ec7t l\\u1edbn cho m\\u1ee9c gi\\u00e1 ch\\u00eanh_l\\u1ec7ch gi\\u1eefa hyundai custin \\u0111\\u1eb7c_bi\\u1ec7t v\\u00e0 cao_c\\u1ea5p l\\u00e0 m\\u1ed9t_s\\u1ed1 trang_b\\u1ecb cho n\\u1ed9i_th\\u1ea5t v\\u00e0 an_to\\u00e0n n\\u1ed9i_th\\u1ea5t_custin \\u0111\\u1eb7c_bi\\u1ec7t kh\\u00f4ng c\\u00f3 gh\\u1ebf l\\u00e1i nh\\u1edb v\\u1ecb_tr\\u00ed l\\u00e0m m\\u00e1t v\\u00e0 s\\u01b0\\u1edfi h\\u00e0ng gh\\u1ebf tr\\u01b0\\u1edbc b\\u1ea3n \\u0111\\u1eb7c_bi\\u1ec7t c\\u0169ng thi\\u1ebfu c\\u00e1c t\\u00ednh_n\\u0103ng nh\\u01b0 ph\\u00f2ng_tr\\u00e1nh va_ch\\u1ea1m \\u0111i\\u1ec3m m\\u00f9 bca ph\\u00f2ng_tr\\u00e1nh va_ch\\u1ea1m khi l\\u00f9i ph\\u00f2ng_tr\\u00e1nh va_ch\\u1ea1m ph\\u00eda tr\\u01b0\\u1edbc c\\u1ea3nh_b\\u00e1o ng\\u01b0\\u1eddi ng\\u1ed3i h\\u00e0ng sau gi\\u1eef l\\u00e0n \\u0111\\u00e8n_pha t\\u1ef1_\\u0111\\u1ed9ng th\\u00edch_\\u1ee9ng c\\u1ea3nh_b\\u00e1o ng\\u01b0\\u1eddi l\\u00e1i m\\u1ea5t t\\u1eadp_trung\",\n          \"ch\\u1ec9 v\\u1edbi m\\u1ed9t_s\\u1ed1 thao_t\\u00e1c \\u0111\\u01a1n_gi\\u1ea3n kh\\u00f4ng m\\u1ea5t \\u0111\\u1ebfn 3 ph\\u00fat l\\u00e0 b\\u1ea1n \\u0111\\u00e3 c\\u00f3 \\u0111\\u01b0\\u1ee3c m\\u1ed9t \\u1ea3nh th\\u1ebb c\\u1ea7u_th\\u1ee7 c\\u1ee7a ri\\u00eang m\\u00ecnh v\\u1edbi c\\u1ea5p_\\u0111\\u1ed9 th\\u1ebb t\\u00f9y ch\\u1ecdn t\\u00f9y ch\\u1ecdn \\u0111\\u1eb7t \\u1ea3nh l\\u00e0m \\u1ea3nh \\u0111\\u1ea1i_di\\u00ean v\\u00e0 \\u1ea3nh b\\u00eca facebook b\\u1ea1n c\\u00f3_th\\u1ec3 t\\u00f9y ch\\u1ecdn \\u0111\\u01b0\\u1ee3c nh\\u1eefng ch\\u1ec9_s\\u1ed1 r\\u1ea5t \\u0111\\u1eb7c_bi\\u1ec7t t\\u00f9y theo s\\u1edf_th\\u00edch c\\u00e1c ch\\u1ec9_s\\u1ed1 n\\u00e0y ngo\\u00e0i nh\\u1eefng ch\\u1ec9_s\\u1ed1 quen_thu\\u1ed9c th\\u01b0\\u1eddng th\\u1ea5y trong game c\\u00f2n \\u0111\\u01b0\\u1ee3c b\\u1ed5_sung th\\u00eam nh\\u1eefng ch\\u1ec9_s\\u1ed1 troll h\\u00e0i_h\\u01b0\\u1edbc h\\u1ea5p_d\\u1eabn b\\u1ed9 ch\\u1ec9_s\\u1ed1 c\\u1ef1c b\\u00e1_\\u0111\\u1ea1o ch\\u1ec9 c\\u00f3 t\\u1ea1i \\u1ee9ng_d\\u1ee5ng kh\\u00f4ng_ch\\u1ec9 ch\\u1ecdn nh\\u1eefng ch\\u1ec9_s\\u1ed1 c\\u1ef1c troll cho m\\u00ecnh b\\u1ea1n c\\u00f2n c\\u00f3_th\\u1ec3 chia_s\\u1ebb ni\\u1ec1m vui c\\u00f9ng b\\u1ea1n_b\\u00e8 b\\u1eb1ng c\\u00e1ch thi\\u1ebft_k\\u1ebf avatar cho h\\u1ecd ch\\u1ebf_\\u1ea3nh c\\u1ee7a b\\u1ea1n_b\\u00e8 \\u1ee9ng_d\\u1ee5ng thi\\u1ebft_k\\u1ebf \\u1ea3nh c\\u1ef1c_ch\\u1ea5t \\u0111\\u01b0\\u1ee3c t\\u00edch_h\\u1ee3p tr\\u00ean fanpage fifa online 3 httpswwwfacebookcomfo3vn b\\u1ea1n_\\u0111\\u1ecdc c\\u00f3_th\\u1ec3 truy_c\\u1eadp fanpage l\\u00e0m theo h\\u01b0\\u1edbng_d\\u1eabn \\u0111\\u1ec3 tr\\u1ea3i nhghi\\u1ec7m \\u1ee9ng_d\\u1ee5ng n\\u00e0y n\\u1ebfu mu\\u1ed1n tr\\u1ef1c_quan h\\u01a1n m\\u1eddi c\\u00e1c game_th\\u1ee7 theo_d\\u00f5i clip h\\u01b0\\u1edbng_d\\u1eabn b\\u00ean d\\u01b0\\u1edbi\"\n        ],\n        \"semantic_type\": \"\",\n        \"description\": \"\"\n      }\n    },\n    {\n      \"column\": \"Category\",\n      \"properties\": {\n        \"dtype\": \"string\",\n        \"num_unique_values\": 5,\n        \"samples\": [\n          \"\\u0111\\u1eddi s\\u1ed1ng\",\n          \"xe\",\n          \"khoa h\\u1ecdc\"\n        ],\n        \"semantic_type\": \"\",\n        \"description\": \"\"\n      }\n    }\n  ]\n}"
            }
          },
          "metadata": {},
          "execution_count": 3
        }
      ]
    },
    {
      "cell_type": "markdown",
      "source": [
        "Chia tỉ lệ 60/20/20"
      ],
      "metadata": {
        "id": "7XPqiCiuL_ia"
      }
    },
    {
      "cell_type": "code",
      "source": [
        "train_df, val_df = train_test_split(df, test_size=0.2, random_state=42, stratify=df['Category'])\n",
        "val_df, test_df = train_test_split(val_df, test_size=0.5, random_state=42, stratify=val_df['Category'])\n",
        "\n",
        "train_path = '/content/drive/MyDrive/data/splitting/train.csv'\n",
        "val_path = '/content/drive/MyDrive/data/splitting/val.csv'\n",
        "test_path = '/content/drive/MyDrive/data/splitting/test.csv'\n",
        "\n",
        "train_df.to_csv(train_path, index=False, encoding='utf-8')\n",
        "val_df.to_csv(val_path, index=False, encoding='utf-8')\n",
        "test_df.to_csv(test_path, index=False, encoding='utf-8')"
      ],
      "metadata": {
        "id": "CxNo_Q8nL-UA"
      },
      "execution_count": 22,
      "outputs": []
    },
    {
      "cell_type": "markdown",
      "source": [
        "# **Tokenization**"
      ],
      "metadata": {
        "id": "VUCJComXMYSb"
      }
    },
    {
      "cell_type": "markdown",
      "source": [
        "Khởi tạo"
      ],
      "metadata": {
        "id": "Esw9y6uQM8sC"
      }
    },
    {
      "cell_type": "code",
      "source": [
        "tokenizer = AutoTokenizer.from_pretrained(\"vinai/phobert-base-v2\", use_fast=False)"
      ],
      "metadata": {
        "id": "gf6cPN0vM-Ij"
      },
      "execution_count": 23,
      "outputs": []
    },
    {
      "cell_type": "markdown",
      "source": [
        "Tokenize cho ba tập dữ liệu"
      ],
      "metadata": {
        "id": "QA_vXT66M9ur"
      }
    },
    {
      "cell_type": "code",
      "source": [
        "def tokenize_dataframe(df, columns):\n",
        "    tokenized_df = df.copy()\n",
        "    for col in columns:\n",
        "        tokenized_df[col] = tokenized_df[col].apply(lambda text: tokenizer.tokenize(text))\n",
        "    return tokenized_df\n",
        "\n",
        "cols = ['Title', 'Abstract', 'Content']"
      ],
      "metadata": {
        "id": "XTdNtTaVNHat"
      },
      "execution_count": 24,
      "outputs": []
    },
    {
      "cell_type": "markdown",
      "source": [
        "- `train_df`"
      ],
      "metadata": {
        "id": "qmSPPs_8NPQ3"
      }
    },
    {
      "cell_type": "code",
      "source": [
        "train_df[cols] = train_df[cols].astype(str)\n",
        "tokenized_train_df = tokenize_dataframe(train_df, cols)"
      ],
      "metadata": {
        "id": "kVep0FeCNK2l"
      },
      "execution_count": 25,
      "outputs": []
    },
    {
      "cell_type": "markdown",
      "source": [
        "Phân bố số lượng token"
      ],
      "metadata": {
        "id": "TlhUg1-5NdC8"
      }
    },
    {
      "cell_type": "code",
      "source": [
        "token_lengths = np.vectorize(len)(tokenized_train_df['Content'].values)\n",
        "plt.hist(token_lengths, bins=10)\n",
        "\n",
        "plt.xlabel('Token Length')\n",
        "plt.ylabel('Frequency')\n",
        "plt.title('Distribution of Token Lengths for Content')\n",
        "\n",
        "plt.xlim(0, 1500)\n",
        "\n",
        "plt.show()"
      ],
      "metadata": {
        "colab": {
          "base_uri": "https://localhost:8080/",
          "height": 472
        },
        "id": "OpDT_g26NrcW",
        "outputId": "f3810e15-cbf2-43bd-9399-a823014f34d1"
      },
      "execution_count": 26,
      "outputs": [
        {
          "output_type": "display_data",
          "data": {
            "text/plain": [
              "<Figure size 640x480 with 1 Axes>"
            ],
            "image/png": "[encoded data removed]"
          },
          "metadata": {}
        }
      ]
    },
    {
      "cell_type": "code",
      "source": [
        "tokenizer.save_pretrained(\"/content/drive/MyDrive/data/tokenizer/train/\")"
      ],
      "metadata": {
        "colab": {
          "base_uri": "https://localhost:8080/"
        },
        "id": "4vGTGVTsRJuU",
        "outputId": "806fdb9e-d6ea-4e4b-f972-a2a17ebb1d0f"
      },
      "execution_count": 27,
      "outputs": [
        {
          "output_type": "execute_result",
          "data": {
            "text/plain": [
              "('/content/drive/MyDrive/data/tokenizer/train/tokenizer_config.json',\n",
              " '/content/drive/MyDrive/data/tokenizer/train/special_tokens_map.json',\n",
              " '/content/drive/MyDrive/data/tokenizer/train/vocab.txt',\n",
              " '/content/drive/MyDrive/data/tokenizer/train/bpe.codes',\n",
              " '/content/drive/MyDrive/data/tokenizer/train/added_tokens.json')"
            ]
          },
          "metadata": {},
          "execution_count": 27
        }
      ]
    },
    {
      "cell_type": "markdown",
      "source": [
        "- `valid_df`"
      ],
      "metadata": {
        "id": "NchnO_JpQ7Eh"
      }
    },
    {
      "cell_type": "code",
      "source": [
        "val_df[cols] = val_df[cols].astype(str)\n",
        "tokenized_val_df = tokenize_dataframe(val_df, cols)"
      ],
      "metadata": {
        "id": "OxrdVHSNQ6bQ"
      },
      "execution_count": 28,
      "outputs": []
    },
    {
      "cell_type": "code",
      "source": [
        "token_lengths = np.vectorize(len)(tokenized_val_df['Content'].values)\n",
        "plt.hist(token_lengths, bins=10)\n",
        "\n",
        "plt.xlabel('Token Length')\n",
        "plt.ylabel('Frequency')\n",
        "plt.title('Distribution of Token Lengths for Content')\n",
        "\n",
        "plt.xlim(0, 1500)\n",
        "\n",
        "plt.show()"
      ],
      "metadata": {
        "colab": {
          "base_uri": "https://localhost:8080/",
          "height": 472
        },
        "id": "cqBdCw27_dSc",
        "outputId": "80b1bd7f-5ae2-42ba-912b-fdfe6d02386b"
      },
      "execution_count": 29,
      "outputs": [
        {
          "output_type": "display_data",
          "data": {
            "text/plain": [
              "<Figure size 640x480 with 1 Axes>"
            ],
            "image/png": "[encoded data removed]"
          },
          "metadata": {}
        }
      ]
    },
    {
      "cell_type": "code",
      "source": [
        "tokenizer.save_pretrained(\"/content/drive/MyDrive/data/tokenizer/valid/\")"
      ],
      "metadata": {
        "colab": {
          "base_uri": "https://localhost:8080/"
        },
        "id": "UnAoWROw__Zx",
        "outputId": "ec61a344-75f3-4014-99bf-be4f722dad29"
      },
      "execution_count": 30,
      "outputs": [
        {
          "output_type": "execute_result",
          "data": {
            "text/plain": [
              "('/content/drive/MyDrive/data/tokenizer/valid/tokenizer_config.json',\n",
              " '/content/drive/MyDrive/data/tokenizer/valid/special_tokens_map.json',\n",
              " '/content/drive/MyDrive/data/tokenizer/valid/vocab.txt',\n",
              " '/content/drive/MyDrive/data/tokenizer/valid/bpe.codes',\n",
              " '/content/drive/MyDrive/data/tokenizer/valid/added_tokens.json')"
            ]
          },
          "metadata": {},
          "execution_count": 30
        }
      ]
    },
    {
      "cell_type": "markdown",
      "source": [
        "- `test_df`"
      ],
      "metadata": {
        "id": "Bm0_kQl4_T43"
      }
    },
    {
      "cell_type": "code",
      "source": [
        "test_df[cols] = test_df[cols].astype(str)\n",
        "tokenized_test_df = tokenize_dataframe(test_df, cols)"
      ],
      "metadata": {
        "id": "SPnKqVK6M5M2"
      },
      "execution_count": 31,
      "outputs": []
    },
    {
      "cell_type": "code",
      "execution_count": 32,
      "metadata": {
        "id": "t70i58ujDXCI",
        "colab": {
          "base_uri": "https://localhost:8080/",
          "height": 472
        },
        "outputId": "65d0b2af-836c-4de1-f3b1-21145c018567"
      },
      "outputs": [
        {
          "output_type": "display_data",
          "data": {
            "text/plain": [
              "<Figure size 640x480 with 1 Axes>"
            ],
            "image/png": "[encoded data removed]"
          },
          "metadata": {}
        }
      ],
      "source": [
        "token_lengths = np.vectorize(len)(tokenized_test_df['Content'].values)\n",
        "plt.hist(token_lengths, bins=10)\n",
        "\n",
        "plt.xlabel('Token Length')\n",
        "plt.ylabel('Frequency')\n",
        "plt.title('Distribution of Token Lengths for Content')\n",
        "\n",
        "plt.xlim(0, 1500)\n",
        "\n",
        "plt.show()"
      ]
    },
    {
      "cell_type": "code",
      "source": [
        "tokenizer.save_pretrained(\"/content/drive/MyDrive/data/tokenizer/test/\")"
      ],
      "metadata": {
        "colab": {
          "base_uri": "https://localhost:8080/"
        },
        "id": "e_isrRDO5PHE",
        "outputId": "0e74f754-c9a9-4204-f7ce-05e4dd9d7963"
      },
      "execution_count": 33,
      "outputs": [
        {
          "output_type": "execute_result",
          "data": {
            "text/plain": [
              "('/content/drive/MyDrive/data/tokenizer/test/tokenizer_config.json',\n",
              " '/content/drive/MyDrive/data/tokenizer/test/special_tokens_map.json',\n",
              " '/content/drive/MyDrive/data/tokenizer/test/vocab.txt',\n",
              " '/content/drive/MyDrive/data/tokenizer/test/bpe.codes',\n",
              " '/content/drive/MyDrive/data/tokenizer/test/added_tokens.json')"
            ]
          },
          "metadata": {},
          "execution_count": 33
        }
      ]
    }
  ],
  "metadata": {
    "accelerator": "GPU",
    "colab": {
      "gpuType": "T4",
      "provenance": []
    },
    "kernelspec": {
      "display_name": "Python 3",
      "name": "python3"
    },
    "language_info": {
      "codemirror_mode": {
        "name": "ipython",
        "version": 3
      },
      "file_extension": ".py",
      "mimetype": "text/x-python",
      "name": "python",
      "nbconvert_exporter": "python",
      "pygments_lexer": "ipython3",
      "version": "3.11.4"
    }
  },
  "nbformat": 4,
  "nbformat_minor": 0
}