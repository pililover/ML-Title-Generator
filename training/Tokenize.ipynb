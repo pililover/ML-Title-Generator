{
  "cells": [
    {
      "cell_type": "code",
      "execution_count": 2,
      "metadata": {
        "colab": {
          "base_uri": "https://localhost:8080/"
        },
        "id": "gyRpmenEoCjZ",
        "outputId": "187f4c79-bc95-4747-ab59-76134dff29b1"
      },
      "outputs": [
        {
          "output_type": "stream",
          "name": "stdout",
          "text": [
            "Mounted at /content/drive\n"
          ]
        }
      ],
      "source": [
        "from google.colab import drive\n",
        "drive.mount('/content/drive')"
      ]
    },
    {
      "cell_type": "code",
      "execution_count": null,
      "metadata": {
        "id": "tXE9O1mmn-ud"
      },
      "outputs": [],
      "source": [
        "# Linux\n",
        "# !pip install underthesea --python=python3.11\n",
        "!pip install underthesea\n",
        "!pip install transformers"
      ]
    },
    {
      "cell_type": "code",
      "execution_count": 3,
      "metadata": {
        "id": "L6MaxfqRn-ud"
      },
      "outputs": [],
      "source": [
        "from underthesea import word_tokenize\n",
        "\n",
        "import numpy as np\n",
        "import pandas as pd\n",
        "from sklearn.model_selection import train_test_split\n",
        "\n",
        "from transformers import AutoModel, AutoTokenizer\n",
        "\n",
        "import matplotlib.pyplot as plt\n",
        "import re"
      ]
    },
    {
      "cell_type": "markdown",
      "metadata": {
        "id": "pQQGQQN6pyj_"
      },
      "source": [
        "# **Lấy mẫu lần nữa**"
      ]
    },
    {
      "cell_type": "code",
      "execution_count": 4,
      "metadata": {
        "colab": {
          "base_uri": "https://localhost:8080/",
          "height": 293
        },
        "id": "m6B14FPwp3Px",
        "outputId": "3df1fb40-d5f1-44b6-f954-ad0ef809430c"
      },
      "outputs": [
        {
          "output_type": "execute_result",
          "data": {
            "text/plain": [
              "                                                 URL  \\\n",
              "0  https://vnexpress.net/biet-thu-lien-ke-duoi-5-...   \n",
              "1  https://tuoitre.vn/nha-dau-tu-hai-long-khi-tai...   \n",
              "2  https://tuoitre.vn/tinh-nghe-an-noi-gi-ve-du-a...   \n",
              "3  https://tuoitre.vn/hang-xom-chung-cu-lexington...   \n",
              "4  https://tuoitre.vn/uc-doi-mat-cuoc-khung-hoang...   \n",
              "\n",
              "                                               Title  \\\n",
              "0  biệt thự liền kề dưới 5 tỷ sẽ dần khan hiếm  b...   \n",
              "1  nhà đầu tư hài lòng khi tài sản cho thuê được ...   \n",
              "2  tỉnh nghệ an nói gì về dự án công viên nghĩa t...   \n",
              "3  hàng xóm chung cư lexington cũng chưa có sổ vì...   \n",
              "4  úc đối mặt cuộc khủng hoảng nhà cho thuê tồi t...   \n",
              "\n",
              "                                            Abstract  \\\n",
              "0  tp hcm hai năm tới thành phố có thể không còn ...   \n",
              "1  trở về từ chuyến khảo sát phú quốc chị thu tra...   \n",
              "2  tto  đây là công viên nghĩa trang sinh thái vĩ...   \n",
              "3  cư dân ở chung cư petrovietnam landmark tp thủ...   \n",
              "4  giá cho thuê nhà tăng mạnh đã và đang ảnh hưởn...   \n",
              "\n",
              "                                             Content      Category  num_words  \n",
              "0  trong báo cáo thị trường mới đây hãng tư vấn d...  bất động sản        600  \n",
              "1  nắm bắt cơ hội đầu tư hơn 2 năm nay tôi đầu tư...  bất động sản        755  \n",
              "2  ngày 3112 ubnd tỉnh nghệ an có thông tin tới c...  bất động sản        507  \n",
              "3  theo tìm hiểu củatuổi trẻ online dự án đường l...  bất động sản        673  \n",
              "4  theo phóng viên ttxvn tại sydney báo cáo về kh...  bất động sản        559  "
            ],
            "text/html": [
              "\n",
              "  <div id=\"df-6a40a6be-6bd1-400e-aac8-3ab3c88fe6a8\" class=\"colab-df-container\">\n",
              "    <div>\n",
              "<style scoped>\n",
              "    .dataframe tbody tr th:only-of-type {\n",
              "        vertical-align: middle;\n",
              "    }\n",
              "\n",
              "    .dataframe tbody tr th {\n",
              "        vertical-align: top;\n",
              "    }\n",
              "\n",
              "    .dataframe thead th {\n",
              "        text-align: right;\n",
              "    }\n",
              "</style>\n",
              "<table border=\"1\" class=\"dataframe\">\n",
              "  <thead>\n",
              "    <tr style=\"text-align: right;\">\n",
              "      <th></th>\n",
              "      <th>URL</th>\n",
              "      <th>Title</th>\n",
              "      <th>Abstract</th>\n",
              "      <th>Content</th>\n",
              "      <th>Category</th>\n",
              "      <th>num_words</th>\n",
              "    </tr>\n",
              "  </thead>\n",
              "  <tbody>\n",
              "    <tr>\n",
              "      <th>0</th>\n",
              "      <td>https://vnexpress.net/biet-thu-lien-ke-duoi-5-...</td>\n",
              "      <td>biệt thự liền kề dưới 5 tỷ sẽ dần khan hiếm  b...</td>\n",
              "      <td>tp hcm hai năm tới thành phố có thể không còn ...</td>\n",
              "      <td>trong báo cáo thị trường mới đây hãng tư vấn d...</td>\n",
              "      <td>bất động sản</td>\n",
              "      <td>600</td>\n",
              "    </tr>\n",
              "    <tr>\n",
              "      <th>1</th>\n",
              "      <td>https://tuoitre.vn/nha-dau-tu-hai-long-khi-tai...</td>\n",
              "      <td>nhà đầu tư hài lòng khi tài sản cho thuê được ...</td>\n",
              "      <td>trở về từ chuyến khảo sát phú quốc chị thu tra...</td>\n",
              "      <td>nắm bắt cơ hội đầu tư hơn 2 năm nay tôi đầu tư...</td>\n",
              "      <td>bất động sản</td>\n",
              "      <td>755</td>\n",
              "    </tr>\n",
              "    <tr>\n",
              "      <th>2</th>\n",
              "      <td>https://tuoitre.vn/tinh-nghe-an-noi-gi-ve-du-a...</td>\n",
              "      <td>tỉnh nghệ an nói gì về dự án công viên nghĩa t...</td>\n",
              "      <td>tto  đây là công viên nghĩa trang sinh thái vĩ...</td>\n",
              "      <td>ngày 3112 ubnd tỉnh nghệ an có thông tin tới c...</td>\n",
              "      <td>bất động sản</td>\n",
              "      <td>507</td>\n",
              "    </tr>\n",
              "    <tr>\n",
              "      <th>3</th>\n",
              "      <td>https://tuoitre.vn/hang-xom-chung-cu-lexington...</td>\n",
              "      <td>hàng xóm chung cư lexington cũng chưa có sổ vì...</td>\n",
              "      <td>cư dân ở chung cư petrovietnam landmark tp thủ...</td>\n",
              "      <td>theo tìm hiểu củatuổi trẻ online dự án đường l...</td>\n",
              "      <td>bất động sản</td>\n",
              "      <td>673</td>\n",
              "    </tr>\n",
              "    <tr>\n",
              "      <th>4</th>\n",
              "      <td>https://tuoitre.vn/uc-doi-mat-cuoc-khung-hoang...</td>\n",
              "      <td>úc đối mặt cuộc khủng hoảng nhà cho thuê tồi t...</td>\n",
              "      <td>giá cho thuê nhà tăng mạnh đã và đang ảnh hưởn...</td>\n",
              "      <td>theo phóng viên ttxvn tại sydney báo cáo về kh...</td>\n",
              "      <td>bất động sản</td>\n",
              "      <td>559</td>\n",
              "    </tr>\n",
              "  </tbody>\n",
              "</table>\n",
              "</div>\n",
              "    <div class=\"colab-df-buttons\">\n",
              "\n",
              "  <div class=\"colab-df-container\">\n",
              "    <button class=\"colab-df-convert\" onclick=\"convertToInteractive('df-6a40a6be-6bd1-400e-aac8-3ab3c88fe6a8')\"\n",
              "            title=\"Convert this dataframe to an interactive table.\"\n",
              "            style=\"display:none;\">\n",
              "\n",
              "  <svg xmlns=\"http://www.w3.org/2000/svg\" height=\"24px\" viewBox=\"0 -960 960 960\">\n",
              "    <path d=\"M120-120v-720h720v720H120Zm60-500h600v-160H180v160Zm220 220h160v-160H400v160Zm0 220h160v-160H400v160ZM180-400h160v-160H180v160Zm440 0h160v-160H620v160ZM180-180h160v-160H180v160Zm440 0h160v-160H620v160Z\"/>\n",
              "  </svg>\n",
              "    </button>\n",
              "\n",
              "  <style>\n",
              "    .colab-df-container {\n",
              "      display:flex;\n",
              "      gap: 12px;\n",
              "    }\n",
              "\n",
              "    .colab-df-convert {\n",
              "      background-color: #E8F0FE;\n",
              "      border: none;\n",
              "      border-radius: 50%;\n",
              "      cursor: pointer;\n",
              "      display: none;\n",
              "      fill: #1967D2;\n",
              "      height: 32px;\n",
              "      padding: 0 0 0 0;\n",
              "      width: 32px;\n",
              "    }\n",
              "\n",
              "    .colab-df-convert:hover {\n",
              "      background-color: #E2EBFA;\n",
              "      box-shadow: 0px 1px 2px rgba(60, 64, 67, 0.3), 0px 1px 3px 1px rgba(60, 64, 67, 0.15);\n",
              "      fill: #174EA6;\n",
              "    }\n",
              "\n",
              "    .colab-df-buttons div {\n",
              "      margin-bottom: 4px;\n",
              "    }\n",
              "\n",
              "    [theme=dark] .colab-df-convert {\n",
              "      background-color: #3B4455;\n",
              "      fill: #D2E3FC;\n",
              "    }\n",
              "\n",
              "    [theme=dark] .colab-df-convert:hover {\n",
              "      background-color: #434B5C;\n",
              "      box-shadow: 0px 1px 3px 1px rgba(0, 0, 0, 0.15);\n",
              "      filter: drop-shadow(0px 1px 2px rgba(0, 0, 0, 0.3));\n",
              "      fill: #FFFFFF;\n",
              "    }\n",
              "  </style>\n",
              "\n",
              "    <script>\n",
              "      const buttonEl =\n",
              "        document.querySelector('#df-6a40a6be-6bd1-400e-aac8-3ab3c88fe6a8 button.colab-df-convert');\n",
              "      buttonEl.style.display =\n",
              "        google.colab.kernel.accessAllowed ? 'block' : 'none';\n",
              "\n",
              "      async function convertToInteractive(key) {\n",
              "        const element = document.querySelector('#df-6a40a6be-6bd1-400e-aac8-3ab3c88fe6a8');\n",
              "        const dataTable =\n",
              "          await google.colab.kernel.invokeFunction('convertToInteractive',\n",
              "                                                    [key], {});\n",
              "        if (!dataTable) return;\n",
              "\n",
              "        const docLinkHtml = 'Like what you see? Visit the ' +\n",
              "          '<a target=\"_blank\" href=https://colab.research.google.com/notebooks/data_table.ipynb>data table notebook</a>'\n",
              "          + ' to learn more about interactive tables.';\n",
              "        element.innerHTML = '';\n",
              "        dataTable['output_type'] = 'display_data';\n",
              "        await google.colab.output.renderOutput(dataTable, element);\n",
              "        const docLink = document.createElement('div');\n",
              "        docLink.innerHTML = docLinkHtml;\n",
              "        element.appendChild(docLink);\n",
              "      }\n",
              "    </script>\n",
              "  </div>\n",
              "\n",
              "\n",
              "<div id=\"df-f94ba8db-43fc-486a-8026-a3b9c4c25d97\">\n",
              "  <button class=\"colab-df-quickchart\" onclick=\"quickchart('df-f94ba8db-43fc-486a-8026-a3b9c4c25d97')\"\n",
              "            title=\"Suggest charts\"\n",
              "            style=\"display:none;\">\n",
              "\n",
              "<svg xmlns=\"http://www.w3.org/2000/svg\" height=\"24px\"viewBox=\"0 0 24 24\"\n",
              "     width=\"24px\">\n",
              "    <g>\n",
              "        <path d=\"M19 3H5c-1.1 0-2 .9-2 2v14c0 1.1.9 2 2 2h14c1.1 0 2-.9 2-2V5c0-1.1-.9-2-2-2zM9 17H7v-7h2v7zm4 0h-2V7h2v10zm4 0h-2v-4h2v4z\"/>\n",
              "    </g>\n",
              "</svg>\n",
              "  </button>\n",
              "\n",
              "<style>\n",
              "  .colab-df-quickchart {\n",
              "      --bg-color: #E8F0FE;\n",
              "      --fill-color: #1967D2;\n",
              "      --hover-bg-color: #E2EBFA;\n",
              "      --hover-fill-color: #174EA6;\n",
              "      --disabled-fill-color: #AAA;\n",
              "      --disabled-bg-color: #DDD;\n",
              "  }\n",
              "\n",
              "  [theme=dark] .colab-df-quickchart {\n",
              "      --bg-color: #3B4455;\n",
              "      --fill-color: #D2E3FC;\n",
              "      --hover-bg-color: #434B5C;\n",
              "      --hover-fill-color: #FFFFFF;\n",
              "      --disabled-bg-color: #3B4455;\n",
              "      --disabled-fill-color: #666;\n",
              "  }\n",
              "\n",
              "  .colab-df-quickchart {\n",
              "    background-color: var(--bg-color);\n",
              "    border: none;\n",
              "    border-radius: 50%;\n",
              "    cursor: pointer;\n",
              "    display: none;\n",
              "    fill: var(--fill-color);\n",
              "    height: 32px;\n",
              "    padding: 0;\n",
              "    width: 32px;\n",
              "  }\n",
              "\n",
              "  .colab-df-quickchart:hover {\n",
              "    background-color: var(--hover-bg-color);\n",
              "    box-shadow: 0 1px 2px rgba(60, 64, 67, 0.3), 0 1px 3px 1px rgba(60, 64, 67, 0.15);\n",
              "    fill: var(--button-hover-fill-color);\n",
              "  }\n",
              "\n",
              "  .colab-df-quickchart-complete:disabled,\n",
              "  .colab-df-quickchart-complete:disabled:hover {\n",
              "    background-color: var(--disabled-bg-color);\n",
              "    fill: var(--disabled-fill-color);\n",
              "    box-shadow: none;\n",
              "  }\n",
              "\n",
              "  .colab-df-spinner {\n",
              "    border: 2px solid var(--fill-color);\n",
              "    border-color: transparent;\n",
              "    border-bottom-color: var(--fill-color);\n",
              "    animation:\n",
              "      spin 1s steps(1) infinite;\n",
              "  }\n",
              "\n",
              "  @keyframes spin {\n",
              "    0% {\n",
              "      border-color: transparent;\n",
              "      border-bottom-color: var(--fill-color);\n",
              "      border-left-color: var(--fill-color);\n",
              "    }\n",
              "    20% {\n",
              "      border-color: transparent;\n",
              "      border-left-color: var(--fill-color);\n",
              "      border-top-color: var(--fill-color);\n",
              "    }\n",
              "    30% {\n",
              "      border-color: transparent;\n",
              "      border-left-color: var(--fill-color);\n",
              "      border-top-color: var(--fill-color);\n",
              "      border-right-color: var(--fill-color);\n",
              "    }\n",
              "    40% {\n",
              "      border-color: transparent;\n",
              "      border-right-color: var(--fill-color);\n",
              "      border-top-color: var(--fill-color);\n",
              "    }\n",
              "    60% {\n",
              "      border-color: transparent;\n",
              "      border-right-color: var(--fill-color);\n",
              "    }\n",
              "    80% {\n",
              "      border-color: transparent;\n",
              "      border-right-color: var(--fill-color);\n",
              "      border-bottom-color: var(--fill-color);\n",
              "    }\n",
              "    90% {\n",
              "      border-color: transparent;\n",
              "      border-bottom-color: var(--fill-color);\n",
              "    }\n",
              "  }\n",
              "</style>\n",
              "\n",
              "  <script>\n",
              "    async function quickchart(key) {\n",
              "      const quickchartButtonEl =\n",
              "        document.querySelector('#' + key + ' button');\n",
              "      quickchartButtonEl.disabled = true;  // To prevent multiple clicks.\n",
              "      quickchartButtonEl.classList.add('colab-df-spinner');\n",
              "      try {\n",
              "        const charts = await google.colab.kernel.invokeFunction(\n",
              "            'suggestCharts', [key], {});\n",
              "      } catch (error) {\n",
              "        console.error('Error during call to suggestCharts:', error);\n",
              "      }\n",
              "      quickchartButtonEl.classList.remove('colab-df-spinner');\n",
              "      quickchartButtonEl.classList.add('colab-df-quickchart-complete');\n",
              "    }\n",
              "    (() => {\n",
              "      let quickchartButtonEl =\n",
              "        document.querySelector('#df-f94ba8db-43fc-486a-8026-a3b9c4c25d97 button');\n",
              "      quickchartButtonEl.style.display =\n",
              "        google.colab.kernel.accessAllowed ? 'block' : 'none';\n",
              "    })();\n",
              "  </script>\n",
              "</div>\n",
              "\n",
              "    </div>\n",
              "  </div>\n"
            ],
            "application/vnd.google.colaboratory.intrinsic+json": {
              "type": "dataframe",
              "variable_name": "df"
            }
          },
          "metadata": {},
          "execution_count": 4
        }
      ],
      "source": [
        "# df = pd.read_csv('../data/cleaned_data.csv')\n",
        "df = pd.read_csv('/content/drive/MyDrive/data/cleaned_data.csv')\n",
        "df.head()"
      ]
    },
    {
      "cell_type": "code",
      "execution_count": 5,
      "metadata": {
        "id": "5reBpgPyqSa_"
      },
      "outputs": [],
      "source": [
        "df_sorted = df.sort_values(by=['Category', 'num_words'])\n",
        "df = df_sorted.groupby('Category').head(5000)"
      ]
    },
    {
      "cell_type": "markdown",
      "metadata": {
        "id": "OCxOC0qDCzDB"
      },
      "source": [
        "# **Gộp thể loại**"
      ]
    },
    {
      "cell_type": "code",
      "execution_count": 6,
      "metadata": {
        "colab": {
          "base_uri": "https://localhost:8080/",
          "height": 293
        },
        "id": "-x2HhAbkn-ue",
        "outputId": "e0eeefd6-bc34-4fab-f656-fb15759d629d"
      },
      "outputs": [
        {
          "output_type": "execute_result",
          "data": {
            "text/plain": [
              "                                                    URL  \\\n",
              "3740  https://tuoitre.vn/10-cach-trang-tri-nha-de-la...   \n",
              "5509  https://tuoitre.vn/bien-phong-tam-thanh-noi-xa...   \n",
              "7429  https://tuoitre.vn/12-mau-trang-hoang-giang-si...   \n",
              "4721  https://vnexpress.net/can-ho-thiet-ke-nhu-mot-...   \n",
              "7182  https://tuoitre.vn/thanh-thanh-cong-hop-tac-vo...   \n",
              "\n",
              "                                                  Title  \\\n",
              "3740    10 cách trang trí nhà dễ làm dịp halloween 2017   \n",
              "5509  biến phòng tắm thành nơi xả stress sau một ngà...   \n",
              "7429       12 mẫu trang hoàng giáng sinh dễ làm tại nhà   \n",
              "4721  căn hộ thiết kế như một khu rừng thiền  báo vn...   \n",
              "7182       thành thành công hợp tác với công ty tây nam   \n",
              "\n",
              "                                               Abstract  \\\n",
              "3740  tto  halloween luôn được người phương tây chú ...   \n",
              "5509  tto  phòng tắm chính là một trong những nơi qu...   \n",
              "7429  tto  giáng sinh đang đến rất gần đây là thời đ...   \n",
              "4721  hà nội một khu rừng nhỏ được bố trí ở trung tâ...   \n",
              "7182  tt  ngày 204 tại tphcm công ty cp đầu tư thành...   \n",
              "\n",
              "                                                Content      Category  \\\n",
              "3740  dưới đây là một số cách trang trí đơn giản dễ ...  bất động sản   \n",
              "5509  những cách sau giúp phòng tắm luôn sạch sẽ bắt...  bất động sản   \n",
              "7429  dưới đây là 12 mẫu trang hoàng giáng sinh dễ l...  bất động sản   \n",
              "4721  thu hươngnhóm thiết kế nguyễn dương minh nhật ...  bất động sản   \n",
              "7182  trong đó hai bên cùng hợp tác để phát triển hệ...  bất động sản   \n",
              "\n",
              "      num_words  \n",
              "3740         21  \n",
              "5509         21  \n",
              "7429         22  \n",
              "4721         24  \n",
              "7182         24  "
            ],
            "text/html": [
              "\n",
              "  <div id=\"df-73a5a0ad-b8dd-40d5-bb2a-f073e327c43b\" class=\"colab-df-container\">\n",
              "    <div>\n",
              "<style scoped>\n",
              "    .dataframe tbody tr th:only-of-type {\n",
              "        vertical-align: middle;\n",
              "    }\n",
              "\n",
              "    .dataframe tbody tr th {\n",
              "        vertical-align: top;\n",
              "    }\n",
              "\n",
              "    .dataframe thead th {\n",
              "        text-align: right;\n",
              "    }\n",
              "</style>\n",
              "<table border=\"1\" class=\"dataframe\">\n",
              "  <thead>\n",
              "    <tr style=\"text-align: right;\">\n",
              "      <th></th>\n",
              "      <th>URL</th>\n",
              "      <th>Title</th>\n",
              "      <th>Abstract</th>\n",
              "      <th>Content</th>\n",
              "      <th>Category</th>\n",
              "      <th>num_words</th>\n",
              "    </tr>\n",
              "  </thead>\n",
              "  <tbody>\n",
              "    <tr>\n",
              "      <th>3740</th>\n",
              "      <td>https://tuoitre.vn/10-cach-trang-tri-nha-de-la...</td>\n",
              "      <td>10 cách trang trí nhà dễ làm dịp halloween 2017</td>\n",
              "      <td>tto  halloween luôn được người phương tây chú ...</td>\n",
              "      <td>dưới đây là một số cách trang trí đơn giản dễ ...</td>\n",
              "      <td>bất động sản</td>\n",
              "      <td>21</td>\n",
              "    </tr>\n",
              "    <tr>\n",
              "      <th>5509</th>\n",
              "      <td>https://tuoitre.vn/bien-phong-tam-thanh-noi-xa...</td>\n",
              "      <td>biến phòng tắm thành nơi xả stress sau một ngà...</td>\n",
              "      <td>tto  phòng tắm chính là một trong những nơi qu...</td>\n",
              "      <td>những cách sau giúp phòng tắm luôn sạch sẽ bắt...</td>\n",
              "      <td>bất động sản</td>\n",
              "      <td>21</td>\n",
              "    </tr>\n",
              "    <tr>\n",
              "      <th>7429</th>\n",
              "      <td>https://tuoitre.vn/12-mau-trang-hoang-giang-si...</td>\n",
              "      <td>12 mẫu trang hoàng giáng sinh dễ làm tại nhà</td>\n",
              "      <td>tto  giáng sinh đang đến rất gần đây là thời đ...</td>\n",
              "      <td>dưới đây là 12 mẫu trang hoàng giáng sinh dễ l...</td>\n",
              "      <td>bất động sản</td>\n",
              "      <td>22</td>\n",
              "    </tr>\n",
              "    <tr>\n",
              "      <th>4721</th>\n",
              "      <td>https://vnexpress.net/can-ho-thiet-ke-nhu-mot-...</td>\n",
              "      <td>căn hộ thiết kế như một khu rừng thiền  báo vn...</td>\n",
              "      <td>hà nội một khu rừng nhỏ được bố trí ở trung tâ...</td>\n",
              "      <td>thu hươngnhóm thiết kế nguyễn dương minh nhật ...</td>\n",
              "      <td>bất động sản</td>\n",
              "      <td>24</td>\n",
              "    </tr>\n",
              "    <tr>\n",
              "      <th>7182</th>\n",
              "      <td>https://tuoitre.vn/thanh-thanh-cong-hop-tac-vo...</td>\n",
              "      <td>thành thành công hợp tác với công ty tây nam</td>\n",
              "      <td>tt  ngày 204 tại tphcm công ty cp đầu tư thành...</td>\n",
              "      <td>trong đó hai bên cùng hợp tác để phát triển hệ...</td>\n",
              "      <td>bất động sản</td>\n",
              "      <td>24</td>\n",
              "    </tr>\n",
              "  </tbody>\n",
              "</table>\n",
              "</div>\n",
              "    <div class=\"colab-df-buttons\">\n",
              "\n",
              "  <div class=\"colab-df-container\">\n",
              "    <button class=\"colab-df-convert\" onclick=\"convertToInteractive('df-73a5a0ad-b8dd-40d5-bb2a-f073e327c43b')\"\n",
              "            title=\"Convert this dataframe to an interactive table.\"\n",
              "            style=\"display:none;\">\n",
              "\n",
              "  <svg xmlns=\"http://www.w3.org/2000/svg\" height=\"24px\" viewBox=\"0 -960 960 960\">\n",
              "    <path d=\"M120-120v-720h720v720H120Zm60-500h600v-160H180v160Zm220 220h160v-160H400v160Zm0 220h160v-160H400v160ZM180-400h160v-160H180v160Zm440 0h160v-160H620v160ZM180-180h160v-160H180v160Zm440 0h160v-160H620v160Z\"/>\n",
              "  </svg>\n",
              "    </button>\n",
              "\n",
              "  <style>\n",
              "    .colab-df-container {\n",
              "      display:flex;\n",
              "      gap: 12px;\n",
              "    }\n",
              "\n",
              "    .colab-df-convert {\n",
              "      background-color: #E8F0FE;\n",
              "      border: none;\n",
              "      border-radius: 50%;\n",
              "      cursor: pointer;\n",
              "      display: none;\n",
              "      fill: #1967D2;\n",
              "      height: 32px;\n",
              "      padding: 0 0 0 0;\n",
              "      width: 32px;\n",
              "    }\n",
              "\n",
              "    .colab-df-convert:hover {\n",
              "      background-color: #E2EBFA;\n",
              "      box-shadow: 0px 1px 2px rgba(60, 64, 67, 0.3), 0px 1px 3px 1px rgba(60, 64, 67, 0.15);\n",
              "      fill: #174EA6;\n",
              "    }\n",
              "\n",
              "    .colab-df-buttons div {\n",
              "      margin-bottom: 4px;\n",
              "    }\n",
              "\n",
              "    [theme=dark] .colab-df-convert {\n",
              "      background-color: #3B4455;\n",
              "      fill: #D2E3FC;\n",
              "    }\n",
              "\n",
              "    [theme=dark] .colab-df-convert:hover {\n",
              "      background-color: #434B5C;\n",
              "      box-shadow: 0px 1px 3px 1px rgba(0, 0, 0, 0.15);\n",
              "      filter: drop-shadow(0px 1px 2px rgba(0, 0, 0, 0.3));\n",
              "      fill: #FFFFFF;\n",
              "    }\n",
              "  </style>\n",
              "\n",
              "    <script>\n",
              "      const buttonEl =\n",
              "        document.querySelector('#df-73a5a0ad-b8dd-40d5-bb2a-f073e327c43b button.colab-df-convert');\n",
              "      buttonEl.style.display =\n",
              "        google.colab.kernel.accessAllowed ? 'block' : 'none';\n",
              "\n",
              "      async function convertToInteractive(key) {\n",
              "        const element = document.querySelector('#df-73a5a0ad-b8dd-40d5-bb2a-f073e327c43b');\n",
              "        const dataTable =\n",
              "          await google.colab.kernel.invokeFunction('convertToInteractive',\n",
              "                                                    [key], {});\n",
              "        if (!dataTable) return;\n",
              "\n",
              "        const docLinkHtml = 'Like what you see? Visit the ' +\n",
              "          '<a target=\"_blank\" href=https://colab.research.google.com/notebooks/data_table.ipynb>data table notebook</a>'\n",
              "          + ' to learn more about interactive tables.';\n",
              "        element.innerHTML = '';\n",
              "        dataTable['output_type'] = 'display_data';\n",
              "        await google.colab.output.renderOutput(dataTable, element);\n",
              "        const docLink = document.createElement('div');\n",
              "        docLink.innerHTML = docLinkHtml;\n",
              "        element.appendChild(docLink);\n",
              "      }\n",
              "    </script>\n",
              "  </div>\n",
              "\n",
              "\n",
              "<div id=\"df-31882ef9-32e1-49f5-88c5-c99c9868804f\">\n",
              "  <button class=\"colab-df-quickchart\" onclick=\"quickchart('df-31882ef9-32e1-49f5-88c5-c99c9868804f')\"\n",
              "            title=\"Suggest charts\"\n",
              "            style=\"display:none;\">\n",
              "\n",
              "<svg xmlns=\"http://www.w3.org/2000/svg\" height=\"24px\"viewBox=\"0 0 24 24\"\n",
              "     width=\"24px\">\n",
              "    <g>\n",
              "        <path d=\"M19 3H5c-1.1 0-2 .9-2 2v14c0 1.1.9 2 2 2h14c1.1 0 2-.9 2-2V5c0-1.1-.9-2-2-2zM9 17H7v-7h2v7zm4 0h-2V7h2v10zm4 0h-2v-4h2v4z\"/>\n",
              "    </g>\n",
              "</svg>\n",
              "  </button>\n",
              "\n",
              "<style>\n",
              "  .colab-df-quickchart {\n",
              "      --bg-color: #E8F0FE;\n",
              "      --fill-color: #1967D2;\n",
              "      --hover-bg-color: #E2EBFA;\n",
              "      --hover-fill-color: #174EA6;\n",
              "      --disabled-fill-color: #AAA;\n",
              "      --disabled-bg-color: #DDD;\n",
              "  }\n",
              "\n",
              "  [theme=dark] .colab-df-quickchart {\n",
              "      --bg-color: #3B4455;\n",
              "      --fill-color: #D2E3FC;\n",
              "      --hover-bg-color: #434B5C;\n",
              "      --hover-fill-color: #FFFFFF;\n",
              "      --disabled-bg-color: #3B4455;\n",
              "      --disabled-fill-color: #666;\n",
              "  }\n",
              "\n",
              "  .colab-df-quickchart {\n",
              "    background-color: var(--bg-color);\n",
              "    border: none;\n",
              "    border-radius: 50%;\n",
              "    cursor: pointer;\n",
              "    display: none;\n",
              "    fill: var(--fill-color);\n",
              "    height: 32px;\n",
              "    padding: 0;\n",
              "    width: 32px;\n",
              "  }\n",
              "\n",
              "  .colab-df-quickchart:hover {\n",
              "    background-color: var(--hover-bg-color);\n",
              "    box-shadow: 0 1px 2px rgba(60, 64, 67, 0.3), 0 1px 3px 1px rgba(60, 64, 67, 0.15);\n",
              "    fill: var(--button-hover-fill-color);\n",
              "  }\n",
              "\n",
              "  .colab-df-quickchart-complete:disabled,\n",
              "  .colab-df-quickchart-complete:disabled:hover {\n",
              "    background-color: var(--disabled-bg-color);\n",
              "    fill: var(--disabled-fill-color);\n",
              "    box-shadow: none;\n",
              "  }\n",
              "\n",
              "  .colab-df-spinner {\n",
              "    border: 2px solid var(--fill-color);\n",
              "    border-color: transparent;\n",
              "    border-bottom-color: var(--fill-color);\n",
              "    animation:\n",
              "      spin 1s steps(1) infinite;\n",
              "  }\n",
              "\n",
              "  @keyframes spin {\n",
              "    0% {\n",
              "      border-color: transparent;\n",
              "      border-bottom-color: var(--fill-color);\n",
              "      border-left-color: var(--fill-color);\n",
              "    }\n",
              "    20% {\n",
              "      border-color: transparent;\n",
              "      border-left-color: var(--fill-color);\n",
              "      border-top-color: var(--fill-color);\n",
              "    }\n",
              "    30% {\n",
              "      border-color: transparent;\n",
              "      border-left-color: var(--fill-color);\n",
              "      border-top-color: var(--fill-color);\n",
              "      border-right-color: var(--fill-color);\n",
              "    }\n",
              "    40% {\n",
              "      border-color: transparent;\n",
              "      border-right-color: var(--fill-color);\n",
              "      border-top-color: var(--fill-color);\n",
              "    }\n",
              "    60% {\n",
              "      border-color: transparent;\n",
              "      border-right-color: var(--fill-color);\n",
              "    }\n",
              "    80% {\n",
              "      border-color: transparent;\n",
              "      border-right-color: var(--fill-color);\n",
              "      border-bottom-color: var(--fill-color);\n",
              "    }\n",
              "    90% {\n",
              "      border-color: transparent;\n",
              "      border-bottom-color: var(--fill-color);\n",
              "    }\n",
              "  }\n",
              "</style>\n",
              "\n",
              "  <script>\n",
              "    async function quickchart(key) {\n",
              "      const quickchartButtonEl =\n",
              "        document.querySelector('#' + key + ' button');\n",
              "      quickchartButtonEl.disabled = true;  // To prevent multiple clicks.\n",
              "      quickchartButtonEl.classList.add('colab-df-spinner');\n",
              "      try {\n",
              "        const charts = await google.colab.kernel.invokeFunction(\n",
              "            'suggestCharts', [key], {});\n",
              "      } catch (error) {\n",
              "        console.error('Error during call to suggestCharts:', error);\n",
              "      }\n",
              "      quickchartButtonEl.classList.remove('colab-df-spinner');\n",
              "      quickchartButtonEl.classList.add('colab-df-quickchart-complete');\n",
              "    }\n",
              "    (() => {\n",
              "      let quickchartButtonEl =\n",
              "        document.querySelector('#df-31882ef9-32e1-49f5-88c5-c99c9868804f button');\n",
              "      quickchartButtonEl.style.display =\n",
              "        google.colab.kernel.accessAllowed ? 'block' : 'none';\n",
              "    })();\n",
              "  </script>\n",
              "</div>\n",
              "\n",
              "    </div>\n",
              "  </div>\n"
            ],
            "application/vnd.google.colaboratory.intrinsic+json": {
              "type": "dataframe",
              "variable_name": "df",
              "summary": "{\n  \"name\": \"df\",\n  \"rows\": 60000,\n  \"fields\": [\n    {\n      \"column\": \"URL\",\n      \"properties\": {\n        \"dtype\": \"string\",\n        \"num_unique_values\": 60000,\n        \"samples\": [\n          \"https://thanhnien.vn/cuoc-thi-hoa-hau-va-nam-vuong-hoan-vu-the-gioi-quoc-te-chua-duoc-cap-phep-18523060119505428.htm\",\n          \"https://tuoitre.vn/viet-nam-ghi-nhan-2-nguoi-mac-covid-19-moi-the-gioi-gan-63-trieu-ca-nhiem-20201129184918991.htm\",\n          \"https://thanhnien.vn/vu-ban-san-pham-khi-xet-nghiem-mien-phi-nop-phat-cam-ket-khac-phuc-thieu-sot-185231218114357607.htm\"\n        ],\n        \"semantic_type\": \"\",\n        \"description\": \"\"\n      }\n    },\n    {\n      \"column\": \"Title\",\n      \"properties\": {\n        \"dtype\": \"string\",\n        \"num_unique_values\": 59989,\n        \"samples\": [\n          \"ph\\u00e1t hi\\u1ec7n m\\u1edbi gi\\u1edd \\u0103n s\\u00e1ng t\\u1ed1t nh\\u1ea5t \\u0111\\u1ec3 gi\\u1ea3m nguy c\\u01a1 b\\u1ec7nh ti\\u1ec3u \\u0111\\u01b0\\u1eddng\",\n          \"t\\u1ed9i ph\\u1ea1m m\\u1ea1ng ng\\u00e0y c\\u00e0ng gia t\\u0103ng\",\n          \"tphcm qu\\u1eadn b\\u00ecnh th\\u1ea1nh tuy\\u1ec3n 160 gi\\u00e1o vi\\u00ean nh\\u00e2n vi\\u00ean\"\n        ],\n        \"semantic_type\": \"\",\n        \"description\": \"\"\n      }\n    },\n    {\n      \"column\": \"Abstract\",\n      \"properties\": {\n        \"dtype\": \"string\",\n        \"num_unique_values\": 59981,\n        \"samples\": [\n          \"tto  trong m\\u1ed9t video tr\\u1ea3 l\\u1eddi b\\u00e1o ch\\u00ed v\\u1ec1 vi\\u1ec7c ch\\u00e0o \\u0111\\u00f3n con trai \\u0111\\u1ea7u l\\u00f2ng ho\\u00e0ng t\\u1eed harry n\\u01b0\\u1edbc anh \\u0111\\u00e3 c\\u00f3 nhi\\u1ec1u bi\\u1ec3u c\\u1ea3m \\u0111\\u00e1ng y\\u00eau khi\\u1ebfn d\\u00e2n m\\u1ea1ng li\\u00eau xi\\u00eau\",\n          \"theo k\\u1ebf ho\\u1ea1ch c\\u00e1c ch\\u1ee7 n\\u1ee3 c\\u1ee7a evergrande s\\u1ebd c\\u00f3 m\\u1eb7t t\\u1ea1i v\\u0103n ph\\u00f2ng c\\u1ee7a c\\u00f4ng ty lu\\u1eadt sidley austin llp \\u1edf hong kong trung qu\\u1ed1c v\\u00e0 c\\u00f4ng ty maples  calder \\u1edf qu\\u1ea7n \\u0111\\u1ea3o virgin thu\\u1ed9c anh \\u0111\\u1ec3 th\\u1ef1c hi\\u1ec7n vi\\u1ec7c b\\u1ecf phi\\u1ebfu\",\n          \"tt  li\\u00ean quan t\\u1edbi g\\u00f3i t\\u00edn d\\u1ee5ng h\\u1ed7 tr\\u1ee3 nh\\u00e0 \\u1edf 30000 t\\u1ec9 \\u0111\\u1ed3ng ng\\u00e0y 203 b\\u1ed9 x\\u00e2y d\\u1ef1ng cho bi\\u1ebft b\\u1ed9 tr\\u01b0\\u1edfng tr\\u1ecbnh \\u0111\\u00ecnh d\\u0169ng \\u0111\\u00e3 \\u0111\\u1ec1 ngh\\u1ecb th\\u1ee7 t\\u01b0\\u1edbng cho ph\\u00e9p \\u0111i\\u1ec1u ch\\u1ec9nh h\\u00e0ng lo\\u1ea1t quy \\u0111\\u1ecbnh li\\u00ean quan \\u0111\\u1ebfn g\\u00f3i t\\u00edn d\\u1ee5ng n\\u00e0y theo h\\u01b0\\u1edbng n\\u1edbi l\\u1ecfng t\\u1ea1o \\u0111i\\u1ec1u ki\\u1ec7n cho ng\\u01b0\\u1eddi d\\u00e2n ti\\u1ebfp c\\u1eadn\"\n        ],\n        \"semantic_type\": \"\",\n        \"description\": \"\"\n      }\n    },\n    {\n      \"column\": \"Content\",\n      \"properties\": {\n        \"dtype\": \"string\",\n        \"num_unique_values\": 59934,\n        \"samples\": [\n          \"thang l\\u1ea1c v\\u0103n th\\u1eeba nh\\u1eadn kh\\u00f4ng c\\u00f2n li\\u00ean l\\u1ea1c v\\u1edbi hu\\u1ef3nh t\\u00e2m d\\u0129nh c\\u00f4 c\\u0169ng ch\\u00ednh l\\u00e0 ng\\u01b0\\u1eddi thay th\\u1ebf vai di\\u1ec5n c\\u1ee7a \\u00e1 h\\u1eadu h\\u1ecd hu\\u1ef3nh trong b\\u1eb1ng ch\\u1ee9ng th\\u00e9p 4 sau b\\u00ea b\\u1ed1i ngo\\u1ea1i t\\u00ecnh ch\\u1ea5n \\u0111\\u1ed9ng n\\u0103m 2019 \\u1ea3nh instagram nv m\\u00e3 qu\\u1ed1c minh  thang l\\u1ea1c v\\u0103n t\\u1eeb \\u0111\\u1ed3ng nghi\\u1ec7p t\\u1ed1t tr\\u1edf th\\u00e0nh ng\\u01b0\\u1eddi y\\u00eau c\\u1ee7a nhau \\u1ea3nh tvb s\\u1ef1 nghi\\u1ec7p di\\u1ec5n xu\\u1ea5t k\\u00e9m xa b\\u1ea1n trai nh\\u01b0ng b\\u00f9 l\\u1ea1i gia th\\u1ebf c\\u1ee7a thang l\\u1ea1c v\\u0103n l\\u1ea1i kh\\u00f4ng ph\\u1ea3i d\\u1ea1ng v\\u1eeba truy\\u1ec1n th\\u00f4ng h\\u1ed3ng k\\u00f4ng ti\\u1ebft l\\u1ed9 gia \\u0111\\u00ecnh c\\u00f4 n\\u1ed5i ti\\u1ebfng gi\\u00e0u c\\u00f3 b\\u1ec1 th\\u1ebf cha ng\\u01b0\\u1eddi \\u0111\\u1eb9p l\\u00e0 nam di\\u1ec5n vi\\u00ean thang ch\\u1ea5n t\\u00f4ng ch\\u00fa l\\u00e0 t\\u00e0i t\\u1eed thang ch\\u1ea5n nghi\\u1ec7p \\u1ea3nh instagram nv\",\n          \"m\\u1ed7i ng\\u00f4i nh\\u00e0 nh\\u1ecf xinh \\u0111\\u1ee7 ch\\u1ed7 cho 4 ng\\u01b0\\u1eddi n\\u00e0y s\\u1ebd l\\u00e0 \\u0111\\u00e0i quan s\\u00e1t thi\\u00ean nhi\\u00ean tuy\\u1ec7t h\\u1ea3o cho nh\\u1eefng chuy\\u1ebfn du l\\u1ecbch cu\\u1ed1i tu\\u1ea7n trong t\\u1ed5ng s\\u1ed1 9 cabin hi\\u1ec7n \\u0111\\u00e3 c\\u00f3 1 c\\u0103n ho\\u00e0n th\\u00e0nh x\\u00e2y d\\u1ef1ng v\\u00e0 \\u0111i v\\u00e0o ho\\u1ea1t \\u0111\\u1ed9ng h\\u00f2a m\\u00ecnh v\\u00e0o thi\\u00ean nhi\\u00ean song c\\u0103n cabin n\\u00e0y v\\u1eabn \\u0111\\u01b0\\u1ee3c trang b\\u1ecb \\u0111i\\u1ec7n n\\u01b0\\u1edbc \\u0111\\u1ea7y \\u0111\\u1ee7 c\\u00f9ng \\u0111\\u1ed3 n\\u1ed9i th\\u1ea5t ti\\u1ec7n l\\u1ee3i \\u0111\\u1ea3m b\\u1ea3o nh\\u1eefng v\\u1ecb kh\\u00e1ch s\\u1ebd c\\u00f3 tr\\u1ea3i nghi\\u1ec7m tuy\\u1ec7t v\\u1eddi t\\u1ea1i kh\\u00e1ch s\\u1ea1n d\\u00f9 di\\u1ec7n t\\u00edch khi\\u00eam t\\u1ed1n song kh\\u00f4ng gian c\\u0103n cabin ch\\u1ee9a \\u0111\\u1ee7 phong kh\\u00e1ch b\\u1ebfp ph\\u00f2ng ng\\u1ee7 c\\u00f9ng m\\u1ed9t ph\\u00f2ng t\\u1eafm l\\u1ed9 thi\\u00ean\",\n          \">> sao vi\\u1ec7t b\\u1eadt m\\u00ed c\\u00e1ch tr\\u00e1nh b\\u1ecb qu\\u1ef5t c\\u00e1ts\\u00ea v\\u00e0 s\\u00e0m s\\u1ee1 chim g\\u00f5 ki\\u1ebfn >> sao vi\\u1ec7t b\\u1eadt m\\u00ed c\\u00e1ch tr\\u00e1nh b\\u1ecb qu\\u1ef5t c\\u00e1ts\\u00ea v\\u00e0 s\\u00e0m s\\u1ee1>> g\\u01b0\\u01a1ng m\\u1eb7t th\\u00e2n quen thanh duy th\\u1ea5p th\\u1ecfm s\\u1ee3 r\\u1edbt h\\u00e0ng \\u0111\\u1ed9n khi l\\u00e0m adele>> m\\u1ef9 t\\u00e2m than c\\u00f4 \\u0111\\u01a1n tr\\u00ean s\\u00f3ng truy\\u1ec1n h\\u00ecnh>> v\\u00f5 h\\u1ea1 tr\\u00e2m tung mv \\u0111\\u1ea7y n\\u01b0\\u1edbc m\\u1eaft tr\\u01b0\\u1edbc ng\\u00e0y l\\u00ean \\u0111\\u01b0\\u1eddng sang m\\u1ef9 du h\\u1ecdc\"\n        ],\n        \"semantic_type\": \"\",\n        \"description\": \"\"\n      }\n    },\n    {\n      \"column\": \"Category\",\n      \"properties\": {\n        \"dtype\": \"category\",\n        \"num_unique_values\": 12,\n        \"samples\": [\n          \"xe\",\n          \"th\\u1eddi s\\u1ef1\",\n          \"b\\u1ea5t \\u0111\\u1ed9ng s\\u1ea3n\"\n        ],\n        \"semantic_type\": \"\",\n        \"description\": \"\"\n      }\n    },\n    {\n      \"column\": \"num_words\",\n      \"properties\": {\n        \"dtype\": \"number\",\n        \"std\": 142,\n        \"min\": 21,\n        \"max\": 656,\n        \"num_unique_values\": 636,\n        \"samples\": [\n          306,\n          34,\n          113\n        ],\n        \"semantic_type\": \"\",\n        \"description\": \"\"\n      }\n    }\n  ]\n}"
            }
          },
          "metadata": {},
          "execution_count": 6
        }
      ],
      "source": [
        "# df = pd.read_csv('../data/cleaned_data.csv')\n",
        "# df = pd.read_csv('/content/drive/MyDrive/data/cleaned_data.csv')\n",
        "df.head()"
      ]
    },
    {
      "cell_type": "markdown",
      "metadata": {
        "id": "gHlmGaoVduaJ"
      },
      "source": [
        "# **Phân đoạn văn bản**"
      ]
    },
    {
      "cell_type": "code",
      "execution_count": 7,
      "metadata": {
        "id": "VpGu2PbLLjSA"
      },
      "outputs": [],
      "source": [
        "def segmented_text(text):\n",
        "    return word_tokenize(text, format=\"text\")"
      ]
    },
    {
      "cell_type": "code",
      "execution_count": null,
      "metadata": {
        "id": "er9dApvnn-ue"
      },
      "outputs": [],
      "source": [
        "cols = ['Title', 'Abstract', 'Content']\n",
        "df.loc[:, cols] = df[cols].astype(str).apply(lambda col: col.apply(segmented_text))\n",
        "df.sample(5)"
      ]
    },
    {
      "cell_type": "code",
      "execution_count": null,
      "metadata": {
        "id": "HplbU6F0pKYX"
      },
      "outputs": [],
      "source": [
        "df = df.drop('num_words', axis=1)\n",
        "df.to_csv('/content/drive/MyDrive/data/segmented_data.csv', index=False, encoding='utf-8')\n",
        "# df.to_csv('../data/segmented_data.csv', index=False, encoding='utf-8')"
      ]
    },
    {
      "cell_type": "markdown",
      "metadata": {
        "id": "kYoipUQXL4Iq"
      },
      "source": [
        "# **Train/validation/test**"
      ]
    },
    {
      "cell_type": "code",
      "execution_count": 9,
      "metadata": {
        "colab": {
          "base_uri": "https://localhost:8080/",
          "height": 293
        },
        "id": "ITOM9X1144cO",
        "outputId": "a9028230-5435-47dc-f718-0805af30cb4e"
      },
      "outputs": [
        {
          "output_type": "execute_result",
          "data": {
            "text/plain": [
              "                                                     URL  \\\n",
              "48554  https://tuoitre.vn/tphcm-se-loai-bo-co-so-san-...   \n",
              "17208  https://tuoitre.vn/giao-luu-trang-bi-ky-nang-s...   \n",
              "34465  https://tuoitre.vn/camera-ghi-hinh-nguoi-dan-o...   \n",
              "51679  https://tuoitre.vn/canh-bao-loi-tren-11500-xe-...   \n",
              "18257  https://tuoitre.vn/mong-co-them-nhung-tam-guon...   \n",
              "\n",
              "                                                   Title  \\\n",
              "48554   tphcm sẽ loại_bỏ cơ_sở sản_xuất vlxd gây ô_nhiễm   \n",
              "17208       giao_lưu trang_bị kỹ_năng sống cho phạm_nhân   \n",
              "34465  camera ghi_hình người đàn_ông nửa_đêm đột_nhập...   \n",
              "51679            cảnh_báo lỗi trên 11500 xe honda cbr250   \n",
              "18257  mong có thêm những tấm gương dũng_cảm cứu ngườ...   \n",
              "\n",
              "                                                Abstract  \\\n",
              "48554  tto ngày 3010 tại bình_phước sở xây_dựng tphcm...   \n",
              "17208  tto trong khuôn_khổ chương_trình bài ca hi_vọn...   \n",
              "34465  sau 2 giờ vào nhà yến kẻ_trộm đã lấy cắp khoản...   \n",
              "51679  tto theo thông_báo từ hãng sản_xuất xe honda n...   \n",
              "18257  tto chiều 105 ubnd tp tuy hòa_phú_yên đã tặng ...   \n",
              "\n",
              "                                                 Content   Category  \n",
              "48554  ông phan_đức_nhạn phó giám_đốc sở xây_dựng tph...    thời sự  \n",
              "17208  tại buổi giao_lưu các bạn đoàn_viên thanh_niên...   giới trẻ  \n",
              "34465  ngày 57 ông phạm tuấn_kiệt 52 tuổi ngụ xã song...  pháp luật  \n",
              "51679  những xe này được sản_xuất từ giữa tháng 3 đến...         xe  \n",
              "18257  ông nguyễn_công_thành phó chủ_tịch ubnd tp tuy...   giới trẻ  "
            ],
            "text/html": [
              "\n",
              "  <div id=\"df-affe14a1-56d3-48a1-b1a6-01153f0b73fe\" class=\"colab-df-container\">\n",
              "    <div>\n",
              "<style scoped>\n",
              "    .dataframe tbody tr th:only-of-type {\n",
              "        vertical-align: middle;\n",
              "    }\n",
              "\n",
              "    .dataframe tbody tr th {\n",
              "        vertical-align: top;\n",
              "    }\n",
              "\n",
              "    .dataframe thead th {\n",
              "        text-align: right;\n",
              "    }\n",
              "</style>\n",
              "<table border=\"1\" class=\"dataframe\">\n",
              "  <thead>\n",
              "    <tr style=\"text-align: right;\">\n",
              "      <th></th>\n",
              "      <th>URL</th>\n",
              "      <th>Title</th>\n",
              "      <th>Abstract</th>\n",
              "      <th>Content</th>\n",
              "      <th>Category</th>\n",
              "    </tr>\n",
              "  </thead>\n",
              "  <tbody>\n",
              "    <tr>\n",
              "      <th>48554</th>\n",
              "      <td>https://tuoitre.vn/tphcm-se-loai-bo-co-so-san-...</td>\n",
              "      <td>tphcm sẽ loại_bỏ cơ_sở sản_xuất vlxd gây ô_nhiễm</td>\n",
              "      <td>tto ngày 3010 tại bình_phước sở xây_dựng tphcm...</td>\n",
              "      <td>ông phan_đức_nhạn phó giám_đốc sở xây_dựng tph...</td>\n",
              "      <td>thời sự</td>\n",
              "    </tr>\n",
              "    <tr>\n",
              "      <th>17208</th>\n",
              "      <td>https://tuoitre.vn/giao-luu-trang-bi-ky-nang-s...</td>\n",
              "      <td>giao_lưu trang_bị kỹ_năng sống cho phạm_nhân</td>\n",
              "      <td>tto trong khuôn_khổ chương_trình bài ca hi_vọn...</td>\n",
              "      <td>tại buổi giao_lưu các bạn đoàn_viên thanh_niên...</td>\n",
              "      <td>giới trẻ</td>\n",
              "    </tr>\n",
              "    <tr>\n",
              "      <th>34465</th>\n",
              "      <td>https://tuoitre.vn/camera-ghi-hinh-nguoi-dan-o...</td>\n",
              "      <td>camera ghi_hình người đàn_ông nửa_đêm đột_nhập...</td>\n",
              "      <td>sau 2 giờ vào nhà yến kẻ_trộm đã lấy cắp khoản...</td>\n",
              "      <td>ngày 57 ông phạm tuấn_kiệt 52 tuổi ngụ xã song...</td>\n",
              "      <td>pháp luật</td>\n",
              "    </tr>\n",
              "    <tr>\n",
              "      <th>51679</th>\n",
              "      <td>https://tuoitre.vn/canh-bao-loi-tren-11500-xe-...</td>\n",
              "      <td>cảnh_báo lỗi trên 11500 xe honda cbr250</td>\n",
              "      <td>tto theo thông_báo từ hãng sản_xuất xe honda n...</td>\n",
              "      <td>những xe này được sản_xuất từ giữa tháng 3 đến...</td>\n",
              "      <td>xe</td>\n",
              "    </tr>\n",
              "    <tr>\n",
              "      <th>18257</th>\n",
              "      <td>https://tuoitre.vn/mong-co-them-nhung-tam-guon...</td>\n",
              "      <td>mong có thêm những tấm gương dũng_cảm cứu ngườ...</td>\n",
              "      <td>tto chiều 105 ubnd tp tuy hòa_phú_yên đã tặng ...</td>\n",
              "      <td>ông nguyễn_công_thành phó chủ_tịch ubnd tp tuy...</td>\n",
              "      <td>giới trẻ</td>\n",
              "    </tr>\n",
              "  </tbody>\n",
              "</table>\n",
              "</div>\n",
              "    <div class=\"colab-df-buttons\">\n",
              "\n",
              "  <div class=\"colab-df-container\">\n",
              "    <button class=\"colab-df-convert\" onclick=\"convertToInteractive('df-affe14a1-56d3-48a1-b1a6-01153f0b73fe')\"\n",
              "            title=\"Convert this dataframe to an interactive table.\"\n",
              "            style=\"display:none;\">\n",
              "\n",
              "  <svg xmlns=\"http://www.w3.org/2000/svg\" height=\"24px\" viewBox=\"0 -960 960 960\">\n",
              "    <path d=\"M120-120v-720h720v720H120Zm60-500h600v-160H180v160Zm220 220h160v-160H400v160Zm0 220h160v-160H400v160ZM180-400h160v-160H180v160Zm440 0h160v-160H620v160ZM180-180h160v-160H180v160Zm440 0h160v-160H620v160Z\"/>\n",
              "  </svg>\n",
              "    </button>\n",
              "\n",
              "  <style>\n",
              "    .colab-df-container {\n",
              "      display:flex;\n",
              "      gap: 12px;\n",
              "    }\n",
              "\n",
              "    .colab-df-convert {\n",
              "      background-color: #E8F0FE;\n",
              "      border: none;\n",
              "      border-radius: 50%;\n",
              "      cursor: pointer;\n",
              "      display: none;\n",
              "      fill: #1967D2;\n",
              "      height: 32px;\n",
              "      padding: 0 0 0 0;\n",
              "      width: 32px;\n",
              "    }\n",
              "\n",
              "    .colab-df-convert:hover {\n",
              "      background-color: #E2EBFA;\n",
              "      box-shadow: 0px 1px 2px rgba(60, 64, 67, 0.3), 0px 1px 3px 1px rgba(60, 64, 67, 0.15);\n",
              "      fill: #174EA6;\n",
              "    }\n",
              "\n",
              "    .colab-df-buttons div {\n",
              "      margin-bottom: 4px;\n",
              "    }\n",
              "\n",
              "    [theme=dark] .colab-df-convert {\n",
              "      background-color: #3B4455;\n",
              "      fill: #D2E3FC;\n",
              "    }\n",
              "\n",
              "    [theme=dark] .colab-df-convert:hover {\n",
              "      background-color: #434B5C;\n",
              "      box-shadow: 0px 1px 3px 1px rgba(0, 0, 0, 0.15);\n",
              "      filter: drop-shadow(0px 1px 2px rgba(0, 0, 0, 0.3));\n",
              "      fill: #FFFFFF;\n",
              "    }\n",
              "  </style>\n",
              "\n",
              "    <script>\n",
              "      const buttonEl =\n",
              "        document.querySelector('#df-affe14a1-56d3-48a1-b1a6-01153f0b73fe button.colab-df-convert');\n",
              "      buttonEl.style.display =\n",
              "        google.colab.kernel.accessAllowed ? 'block' : 'none';\n",
              "\n",
              "      async function convertToInteractive(key) {\n",
              "        const element = document.querySelector('#df-affe14a1-56d3-48a1-b1a6-01153f0b73fe');\n",
              "        const dataTable =\n",
              "          await google.colab.kernel.invokeFunction('convertToInteractive',\n",
              "                                                    [key], {});\n",
              "        if (!dataTable) return;\n",
              "\n",
              "        const docLinkHtml = 'Like what you see? Visit the ' +\n",
              "          '<a target=\"_blank\" href=https://colab.research.google.com/notebooks/data_table.ipynb>data table notebook</a>'\n",
              "          + ' to learn more about interactive tables.';\n",
              "        element.innerHTML = '';\n",
              "        dataTable['output_type'] = 'display_data';\n",
              "        await google.colab.output.renderOutput(dataTable, element);\n",
              "        const docLink = document.createElement('div');\n",
              "        docLink.innerHTML = docLinkHtml;\n",
              "        element.appendChild(docLink);\n",
              "      }\n",
              "    </script>\n",
              "  </div>\n",
              "\n",
              "\n",
              "<div id=\"df-5e7d4872-fe33-4357-8fb6-4c883f5b33f7\">\n",
              "  <button class=\"colab-df-quickchart\" onclick=\"quickchart('df-5e7d4872-fe33-4357-8fb6-4c883f5b33f7')\"\n",
              "            title=\"Suggest charts\"\n",
              "            style=\"display:none;\">\n",
              "\n",
              "<svg xmlns=\"http://www.w3.org/2000/svg\" height=\"24px\"viewBox=\"0 0 24 24\"\n",
              "     width=\"24px\">\n",
              "    <g>\n",
              "        <path d=\"M19 3H5c-1.1 0-2 .9-2 2v14c0 1.1.9 2 2 2h14c1.1 0 2-.9 2-2V5c0-1.1-.9-2-2-2zM9 17H7v-7h2v7zm4 0h-2V7h2v10zm4 0h-2v-4h2v4z\"/>\n",
              "    </g>\n",
              "</svg>\n",
              "  </button>\n",
              "\n",
              "<style>\n",
              "  .colab-df-quickchart {\n",
              "      --bg-color: #E8F0FE;\n",
              "      --fill-color: #1967D2;\n",
              "      --hover-bg-color: #E2EBFA;\n",
              "      --hover-fill-color: #174EA6;\n",
              "      --disabled-fill-color: #AAA;\n",
              "      --disabled-bg-color: #DDD;\n",
              "  }\n",
              "\n",
              "  [theme=dark] .colab-df-quickchart {\n",
              "      --bg-color: #3B4455;\n",
              "      --fill-color: #D2E3FC;\n",
              "      --hover-bg-color: #434B5C;\n",
              "      --hover-fill-color: #FFFFFF;\n",
              "      --disabled-bg-color: #3B4455;\n",
              "      --disabled-fill-color: #666;\n",
              "  }\n",
              "\n",
              "  .colab-df-quickchart {\n",
              "    background-color: var(--bg-color);\n",
              "    border: none;\n",
              "    border-radius: 50%;\n",
              "    cursor: pointer;\n",
              "    display: none;\n",
              "    fill: var(--fill-color);\n",
              "    height: 32px;\n",
              "    padding: 0;\n",
              "    width: 32px;\n",
              "  }\n",
              "\n",
              "  .colab-df-quickchart:hover {\n",
              "    background-color: var(--hover-bg-color);\n",
              "    box-shadow: 0 1px 2px rgba(60, 64, 67, 0.3), 0 1px 3px 1px rgba(60, 64, 67, 0.15);\n",
              "    fill: var(--button-hover-fill-color);\n",
              "  }\n",
              "\n",
              "  .colab-df-quickchart-complete:disabled,\n",
              "  .colab-df-quickchart-complete:disabled:hover {\n",
              "    background-color: var(--disabled-bg-color);\n",
              "    fill: var(--disabled-fill-color);\n",
              "    box-shadow: none;\n",
              "  }\n",
              "\n",
              "  .colab-df-spinner {\n",
              "    border: 2px solid var(--fill-color);\n",
              "    border-color: transparent;\n",
              "    border-bottom-color: var(--fill-color);\n",
              "    animation:\n",
              "      spin 1s steps(1) infinite;\n",
              "  }\n",
              "\n",
              "  @keyframes spin {\n",
              "    0% {\n",
              "      border-color: transparent;\n",
              "      border-bottom-color: var(--fill-color);\n",
              "      border-left-color: var(--fill-color);\n",
              "    }\n",
              "    20% {\n",
              "      border-color: transparent;\n",
              "      border-left-color: var(--fill-color);\n",
              "      border-top-color: var(--fill-color);\n",
              "    }\n",
              "    30% {\n",
              "      border-color: transparent;\n",
              "      border-left-color: var(--fill-color);\n",
              "      border-top-color: var(--fill-color);\n",
              "      border-right-color: var(--fill-color);\n",
              "    }\n",
              "    40% {\n",
              "      border-color: transparent;\n",
              "      border-right-color: var(--fill-color);\n",
              "      border-top-color: var(--fill-color);\n",
              "    }\n",
              "    60% {\n",
              "      border-color: transparent;\n",
              "      border-right-color: var(--fill-color);\n",
              "    }\n",
              "    80% {\n",
              "      border-color: transparent;\n",
              "      border-right-color: var(--fill-color);\n",
              "      border-bottom-color: var(--fill-color);\n",
              "    }\n",
              "    90% {\n",
              "      border-color: transparent;\n",
              "      border-bottom-color: var(--fill-color);\n",
              "    }\n",
              "  }\n",
              "</style>\n",
              "\n",
              "  <script>\n",
              "    async function quickchart(key) {\n",
              "      const quickchartButtonEl =\n",
              "        document.querySelector('#' + key + ' button');\n",
              "      quickchartButtonEl.disabled = true;  // To prevent multiple clicks.\n",
              "      quickchartButtonEl.classList.add('colab-df-spinner');\n",
              "      try {\n",
              "        const charts = await google.colab.kernel.invokeFunction(\n",
              "            'suggestCharts', [key], {});\n",
              "      } catch (error) {\n",
              "        console.error('Error during call to suggestCharts:', error);\n",
              "      }\n",
              "      quickchartButtonEl.classList.remove('colab-df-spinner');\n",
              "      quickchartButtonEl.classList.add('colab-df-quickchart-complete');\n",
              "    }\n",
              "    (() => {\n",
              "      let quickchartButtonEl =\n",
              "        document.querySelector('#df-5e7d4872-fe33-4357-8fb6-4c883f5b33f7 button');\n",
              "      quickchartButtonEl.style.display =\n",
              "        google.colab.kernel.accessAllowed ? 'block' : 'none';\n",
              "    })();\n",
              "  </script>\n",
              "</div>\n",
              "\n",
              "    </div>\n",
              "  </div>\n"
            ],
            "application/vnd.google.colaboratory.intrinsic+json": {
              "type": "dataframe",
              "summary": "{\n  \"name\": \"df\",\n  \"rows\": 5,\n  \"fields\": [\n    {\n      \"column\": \"URL\",\n      \"properties\": {\n        \"dtype\": \"string\",\n        \"num_unique_values\": 5,\n        \"samples\": [\n          \"https://tuoitre.vn/giao-luu-trang-bi-ky-nang-song-cho-pham-nhan-678084.htm\",\n          \"https://tuoitre.vn/mong-co-them-nhung-tam-guong-dung-cam-cuu-nguoi-nhu-ong-ngoc-20220510172836176.htm\",\n          \"https://tuoitre.vn/camera-ghi-hinh-nguoi-dan-ong-nua-dem-dot-nhap-trom-5kg-to-yen-20240705175300051.htm\"\n        ],\n        \"semantic_type\": \"\",\n        \"description\": \"\"\n      }\n    },\n    {\n      \"column\": \"Title\",\n      \"properties\": {\n        \"dtype\": \"string\",\n        \"num_unique_values\": 5,\n        \"samples\": [\n          \"giao_l\\u01b0u trang_b\\u1ecb k\\u1ef9_n\\u0103ng s\\u1ed1ng cho ph\\u1ea1m_nh\\u00e2n\",\n          \"mong c\\u00f3 th\\u00eam nh\\u1eefng t\\u1ea5m g\\u01b0\\u01a1ng d\\u0169ng_c\\u1ea3m c\\u1ee9u ng\\u01b0\\u1eddi nh\\u01b0 \\u00f4ng ng\\u1ecdc\",\n          \"camera ghi_h\\u00ecnh ng\\u01b0\\u1eddi \\u0111\\u00e0n_\\u00f4ng n\\u1eeda_\\u0111\\u00eam \\u0111\\u1ed9t_nh\\u1eadp tr\\u1ed9m 5 kg t\\u1ed5 y\\u1ebfn\"\n        ],\n        \"semantic_type\": \"\",\n        \"description\": \"\"\n      }\n    },\n    {\n      \"column\": \"Abstract\",\n      \"properties\": {\n        \"dtype\": \"string\",\n        \"num_unique_values\": 5,\n        \"samples\": [\n          \"tto trong khu\\u00f4n_kh\\u1ed5 ch\\u01b0\\u01a1ng_tr\\u00ecnh b\\u00e0i ca hi_v\\u1ecdng l\\u1ea7n th\\u1ee9 3 v\\u1edbi ch\\u1ee7_\\u0111\\u1ec1 k\\u1ef9_n\\u0103ng s\\u1ed1ng s\\u00e1ng 2911 h\\u1ed9i lhtn vi\\u1ec7t_nam t\\u1ec9nh ki\\u00ean_giang \\u0111\\u00e3 t\\u1ed5_ch\\u1ee9c giao_l\\u01b0u v\\u1edbi 200 ph\\u1ea1m_nh\\u00e2n t\\u1ea1i tr\\u1ea1i_giam k\\u00eanh 7 b\\u1ed9 c\\u00f4ng_an\",\n          \"tto chi\\u1ec1u 105 ubnd tp tuy h\\u00f2a_ph\\u00fa_y\\u00ean \\u0111\\u00e3 t\\u1eb7ng gi\\u1ea5y khen v\\u1ec1 h\\u00e0nh_\\u0111\\u1ed9ng d\\u0169ng_c\\u1ea3m c\\u1ee9u ng\\u01b0\\u1eddi c\\u1ee7a \\u00f4ng l\\u00ea_thanh_ng\\u1ecdc ng\\u01b0\\u1eddi hai l\\u1ea7n c\\u1ee9u ng\\u01b0\\u1eddi nh\\u1ea3y_c\\u1ea7u t\\u1ef1_t\\u1eed tr\\u00ean s\\u00f4ng \\u0111\\u00e0 r\\u1eb1ng\",\n          \"sau 2 gi\\u1edd v\\u00e0o nh\\u00e0 y\\u1ebfn k\\u1ebb_tr\\u1ed9m \\u0111\\u00e3 l\\u1ea5y c\\u1eafp kho\\u1ea3ng 5 kg t\\u1ed5 y\\u1ebfn tr\\u1ecb_gi\\u00e1 kho\\u1ea3ng 100 tri\\u1ec7u \\u0111\\u1ed3ng v\\u00e0 l\\u00e0m ch\\u1ebft nhi\\u1ec1u y\\u1ebfn con\"\n        ],\n        \"semantic_type\": \"\",\n        \"description\": \"\"\n      }\n    },\n    {\n      \"column\": \"Content\",\n      \"properties\": {\n        \"dtype\": \"string\",\n        \"num_unique_values\": 5,\n        \"samples\": [\n          \"t\\u1ea1i bu\\u1ed5i giao_l\\u01b0u c\\u00e1c b\\u1ea1n \\u0111o\\u00e0n_vi\\u00ean thanh_ni\\u00ean \\u0111\\u00e3 tham_quan n\\u01a1i c\\u1ea3i_t\\u1ea1o giam_gi\\u1eef ph\\u1ea1m_nh\\u00e2n tham_quan tr\\u1ea1i_giam k\\u00eanh 7 n\\u01a1i \\u0111ang gi\\u00e1o_d\\u1ee5c c\\u1ea3i_t\\u1ea1o g\\u1ea7n 2000 ph\\u1ea1m_nh\\u00e2n ch\\u01b0\\u01a1ng_tr\\u00ecnh giao_l\\u01b0u c\\u00f2n c\\u00f3 tr\\u00f2_ch\\u01a1i t\\u1eadp_th\\u1ec3 bi\\u1ec3u_di\\u1ec5n v\\u0103n_ngh\\u1ec7 t\\u01b0_v\\u1ea5n ph\\u00e1p_lu\\u1eadt t\\u1ecda_\\u0111\\u00e0m k\\u1ef9_n\\u0103ng s\\u1ed1ng t\\u01b0_v\\u1ea5n ngh\\u1ec1_nghi\\u1ec7p vi\\u1ec7c_l\\u00e0m anh l\\u00ea trung_h\\u1ed3 ph\\u00f3 b\\u00ed_th\\u01b0 t\\u1ec9nh \\u0111o\\u00e0n_ch\\u1ee7_t\\u1ecbch h\\u1ed9i lhtn vn t\\u1ec9nh ki\\u00ean_giang cho bi\\u1ebft m\\u1ee5c_\\u0111\\u00edch c\\u1ee7a ch\\u01b0\\u01a1ng_tr\\u00ecnh b\\u00e0i ca hi_v\\u1ecdng nh\\u1eb1m huy_\\u0111\\u1ed9ng thanh_ni\\u00ean t\\u00edch_c\\u1ef1c tham_gia c\\u00f4ng_t\\u00e1c gi\\u00e1o_d\\u1ee5c ph\\u1ea1m_nh\\u00e2n trong \\u0111\\u1ed9 tu\\u1ed5i thanh_ni\\u00ean gi\\u00fap h\\u1ecd c\\u1ea3i_t\\u1ea1o t\\u1ed1t s\\u1edbm tr\\u1edf v\\u1ec1 \\u0111o\\u00e0n_t\\u1ee5 v\\u1edbi gia_\\u0111\\u00ecnh v\\u00e0 gi\\u00fap h\\u1ecd t\\u00e1i_h\\u00f2a nh\\u1eadp c\\u1ed9ng_\\u0111\\u1ed3ng c\\u1ee5_th\\u1ec3 c\\u00e1c t\\u1ed5_ch\\u1ee9c th\\u00e0nh_vi\\u00ean c\\u1ee7a h\\u1ed9i_lhtn v\\u00e0 tu\\u1ed5i_tr\\u1ebb t\\u1ec9nh ki\\u00ean_giang s\\u1ebd c\\u00f9ng quan_t\\u00e2m chia_s\\u1ebb ph\\u1ed1i_h\\u1ee3p v\\u1edbi tr\\u1ea1i_giam k\\u00eanh 7 trong c\\u00e1c ho\\u1ea1t_\\u0111\\u1ed9ng h\\u01b0\\u1edbng_nghi\\u1ec7p d\\u1ea1y ngh\\u1ec1 t\\u1ed5_ch\\u1ee9c cai_nghi\\u1ec7n ma_t\\u00fay cho ph\\u1ea1m_nh\\u00e2n g\\u00f3p_ph\\u1ea7n gi\\u1ea3m t\\u1ec9_l\\u1ec7 t\\u00e1i_ph\\u1ea1m_t\\u1ed9i anh l\\u00ea trung_h\\u1ed3 n\\u00f3i\",\n          \"\\u00f4ng nguy\\u1ec5n_c\\u00f4ng_th\\u00e0nh ph\\u00f3 ch\\u1ee7_t\\u1ecbch ubnd tp tuy h\\u00f2a \\u0111\\u00e3 mang gi\\u1ea5y khen c\\u1ee7a ubnd tp \\u0111\\u1ebfn nh\\u00e0_ri\\u00eang c\\u1ee7a \\u00f4ng ng\\u1ecdc trong con h\\u1ebbm ch\\u1eadt \\u1edf \\u0111\\u01b0\\u1eddng nguy\\u1ec5n_c\\u00f4ng_tr\\u1ee9 ph\\u01b0\\u1eddng 6 tp tuy h\\u00f2a \\u0111\\u1ec3 t\\u1eadn_tay trao cho \\u00f4ng \\u00f4ng th\\u00e0nh n\\u00f3i vi\\u1ec7c \\u00f4ng ng\\u1ecdc c\\u1ee9u_v\\u1edbt gi\\u00e0nh l\\u1ea1i s\\u1ef1 s\\u1ed1ng cho 2 ng\\u01b0\\u1eddi nh\\u1ea3y_c\\u1ea7u h\\u00f9ng_v\\u01b0\\u01a1ng xu\\u1ed1ng s\\u00f4ng \\u0111\\u00e0 r\\u1eb1ng t\\u1ef1_t\\u1eed trong c\\u00e1c ng\\u00e0y 5 v\\u00e0 95 l\\u00e0 h\\u00e0nh_\\u0111\\u1ed9ng \\u0111\\u1eb9p d\\u0169ng_c\\u1ea3m g\\u00e2y x\\u00fac_\\u0111\\u1ed9ng cho x\\u00e3_h\\u1ed9i ubnd tp tuy h\\u00f2a khen_th\\u01b0\\u1edfng cho anh ng\\u1ecdc l\\u00e0 \\u0111\\u1ec3 c\\u1ea3m_\\u01a1n anh \\u0111\\u00e3 c\\u00f3 h\\u00e0nh_\\u0111\\u1ed9ng d\\u0169ng_c\\u1ea3m \\u0111\\u00f3 mong anh ti\\u1ebfp_t\\u1ee5c c\\u00f9ng c\\u00e1c l\\u1ef1c_l\\u01b0\\u1ee3ng ch\\u1ee9c_n\\u0103ng c\\u1ee7a \\u0111\\u1ecba_ph\\u01b0\\u01a1ng trong c\\u00f4ng_t\\u00e1c h\\u1ed7_tr\\u1ee3 gi\\u00fap_\\u0111\\u1ee1 \\u1ee9ng_c\\u1ee9u ng\\u01b0\\u1eddi g\\u1eb7p n\\u1ea1n ch\\u00fang_t\\u00f4i c\\u0169ng mong c\\u00f3 nhi\\u1ec1u t\\u1ea5m g\\u01b0\\u01a1ng d\\u0169ng_c\\u1ea3m c\\u1ee9u ng\\u01b0\\u1eddi nh\\u01b0 anh ng\\u1ecdc \\u00f4ng th\\u00e0nh n\\u00f3i t\\u1ea1i bu\\u1ed5i trao_th\\u01b0\\u1edfng \\u00f4ng ng\\u1ecdc n\\u00f3i v\\u1edbi l\\u00e3nh_\\u0111\\u1ea1o tp tuy h\\u00f2a r\\u1eb1ng trong t\\u00e2m c\\u1ee7a \\u00f4ng l\\u00fac_n\\u00e0o c\\u0169ng ch\\u1ec9 h\\u00e0nh_\\u0111\\u1ed9ng v\\u00e0 quy\\u1ebft_t\\u00e2m \\u0111\\u1ec3 c\\u1ee9u ng\\u01b0\\u1eddi b\\u1ecb n\\u1ea1n tr\\u00ean s\\u00f4ng_n\\u01b0\\u1edbc t\\u00ecm_ki\\u1ebfm ng\\u01b0\\u1eddi \\u0111u\\u1ed1i n\\u01b0\\u1edbc m\\u1ea5t_t\\u00edch v\\u00ec nh\\u00ecn c\\u1ea3nh ng\\u01b0\\u1eddi_th\\u00e2n c\\u1ee7a h\\u1ecd \\u0111au_kh\\u1ed5 \\u00f4ng x\\u00f3t_xa nh\\u01b0 ng\\u01b0\\u1eddi_th\\u00e2n c\\u1ee7a m\\u00ecnh nh\\u01b0tu\\u1ed5i tr\\u1ebb online\\u0111\\u00e3 ph\\u1ea3n_\\u00e1nh trong 4 ng\\u00e0y qua \\u00f4ng ng\\u1ecdc c\\u00f9ng chi\\u1ebfc thuy\\u1ec1n m\\u00e1y nh\\u1ecf c\\u1ee7a m\\u00ecnh \\u0111\\u00e3 c\\u1ee9u \\u0111\\u01b0\\u1ee3c 2 ng\\u01b0\\u1eddi nh\\u1ea3y_c\\u1ea7u h\\u00f9ng_v\\u01b0\\u01a1ng_t\\u1ef1 v\\u1eabn th\\u1eddi_gian qua \\u00f4ng l\\u00e0 ng\\u01b0\\u1eddi chuy\\u00ean t\\u00ecm_ki\\u1ebfm v\\u1edbt x\\u00e1c nhi\\u1ec1u ng\\u01b0\\u1eddi ch\\u1ebft_\\u0111u\\u1ed1i tr\\u00ean \\u0111o\\u1ea1n s\\u00f4ng \\u0111\\u00e0 r\\u1eb1ng g\\u1ea7n c\\u1eeda_bi\\u1ec3n d\\u00f9 gia_c\\u1ea3nh kh\\u00f3_kh\\u0103n kh\\u00f4ng ngh\\u1ec1_nghi\\u1ec7p \\u1ed5n_\\u0111\\u1ecbnh v\\u1ee3 v\\u1eeba m\\u1ea5t h\\u01a1n 1 n\\u0103m do b\\u1ec7nh n\\u1eb7ng m\\u1ed9t_m\\u00ecnh \\u00f4ng ph\\u1ea3i l\\u00e0m_thu\\u00ea \\u0111\\u1ec3 nu\\u00f4i 2 con nh\\u01b0ng khi hay tin ho\\u1eb7c \\u0111\\u01b0\\u1ee3c l\\u1ef1c_l\\u01b0\\u1ee3ng ch\\u1ee9c_n\\u0103ng b\\u00e1o tin c\\u1ea7n gi\\u00fap_\\u0111\\u1ee1 ng\\u01b0\\u1eddi \\u0111u\\u1ed1i n\\u01b0\\u1edbc l\\u00e0 \\u00f4ng ng\\u1ecdc nhanh_ch\\u00f3ng n\\u1ed5 m\\u00e1y thuy\\u1ec1n \\u0111i t\\u00ecm_ki\\u1ebfm c\\u1ee9u ng\\u01b0\\u1eddi\",\n          \"ng\\u00e0y 57 \\u00f4ng ph\\u1ea1m tu\\u1ea5n_ki\\u1ec7t 52 tu\\u1ed5i ng\\u1ee5 x\\u00e3 song_b\\u00ecnh huy\\u1ec7n ch\\u1ee3 g\\u1ea1o t\\u1ec9nh ti\\u1ec1n_giang cho bi\\u1ebft tr\\u1ed9m v\\u1eeba c\\u1ea1y \\u1ed5_kh\\u00f3a \\u0111\\u1ed9t_nh\\u1eadp l\\u1ea5y c\\u1eafp kho\\u1ea3ng 5 kgt\\u1ed5 y\\u1ebfn tr\\u1ecb_gi\\u00e1 kho\\u1ea3ng 100 tri\\u1ec7u \\u0111\\u1ed3ng v\\u00e0 l\\u00e0m ch\\u1ebft nhi\\u1ec1u y\\u1ebfn con nh\\u01b0 tr\\u00edch xu\\u1ea5t_camera m\\u1ed9t ng\\u01b0\\u1eddi \\u0111\\u00e0n_\\u00f4ng \\u0111\\u00e3\\u0111\\u1ed9t nh\\u1eadpv\\u00e0o l\\u00fac 0 h ng\\u00e0y 57 sau 2 gi\\u1edd v\\u00e0o nh\\u00e0 y\\u1ebfn ng\\u01b0\\u1eddi n\\u00e0y \\u0111\\u00e3 l\\u1ea5y c\\u1eafp kho\\u1ea3ng 5 kg t\\u1ed5 y\\u1ebfn tr\\u1ecb_gi\\u00e1 kho\\u1ea3ng 100 tri\\u1ec7u \\u0111\\u1ed3ng v\\u00e0 l\\u00e0m ch\\u1ebft nhi\\u1ec1u y\\u1ebfn con nh\\u00e0 y\\u1ebfn n\\u00e0y m\\u1ed7i th\\u00e1ng thu_ho\\u1ea1ch \\u0111\\u01b0\\u1ee3c kho\\u1ea3ng t\\u1eeb 78 kg t\\u1ed5 y\\u1ebfn \\u00f4ng ki\\u1ec7t n\\u00f3i trao_\\u0111\\u1ed5i v\\u1edbitu\\u1ed5i tr\\u1ebb online m\\u1ed9t l\\u00e3nh_\\u0111\\u1ea1o c\\u00f4ng_an huy\\u1ec7n ch\\u1ee3 g\\u1ea1o t\\u1ec9nh ti\\u1ec1n_giang cho bi\\u1ebft \\u0111\\u00e3 n\\u1eafm \\u0111\\u01b0\\u1ee3c v\\u1ee5_vi\\u1ec7c c\\u01a1_quan \\u0111i\\u1ec1u_tra \\u0111ang tr\\u00edch xu\\u1ea5t_camera \\u0111\\u1ec3 truy_b\\u1eaft k\\u1ebb_tr\\u1ed9m ph\\u1ee5c_v\\u1ee5 cho c\\u00f4ng_t\\u00e1c \\u0111i\\u1ec1u_tra tr\\u01b0\\u1edbc \\u0111\\u00f3 t\\u1ea1i huy\\u1ec7n t\\u00e2n_ph\\u01b0\\u1edbc v\\u00e0 th\\u1ecb_x\\u00e3 cai_l\\u1eady c\\u0169ng x\\u1ea3y ra m\\u1ed9t_s\\u1ed1 v\\u1ee5 tr\\u1ed9m \\u0111\\u1ed9t_nh\\u1eadp v\\u00e0o nh\\u00e0 y\\u1ebfn l\\u1ea5y c\\u1eafp t\\u1ed5 y\\u1ebfn nh\\u01b0 cu\\u1ed1i th\\u00e1ng 62023 nh\\u00e0 y\\u1ebfn s\\u1ed1 2 c\\u1ee7a c\\u00f4ng_ty tnhh tmdv_tr\\u00ed s\\u01a1n thu\\u1ed9c th\\u1ecb_x\\u00e3 cai_l\\u1eady t\\u1ec9nh ti\\u1ec1n_giang b\\u1ecb k\\u1ebb_tr\\u1ed9m \\u0111\\u1ed9t_nh\\u1eadp tr\\u1ed9m kho\\u1ea3ng 50 t\\u1ed5 y\\u1ebfn c\\u00f4ng_an th\\u1ecb_x\\u00e3 cai_l\\u1eady t\\u1ec9nh ti\\u1ec1n_giang \\u0111\\u00e3 b\\u1eaft_gi\\u1eef \\u0111\\u01b0\\u1ee3c nguy\\u1ec5n_v\\u0103n_y\\u00ean 29 tu\\u1ed5i v\\u00e0 nguy\\u1ec5n_v\\u0103n_nh\\u00e0n 35 tu\\u1ed5i c\\u00f9ng ng\\u1ee5 x\\u00e3 t\\u00e2n_h\\u00f2a huy\\u1ec7n ch\\u00e2u_th\\u00e0nh a t\\u1ec9nh h\\u1eadu_giang t\\u1ea1i c\\u01a1_quan c\\u00f4ng_an y\\u00ean v\\u00e0 nh\\u00e0n khai nh\\u1eadn c\\u00f9ng l\\u00e0m th\\u1ee3_h\\u1ed3 th\\u01b0\\u1eddng \\u0111i x\\u00e2y_d\\u1ef1ng c\\u00f4ng_tr\\u00ecnh nh\\u00e0 y\\u1ebfn tr\\u00ean c\\u00e1c \\u0111\\u1ecba_b\\u00e0n \\u1edf c\\u00e1c t\\u1ec9nh mi\\u1ec1n t\\u00e2y n\\u00ean bi\\u1ebft \\u0111\\u01b0\\u1ee3c c\\u00e1ch_th\\u1ee9c \\u0111\\u1ed9t_nh\\u1eadp v\\u00e0o nh\\u00e0 y\\u1ebfn v\\u00e0 \\u0111\\u00e3 r\\u1ee7 nhau \\u0111i tr\\u1ed9m_nh\\u00e0n c\\u00f2n khai nh\\u1eadn v\\u00e0o cu\\u1ed1i th\\u00e1ng 52023 \\u0111\\u00e3 th\\u1ef1c_hi\\u1ec7n hai v\\u1ee5 tr\\u1ed9m g\\u1ea7n 4 kg y\\u1ebfn th\\u00f4 tr\\u00ean \\u0111\\u1ecba_b\\u00e0n x\\u00e3 m\\u1ef9_ph\\u01b0\\u1edbc_t\\u00e2y th\\u1ecb_x\\u00e3 cai_l\\u1eady v\\u00e0 x\\u00e3 t\\u00e2n_h\\u00f2a huy\\u1ec7n t\\u00e2n_th\\u1ea1nh t\\u1ec9nh long_an s\\u1ed1 y\\u1ebfn n\\u00e0y nh\\u00e0n \\u0111em b\\u00e1n \\u0111\\u01b0\\u1ee3c 29 tri\\u1ec7u \\u0111\\u1ed3ng l\\u1ea5y ti\\u1ec1n mua xe_m\\u00e1y l\\u00e0m ph\\u01b0\\u01a1ng_ti\\u1ec7n ti\\u1ebfp_t\\u1ee5c g\\u00e2y \\u00e1n\"\n        ],\n        \"semantic_type\": \"\",\n        \"description\": \"\"\n      }\n    },\n    {\n      \"column\": \"Category\",\n      \"properties\": {\n        \"dtype\": \"string\",\n        \"num_unique_values\": 4,\n        \"samples\": [\n          \"gi\\u1edbi tr\\u1ebb\",\n          \"xe\",\n          \"th\\u1eddi s\\u1ef1\"\n        ],\n        \"semantic_type\": \"\",\n        \"description\": \"\"\n      }\n    }\n  ]\n}"
            }
          },
          "metadata": {},
          "execution_count": 9
        }
      ],
      "source": [
        "df = pd.read_csv('/content/drive/MyDrive/data/segmented_data.csv')\n",
        "df.sample(5)"
      ]
    },
    {
      "cell_type": "markdown",
      "metadata": {
        "id": "7XPqiCiuL_ia"
      },
      "source": [
        "Chia tỉ lệ 60/20/20"
      ]
    },
    {
      "cell_type": "code",
      "execution_count": 10,
      "metadata": {
        "id": "wpvyB7wbhelo"
      },
      "outputs": [],
      "source": [
        "train_path = '/content/drive/MyDrive/data/splitting/train.csv'\n",
        "val_path = '/content/drive/MyDrive/data/splitting/val.csv'\n",
        "test_path = '/content/drive/MyDrive/data/splitting/test.csv'"
      ]
    },
    {
      "cell_type": "code",
      "execution_count": 11,
      "metadata": {
        "id": "CxNo_Q8nL-UA"
      },
      "outputs": [],
      "source": [
        "train_df, val_df = train_test_split(df, test_size=0.2, random_state=42, stratify=df['Category'])\n",
        "val_df, test_df = train_test_split(val_df, test_size=0.5, random_state=42, stratify=val_df['Category'])\n",
        "\n",
        "train_df.to_csv(train_path, index=False, encoding='utf-8')\n",
        "val_df.to_csv(val_path, index=False, encoding='utf-8')\n",
        "test_df.to_csv(test_path, index=False, encoding='utf-8')"
      ]
    },
    {
      "cell_type": "markdown",
      "metadata": {
        "id": "VUCJComXMYSb"
      },
      "source": [
        "# **Tokenization**"
      ]
    },
    {
      "cell_type": "markdown",
      "metadata": {
        "id": "Esw9y6uQM8sC"
      },
      "source": [
        "Khởi tạo"
      ]
    },
    {
      "cell_type": "code",
      "execution_count": null,
      "metadata": {
        "id": "gf6cPN0vM-Ij"
      },
      "outputs": [],
      "source": [
        "tokenizer = AutoTokenizer.from_pretrained(\"vinai/phobert-base-v2\", use_fast=False)"
      ]
    },
    {
      "cell_type": "markdown",
      "metadata": {
        "id": "QA_vXT66M9ur"
      },
      "source": [
        "Tokenize cho ba tập dữ liệu"
      ]
    },
    {
      "cell_type": "code",
      "execution_count": 14,
      "metadata": {
        "id": "XTdNtTaVNHat"
      },
      "outputs": [],
      "source": [
        "def tokenize_dataframe(df, columns):\n",
        "    tokenized_df = df.copy()\n",
        "    for col in columns:\n",
        "        tokenized_df[col] = tokenized_df[col].apply(lambda text: tokenizer.tokenize(text))\n",
        "    return tokenized_df\n",
        "\n",
        "cols = ['Title', 'Abstract', 'Content']"
      ]
    },
    {
      "cell_type": "markdown",
      "metadata": {
        "id": "qmSPPs_8NPQ3"
      },
      "source": [
        "- `train_df`"
      ]
    },
    {
      "cell_type": "code",
      "execution_count": 19,
      "metadata": {
        "id": "kVep0FeCNK2l"
      },
      "outputs": [],
      "source": [
        "train_df[cols] = train_df[cols].astype(str)\n",
        "tokenized_train_df = tokenize_dataframe(train_df, cols)"
      ]
    },
    {
      "cell_type": "markdown",
      "metadata": {
        "id": "TlhUg1-5NdC8"
      },
      "source": [
        "Phân bố số lượng token"
      ]
    },
    {
      "cell_type": "code",
      "execution_count": 20,
      "metadata": {
        "colab": {
          "base_uri": "https://localhost:8080/",
          "height": 472
        },
        "id": "OpDT_g26NrcW",
        "outputId": "ba91bcda-b993-4561-c497-f553b90875c8"
      },
      "outputs": [
        {
          "output_type": "display_data",
          "data": {
            "text/plain": [
              "<Figure size 640x480 with 1 Axes>"
            ],
            "image/png": "[encoded data removed]"
          },
          "metadata": {}
        }
      ],
      "source": [
        "token_lengths = np.vectorize(len)(tokenized_train_df['Content'].values)\n",
        "plt.hist(token_lengths, bins=10)\n",
        "\n",
        "plt.xlabel('Token Length')\n",
        "plt.ylabel('Frequency')\n",
        "plt.title('Distribution of Token Lengths for Content')\n",
        "\n",
        "plt.xlim(0, 1500)\n",
        "\n",
        "plt.show()"
      ]
    },
    {
      "cell_type": "code",
      "execution_count": 21,
      "metadata": {
        "colab": {
          "base_uri": "https://localhost:8080/"
        },
        "id": "4vGTGVTsRJuU",
        "outputId": "18b8c760-04a0-4294-c324-718452535ca8"
      },
      "outputs": [
        {
          "output_type": "execute_result",
          "data": {
            "text/plain": [
              "('/content/drive/MyDrive/data/tokenizer/train/tokenizer_config.json',\n",
              " '/content/drive/MyDrive/data/tokenizer/train/special_tokens_map.json',\n",
              " '/content/drive/MyDrive/data/tokenizer/train/vocab.txt',\n",
              " '/content/drive/MyDrive/data/tokenizer/train/bpe.codes',\n",
              " '/content/drive/MyDrive/data/tokenizer/train/added_tokens.json')"
            ]
          },
          "metadata": {},
          "execution_count": 21
        }
      ],
      "source": [
        "tokenizer.save_pretrained(\"/content/drive/MyDrive/data/tokenizer/train/\")"
      ]
    },
    {
      "cell_type": "markdown",
      "metadata": {
        "id": "NchnO_JpQ7Eh"
      },
      "source": [
        "- `valid_df`"
      ]
    },
    {
      "cell_type": "code",
      "execution_count": 22,
      "metadata": {
        "id": "OxrdVHSNQ6bQ"
      },
      "outputs": [],
      "source": [
        "val_df[cols] = val_df[cols].astype(str)\n",
        "tokenized_val_df = tokenize_dataframe(val_df, cols)"
      ]
    },
    {
      "cell_type": "code",
      "execution_count": 23,
      "metadata": {
        "colab": {
          "base_uri": "https://localhost:8080/",
          "height": 472
        },
        "id": "cqBdCw27_dSc",
        "outputId": "fed9435e-dd74-4bb4-f3cd-59fbf0c5d4c2"
      },
      "outputs": [
        {
          "output_type": "display_data",
          "data": {
            "text/plain": [
              "<Figure size 640x480 with 1 Axes>"
            ],
            "image/png": "[encoded data removed]"
          },
          "metadata": {}
        }
      ],
      "source": [
        "token_lengths = np.vectorize(len)(tokenized_val_df['Content'].values)\n",
        "plt.hist(token_lengths, bins=10)\n",
        "\n",
        "plt.xlabel('Token Length')\n",
        "plt.ylabel('Frequency')\n",
        "plt.title('Distribution of Token Lengths for Content')\n",
        "\n",
        "plt.xlim(0, 1500)\n",
        "\n",
        "plt.show()"
      ]
    },
    {
      "cell_type": "code",
      "execution_count": 24,
      "metadata": {
        "colab": {
          "base_uri": "https://localhost:8080/"
        },
        "id": "UnAoWROw__Zx",
        "outputId": "fbd0b9ee-48ee-4fff-8a8a-069e54db07cd"
      },
      "outputs": [
        {
          "output_type": "execute_result",
          "data": {
            "text/plain": [
              "('/content/drive/MyDrive/data/tokenizer/valid/tokenizer_config.json',\n",
              " '/content/drive/MyDrive/data/tokenizer/valid/special_tokens_map.json',\n",
              " '/content/drive/MyDrive/data/tokenizer/valid/vocab.txt',\n",
              " '/content/drive/MyDrive/data/tokenizer/valid/bpe.codes',\n",
              " '/content/drive/MyDrive/data/tokenizer/valid/added_tokens.json')"
            ]
          },
          "metadata": {},
          "execution_count": 24
        }
      ],
      "source": [
        "tokenizer.save_pretrained(\"/content/drive/MyDrive/data/tokenizer/valid/\")"
      ]
    },
    {
      "cell_type": "markdown",
      "metadata": {
        "id": "Bm0_kQl4_T43"
      },
      "source": [
        "- `test_df`"
      ]
    },
    {
      "cell_type": "code",
      "execution_count": 25,
      "metadata": {
        "id": "SPnKqVK6M5M2"
      },
      "outputs": [],
      "source": [
        "test_df[cols] = test_df[cols].astype(str)\n",
        "tokenized_test_df = tokenize_dataframe(test_df, cols)"
      ]
    },
    {
      "cell_type": "code",
      "execution_count": 26,
      "metadata": {
        "colab": {
          "base_uri": "https://localhost:8080/",
          "height": 472
        },
        "id": "t70i58ujDXCI",
        "outputId": "ca35b9a2-cbf5-45ac-adaf-c55495bc7a0c"
      },
      "outputs": [
        {
          "output_type": "display_data",
          "data": {
            "text/plain": [
              "<Figure size 640x480 with 1 Axes>"
            ],
            "image/png": "[encoded data removed]"
          },
          "metadata": {}
        }
      ],
      "source": [
        "token_lengths = np.vectorize(len)(tokenized_test_df['Content'].values)\n",
        "plt.hist(token_lengths, bins=10)\n",
        "\n",
        "plt.xlabel('Token Length')\n",
        "plt.ylabel('Frequency')\n",
        "plt.title('Distribution of Token Lengths for Content')\n",
        "\n",
        "plt.xlim(0, 1500)\n",
        "\n",
        "plt.show()"
      ]
    },
    {
      "cell_type": "code",
      "execution_count": 27,
      "metadata": {
        "colab": {
          "base_uri": "https://localhost:8080/"
        },
        "id": "e_isrRDO5PHE",
        "outputId": "252b7d09-beb2-4ffd-fdc0-08ff2406d301"
      },
      "outputs": [
        {
          "output_type": "execute_result",
          "data": {
            "text/plain": [
              "('/content/drive/MyDrive/data/tokenizer/test/tokenizer_config.json',\n",
              " '/content/drive/MyDrive/data/tokenizer/test/special_tokens_map.json',\n",
              " '/content/drive/MyDrive/data/tokenizer/test/vocab.txt',\n",
              " '/content/drive/MyDrive/data/tokenizer/test/bpe.codes',\n",
              " '/content/drive/MyDrive/data/tokenizer/test/added_tokens.json')"
            ]
          },
          "metadata": {},
          "execution_count": 27
        }
      ],
      "source": [
        "tokenizer.save_pretrained(\"/content/drive/MyDrive/data/tokenizer/test/\")"
      ]
    }
  ],
  "metadata": {
    "accelerator": "GPU",
    "colab": {
      "gpuType": "T4",
      "provenance": []
    },
    "kernelspec": {
      "display_name": "Python 3",
      "name": "python3"
    },
    "language_info": {
      "codemirror_mode": {
        "name": "ipython",
        "version": 3
      },
      "file_extension": ".py",
      "mimetype": "text/x-python",
      "name": "python",
      "nbconvert_exporter": "python",
      "pygments_lexer": "ipython3",
      "version": "3.11.4"
    }
  },
  "nbformat": 4,
  "nbformat_minor": 0
}