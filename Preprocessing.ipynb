{
 "cells": [
  {
   "cell_type": "markdown",
   "metadata": {},
   "source": [
    "---"
   ]
  },
  {
   "cell_type": "markdown",
   "metadata": {},
   "source": [
    "# Pre-processing\n",
    "## Gộp các dữ liệu thu thập được vào một file duy nhất, loại bỏ các dòng chứa giá trị NULL và xóa các dữ liệu bị lặp"
   ]
  },
  {
   "cell_type": "code",
   "execution_count": null,
   "metadata": {},
   "outputs": [
    {
     "name": "stdout",
     "output_type": "stream",
     "text": [
      "📂 Đang xử lý file: dataraw\\data_thanhnien.csv\n",
      "📂 Đang xử lý file: dataraw\\tuoitretotal.csv\n",
      "📂 Đang xử lý file: dataraw\\vnexpress_articles.csv\n",
      "\n",
      "✅ Tổng số dòng sau khi làm sạch và gộp: 1339798\n",
      "📂 Dữ liệu đã được lưu tại: data_process_1\\data_no_null.csv\n"
     ]
    }
   ],
   "source": [
    "import pandas as pd\n",
    "import os\n",
    "\n",
    "def clean_and_merge_csv_files(input_folder, file_names, output_folder, output_file, chunk_size=50000):\n",
    "    os.makedirs(output_folder, exist_ok=True)\n",
    "\n",
    "    merged_df = pd.DataFrame() \n",
    "\n",
    "    for file_name in file_names:\n",
    "        file_path = os.path.join(input_folder, file_name)\n",
    "        print(f\"📂 Đang xử lý file: {file_path}\")\n",
    "\n",
    "        # Đọc file theo chunksize\n",
    "        for chunk in pd.read_csv(file_path, chunksize=chunk_size, dtype=str):\n",
    "            # Chuẩn hóa tên cột (chuyển về chữ thường, loại bỏ khoảng trắng)\n",
    "            chunk.columns = [col.lower().strip() for col in chunk.columns]\n",
    "\n",
    "            # 🛑 Xóa toàn bộ dòng có giá trị NULL ở bất kỳ cột nào\n",
    "            chunk_clean = chunk.dropna()\n",
    "\n",
    "            # Gộp dữ liệu vào DataFrame chính\n",
    "            merged_df = pd.concat([merged_df, chunk_clean], ignore_index=True)\n",
    "\n",
    "    # Xóa trùng lặp dựa trên cột 'title'\n",
    "    merged_df.drop_duplicates(subset=['title'], inplace=True)\n",
    "\n",
    "    # Lưu kết quả\n",
    "    output_path = os.path.join(output_folder, output_file)\n",
    "    merged_df.to_csv(output_path, index=False)\n",
    "\n",
    "    print(f\"\\n✅ Tổng số dòng sau khi làm sạch và gộp: {merged_df.shape[0]}\")\n",
    "    print(f\"📂 Dữ liệu đã được lưu tại: {output_path}\")\n",
    "\n",
    "# Thư mục chứa tệp đầu vào và tên các tệp cần xử lý\n",
    "input_folder = \"dataraw\"\n",
    "files = [\"data_thanhnien.csv\", \"tuoitretotal.csv\", \"vnexpress_articles.csv\"]\n",
    "\n",
    "# Thư mục và tệp đầu ra\n",
    "output_folder = \"data_process_1\"\n",
    "output_file = \"data_no_null.csv\"\n",
    "\n",
    "# Gọi hàm\n",
    "clean_and_merge_csv_files(input_folder, files, output_folder, output_file)\n"
   ]
  },
  {
   "cell_type": "markdown",
   "metadata": {},
   "source": [
    "## Kiểm tra lại data"
   ]
  },
  {
   "cell_type": "code",
   "execution_count": 12,
   "metadata": {},
   "outputs": [
    {
     "name": "stdout",
     "output_type": "stream",
     "text": [
      "\n",
      "🛑 Số giá trị NULL trên từng cột trong toàn bộ dữ liệu:\n",
      "url               0\n",
      "title             0\n",
      "abstract          0\n",
      "content           0\n",
      "category      38688\n",
      "genre       1301110\n",
      "dtype: int64\n"
     ]
    }
   ],
   "source": [
    "import pandas as pd\n",
    "\n",
    "file_path = \"data_process_1/data_no_null.csv\"\n",
    "chunk_size = 50000  \n",
    "\n",
    "null_counts = None\n",
    "\n",
    "for chunk in pd.read_csv(file_path, chunksize=chunk_size):\n",
    "    if null_counts is None:\n",
    "        null_counts = chunk.isnull().sum()  \n",
    "    else:\n",
    "        null_counts += chunk.isnull().sum()  \n",
    "\n",
    "print(\"\\n🛑 Số giá trị NULL trên từng cột trong toàn bộ dữ liệu:\")\n",
    "print(null_counts)\n"
   ]
  },
  {
   "cell_type": "markdown",
   "metadata": {},
   "source": [
    "## Loại bỏ cột genre, xóa các dòng có chứa cột category"
   ]
  },
  {
   "cell_type": "code",
   "execution_count": null,
   "metadata": {},
   "outputs": [
    {
     "name": "stdout",
     "output_type": "stream",
     "text": [
      "\n",
      "✅ Dữ liệu đã được làm sạch và lưu lại tại: data_process_2\\data_no_genre_and_category_null.csv\n"
     ]
    }
   ],
   "source": [
    "import pandas as pd\n",
    "import os\n",
    "\n",
    "# Đường dẫn file gốc\n",
    "file_path = \"data_process_1/data_no_null.csv\"\n",
    "output_folder = \"data_process_2\"\n",
    "output_file = \"data_no_genre_and_category_null.csv\"\n",
    "chunk_size = 50000  # Xử lý từng phần nhỏ\n",
    "\n",
    "# Tạo thư mục đầu ra\n",
    "os.makedirs(output_folder, exist_ok=True)\n",
    "output_path = os.path.join(output_folder, output_file)\n",
    "\n",
    "# Xử lý dữ liệu theo chunks\n",
    "df_clean = pd.DataFrame() \n",
    "\n",
    "with pd.read_csv(file_path, chunksize=chunk_size) as reader:\n",
    "    for chunk in reader:\n",
    "        chunk_clean = chunk.dropna(subset=['category'])\n",
    "        chunk_clean = chunk_clean.drop(columns=['genre'])\n",
    "        # Gộp dữ liệu \n",
    "        df_clean = pd.concat([df_clean, chunk_clean], ignore_index=True)\n",
    "\n",
    "# Lưu kết quả vào file mới trong thư mục data_process_2\n",
    "df_clean.to_csv(output_path, index=False)\n",
    "\n",
    "print(f\"\\n✅ Dữ liệu đã được làm sạch và lưu lại tại: {output_path}\")\n"
   ]
  },
  {
   "cell_type": "markdown",
   "metadata": {},
   "source": [
    "## Kiểm tra lại dữ liệu"
   ]
  },
  {
   "cell_type": "code",
   "execution_count": null,
   "metadata": {},
   "outputs": [
    {
     "name": "stdout",
     "output_type": "stream",
     "text": [
      "\n",
      "🛑 Số giá trị NULL trên từng cột trong toàn bộ dữ liệu:\n",
      "url         0\n",
      "title       0\n",
      "abstract    0\n",
      "content     0\n",
      "category    0\n",
      "dtype: int64\n",
      "\n",
      "📝 Số dòng trùng lặp theo cột 'title': 0\n"
     ]
    }
   ],
   "source": [
    "import pandas as pd\n",
    "\n",
    "file_path = \"data_process_2/data_no_genre_and_category_null.csv\"\n",
    "chunk_size = 50000  \n",
    "\n",
    "null_counts = None\n",
    "title_duplicates = 0  # Biến đếm số dòng trùng lặp theo cột 'title'\n",
    "\n",
    "for chunk in pd.read_csv(file_path, chunksize=chunk_size):\n",
    "    # Kiểm tra giá trị NULL\n",
    "    if null_counts is None:\n",
    "        null_counts = chunk.isnull().sum()\n",
    "    else:\n",
    "        null_counts += chunk.isnull().sum()\n",
    "\n",
    "    # Kiểm tra các dòng trùng lặp theo cột 'title'\n",
    "    title_duplicates += chunk.duplicated(subset=['title']).sum()\n",
    "\n",
    "print(\"\\n🛑 Số giá trị NULL trên từng cột trong toàn bộ dữ liệu:\")\n",
    "print(null_counts)\n",
    "\n",
    "print(f\"\\n📝 Số dòng trùng lặp theo cột 'title': {title_duplicates}\")\n"
   ]
  },
  {
   "cell_type": "code",
   "execution_count": 7,
   "metadata": {},
   "outputs": [
    {
     "name": "stderr",
     "output_type": "stream",
     "text": [
      "[nltk_data] Downloading package punkt to\n",
      "[nltk_data]     C:\\Users\\PhatK\\AppData\\Roaming\\nltk_data...\n",
      "[nltk_data]   Unzipping tokenizers\\punkt.zip.\n"
     ]
    },
    {
     "data": {
      "text/plain": [
       "True"
      ]
     },
     "execution_count": 7,
     "metadata": {},
     "output_type": "execute_result"
    }
   ],
   "source": [
    "import nltk\n",
    "\n",
    "# Tải lại tài nguyên 'punkt'\n",
    "nltk.download('punkt', force=True)\n"
   ]
  }
 ],
 "metadata": {
  "kernelspec": {
   "display_name": "Python 3",
   "language": "python",
   "name": "python3"
  },
  "language_info": {
   "codemirror_mode": {
    "name": "ipython",
    "version": 3
   },
   "file_extension": ".py",
   "mimetype": "text/x-python",
   "name": "python",
   "nbconvert_exporter": "python",
   "pygments_lexer": "ipython3",
   "version": "3.12.9"
  }
 },
 "nbformat": 4,
 "nbformat_minor": 2
}
